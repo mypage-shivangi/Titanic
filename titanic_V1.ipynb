{
 "cells": [
  {
   "cell_type": "code",
   "execution_count": 1,
   "id": "6d0a3526",
   "metadata": {
    "_cell_guid": "b1076dfc-b9ad-4769-8c92-a6c4dae69d19",
    "_uuid": "8f2839f25d086af736a60e9eeb907d3b93b6e0e5",
    "execution": {
     "iopub.execute_input": "2025-06-26T10:28:33.475732Z",
     "iopub.status.busy": "2025-06-26T10:28:33.475092Z",
     "iopub.status.idle": "2025-06-26T10:28:35.868860Z",
     "shell.execute_reply": "2025-06-26T10:28:35.866918Z"
    },
    "papermill": {
     "duration": 2.405814,
     "end_time": "2025-06-26T10:28:35.871229",
     "exception": false,
     "start_time": "2025-06-26T10:28:33.465415",
     "status": "completed"
    },
    "tags": []
   },
   "outputs": [
    {
     "name": "stdout",
     "output_type": "stream",
     "text": [
      "/kaggle/input/testtc/test.csv\n",
      "/kaggle/input/traintc/train.csv\n"
     ]
    }
   ],
   "source": [
    "# This Python 3 environment comes with many helpful analytics libraries installed\n",
    "# It is defined by the kaggle/python Docker image: https://github.com/kaggle/docker-python\n",
    "# For example, here's several helpful packages to load\n",
    "\n",
    "import numpy as np # linear algebra\n",
    "import pandas as pd # data processing, CSV file I/O (e.g. pd.read_csv)\n",
    "\n",
    "# Input data files are available in the read-only \"../input/\" directory\n",
    "# For example, running this (by clicking run or pressing Shift+Enter) will list all files under the input directory\n",
    "\n",
    "import os\n",
    "for dirname, _, filenames in os.walk('/kaggle/input'):\n",
    "    for filename in filenames:\n",
    "        print(os.path.join(dirname, filename))\n",
    "\n",
    "# You can write up to 20GB to the current directory (/kaggle/working/) that gets preserved as output when you create a version using \"Save & Run All\" \n",
    "# You can also write temporary files to /kaggle/temp/, but they won't be saved outside of the current session"
   ]
  },
  {
   "cell_type": "code",
   "execution_count": 2,
   "id": "dd9efe12",
   "metadata": {
    "execution": {
     "iopub.execute_input": "2025-06-26T10:28:35.887472Z",
     "iopub.status.busy": "2025-06-26T10:28:35.886923Z",
     "iopub.status.idle": "2025-06-26T10:28:35.932907Z",
     "shell.execute_reply": "2025-06-26T10:28:35.931568Z"
    },
    "papermill": {
     "duration": 0.056391,
     "end_time": "2025-06-26T10:28:35.935096",
     "exception": false,
     "start_time": "2025-06-26T10:28:35.878705",
     "status": "completed"
    },
    "tags": []
   },
   "outputs": [],
   "source": [
    "df=pd.read_csv('/kaggle/input/traintc/train.csv')\n",
    "test_data = pd.read_csv('/kaggle/input/testtc/test.csv')\n"
   ]
  },
  {
   "cell_type": "code",
   "execution_count": 3,
   "id": "771d2b22",
   "metadata": {
    "execution": {
     "iopub.execute_input": "2025-06-26T10:28:35.951719Z",
     "iopub.status.busy": "2025-06-26T10:28:35.951369Z",
     "iopub.status.idle": "2025-06-26T10:28:35.971991Z",
     "shell.execute_reply": "2025-06-26T10:28:35.970867Z"
    },
    "papermill": {
     "duration": 0.031083,
     "end_time": "2025-06-26T10:28:35.973972",
     "exception": false,
     "start_time": "2025-06-26T10:28:35.942889",
     "status": "completed"
    },
    "tags": []
   },
   "outputs": [
    {
     "name": "stdout",
     "output_type": "stream",
     "text": [
      "   PassengerId  Survived  Pclass  \\\n",
      "0            1         0       3   \n",
      "1            2         1       1   \n",
      "2            3         1       3   \n",
      "3            4         1       1   \n",
      "4            5         0       3   \n",
      "\n",
      "                                                Name     Sex   Age  SibSp  \\\n",
      "0                            Braund, Mr. Owen Harris    male  22.0      1   \n",
      "1  Cumings, Mrs. John Bradley (Florence Briggs Th...  female  38.0      1   \n",
      "2                             Heikkinen, Miss. Laina  female  26.0      0   \n",
      "3       Futrelle, Mrs. Jacques Heath (Lily May Peel)  female  35.0      1   \n",
      "4                           Allen, Mr. William Henry    male  35.0      0   \n",
      "\n",
      "   Parch            Ticket     Fare Cabin Embarked  \n",
      "0      0         A/5 21171   7.2500   NaN        S  \n",
      "1      0          PC 17599  71.2833   C85        C  \n",
      "2      0  STON/O2. 3101282   7.9250   NaN        S  \n",
      "3      0            113803  53.1000  C123        S  \n",
      "4      0            373450   8.0500   NaN        S  \n"
     ]
    }
   ],
   "source": [
    "print(df.head())"
   ]
  },
  {
   "cell_type": "code",
   "execution_count": 4,
   "id": "f07b6e70",
   "metadata": {
    "execution": {
     "iopub.execute_input": "2025-06-26T10:28:35.989206Z",
     "iopub.status.busy": "2025-06-26T10:28:35.988767Z",
     "iopub.status.idle": "2025-06-26T10:28:35.997803Z",
     "shell.execute_reply": "2025-06-26T10:28:35.996790Z"
    },
    "papermill": {
     "duration": 0.018777,
     "end_time": "2025-06-26T10:28:35.999752",
     "exception": false,
     "start_time": "2025-06-26T10:28:35.980975",
     "status": "completed"
    },
    "tags": []
   },
   "outputs": [],
   "source": [
    "df['HasCabin'] = df['Cabin'].notnull().astype(int)\n"
   ]
  },
  {
   "cell_type": "code",
   "execution_count": 5,
   "id": "ea06dc0c",
   "metadata": {
    "execution": {
     "iopub.execute_input": "2025-06-26T10:28:36.015919Z",
     "iopub.status.busy": "2025-06-26T10:28:36.015471Z",
     "iopub.status.idle": "2025-06-26T10:28:36.032676Z",
     "shell.execute_reply": "2025-06-26T10:28:36.031423Z"
    },
    "papermill": {
     "duration": 0.02731,
     "end_time": "2025-06-26T10:28:36.034480",
     "exception": false,
     "start_time": "2025-06-26T10:28:36.007170",
     "status": "completed"
    },
    "tags": []
   },
   "outputs": [
    {
     "name": "stdout",
     "output_type": "stream",
     "text": [
      "Pclass\n",
      "1    0.814815\n",
      "2    0.086957\n",
      "3    0.024440\n",
      "Name: HasCabin, dtype: float64\n"
     ]
    }
   ],
   "source": [
    "cabin_by_class = df.groupby('Pclass')['HasCabin'].mean()\n",
    "print(cabin_by_class)\n"
   ]
  },
  {
   "cell_type": "code",
   "execution_count": 6,
   "id": "b9c9e306",
   "metadata": {
    "execution": {
     "iopub.execute_input": "2025-06-26T10:28:36.052387Z",
     "iopub.status.busy": "2025-06-26T10:28:36.051276Z",
     "iopub.status.idle": "2025-06-26T10:28:38.649023Z",
     "shell.execute_reply": "2025-06-26T10:28:38.647922Z"
    },
    "papermill": {
     "duration": 2.607919,
     "end_time": "2025-06-26T10:28:38.650590",
     "exception": false,
     "start_time": "2025-06-26T10:28:36.042671",
     "status": "completed"
    },
    "tags": []
   },
   "outputs": [
    {
     "data": {
      "image/png": "[encoded data removed]",
      "text/plain": [
       "<Figure size 640x480 with 1 Axes>"
      ]
     },
     "metadata": {},
     "output_type": "display_data"
    }
   ],
   "source": [
    "import seaborn as sns\n",
    "import matplotlib.pyplot as plt\n",
    "\n",
    "sns.barplot(x='Pclass', y='HasCabin', data=df)\n",
    "plt.title(\"Proportion of Passengers with Cabin by Class\")\n",
    "plt.ylabel(\"Has Cabin (1 = Yes, 0 = No)\")\n",
    "plt.show()\n"
   ]
  },
  {
   "cell_type": "code",
   "execution_count": 7,
   "id": "c8b1c071",
   "metadata": {
    "execution": {
     "iopub.execute_input": "2025-06-26T10:28:38.667969Z",
     "iopub.status.busy": "2025-06-26T10:28:38.667238Z",
     "iopub.status.idle": "2025-06-26T10:28:38.675418Z",
     "shell.execute_reply": "2025-06-26T10:28:38.674400Z"
    },
    "papermill": {
     "duration": 0.019156,
     "end_time": "2025-06-26T10:28:38.677304",
     "exception": false,
     "start_time": "2025-06-26T10:28:38.658148",
     "status": "completed"
    },
    "tags": []
   },
   "outputs": [],
   "source": [
    "df['HasCabin'] = df['Cabin'].notnull().astype(int)\n",
    "df['CabinClass'] = df['Pclass'] * df['HasCabin']\n"
   ]
  },
  {
   "cell_type": "code",
   "execution_count": 8,
   "id": "7dbdf459",
   "metadata": {
    "execution": {
     "iopub.execute_input": "2025-06-26T10:28:38.693004Z",
     "iopub.status.busy": "2025-06-26T10:28:38.692609Z",
     "iopub.status.idle": "2025-06-26T10:28:38.700202Z",
     "shell.execute_reply": "2025-06-26T10:28:38.698903Z"
    },
    "papermill": {
     "duration": 0.017432,
     "end_time": "2025-06-26T10:28:38.701969",
     "exception": false,
     "start_time": "2025-06-26T10:28:38.684537",
     "status": "completed"
    },
    "tags": []
   },
   "outputs": [],
   "source": [
    "df['FamilySize'] = df['SibSp'] + df['Parch'] + 1  # +1 includes the passenger themself\n"
   ]
  },
  {
   "cell_type": "code",
   "execution_count": 9,
   "id": "f4454ae2",
   "metadata": {
    "execution": {
     "iopub.execute_input": "2025-06-26T10:28:38.717813Z",
     "iopub.status.busy": "2025-06-26T10:28:38.717467Z",
     "iopub.status.idle": "2025-06-26T10:28:38.726089Z",
     "shell.execute_reply": "2025-06-26T10:28:38.724754Z"
    },
    "papermill": {
     "duration": 0.018806,
     "end_time": "2025-06-26T10:28:38.728088",
     "exception": false,
     "start_time": "2025-06-26T10:28:38.709282",
     "status": "completed"
    },
    "tags": []
   },
   "outputs": [
    {
     "name": "stdout",
     "output_type": "stream",
     "text": [
      "FamilySize\n",
      "1     0.303538\n",
      "2     0.552795\n",
      "3     0.578431\n",
      "4     0.724138\n",
      "5     0.200000\n",
      "6     0.136364\n",
      "7     0.333333\n",
      "8     0.000000\n",
      "11    0.000000\n",
      "Name: Survived, dtype: float64\n"
     ]
    }
   ],
   "source": [
    "survival_by_family = df.groupby('FamilySize')['Survived'].mean()\n",
    "print(survival_by_family)\n"
   ]
  },
  {
   "cell_type": "code",
   "execution_count": 10,
   "id": "59f5e592",
   "metadata": {
    "execution": {
     "iopub.execute_input": "2025-06-26T10:28:38.744352Z",
     "iopub.status.busy": "2025-06-26T10:28:38.743987Z",
     "iopub.status.idle": "2025-06-26T10:28:39.254469Z",
     "shell.execute_reply": "2025-06-26T10:28:39.253334Z"
    },
    "papermill": {
     "duration": 0.52053,
     "end_time": "2025-06-26T10:28:39.256460",
     "exception": false,
     "start_time": "2025-06-26T10:28:38.735930",
     "status": "completed"
    },
    "tags": []
   },
   "outputs": [
    {
     "data": {
      "image/png": "[encoded data removed]",
      "text/plain": [
       "<Figure size 640x480 with 1 Axes>"
      ]
     },
     "metadata": {},
     "output_type": "display_data"
    }
   ],
   "source": [
    "import seaborn as sns\n",
    "import matplotlib.pyplot as plt\n",
    "\n",
    "sns.barplot(x='FamilySize', y='Survived', data=df)\n",
    "plt.title(\"Survival Rate by Family Size\")\n",
    "plt.ylabel(\"Survival Rate\")\n",
    "plt.xlabel(\"Family Size\")\n",
    "plt.show()\n"
   ]
  },
  {
   "cell_type": "code",
   "execution_count": 11,
   "id": "80a758a8",
   "metadata": {
    "execution": {
     "iopub.execute_input": "2025-06-26T10:28:39.280063Z",
     "iopub.status.busy": "2025-06-26T10:28:39.279679Z",
     "iopub.status.idle": "2025-06-26T10:28:39.287754Z",
     "shell.execute_reply": "2025-06-26T10:28:39.286200Z"
    },
    "papermill": {
     "duration": 0.021065,
     "end_time": "2025-06-26T10:28:39.289753",
     "exception": false,
     "start_time": "2025-06-26T10:28:39.268688",
     "status": "completed"
    },
    "tags": []
   },
   "outputs": [],
   "source": [
    "def family_group(size):\n",
    "    if size == 1:\n",
    "        return 'Solo'\n",
    "    elif size <= 4:\n",
    "        return 'Small'\n",
    "    elif size <= 6:\n",
    "        return 'Medium'\n",
    "    else:\n",
    "        return 'Large'\n",
    "\n",
    "df['FamilyGroup'] = df['FamilySize'].apply(family_group)\n"
   ]
  },
  {
   "cell_type": "code",
   "execution_count": 12,
   "id": "91af74b2",
   "metadata": {
    "execution": {
     "iopub.execute_input": "2025-06-26T10:28:39.307474Z",
     "iopub.status.busy": "2025-06-26T10:28:39.307110Z",
     "iopub.status.idle": "2025-06-26T10:28:39.317009Z",
     "shell.execute_reply": "2025-06-26T10:28:39.315992Z"
    },
    "papermill": {
     "duration": 0.021002,
     "end_time": "2025-06-26T10:28:39.318806",
     "exception": false,
     "start_time": "2025-06-26T10:28:39.297804",
     "status": "completed"
    },
    "tags": []
   },
   "outputs": [
    {
     "data": {
      "text/plain": [
       "Pclass\n",
       "1    84.154687\n",
       "2    20.662183\n",
       "3    13.675550\n",
       "Name: Fare, dtype: float64"
      ]
     },
     "execution_count": 12,
     "metadata": {},
     "output_type": "execute_result"
    }
   ],
   "source": [
    "df.groupby('Pclass')['Fare'].mean()\n"
   ]
  },
  {
   "cell_type": "code",
   "execution_count": 13,
   "id": "c27fe4d0",
   "metadata": {
    "execution": {
     "iopub.execute_input": "2025-06-26T10:28:39.336514Z",
     "iopub.status.busy": "2025-06-26T10:28:39.336155Z",
     "iopub.status.idle": "2025-06-26T10:28:39.540700Z",
     "shell.execute_reply": "2025-06-26T10:28:39.539583Z"
    },
    "papermill": {
     "duration": 0.215449,
     "end_time": "2025-06-26T10:28:39.542415",
     "exception": false,
     "start_time": "2025-06-26T10:28:39.326966",
     "status": "completed"
    },
    "tags": []
   },
   "outputs": [
    {
     "data": {
      "text/plain": [
       "Text(0.5, 1.0, 'Fare Distribution by Passenger Class')"
      ]
     },
     "execution_count": 13,
     "metadata": {},
     "output_type": "execute_result"
    },
    {
     "data": {
      "image/png": "[encoded data removed]",
      "text/plain": [
       "<Figure size 640x480 with 1 Axes>"
      ]
     },
     "metadata": {},
     "output_type": "display_data"
    }
   ],
   "source": [
    "import seaborn as sns\n",
    "import matplotlib.pyplot as plt\n",
    "\n",
    "sns.boxplot(x='Pclass', y='Fare', data=df)\n",
    "plt.title(\"Fare Distribution by Passenger Class\")\n"
   ]
  },
  {
   "cell_type": "code",
   "execution_count": 14,
   "id": "44d09af3",
   "metadata": {
    "execution": {
     "iopub.execute_input": "2025-06-26T10:28:39.561634Z",
     "iopub.status.busy": "2025-06-26T10:28:39.561223Z",
     "iopub.status.idle": "2025-06-26T10:28:39.569155Z",
     "shell.execute_reply": "2025-06-26T10:28:39.568072Z"
    },
    "papermill": {
     "duration": 0.01968,
     "end_time": "2025-06-26T10:28:39.570767",
     "exception": false,
     "start_time": "2025-06-26T10:28:39.551087",
     "status": "completed"
    },
    "tags": []
   },
   "outputs": [],
   "source": [
    "df['Fare_log'] = df['Fare'].apply(lambda x: np.log1p(x))  # log1p handles 0 safely"
   ]
  },
  {
   "cell_type": "code",
   "execution_count": 15,
   "id": "1a4f6e02",
   "metadata": {
    "execution": {
     "iopub.execute_input": "2025-06-26T10:28:39.589363Z",
     "iopub.status.busy": "2025-06-26T10:28:39.588990Z",
     "iopub.status.idle": "2025-06-26T10:28:40.234261Z",
     "shell.execute_reply": "2025-06-26T10:28:40.233161Z"
    },
    "papermill": {
     "duration": 0.656644,
     "end_time": "2025-06-26T10:28:40.236242",
     "exception": false,
     "start_time": "2025-06-26T10:28:39.579598",
     "status": "completed"
    },
    "tags": []
   },
   "outputs": [
    {
     "name": "stderr",
     "output_type": "stream",
     "text": [
      "/usr/local/lib/python3.11/dist-packages/seaborn/_oldcore.py:1119: FutureWarning: use_inf_as_na option is deprecated and will be removed in a future version. Convert inf values to NaN before operating instead.\n",
      "  with pd.option_context('mode.use_inf_as_na', True):\n",
      "/usr/local/lib/python3.11/dist-packages/seaborn/_oldcore.py:1119: FutureWarning: use_inf_as_na option is deprecated and will be removed in a future version. Convert inf values to NaN before operating instead.\n",
      "  with pd.option_context('mode.use_inf_as_na', True):\n"
     ]
    },
    {
     "data": {
      "image/png": "[encoded data removed]",
      "text/plain": [
       "<Figure size 1200x400 with 2 Axes>"
      ]
     },
     "metadata": {},
     "output_type": "display_data"
    }
   ],
   "source": [
    "import matplotlib.pyplot as plt\n",
    "import seaborn as sns\n",
    "\n",
    "fig, ax = plt.subplots(1, 2, figsize=(12, 4))\n",
    "sns.histplot(df['Fare'], kde=True, ax=ax[0])\n",
    "ax[0].set_title(\"Original Fare Distribution\")\n",
    "\n",
    "sns.histplot(df['Fare_log'], kde=True, ax=ax[1])\n",
    "ax[1].set_title(\"Log-Transformed Fare\")\n",
    "plt.show()\n"
   ]
  },
  {
   "cell_type": "code",
   "execution_count": 16,
   "id": "c2637249",
   "metadata": {
    "execution": {
     "iopub.execute_input": "2025-06-26T10:28:40.258200Z",
     "iopub.status.busy": "2025-06-26T10:28:40.257808Z",
     "iopub.status.idle": "2025-06-26T10:28:40.279593Z",
     "shell.execute_reply": "2025-06-26T10:28:40.278075Z"
    },
    "papermill": {
     "duration": 0.035545,
     "end_time": "2025-06-26T10:28:40.281695",
     "exception": false,
     "start_time": "2025-06-26T10:28:40.246150",
     "status": "completed"
    },
    "tags": []
   },
   "outputs": [
    {
     "name": "stderr",
     "output_type": "stream",
     "text": [
      "/tmp/ipykernel_13/1198387443.py:5: FutureWarning: A value is trying to be set on a copy of a DataFrame or Series through chained assignment using an inplace method.\n",
      "The behavior will change in pandas 3.0. This inplace method will never work because the intermediate object on which we are setting values always behaves as a copy.\n",
      "\n",
      "For example, when doing 'df[col].method(value, inplace=True)', try using 'df.method({col: value}, inplace=True)' or df[col] = df[col].method(value) instead, to perform the operation inplace on the original object.\n",
      "\n",
      "\n",
      "  df['Embarked'].fillna(df['Embarked'].mode()[0], inplace=True)\n",
      "/tmp/ipykernel_13/1198387443.py:9: FutureWarning: A value is trying to be set on a copy of a DataFrame or Series through chained assignment using an inplace method.\n",
      "The behavior will change in pandas 3.0. This inplace method will never work because the intermediate object on which we are setting values always behaves as a copy.\n",
      "\n",
      "For example, when doing 'df[col].method(value, inplace=True)', try using 'df.method({col: value}, inplace=True)' or df[col] = df[col].method(value) instead, to perform the operation inplace on the original object.\n",
      "\n",
      "\n",
      "  df['Deck'].fillna('U', inplace=True)\n"
     ]
    }
   ],
   "source": [
    "# 1. Impute missing Age using median by Sex and Pclass\n",
    "df['Age'] = df.groupby(['Sex', 'Pclass'])['Age'].transform(lambda x: x.fillna(x.median()))\n",
    "\n",
    "# 2. Impute missing Embarked values with mode\n",
    "df['Embarked'].fillna(df['Embarked'].mode()[0], inplace=True)\n",
    "\n",
    "# 3. Extract Deck from Cabin and impute 'U' (Unknown) for missing cabins\n",
    "df['Deck'] = df['Cabin'].str[0]\n",
    "df['Deck'].fillna('U', inplace=True)"
   ]
  },
  {
   "cell_type": "code",
   "execution_count": 17,
   "id": "56298df1",
   "metadata": {
    "execution": {
     "iopub.execute_input": "2025-06-26T10:28:40.306183Z",
     "iopub.status.busy": "2025-06-26T10:28:40.305027Z",
     "iopub.status.idle": "2025-06-26T10:28:40.318638Z",
     "shell.execute_reply": "2025-06-26T10:28:40.317327Z"
    },
    "papermill": {
     "duration": 0.028217,
     "end_time": "2025-06-26T10:28:40.320499",
     "exception": false,
     "start_time": "2025-06-26T10:28:40.292282",
     "status": "completed"
    },
    "tags": []
   },
   "outputs": [
    {
     "name": "stdout",
     "output_type": "stream",
     "text": [
      "Dropping: []\n"
     ]
    }
   ],
   "source": [
    "zero_var_cols = df.columns[df.nunique() <= 1]\n",
    "print(\"Dropping:\", list(zero_var_cols))\n",
    "df.drop(columns=zero_var_cols, inplace=True)\n"
   ]
  },
  {
   "cell_type": "code",
   "execution_count": 18,
   "id": "91897f89",
   "metadata": {
    "execution": {
     "iopub.execute_input": "2025-06-26T10:28:40.342474Z",
     "iopub.status.busy": "2025-06-26T10:28:40.342084Z",
     "iopub.status.idle": "2025-06-26T10:28:40.348146Z",
     "shell.execute_reply": "2025-06-26T10:28:40.346994Z"
    },
    "papermill": {
     "duration": 0.019113,
     "end_time": "2025-06-26T10:28:40.349961",
     "exception": false,
     "start_time": "2025-06-26T10:28:40.330848",
     "status": "completed"
    },
    "tags": []
   },
   "outputs": [
    {
     "name": "stdout",
     "output_type": "stream",
     "text": [
      "Index(['PassengerId', 'Survived', 'Pclass', 'Name', 'Sex', 'Age', 'SibSp',\n",
      "       'Parch', 'Ticket', 'Fare', 'Cabin', 'Embarked', 'HasCabin',\n",
      "       'CabinClass', 'FamilySize', 'FamilyGroup', 'Fare_log', 'Deck'],\n",
      "      dtype='object')\n"
     ]
    }
   ],
   "source": [
    "print(df.columns)"
   ]
  },
  {
   "cell_type": "code",
   "execution_count": 19,
   "id": "2a8e2331",
   "metadata": {
    "execution": {
     "iopub.execute_input": "2025-06-26T10:28:40.373797Z",
     "iopub.status.busy": "2025-06-26T10:28:40.372806Z",
     "iopub.status.idle": "2025-06-26T10:28:40.380235Z",
     "shell.execute_reply": "2025-06-26T10:28:40.379091Z"
    },
    "papermill": {
     "duration": 0.021007,
     "end_time": "2025-06-26T10:28:40.382094",
     "exception": false,
     "start_time": "2025-06-26T10:28:40.361087",
     "status": "completed"
    },
    "tags": []
   },
   "outputs": [],
   "source": [
    "df.drop(columns=['Cabin'], inplace=True)\n"
   ]
  },
  {
   "cell_type": "code",
   "execution_count": 20,
   "id": "94a13d4f",
   "metadata": {
    "execution": {
     "iopub.execute_input": "2025-06-26T10:28:40.406422Z",
     "iopub.status.busy": "2025-06-26T10:28:40.406078Z",
     "iopub.status.idle": "2025-06-26T10:28:40.416817Z",
     "shell.execute_reply": "2025-06-26T10:28:40.415804Z"
    },
    "papermill": {
     "duration": 0.023941,
     "end_time": "2025-06-26T10:28:40.418538",
     "exception": false,
     "start_time": "2025-06-26T10:28:40.394597",
     "status": "completed"
    },
    "tags": []
   },
   "outputs": [
    {
     "data": {
      "text/plain": [
       "PassengerId    0\n",
       "Fare           0\n",
       "Fare_log       0\n",
       "FamilyGroup    0\n",
       "FamilySize     0\n",
       "CabinClass     0\n",
       "HasCabin       0\n",
       "Embarked       0\n",
       "Ticket         0\n",
       "Survived       0\n",
       "Parch          0\n",
       "SibSp          0\n",
       "Age            0\n",
       "Sex            0\n",
       "Name           0\n",
       "dtype: int64"
      ]
     },
     "execution_count": 20,
     "metadata": {},
     "output_type": "execute_result"
    }
   ],
   "source": [
    "df.isnull().sum().sort_values(ascending=False).head(15)"
   ]
  },
  {
   "cell_type": "code",
   "execution_count": 21,
   "id": "bfebdb79",
   "metadata": {
    "execution": {
     "iopub.execute_input": "2025-06-26T10:28:40.441302Z",
     "iopub.status.busy": "2025-06-26T10:28:40.440953Z",
     "iopub.status.idle": "2025-06-26T10:28:40.453955Z",
     "shell.execute_reply": "2025-06-26T10:28:40.453063Z"
    },
    "papermill": {
     "duration": 0.026603,
     "end_time": "2025-06-26T10:28:40.455739",
     "exception": false,
     "start_time": "2025-06-26T10:28:40.429136",
     "status": "completed"
    },
    "tags": []
   },
   "outputs": [],
   "source": [
    "# Fill missing Fare based on median Fare within each Pclass\n",
    "df['Fare'] = df.groupby('Pclass')['Fare'].transform(\n",
    "    lambda x: x.fillna(x.median())\n",
    ")\n",
    "df['Fare_log'] = df['Fare'].apply(lambda x: np.log(x + 1))\n"
   ]
  },
  {
   "cell_type": "code",
   "execution_count": 22,
   "id": "d4b6f0a6",
   "metadata": {
    "execution": {
     "iopub.execute_input": "2025-06-26T10:28:40.477980Z",
     "iopub.status.busy": "2025-06-26T10:28:40.477590Z",
     "iopub.status.idle": "2025-06-26T10:28:40.487064Z",
     "shell.execute_reply": "2025-06-26T10:28:40.486047Z"
    },
    "papermill": {
     "duration": 0.022665,
     "end_time": "2025-06-26T10:28:40.488776",
     "exception": false,
     "start_time": "2025-06-26T10:28:40.466111",
     "status": "completed"
    },
    "tags": []
   },
   "outputs": [
    {
     "name": "stdout",
     "output_type": "stream",
     "text": [
      "Index(['Name', 'Sex', 'Ticket', 'Embarked', 'FamilyGroup', 'Deck'], dtype='object')\n",
      "0\n"
     ]
    }
   ],
   "source": [
    "print(df.select_dtypes(include='object').columns)  # Should be empty\n",
    "print(df.isnull().sum().sum()) "
   ]
  },
  {
   "cell_type": "code",
   "execution_count": 23,
   "id": "32e109f9",
   "metadata": {
    "execution": {
     "iopub.execute_input": "2025-06-26T10:28:40.511994Z",
     "iopub.status.busy": "2025-06-26T10:28:40.511576Z",
     "iopub.status.idle": "2025-06-26T10:28:40.521731Z",
     "shell.execute_reply": "2025-06-26T10:28:40.520664Z"
    },
    "papermill": {
     "duration": 0.023355,
     "end_time": "2025-06-26T10:28:40.523448",
     "exception": false,
     "start_time": "2025-06-26T10:28:40.500093",
     "status": "completed"
    },
    "tags": []
   },
   "outputs": [
    {
     "data": {
      "text/plain": [
       "Embarked\n",
       "C    0.553571\n",
       "Q    0.389610\n",
       "S    0.339009\n",
       "Name: Survived, dtype: float64"
      ]
     },
     "execution_count": 23,
     "metadata": {},
     "output_type": "execute_result"
    }
   ],
   "source": [
    "df.groupby('Embarked')['Survived'].mean()\n"
   ]
  },
  {
   "cell_type": "code",
   "execution_count": 24,
   "id": "77ff1cd1",
   "metadata": {
    "execution": {
     "iopub.execute_input": "2025-06-26T10:28:40.546245Z",
     "iopub.status.busy": "2025-06-26T10:28:40.545900Z",
     "iopub.status.idle": "2025-06-26T10:28:40.556270Z",
     "shell.execute_reply": "2025-06-26T10:28:40.555226Z"
    },
    "papermill": {
     "duration": 0.023853,
     "end_time": "2025-06-26T10:28:40.558094",
     "exception": false,
     "start_time": "2025-06-26T10:28:40.534241",
     "status": "completed"
    },
    "tags": []
   },
   "outputs": [
    {
     "data": {
      "text/plain": [
       "Sex\n",
       "female    0.742038\n",
       "male      0.188908\n",
       "Name: Survived, dtype: float64"
      ]
     },
     "execution_count": 24,
     "metadata": {},
     "output_type": "execute_result"
    }
   ],
   "source": [
    "df.groupby('Sex')['Survived'].mean()\n"
   ]
  },
  {
   "cell_type": "code",
   "execution_count": 25,
   "id": "9bbc749e",
   "metadata": {
    "execution": {
     "iopub.execute_input": "2025-06-26T10:28:40.582632Z",
     "iopub.status.busy": "2025-06-26T10:28:40.582208Z",
     "iopub.status.idle": "2025-06-26T10:28:40.611968Z",
     "shell.execute_reply": "2025-06-26T10:28:40.610674Z"
    },
    "papermill": {
     "duration": 0.044972,
     "end_time": "2025-06-26T10:28:40.614321",
     "exception": false,
     "start_time": "2025-06-26T10:28:40.569349",
     "status": "completed"
    },
    "tags": []
   },
   "outputs": [
    {
     "name": "stdout",
     "output_type": "stream",
     "text": [
      "       Sex      AgeBin  Survived  Count\n",
      "0   female       Child         0     13\n",
      "1   female       Child         1     19\n",
      "2   female        Teen         0      9\n",
      "3   female        Teen         1     27\n",
      "4   female  YoungAdult         0     43\n",
      "5   female  YoungAdult         1    130\n",
      "6   female       Adult         0     16\n",
      "7   female       Adult         1     54\n",
      "8   female      Senior         0      0\n",
      "9   female      Senior         1      3\n",
      "10    male       Child         0     16\n",
      "11    male       Child         1     21\n",
      "12    male        Teen         0     31\n",
      "13    male        Teen         1      3\n",
      "14    male  YoungAdult         0    287\n",
      "15    male  YoungAdult         1     54\n",
      "16    male       Adult         0    117\n",
      "17    male       Adult         1     29\n",
      "18    male      Senior         0     17\n",
      "19    male      Senior         1      2\n"
     ]
    },
    {
     "name": "stderr",
     "output_type": "stream",
     "text": [
      "/tmp/ipykernel_13/415350966.py:4: FutureWarning: The default of observed=False is deprecated and will be changed to True in a future version of pandas. Pass observed=False to retain current behavior or observed=True to adopt the future default and silence this warning.\n",
      "  grouped = df.groupby(['Sex', 'AgeBin', 'Survived'])['PassengerId'].count().reset_index()\n"
     ]
    }
   ],
   "source": [
    "# Group by Sex, Age (you might want to bin age first), and Survived\n",
    "df['AgeBin'] = pd.cut(df['Age'], bins=[0, 12, 18, 35, 60, 80], labels=['Child', 'Teen', 'YoungAdult', 'Adult', 'Senior'])\n",
    "\n",
    "grouped = df.groupby(['Sex', 'AgeBin', 'Survived'])['PassengerId'].count().reset_index()\n",
    "grouped.rename(columns={'PassengerId': 'Count'}, inplace=True)\n",
    "print(grouped)\n"
   ]
  },
  {
   "cell_type": "code",
   "execution_count": 26,
   "id": "2246c38c",
   "metadata": {
    "execution": {
     "iopub.execute_input": "2025-06-26T10:28:40.637982Z",
     "iopub.status.busy": "2025-06-26T10:28:40.637568Z",
     "iopub.status.idle": "2025-06-26T10:28:40.650053Z",
     "shell.execute_reply": "2025-06-26T10:28:40.649031Z"
    },
    "papermill": {
     "duration": 0.026548,
     "end_time": "2025-06-26T10:28:40.652002",
     "exception": false,
     "start_time": "2025-06-26T10:28:40.625454",
     "status": "completed"
    },
    "tags": []
   },
   "outputs": [],
   "source": [
    "df['Title'] = df['Name'].str.extract(' ([A-Za-z]+)\\.', expand=False)\n",
    "df['Title'] = df['Title'].replace({\n",
    "    'Mlle': 'Miss', 'Ms': 'Miss', 'Mme': 'Mrs',\n",
    "    'Lady': 'Rare', 'Countess': 'Rare', 'Capt': 'Rare',\n",
    "    'Col': 'Rare', 'Don': 'Rare', 'Dr': 'Rare', 'Major': 'Rare',\n",
    "    'Rev': 'Rare', 'Sir': 'Rare', 'Jonkheer': 'Rare', 'Dona': 'Rare'\n",
    "})\n"
   ]
  },
  {
   "cell_type": "code",
   "execution_count": 27,
   "id": "bc4b1963",
   "metadata": {
    "execution": {
     "iopub.execute_input": "2025-06-26T10:28:40.678079Z",
     "iopub.status.busy": "2025-06-26T10:28:40.677643Z",
     "iopub.status.idle": "2025-06-26T10:28:40.685351Z",
     "shell.execute_reply": "2025-06-26T10:28:40.684351Z"
    },
    "papermill": {
     "duration": 0.022798,
     "end_time": "2025-06-26T10:28:40.687012",
     "exception": false,
     "start_time": "2025-06-26T10:28:40.664214",
     "status": "completed"
    },
    "tags": []
   },
   "outputs": [],
   "source": [
    "df['Sex*Pclass'] = df['Sex'].map({'male': 0, 'female': 1}) * df['Pclass']\n"
   ]
  },
  {
   "cell_type": "code",
   "execution_count": 28,
   "id": "a8cfd8ca",
   "metadata": {
    "execution": {
     "iopub.execute_input": "2025-06-26T10:28:40.711129Z",
     "iopub.status.busy": "2025-06-26T10:28:40.710714Z",
     "iopub.status.idle": "2025-06-26T10:28:40.718908Z",
     "shell.execute_reply": "2025-06-26T10:28:40.717897Z"
    },
    "papermill": {
     "duration": 0.021606,
     "end_time": "2025-06-26T10:28:40.720530",
     "exception": false,
     "start_time": "2025-06-26T10:28:40.698924",
     "status": "completed"
    },
    "tags": []
   },
   "outputs": [
    {
     "name": "stderr",
     "output_type": "stream",
     "text": [
      "/tmp/ipykernel_13/370820992.py:2: FutureWarning: A value is trying to be set on a copy of a DataFrame or Series through chained assignment using an inplace method.\n",
      "The behavior will change in pandas 3.0. This inplace method will never work because the intermediate object on which we are setting values always behaves as a copy.\n",
      "\n",
      "For example, when doing 'df[col].method(value, inplace=True)', try using 'df.method({col: value}, inplace=True)' or df[col] = df[col].method(value) instead, to perform the operation inplace on the original object.\n",
      "\n",
      "\n",
      "  df['Fare_Per_Person'].fillna(df['Fare_Per_Person'].median(), inplace=True)\n"
     ]
    }
   ],
   "source": [
    "df['Fare_Per_Person'] = df['Fare'] / df['FamilySize']\n",
    "df['Fare_Per_Person'].fillna(df['Fare_Per_Person'].median(), inplace=True)\n"
   ]
  },
  {
   "cell_type": "code",
   "execution_count": 29,
   "id": "cd265e6b",
   "metadata": {
    "execution": {
     "iopub.execute_input": "2025-06-26T10:28:40.743770Z",
     "iopub.status.busy": "2025-06-26T10:28:40.743415Z",
     "iopub.status.idle": "2025-06-26T10:28:40.758191Z",
     "shell.execute_reply": "2025-06-26T10:28:40.757156Z"
    },
    "papermill": {
     "duration": 0.029166,
     "end_time": "2025-06-26T10:28:40.760594",
     "exception": false,
     "start_time": "2025-06-26T10:28:40.731428",
     "status": "completed"
    },
    "tags": []
   },
   "outputs": [
    {
     "name": "stdout",
     "output_type": "stream",
     "text": [
      "      Sex      AgeBin  Survived\n",
      "0  female       Child  0.593750\n",
      "1  female        Teen  0.750000\n",
      "2  female  YoungAdult  0.751445\n",
      "3  female       Adult  0.771429\n",
      "4  female      Senior  1.000000\n",
      "5    male       Child  0.567568\n",
      "6    male        Teen  0.088235\n",
      "7    male  YoungAdult  0.158358\n",
      "8    male       Adult  0.198630\n",
      "9    male      Senior  0.105263\n"
     ]
    },
    {
     "name": "stderr",
     "output_type": "stream",
     "text": [
      "/tmp/ipykernel_13/2632816335.py:1: FutureWarning: The default of observed=False is deprecated and will be changed to True in a future version of pandas. Pass observed=False to retain current behavior or observed=True to adopt the future default and silence this warning.\n",
      "  survival_rate = df.groupby(['Sex', 'AgeBin'])['Survived'].mean().reset_index()\n"
     ]
    }
   ],
   "source": [
    "survival_rate = df.groupby(['Sex', 'AgeBin'])['Survived'].mean().reset_index()\n",
    "print(survival_rate)\n"
   ]
  },
  {
   "cell_type": "code",
   "execution_count": 30,
   "id": "bfdd43ff",
   "metadata": {
    "execution": {
     "iopub.execute_input": "2025-06-26T10:28:40.784875Z",
     "iopub.status.busy": "2025-06-26T10:28:40.783927Z",
     "iopub.status.idle": "2025-06-26T10:28:40.795176Z",
     "shell.execute_reply": "2025-06-26T10:28:40.793937Z"
    },
    "papermill": {
     "duration": 0.025395,
     "end_time": "2025-06-26T10:28:40.797087",
     "exception": false,
     "start_time": "2025-06-26T10:28:40.771692",
     "status": "completed"
    },
    "tags": []
   },
   "outputs": [
    {
     "data": {
      "text/plain": [
       "PassengerId    0\n",
       "HasCabin       0\n",
       "Sex*Pclass     0\n",
       "Title          0\n",
       "AgeBin         0\n",
       "Deck           0\n",
       "Fare_log       0\n",
       "FamilyGroup    0\n",
       "FamilySize     0\n",
       "CabinClass     0\n",
       "Embarked       0\n",
       "Survived       0\n",
       "Fare           0\n",
       "Ticket         0\n",
       "Parch          0\n",
       "dtype: int64"
      ]
     },
     "execution_count": 30,
     "metadata": {},
     "output_type": "execute_result"
    }
   ],
   "source": [
    "df.isnull().sum().sort_values(ascending=False).head(15)"
   ]
  },
  {
   "cell_type": "code",
   "execution_count": 31,
   "id": "3ec36b51",
   "metadata": {
    "execution": {
     "iopub.execute_input": "2025-06-26T10:28:40.823224Z",
     "iopub.status.busy": "2025-06-26T10:28:40.822813Z",
     "iopub.status.idle": "2025-06-26T10:28:41.107632Z",
     "shell.execute_reply": "2025-06-26T10:28:41.106542Z"
    },
    "papermill": {
     "duration": 0.300079,
     "end_time": "2025-06-26T10:28:41.109583",
     "exception": false,
     "start_time": "2025-06-26T10:28:40.809504",
     "status": "completed"
    },
    "tags": []
   },
   "outputs": [
    {
     "name": "stderr",
     "output_type": "stream",
     "text": [
      "/usr/local/lib/python3.11/dist-packages/seaborn/categorical.py:641: FutureWarning: The default of observed=False is deprecated and will be changed to True in a future version of pandas. Pass observed=False to retain current behavior or observed=True to adopt the future default and silence this warning.\n",
      "  grouped_vals = vals.groupby(grouper)\n",
      "/usr/local/lib/python3.11/dist-packages/seaborn/categorical.py:641: FutureWarning: The default of observed=False is deprecated and will be changed to True in a future version of pandas. Pass observed=False to retain current behavior or observed=True to adopt the future default and silence this warning.\n",
      "  grouped_vals = vals.groupby(grouper)\n"
     ]
    },
    {
     "data": {
      "image/png": "[encoded data removed]",
      "text/plain": [
       "<Figure size 1000x600 with 1 Axes>"
      ]
     },
     "metadata": {},
     "output_type": "display_data"
    }
   ],
   "source": [
    "import seaborn as sns\n",
    "import matplotlib.pyplot as plt\n",
    "\n",
    "# First, bin ages for grouping\n",
    "df['AgeBin'] = pd.cut(df['Age'], bins=[0, 12, 18, 35, 60, 80], labels=['Child', 'Teen', 'YoungAdult', 'Adult', 'Senior'])\n",
    "\n",
    "# Create a countplot of survival by gender and age group\n",
    "plt.figure(figsize=(10, 6))\n",
    "sns.countplot(data=df, x='AgeBin', hue='Survived', palette='Set2', dodge=True)\n",
    "plt.title('Survival Count by Age Group')\n",
    "plt.xlabel('Age Group')\n",
    "plt.ylabel('Count')\n",
    "plt.legend(title='Survived', labels=['No', 'Yes'])\n",
    "plt.grid(axis='y', linestyle='--', alpha=0.7)\n",
    "plt.tight_layout()\n",
    "plt.show()\n"
   ]
  },
  {
   "cell_type": "code",
   "execution_count": 32,
   "id": "20396f5b",
   "metadata": {
    "execution": {
     "iopub.execute_input": "2025-06-26T10:28:41.136572Z",
     "iopub.status.busy": "2025-06-26T10:28:41.136157Z",
     "iopub.status.idle": "2025-06-26T10:28:41.796838Z",
     "shell.execute_reply": "2025-06-26T10:28:41.795798Z"
    },
    "papermill": {
     "duration": 0.676487,
     "end_time": "2025-06-26T10:28:41.798643",
     "exception": false,
     "start_time": "2025-06-26T10:28:41.122156",
     "status": "completed"
    },
    "tags": []
   },
   "outputs": [
    {
     "name": "stderr",
     "output_type": "stream",
     "text": [
      "/usr/local/lib/python3.11/dist-packages/seaborn/categorical.py:641: FutureWarning: The default of observed=False is deprecated and will be changed to True in a future version of pandas. Pass observed=False to retain current behavior or observed=True to adopt the future default and silence this warning.\n",
      "  grouped_vals = vals.groupby(grouper)\n",
      "/usr/local/lib/python3.11/dist-packages/seaborn/categorical.py:641: FutureWarning: The default of observed=False is deprecated and will be changed to True in a future version of pandas. Pass observed=False to retain current behavior or observed=True to adopt the future default and silence this warning.\n",
      "  grouped_vals = vals.groupby(grouper)\n",
      "/usr/local/lib/python3.11/dist-packages/seaborn/categorical.py:641: FutureWarning: The default of observed=False is deprecated and will be changed to True in a future version of pandas. Pass observed=False to retain current behavior or observed=True to adopt the future default and silence this warning.\n",
      "  grouped_vals = vals.groupby(grouper)\n",
      "/usr/local/lib/python3.11/dist-packages/seaborn/categorical.py:641: FutureWarning: The default of observed=False is deprecated and will be changed to True in a future version of pandas. Pass observed=False to retain current behavior or observed=True to adopt the future default and silence this warning.\n",
      "  grouped_vals = vals.groupby(grouper)\n",
      "/usr/local/lib/python3.11/dist-packages/seaborn/axisgrid.py:118: UserWarning: The figure layout has changed to tight\n",
      "  self._figure.tight_layout(*args, **kwargs)\n"
     ]
    },
    {
     "data": {
      "image/png": "[encoded data removed]",
      "text/plain": [
       "<Figure size 1058.88x500 with 2 Axes>"
      ]
     },
     "metadata": {},
     "output_type": "display_data"
    }
   ],
   "source": [
    "import seaborn as sns\n",
    "import matplotlib.pyplot as plt\n",
    "\n",
    "# Make sure AgeBin exists\n",
    "df['AgeBin'] = pd.cut(df['Age'], bins=[0, 12, 18, 35, 60, 80], \n",
    "                      labels=['Child', 'Teen', 'YoungAdult', 'Adult', 'Senior'])\n",
    "\n",
    "# Set up the grid\n",
    "g = sns.catplot(\n",
    "    data=df, kind=\"count\", \n",
    "    x=\"AgeBin\", hue=\"Pclass\", col=\"Sex\",\n",
    "    palette=\"pastel\", edgecolor=\".6\"\n",
    ")\n",
    "\n",
    "g.set_titles(\"Sex: {col_name}\")\n",
    "g.set_axis_labels(\"Age Group\", \"Passenger Count\")\n",
    "g._legend.set_title(\"Pclass\")\n",
    "plt.subplots_adjust(top=0.85)\n",
    "g.fig.suptitle(\"Survival Distribution by Age Group, Class, and Gender\")\n",
    "plt.show()\n"
   ]
  },
  {
   "cell_type": "code",
   "execution_count": 33,
   "id": "ffa1f0cd",
   "metadata": {
    "execution": {
     "iopub.execute_input": "2025-06-26T10:28:41.828747Z",
     "iopub.status.busy": "2025-06-26T10:28:41.828358Z",
     "iopub.status.idle": "2025-06-26T10:28:42.065338Z",
     "shell.execute_reply": "2025-06-26T10:28:42.064356Z"
    },
    "papermill": {
     "duration": 0.254323,
     "end_time": "2025-06-26T10:28:42.067416",
     "exception": false,
     "start_time": "2025-06-26T10:28:41.813093",
     "status": "completed"
    },
    "tags": []
   },
   "outputs": [],
   "source": [
    "from sklearn.preprocessing import LabelEncoder\n",
    "\n",
    "# 1. Encode 'Sex' using LabelEncoder (safe for binary)\n",
    "le = LabelEncoder()\n",
    "df['Sex'] = le.fit_transform(df['Sex'].astype(str))  # ensures no NaNs\n",
    "\n",
    "# 2. Extract 'Title' from 'Name'\n",
    "df['Title'] = df['Name'].str.extract(r',\\s*([^\\.]*)\\s*\\.')\n",
    "df['Title'] = df['Title'].str.strip()\n",
    "\n",
    "# Optional: consolidate rare titles\n",
    "rare_titles = ['Dr', 'Rev', 'Col', 'Major', 'Capt', 'Don', 'Sir', 'Jonkheer', 'Lady', 'Countess', 'Dona']\n",
    "df['Title'] = df['Title'].replace(rare_titles, 'Rare')\n",
    "\n",
    "# Drop 'Name' column\n",
    "df.drop(columns=['Name'], inplace=True)\n",
    "\n",
    "# 3. Drop 'Ticket' as it's not used\n",
    "df.drop(columns=['Ticket'], inplace=True)\n",
    "\n",
    "# 4. One-hot encode selected categorical variables\n",
    "categorical_cols = ['Embarked', 'FamilyGroup', 'Deck', 'Title', 'AgeBin']\n",
    "df = pd.get_dummies(df, columns=categorical_cols, drop_first=True)\n"
   ]
  },
  {
   "cell_type": "code",
   "execution_count": 34,
   "id": "f2ffd834",
   "metadata": {
    "execution": {
     "iopub.execute_input": "2025-06-26T10:28:42.200654Z",
     "iopub.status.busy": "2025-06-26T10:28:42.200302Z",
     "iopub.status.idle": "2025-06-26T10:28:42.594036Z",
     "shell.execute_reply": "2025-06-26T10:28:42.592786Z"
    },
    "papermill": {
     "duration": 0.410269,
     "end_time": "2025-06-26T10:28:42.596012",
     "exception": false,
     "start_time": "2025-06-26T10:28:42.185743",
     "status": "completed"
    },
    "tags": []
   },
   "outputs": [
    {
     "name": "stdout",
     "output_type": "stream",
     "text": [
      "Accuracy: 0.8156\n",
      "ROC AUC : 0.8586\n",
      "F1 Score: 0.7660\n",
      "\n",
      "Classification Report:\n",
      "              precision    recall  f1-score   support\n",
      "\n",
      "           0       0.86      0.84      0.85       110\n",
      "           1       0.75      0.78      0.77        69\n",
      "\n",
      "    accuracy                           0.82       179\n",
      "   macro avg       0.80      0.81      0.81       179\n",
      "weighted avg       0.82      0.82      0.82       179\n",
      "\n",
      "\n",
      "Confusion Matrix:\n",
      "[[92 18]\n",
      " [15 54]]\n"
     ]
    }
   ],
   "source": [
    "from sklearn.model_selection import train_test_split\n",
    "from sklearn.linear_model import LogisticRegression\n",
    "from sklearn.preprocessing import StandardScaler\n",
    "from sklearn.metrics import accuracy_score, roc_auc_score, f1_score, classification_report, confusion_matrix\n",
    "\n",
    "# Step 1: Drop columns not used in training\n",
    "X = df.drop(columns=['Survived', 'PassengerId'])  # Drop Cabin and ID\n",
    "y = df['Survived']\n",
    "\n",
    "# Step 2: Train-Test Split\n",
    "X_train, X_val, y_train, y_val = train_test_split(X, y, test_size=0.2, stratify=y, random_state=42)\n",
    "\n",
    "# Step 3: Scaling\n",
    "scaler = StandardScaler()\n",
    "X_train_scaled = scaler.fit_transform(X_train)\n",
    "X_val_scaled = scaler.transform(X_val)\n",
    "\n",
    "# Step 4: Train Logistic Regression\n",
    "model = LogisticRegression( max_iter=2000,\n",
    "    solver='saga',\n",
    "    penalty='l1',\n",
    "    C=0.1,\n",
    "    class_weight='balanced',\n",
    "    random_state=42)\n",
    "model.fit(X_train_scaled, y_train)\n",
    "\n",
    "# Step 5: Predict and Evaluate\n",
    "val_probs = model.predict_proba(X_val_scaled)[:, 1]\n",
    "val_preds = (val_probs >= 0.56).astype(int)  # Try adjusting threshold later\n",
    "\n",
    "# Step 6: Print Metrics\n",
    "print(f\"Accuracy: {accuracy_score(y_val, val_preds):.4f}\")\n",
    "print(f\"ROC AUC : {roc_auc_score(y_val, val_probs):.4f}\")\n",
    "print(f\"F1 Score: {f1_score(y_val, val_preds):.4f}\")\n",
    "print(\"\\nClassification Report:\")\n",
    "print(classification_report(y_val, val_preds))\n",
    "print(\"\\nConfusion Matrix:\")\n",
    "print(confusion_matrix(y_val, val_preds))\n"
   ]
  },
  {
   "cell_type": "code",
   "execution_count": 35,
   "id": "5eeb976c",
   "metadata": {
    "execution": {
     "iopub.execute_input": "2025-06-26T10:28:42.624433Z",
     "iopub.status.busy": "2025-06-26T10:28:42.623087Z",
     "iopub.status.idle": "2025-06-26T10:29:11.903283Z",
     "shell.execute_reply": "2025-06-26T10:29:11.901785Z"
    },
    "papermill": {
     "duration": 29.296046,
     "end_time": "2025-06-26T10:29:11.905273",
     "exception": false,
     "start_time": "2025-06-26T10:28:42.609227",
     "status": "completed"
    },
    "tags": []
   },
   "outputs": [
    {
     "name": "stdout",
     "output_type": "stream",
     "text": [
      "🔧 Best F1 Score: 0.7879 at Threshold: 0.50\n",
      "              precision    recall  f1-score   support\n",
      "\n",
      "           0       0.85      0.90      0.88       110\n",
      "           1       0.83      0.75      0.79        69\n",
      "\n",
      "    accuracy                           0.84       179\n",
      "   macro avg       0.84      0.83      0.83       179\n",
      "weighted avg       0.84      0.84      0.84       179\n",
      "\n",
      "Confusion Matrix:\n",
      " [[99 11]\n",
      " [17 52]]\n",
      "ROC AUC: 0.8670619235836627\n"
     ]
    }
   ],
   "source": [
    "from sklearn.linear_model import LogisticRegressionCV\n",
    "from sklearn.preprocessing import StandardScaler\n",
    "from sklearn.pipeline import Pipeline\n",
    "from sklearn.metrics import f1_score, classification_report, confusion_matrix, roc_auc_score\n",
    "\n",
    "# Build pipeline\n",
    "pipe = Pipeline([\n",
    "    ('scaler', StandardScaler()),\n",
    "    ('logreg', LogisticRegressionCV(\n",
    "        Cs=10,  # test 10 different values of C\n",
    "        cv=5,\n",
    "        penalty='elasticnet',\n",
    "        solver='saga',\n",
    "        l1_ratios=[0.1, 0.3, 0.5, 0.7, 0.9],  # mix of L1 and L2\n",
    "        scoring='f1',\n",
    "        max_iter=5000,\n",
    "        random_state=42\n",
    "    ))\n",
    "])\n",
    "\n",
    "# Fit model\n",
    "pipe.fit(X_train, y_train)\n",
    "\n",
    "# Predict\n",
    "val_probs = pipe.predict_proba(X_val)[:, 1]\n",
    "\n",
    "# Threshold tuning\n",
    "best_f1 = 0\n",
    "best_thresh = 0.5\n",
    "for t in np.arange(0.4, 0.7, 0.01):\n",
    "    preds = (val_probs >= t).astype(int)\n",
    "    score = f1_score(y_val, preds)\n",
    "    if score > best_f1:\n",
    "        best_f1 = score\n",
    "        best_thresh = t\n",
    "\n",
    "print(f\"🔧 Best F1 Score: {best_f1:.4f} at Threshold: {best_thresh:.2f}\")\n",
    "\n",
    "# Final classification report\n",
    "final_preds = (val_probs >= best_thresh).astype(int)\n",
    "print(classification_report(y_val, final_preds))\n",
    "print(\"Confusion Matrix:\\n\", confusion_matrix(y_val, final_preds))\n",
    "print(\"ROC AUC:\", roc_auc_score(y_val, val_probs))\n"
   ]
  },
  {
   "cell_type": "code",
   "execution_count": 36,
   "id": "e8431f1f",
   "metadata": {
    "execution": {
     "iopub.execute_input": "2025-06-26T10:29:11.935001Z",
     "iopub.status.busy": "2025-06-26T10:29:11.934120Z",
     "iopub.status.idle": "2025-06-26T10:29:11.976258Z",
     "shell.execute_reply": "2025-06-26T10:29:11.974905Z"
    },
    "papermill": {
     "duration": 0.058925,
     "end_time": "2025-06-26T10:29:11.978270",
     "exception": false,
     "start_time": "2025-06-26T10:29:11.919345",
     "status": "completed"
    },
    "tags": []
   },
   "outputs": [
    {
     "name": "stdout",
     "output_type": "stream",
     "text": [
      "🔧 Best F1 Score: 0.7879 at Threshold: 0.500\n"
     ]
    }
   ],
   "source": [
    "best_f1 = 0\n",
    "best_thresh = 0.5\n",
    "\n",
    "for t in np.arange(0.45, 0.55, 0.005):\n",
    "    val_preds = (val_probs >= t).astype(int)\n",
    "    f1 = f1_score(y_val, val_preds)\n",
    "    if f1 > best_f1:\n",
    "        best_f1 = f1\n",
    "        best_thresh = t\n",
    "\n",
    "print(f\"🔧 Best F1 Score: {best_f1:.4f} at Threshold: {best_thresh:.3f}\")\n"
   ]
  }
 ],
 "metadata": {
  "kaggle": {
   "accelerator": "none",
   "dataSources": [
    {
     "datasetId": 7741954,
     "sourceId": 12284545,
     "sourceType": "datasetVersion"
    },
    {
     "datasetId": 7742507,
     "sourceId": 12285401,
     "sourceType": "datasetVersion"
    }
   ],
   "dockerImageVersionId": 31040,
   "isGpuEnabled": false,
   "isInternetEnabled": true,
   "language": "python",
   "sourceType": "notebook"
  },
  "kernelspec": {
   "display_name": "Python 3",
   "language": "python",
   "name": "python3"
  },
  "language_info": {
   "codemirror_mode": {
    "name": "ipython",
    "version": 3
   },
   "file_extension": ".py",
   "mimetype": "text/x-python",
   "name": "python",
   "nbconvert_exporter": "python",
   "pygments_lexer": "ipython3",
   "version": "3.11.11"
  },
  "papermill": {
   "default_parameters": {},
   "duration": 45.384033,
   "end_time": "2025-06-26T10:29:13.119325",
   "environment_variables": {},
   "exception": null,
   "input_path": "__notebook__.ipynb",
   "output_path": "__notebook__.ipynb",
   "parameters": {},
   "start_time": "2025-06-26T10:28:27.735292",
   "version": "2.6.0"
  }
 },
 "nbformat": 4,
 "nbformat_minor": 5
}
