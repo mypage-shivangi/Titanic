{
 "cells": [
  {
   "cell_type": "markdown",
   "id": "10617b44",
   "metadata": {
    "papermill": {
     "duration": 0.010923,
     "end_time": "2025-07-29T20:04:51.195119",
     "exception": false,
     "start_time": "2025-07-29T20:04:51.184196",
     "status": "completed"
    },
    "tags": []
   },
   "source": [
    "# Survival Prediction – Binary Classification (Titanic Dataset)"
   ]
  },
  {
   "cell_type": "code",
   "execution_count": 1,
   "id": "a6e9b6b9",
   "metadata": {
    "_cell_guid": "b1076dfc-b9ad-4769-8c92-a6c4dae69d19",
    "_uuid": "8f2839f25d086af736a60e9eeb907d3b93b6e0e5",
    "execution": {
     "iopub.execute_input": "2025-07-29T20:04:51.216654Z",
     "iopub.status.busy": "2025-07-29T20:04:51.216267Z",
     "iopub.status.idle": "2025-07-29T20:04:53.327157Z",
     "shell.execute_reply": "2025-07-29T20:04:53.325960Z"
    },
    "papermill": {
     "duration": 2.123828,
     "end_time": "2025-07-29T20:04:53.328829",
     "exception": false,
     "start_time": "2025-07-29T20:04:51.205001",
     "status": "completed"
    },
    "tags": []
   },
   "outputs": [
    {
     "name": "stdout",
     "output_type": "stream",
     "text": [
      "/kaggle/input/testtc/test.csv\n",
      "/kaggle/input/traintc/train.csv\n"
     ]
    }
   ],
   "source": [
    "# This Python 3 environment comes with many helpful analytics libraries installed\n",
    "# It is defined by the kaggle/python Docker image: https://github.com/kaggle/docker-python\n",
    "# For example, here's several helpful packages to load\n",
    "\n",
    "import numpy as np # linear algebra\n",
    "import pandas as pd # data processing, CSV file I/O (e.g. pd.read_csv)\n",
    "\n",
    "# Input data files are available in the read-only \"../input/\" directory\n",
    "# For example, running this (by clicking run or pressing Shift+Enter) will list all files under the input directory\n",
    "\n",
    "import os\n",
    "for dirname, _, filenames in os.walk('/kaggle/input'):\n",
    "    for filename in filenames:\n",
    "        print(os.path.join(dirname, filename))\n",
    "\n",
    "# You can write up to 20GB to the current directory (/kaggle/working/) that gets preserved as output when you create a version using \"Save & Run All\" \n",
    "# You can also write temporary files to /kaggle/temp/, but they won't be saved outside of the current session"
   ]
  },
  {
   "cell_type": "markdown",
   "id": "1ee396c5",
   "metadata": {
    "papermill": {
     "duration": 0.009325,
     "end_time": "2025-07-29T20:04:53.347813",
     "exception": false,
     "start_time": "2025-07-29T20:04:53.338488",
     "status": "completed"
    },
    "tags": []
   },
   "source": [
    "This notebook builds a machine learning model to predict survival outcomes on the Titanic. We use classic classification techniques like Logistic Regression, Random Forest, and XGBoost.\n",
    "\n",
    "We'll explore:\n",
    "- Data cleaning and preprocessing\n",
    "- Feature engineering\n",
    "- Model training and evaluation\n"
   ]
  },
  {
   "cell_type": "code",
   "execution_count": 2,
   "id": "5d86cc07",
   "metadata": {
    "execution": {
     "iopub.execute_input": "2025-07-29T20:04:53.368999Z",
     "iopub.status.busy": "2025-07-29T20:04:53.368498Z",
     "iopub.status.idle": "2025-07-29T20:04:53.415087Z",
     "shell.execute_reply": "2025-07-29T20:04:53.414126Z"
    },
    "papermill": {
     "duration": 0.059461,
     "end_time": "2025-07-29T20:04:53.416819",
     "exception": false,
     "start_time": "2025-07-29T20:04:53.357358",
     "status": "completed"
    },
    "tags": []
   },
   "outputs": [],
   "source": [
    "# Read training and testing data\n",
    "df = pd.read_csv(\"/kaggle/input/traintc/train.csv\")\n",
    "test_data = pd.read_csv(\"/kaggle/input/testtc/test.csv\")\n",
    "\n",
    "# Combine for preprocessing (if you already have clean df, use that)\n",
    "test_data['Survived'] = np.nan\n",
    "combined = pd.concat([df, test_data], sort=False)"
   ]
  },
  {
   "cell_type": "code",
   "execution_count": 3,
   "id": "ffba6d9a",
   "metadata": {
    "execution": {
     "iopub.execute_input": "2025-07-29T20:04:53.437703Z",
     "iopub.status.busy": "2025-07-29T20:04:53.437364Z",
     "iopub.status.idle": "2025-07-29T20:04:53.452142Z",
     "shell.execute_reply": "2025-07-29T20:04:53.450839Z"
    },
    "papermill": {
     "duration": 0.027171,
     "end_time": "2025-07-29T20:04:53.453902",
     "exception": false,
     "start_time": "2025-07-29T20:04:53.426731",
     "status": "completed"
    },
    "tags": []
   },
   "outputs": [
    {
     "name": "stdout",
     "output_type": "stream",
     "text": [
      "   PassengerId  Survived  Pclass  \\\n",
      "0            1         0       3   \n",
      "1            2         1       1   \n",
      "2            3         1       3   \n",
      "3            4         1       1   \n",
      "4            5         0       3   \n",
      "\n",
      "                                                Name     Sex   Age  SibSp  \\\n",
      "0                            Braund, Mr. Owen Harris    male  22.0      1   \n",
      "1  Cumings, Mrs. John Bradley (Florence Briggs Th...  female  38.0      1   \n",
      "2                             Heikkinen, Miss. Laina  female  26.0      0   \n",
      "3       Futrelle, Mrs. Jacques Heath (Lily May Peel)  female  35.0      1   \n",
      "4                           Allen, Mr. William Henry    male  35.0      0   \n",
      "\n",
      "   Parch            Ticket     Fare Cabin Embarked  \n",
      "0      0         A/5 21171   7.2500   NaN        S  \n",
      "1      0          PC 17599  71.2833   C85        C  \n",
      "2      0  STON/O2. 3101282   7.9250   NaN        S  \n",
      "3      0            113803  53.1000  C123        S  \n",
      "4      0            373450   8.0500   NaN        S  \n"
     ]
    }
   ],
   "source": [
    "print(df.head())"
   ]
  },
  {
   "cell_type": "code",
   "execution_count": 4,
   "id": "082f389d",
   "metadata": {
    "execution": {
     "iopub.execute_input": "2025-07-29T20:04:53.475452Z",
     "iopub.status.busy": "2025-07-29T20:04:53.474531Z",
     "iopub.status.idle": "2025-07-29T20:04:53.483075Z",
     "shell.execute_reply": "2025-07-29T20:04:53.481955Z"
    },
    "papermill": {
     "duration": 0.021155,
     "end_time": "2025-07-29T20:04:53.484890",
     "exception": false,
     "start_time": "2025-07-29T20:04:53.463735",
     "status": "completed"
    },
    "tags": []
   },
   "outputs": [],
   "source": [
    "test_df = pd.read_csv(\"/kaggle/input/testtc/test.csv\")"
   ]
  },
  {
   "cell_type": "code",
   "execution_count": 5,
   "id": "d63c72e9",
   "metadata": {
    "execution": {
     "iopub.execute_input": "2025-07-29T20:04:53.505927Z",
     "iopub.status.busy": "2025-07-29T20:04:53.505570Z",
     "iopub.status.idle": "2025-07-29T20:04:53.515349Z",
     "shell.execute_reply": "2025-07-29T20:04:53.514202Z"
    },
    "papermill": {
     "duration": 0.022186,
     "end_time": "2025-07-29T20:04:53.517010",
     "exception": false,
     "start_time": "2025-07-29T20:04:53.494824",
     "status": "completed"
    },
    "tags": []
   },
   "outputs": [
    {
     "name": "stdout",
     "output_type": "stream",
     "text": [
      "   PassengerId  Pclass                                          Name     Sex  \\\n",
      "0          892       3                              Kelly, Mr. James    male   \n",
      "1          893       3              Wilkes, Mrs. James (Ellen Needs)  female   \n",
      "2          894       2                     Myles, Mr. Thomas Francis    male   \n",
      "3          895       3                              Wirz, Mr. Albert    male   \n",
      "4          896       3  Hirvonen, Mrs. Alexander (Helga E Lindqvist)  female   \n",
      "\n",
      "    Age  SibSp  Parch   Ticket     Fare Cabin Embarked  \n",
      "0  34.5      0      0   330911   7.8292   NaN        Q  \n",
      "1  47.0      1      0   363272   7.0000   NaN        S  \n",
      "2  62.0      0      0   240276   9.6875   NaN        Q  \n",
      "3  27.0      0      0   315154   8.6625   NaN        S  \n",
      "4  22.0      1      1  3101298  12.2875   NaN        S  \n"
     ]
    }
   ],
   "source": [
    "print(test_df.head())"
   ]
  },
  {
   "cell_type": "markdown",
   "id": "2a3dce4e",
   "metadata": {
    "papermill": {
     "duration": 0.009944,
     "end_time": "2025-07-29T20:04:53.537168",
     "exception": false,
     "start_time": "2025-07-29T20:04:53.527224",
     "status": "completed"
    },
    "tags": []
   },
   "source": [
    "## Feature Engineering\n",
    "- Title extraction from Name\n",
    "- Encoding of Sex and Embarked\n",
    "- Family size\n",
    "- Family group\n",
    "- Fare_log\n",
    "- Embarked\n",
    "- Deck\n",
    "- Has Cabin\n",
    "- Cabin by Class\n",
    "- Survival Rate by Family Size"
   ]
  },
  {
   "cell_type": "code",
   "execution_count": 6,
   "id": "0b79e533",
   "metadata": {
    "execution": {
     "iopub.execute_input": "2025-07-29T20:04:53.559248Z",
     "iopub.status.busy": "2025-07-29T20:04:53.558326Z",
     "iopub.status.idle": "2025-07-29T20:04:53.564711Z",
     "shell.execute_reply": "2025-07-29T20:04:53.563457Z"
    },
    "papermill": {
     "duration": 0.019479,
     "end_time": "2025-07-29T20:04:53.566638",
     "exception": false,
     "start_time": "2025-07-29T20:04:53.547159",
     "status": "completed"
    },
    "tags": []
   },
   "outputs": [],
   "source": [
    "df['HasCabin'] = df['Cabin'].notnull().astype(int)\n"
   ]
  },
  {
   "cell_type": "code",
   "execution_count": 7,
   "id": "ded6e902",
   "metadata": {
    "execution": {
     "iopub.execute_input": "2025-07-29T20:04:53.588032Z",
     "iopub.status.busy": "2025-07-29T20:04:53.587700Z",
     "iopub.status.idle": "2025-07-29T20:04:53.593470Z",
     "shell.execute_reply": "2025-07-29T20:04:53.592456Z"
    },
    "papermill": {
     "duration": 0.018722,
     "end_time": "2025-07-29T20:04:53.595358",
     "exception": false,
     "start_time": "2025-07-29T20:04:53.576636",
     "status": "completed"
    },
    "tags": []
   },
   "outputs": [],
   "source": [
    "test_df['HasCabin'] = test_df['Cabin'].notnull().astype(int)\n"
   ]
  },
  {
   "cell_type": "code",
   "execution_count": 8,
   "id": "0828c218",
   "metadata": {
    "execution": {
     "iopub.execute_input": "2025-07-29T20:04:53.618089Z",
     "iopub.status.busy": "2025-07-29T20:04:53.617734Z",
     "iopub.status.idle": "2025-07-29T20:04:53.631289Z",
     "shell.execute_reply": "2025-07-29T20:04:53.630021Z"
    },
    "papermill": {
     "duration": 0.027387,
     "end_time": "2025-07-29T20:04:53.633230",
     "exception": false,
     "start_time": "2025-07-29T20:04:53.605843",
     "status": "completed"
    },
    "tags": []
   },
   "outputs": [
    {
     "name": "stdout",
     "output_type": "stream",
     "text": [
      "Pclass\n",
      "1    0.814815\n",
      "2    0.086957\n",
      "3    0.024440\n",
      "Name: HasCabin, dtype: float64\n"
     ]
    }
   ],
   "source": [
    "cabin_by_class = df.groupby('Pclass')['HasCabin'].mean()\n",
    "print(cabin_by_class)\n"
   ]
  },
  {
   "cell_type": "code",
   "execution_count": 9,
   "id": "0748a857",
   "metadata": {
    "execution": {
     "iopub.execute_input": "2025-07-29T20:04:53.656173Z",
     "iopub.status.busy": "2025-07-29T20:04:53.655897Z",
     "iopub.status.idle": "2025-07-29T20:04:53.663217Z",
     "shell.execute_reply": "2025-07-29T20:04:53.661711Z"
    },
    "papermill": {
     "duration": 0.020779,
     "end_time": "2025-07-29T20:04:53.664973",
     "exception": false,
     "start_time": "2025-07-29T20:04:53.644194",
     "status": "completed"
    },
    "tags": []
   },
   "outputs": [
    {
     "name": "stdout",
     "output_type": "stream",
     "text": [
      "Pclass\n",
      "1    0.747664\n",
      "2    0.075269\n",
      "3    0.018349\n",
      "Name: HasCabin, dtype: float64\n"
     ]
    }
   ],
   "source": [
    "cabin_by_class = test_df.groupby('Pclass')['HasCabin'].mean()\n",
    "print(cabin_by_class)\n"
   ]
  },
  {
   "cell_type": "code",
   "execution_count": 10,
   "id": "622d86e7",
   "metadata": {
    "execution": {
     "iopub.execute_input": "2025-07-29T20:04:53.686516Z",
     "iopub.status.busy": "2025-07-29T20:04:53.686178Z",
     "iopub.status.idle": "2025-07-29T20:04:56.158513Z",
     "shell.execute_reply": "2025-07-29T20:04:56.157203Z"
    },
    "papermill": {
     "duration": 2.485543,
     "end_time": "2025-07-29T20:04:56.160596",
     "exception": false,
     "start_time": "2025-07-29T20:04:53.675053",
     "status": "completed"
    },
    "tags": []
   },
   "outputs": [
    {
     "data": {
      "image/png": "[encoded data removed]",
      "text/plain": [
       "<Figure size 640x480 with 1 Axes>"
      ]
     },
     "metadata": {},
     "output_type": "display_data"
    }
   ],
   "source": [
    "import seaborn as sns\n",
    "import matplotlib.pyplot as plt\n",
    "\n",
    "sns.barplot(x='Pclass', y='HasCabin', data=df)\n",
    "plt.title(\"Proportion of Passengers with Cabin by Class\")\n",
    "plt.ylabel(\"Has Cabin (1 = Yes, 0 = No)\")\n",
    "plt.show()\n"
   ]
  },
  {
   "cell_type": "code",
   "execution_count": 11,
   "id": "c72a35e0",
   "metadata": {
    "execution": {
     "iopub.execute_input": "2025-07-29T20:04:56.187218Z",
     "iopub.status.busy": "2025-07-29T20:04:56.186622Z",
     "iopub.status.idle": "2025-07-29T20:04:56.193664Z",
     "shell.execute_reply": "2025-07-29T20:04:56.192604Z"
    },
    "papermill": {
     "duration": 0.021238,
     "end_time": "2025-07-29T20:04:56.195613",
     "exception": false,
     "start_time": "2025-07-29T20:04:56.174375",
     "status": "completed"
    },
    "tags": []
   },
   "outputs": [],
   "source": [
    "df['FamilySize'] = df['SibSp'] + df['Parch'] + 1  # +1 includes the passenger themself\n"
   ]
  },
  {
   "cell_type": "code",
   "execution_count": 12,
   "id": "b949b175",
   "metadata": {
    "execution": {
     "iopub.execute_input": "2025-07-29T20:04:56.223665Z",
     "iopub.status.busy": "2025-07-29T20:04:56.223344Z",
     "iopub.status.idle": "2025-07-29T20:04:56.229220Z",
     "shell.execute_reply": "2025-07-29T20:04:56.228304Z"
    },
    "papermill": {
     "duration": 0.023129,
     "end_time": "2025-07-29T20:04:56.231179",
     "exception": false,
     "start_time": "2025-07-29T20:04:56.208050",
     "status": "completed"
    },
    "tags": []
   },
   "outputs": [],
   "source": [
    "test_df['FamilySize'] = test_df['SibSp'] + test_df['Parch'] + 1  # +1 includes the passenger themself\n"
   ]
  },
  {
   "cell_type": "code",
   "execution_count": 13,
   "id": "90653259",
   "metadata": {
    "execution": {
     "iopub.execute_input": "2025-07-29T20:04:56.256153Z",
     "iopub.status.busy": "2025-07-29T20:04:56.255817Z",
     "iopub.status.idle": "2025-07-29T20:04:56.263932Z",
     "shell.execute_reply": "2025-07-29T20:04:56.262606Z"
    },
    "papermill": {
     "duration": 0.023036,
     "end_time": "2025-07-29T20:04:56.265990",
     "exception": false,
     "start_time": "2025-07-29T20:04:56.242954",
     "status": "completed"
    },
    "tags": []
   },
   "outputs": [
    {
     "name": "stdout",
     "output_type": "stream",
     "text": [
      "FamilySize\n",
      "1     0.303538\n",
      "2     0.552795\n",
      "3     0.578431\n",
      "4     0.724138\n",
      "5     0.200000\n",
      "6     0.136364\n",
      "7     0.333333\n",
      "8     0.000000\n",
      "11    0.000000\n",
      "Name: Survived, dtype: float64\n"
     ]
    }
   ],
   "source": [
    "survival_by_family = df.groupby('FamilySize')['Survived'].mean()\n",
    "print(survival_by_family)\n"
   ]
  },
  {
   "cell_type": "code",
   "execution_count": 14,
   "id": "2d499f42",
   "metadata": {
    "execution": {
     "iopub.execute_input": "2025-07-29T20:04:56.360636Z",
     "iopub.status.busy": "2025-07-29T20:04:56.360272Z",
     "iopub.status.idle": "2025-07-29T20:04:56.863507Z",
     "shell.execute_reply": "2025-07-29T20:04:56.862423Z"
    },
    "papermill": {
     "duration": 0.516675,
     "end_time": "2025-07-29T20:04:56.865171",
     "exception": false,
     "start_time": "2025-07-29T20:04:56.348496",
     "status": "completed"
    },
    "tags": []
   },
   "outputs": [
    {
     "data": {
      "image/png": "[encoded data removed]",
      "text/plain": [
       "<Figure size 640x480 with 1 Axes>"
      ]
     },
     "metadata": {},
     "output_type": "display_data"
    }
   ],
   "source": [
    "import seaborn as sns\n",
    "import matplotlib.pyplot as plt\n",
    "\n",
    "sns.barplot(x='FamilySize', y='Survived', data=df)\n",
    "plt.title(\"Survival Rate by Family Size\")\n",
    "plt.ylabel(\"Survival Rate\")\n",
    "plt.xlabel(\"Family Size\")\n",
    "plt.show()\n"
   ]
  },
  {
   "cell_type": "code",
   "execution_count": 15,
   "id": "50a4df87",
   "metadata": {
    "execution": {
     "iopub.execute_input": "2025-07-29T20:04:56.889317Z",
     "iopub.status.busy": "2025-07-29T20:04:56.888970Z",
     "iopub.status.idle": "2025-07-29T20:04:56.896058Z",
     "shell.execute_reply": "2025-07-29T20:04:56.895207Z"
    },
    "papermill": {
     "duration": 0.021276,
     "end_time": "2025-07-29T20:04:56.897658",
     "exception": false,
     "start_time": "2025-07-29T20:04:56.876382",
     "status": "completed"
    },
    "tags": []
   },
   "outputs": [],
   "source": [
    "def family_group(size):\n",
    "    if size == 1:\n",
    "        return 'Solo'\n",
    "    elif size <= 4:\n",
    "        return 'Small'\n",
    "    elif size <= 6:\n",
    "        return 'Medium'\n",
    "    else:\n",
    "        return 'Large'\n",
    "\n",
    "df['FamilyGroup'] = df['FamilySize'].apply(family_group)\n"
   ]
  },
  {
   "cell_type": "code",
   "execution_count": 16,
   "id": "cb80692c",
   "metadata": {
    "execution": {
     "iopub.execute_input": "2025-07-29T20:04:56.920862Z",
     "iopub.status.busy": "2025-07-29T20:04:56.920532Z",
     "iopub.status.idle": "2025-07-29T20:04:56.927508Z",
     "shell.execute_reply": "2025-07-29T20:04:56.926371Z"
    },
    "papermill": {
     "duration": 0.020456,
     "end_time": "2025-07-29T20:04:56.929210",
     "exception": false,
     "start_time": "2025-07-29T20:04:56.908754",
     "status": "completed"
    },
    "tags": []
   },
   "outputs": [],
   "source": [
    "def family_group(size):\n",
    "    if size == 1:\n",
    "        return 'Solo'\n",
    "    elif size <= 4:\n",
    "        return 'Small'\n",
    "    elif size <= 6:\n",
    "        return 'Medium'\n",
    "    else:\n",
    "        return 'Large'\n",
    "\n",
    "test_df['FamilyGroup'] = test_df['FamilySize'].apply(family_group)\n"
   ]
  },
  {
   "cell_type": "code",
   "execution_count": 17,
   "id": "c54421ec",
   "metadata": {
    "execution": {
     "iopub.execute_input": "2025-07-29T20:04:56.953343Z",
     "iopub.status.busy": "2025-07-29T20:04:56.952890Z",
     "iopub.status.idle": "2025-07-29T20:04:56.961799Z",
     "shell.execute_reply": "2025-07-29T20:04:56.960840Z"
    },
    "papermill": {
     "duration": 0.023128,
     "end_time": "2025-07-29T20:04:56.963368",
     "exception": false,
     "start_time": "2025-07-29T20:04:56.940240",
     "status": "completed"
    },
    "tags": []
   },
   "outputs": [
    {
     "data": {
      "text/plain": [
       "Pclass\n",
       "1    84.154687\n",
       "2    20.662183\n",
       "3    13.675550\n",
       "Name: Fare, dtype: float64"
      ]
     },
     "execution_count": 17,
     "metadata": {},
     "output_type": "execute_result"
    }
   ],
   "source": [
    "df.groupby('Pclass')['Fare'].mean()\n"
   ]
  },
  {
   "cell_type": "code",
   "execution_count": 18,
   "id": "a5305348",
   "metadata": {
    "execution": {
     "iopub.execute_input": "2025-07-29T20:04:56.986884Z",
     "iopub.status.busy": "2025-07-29T20:04:56.986552Z",
     "iopub.status.idle": "2025-07-29T20:04:57.180654Z",
     "shell.execute_reply": "2025-07-29T20:04:57.179548Z"
    },
    "papermill": {
     "duration": 0.207809,
     "end_time": "2025-07-29T20:04:57.182339",
     "exception": false,
     "start_time": "2025-07-29T20:04:56.974530",
     "status": "completed"
    },
    "tags": []
   },
   "outputs": [
    {
     "data": {
      "text/plain": [
       "Text(0.5, 1.0, 'Fare Distribution by Passenger Class')"
      ]
     },
     "execution_count": 18,
     "metadata": {},
     "output_type": "execute_result"
    },
    {
     "data": {
      "image/png": "[encoded data removed]",
      "text/plain": [
       "<Figure size 640x480 with 1 Axes>"
      ]
     },
     "metadata": {},
     "output_type": "display_data"
    }
   ],
   "source": [
    "import seaborn as sns\n",
    "import matplotlib.pyplot as plt\n",
    "\n",
    "sns.boxplot(x='Pclass', y='Fare', data=df)\n",
    "plt.title(\"Fare Distribution by Passenger Class\")\n"
   ]
  },
  {
   "cell_type": "code",
   "execution_count": 19,
   "id": "730d76a6",
   "metadata": {
    "execution": {
     "iopub.execute_input": "2025-07-29T20:04:57.207550Z",
     "iopub.status.busy": "2025-07-29T20:04:57.207275Z",
     "iopub.status.idle": "2025-07-29T20:04:57.214693Z",
     "shell.execute_reply": "2025-07-29T20:04:57.213569Z"
    },
    "papermill": {
     "duration": 0.022265,
     "end_time": "2025-07-29T20:04:57.216440",
     "exception": false,
     "start_time": "2025-07-29T20:04:57.194175",
     "status": "completed"
    },
    "tags": []
   },
   "outputs": [],
   "source": [
    "df['Fare_log'] = df['Fare'].apply(lambda x: np.log1p(x))  # log1p handles 0 safely"
   ]
  },
  {
   "cell_type": "code",
   "execution_count": 20,
   "id": "591c4adc",
   "metadata": {
    "execution": {
     "iopub.execute_input": "2025-07-29T20:04:57.242109Z",
     "iopub.status.busy": "2025-07-29T20:04:57.241777Z",
     "iopub.status.idle": "2025-07-29T20:04:57.248284Z",
     "shell.execute_reply": "2025-07-29T20:04:57.247281Z"
    },
    "papermill": {
     "duration": 0.021386,
     "end_time": "2025-07-29T20:04:57.250217",
     "exception": false,
     "start_time": "2025-07-29T20:04:57.228831",
     "status": "completed"
    },
    "tags": []
   },
   "outputs": [],
   "source": [
    "test_df['Fare_log'] = test_df['Fare'].apply(lambda x: np.log1p(x))  # log1p handles 0 safely"
   ]
  },
  {
   "cell_type": "code",
   "execution_count": 21,
   "id": "fc1042de",
   "metadata": {
    "execution": {
     "iopub.execute_input": "2025-07-29T20:04:57.276657Z",
     "iopub.status.busy": "2025-07-29T20:04:57.276316Z",
     "iopub.status.idle": "2025-07-29T20:04:57.280849Z",
     "shell.execute_reply": "2025-07-29T20:04:57.279836Z"
    },
    "papermill": {
     "duration": 0.019555,
     "end_time": "2025-07-29T20:04:57.282516",
     "exception": false,
     "start_time": "2025-07-29T20:04:57.262961",
     "status": "completed"
    },
    "tags": []
   },
   "outputs": [],
   "source": [
    "import warnings\n",
    "warnings.filterwarnings('ignore')"
   ]
  },
  {
   "cell_type": "code",
   "execution_count": 22,
   "id": "2965ae1e",
   "metadata": {
    "execution": {
     "iopub.execute_input": "2025-07-29T20:04:57.307281Z",
     "iopub.status.busy": "2025-07-29T20:04:57.306954Z",
     "iopub.status.idle": "2025-07-29T20:04:57.325782Z",
     "shell.execute_reply": "2025-07-29T20:04:57.324745Z"
    },
    "papermill": {
     "duration": 0.03384,
     "end_time": "2025-07-29T20:04:57.328124",
     "exception": false,
     "start_time": "2025-07-29T20:04:57.294284",
     "status": "completed"
    },
    "tags": []
   },
   "outputs": [],
   "source": [
    "# 1. Impute missing Age using median by Sex and Pclass\n",
    "df['Age'] = df.groupby(['Sex', 'Pclass'])['Age'].transform(lambda x: x.fillna(x.median()))\n",
    "\n",
    "# 2. Impute missing Embarked values with mode\n",
    "df['Embarked'].fillna(df['Embarked'].mode()[0], inplace=True)\n",
    "\n",
    "# 3. Extract Deck from Cabin and impute 'U' (Unknown) for missing cabins\n",
    "df['Deck'] = df['Cabin'].str[0]\n",
    "df['Deck'].fillna('U', inplace=True)"
   ]
  },
  {
   "cell_type": "code",
   "execution_count": 23,
   "id": "ff5bc021",
   "metadata": {
    "execution": {
     "iopub.execute_input": "2025-07-29T20:04:57.358494Z",
     "iopub.status.busy": "2025-07-29T20:04:57.358139Z",
     "iopub.status.idle": "2025-07-29T20:04:57.371566Z",
     "shell.execute_reply": "2025-07-29T20:04:57.370573Z"
    },
    "papermill": {
     "duration": 0.03054,
     "end_time": "2025-07-29T20:04:57.373486",
     "exception": false,
     "start_time": "2025-07-29T20:04:57.342946",
     "status": "completed"
    },
    "tags": []
   },
   "outputs": [],
   "source": [
    "# 1. Impute missing Age using median by Sex and Pclass\n",
    "test_df['Age'] = test_df.groupby(['Sex', 'Pclass'])['Age'].transform(lambda x: x.fillna(x.median()))\n",
    "\n",
    "# 2. Impute missing Embarked values with mode\n",
    "test_df['Embarked'].fillna(test_df['Embarked'].mode()[0], inplace=True)\n",
    "\n",
    "# 3. Extract Deck from Cabin and impute 'U' (Unknown) for missing cabins\n",
    "test_df['Deck'] = test_df['Cabin'].str[0]\n",
    "test_df['Deck'].fillna('U', inplace=True)"
   ]
  },
  {
   "cell_type": "code",
   "execution_count": 24,
   "id": "8b4e278c",
   "metadata": {
    "execution": {
     "iopub.execute_input": "2025-07-29T20:04:57.398813Z",
     "iopub.status.busy": "2025-07-29T20:04:57.398488Z",
     "iopub.status.idle": "2025-07-29T20:04:57.403885Z",
     "shell.execute_reply": "2025-07-29T20:04:57.402831Z"
    },
    "papermill": {
     "duration": 0.019999,
     "end_time": "2025-07-29T20:04:57.405428",
     "exception": false,
     "start_time": "2025-07-29T20:04:57.385429",
     "status": "completed"
    },
    "tags": []
   },
   "outputs": [
    {
     "name": "stdout",
     "output_type": "stream",
     "text": [
      "Index(['PassengerId', 'Survived', 'Pclass', 'Name', 'Sex', 'Age', 'SibSp',\n",
      "       'Parch', 'Ticket', 'Fare', 'Cabin', 'Embarked', 'HasCabin',\n",
      "       'FamilySize', 'FamilyGroup', 'Fare_log', 'Deck'],\n",
      "      dtype='object')\n"
     ]
    }
   ],
   "source": [
    "print(df.columns)"
   ]
  },
  {
   "cell_type": "code",
   "execution_count": 25,
   "id": "de79da12",
   "metadata": {
    "execution": {
     "iopub.execute_input": "2025-07-29T20:04:57.431306Z",
     "iopub.status.busy": "2025-07-29T20:04:57.431002Z",
     "iopub.status.idle": "2025-07-29T20:04:57.436637Z",
     "shell.execute_reply": "2025-07-29T20:04:57.435408Z"
    },
    "papermill": {
     "duration": 0.020975,
     "end_time": "2025-07-29T20:04:57.438392",
     "exception": false,
     "start_time": "2025-07-29T20:04:57.417417",
     "status": "completed"
    },
    "tags": []
   },
   "outputs": [
    {
     "name": "stdout",
     "output_type": "stream",
     "text": [
      "Index(['PassengerId', 'Pclass', 'Name', 'Sex', 'Age', 'SibSp', 'Parch',\n",
      "       'Ticket', 'Fare', 'Cabin', 'Embarked', 'HasCabin', 'FamilySize',\n",
      "       'FamilyGroup', 'Fare_log', 'Deck'],\n",
      "      dtype='object')\n"
     ]
    }
   ],
   "source": [
    "print(test_df.columns)"
   ]
  },
  {
   "cell_type": "code",
   "execution_count": 26,
   "id": "dbecf670",
   "metadata": {
    "execution": {
     "iopub.execute_input": "2025-07-29T20:04:57.464376Z",
     "iopub.status.busy": "2025-07-29T20:04:57.463995Z",
     "iopub.status.idle": "2025-07-29T20:04:57.473919Z",
     "shell.execute_reply": "2025-07-29T20:04:57.473050Z"
    },
    "papermill": {
     "duration": 0.024709,
     "end_time": "2025-07-29T20:04:57.475745",
     "exception": false,
     "start_time": "2025-07-29T20:04:57.451036",
     "status": "completed"
    },
    "tags": []
   },
   "outputs": [
    {
     "data": {
      "text/plain": [
       "Cabin          687\n",
       "PassengerId      0\n",
       "Fare             0\n",
       "Fare_log         0\n",
       "FamilyGroup      0\n",
       "FamilySize       0\n",
       "HasCabin         0\n",
       "Embarked         0\n",
       "Ticket           0\n",
       "Survived         0\n",
       "Parch            0\n",
       "SibSp            0\n",
       "Age              0\n",
       "Sex              0\n",
       "Name             0\n",
       "dtype: int64"
      ]
     },
     "execution_count": 26,
     "metadata": {},
     "output_type": "execute_result"
    }
   ],
   "source": [
    "df.isnull().sum().sort_values(ascending=False).head(15)"
   ]
  },
  {
   "cell_type": "code",
   "execution_count": 27,
   "id": "7ed21970",
   "metadata": {
    "execution": {
     "iopub.execute_input": "2025-07-29T20:04:57.502509Z",
     "iopub.status.busy": "2025-07-29T20:04:57.502173Z",
     "iopub.status.idle": "2025-07-29T20:04:57.511487Z",
     "shell.execute_reply": "2025-07-29T20:04:57.510507Z"
    },
    "papermill": {
     "duration": 0.025275,
     "end_time": "2025-07-29T20:04:57.513171",
     "exception": false,
     "start_time": "2025-07-29T20:04:57.487896",
     "status": "completed"
    },
    "tags": []
   },
   "outputs": [
    {
     "data": {
      "text/plain": [
       "Cabin          327\n",
       "Fare             1\n",
       "Fare_log         1\n",
       "PassengerId      0\n",
       "Pclass           0\n",
       "Name             0\n",
       "Sex              0\n",
       "Age              0\n",
       "SibSp            0\n",
       "Parch            0\n",
       "Ticket           0\n",
       "Embarked         0\n",
       "HasCabin         0\n",
       "FamilySize       0\n",
       "FamilyGroup      0\n",
       "dtype: int64"
      ]
     },
     "execution_count": 27,
     "metadata": {},
     "output_type": "execute_result"
    }
   ],
   "source": [
    "test_df.isnull().sum().sort_values(ascending=False).head(15)"
   ]
  },
  {
   "cell_type": "code",
   "execution_count": 28,
   "id": "b07ee54b",
   "metadata": {
    "execution": {
     "iopub.execute_input": "2025-07-29T20:04:57.538743Z",
     "iopub.status.busy": "2025-07-29T20:04:57.538389Z",
     "iopub.status.idle": "2025-07-29T20:04:57.546780Z",
     "shell.execute_reply": "2025-07-29T20:04:57.545720Z"
    },
    "papermill": {
     "duration": 0.023017,
     "end_time": "2025-07-29T20:04:57.548326",
     "exception": false,
     "start_time": "2025-07-29T20:04:57.525309",
     "status": "completed"
    },
    "tags": []
   },
   "outputs": [],
   "source": [
    "df.drop('Cabin', axis=1, inplace=True)\n"
   ]
  },
  {
   "cell_type": "code",
   "execution_count": 29,
   "id": "64f2adc4",
   "metadata": {
    "execution": {
     "iopub.execute_input": "2025-07-29T20:04:57.573225Z",
     "iopub.status.busy": "2025-07-29T20:04:57.572879Z",
     "iopub.status.idle": "2025-07-29T20:04:57.578409Z",
     "shell.execute_reply": "2025-07-29T20:04:57.577579Z"
    },
    "papermill": {
     "duration": 0.02007,
     "end_time": "2025-07-29T20:04:57.580187",
     "exception": false,
     "start_time": "2025-07-29T20:04:57.560117",
     "status": "completed"
    },
    "tags": []
   },
   "outputs": [],
   "source": [
    "test_df.drop('Cabin', axis=1, inplace=True)\n"
   ]
  },
  {
   "cell_type": "code",
   "execution_count": 30,
   "id": "5eddb378",
   "metadata": {
    "execution": {
     "iopub.execute_input": "2025-07-29T20:04:57.605798Z",
     "iopub.status.busy": "2025-07-29T20:04:57.605454Z",
     "iopub.status.idle": "2025-07-29T20:04:57.614895Z",
     "shell.execute_reply": "2025-07-29T20:04:57.613899Z"
    },
    "papermill": {
     "duration": 0.024193,
     "end_time": "2025-07-29T20:04:57.616564",
     "exception": false,
     "start_time": "2025-07-29T20:04:57.592371",
     "status": "completed"
    },
    "tags": []
   },
   "outputs": [
    {
     "data": {
      "text/plain": [
       "PassengerId    0\n",
       "Survived       0\n",
       "Pclass         0\n",
       "Name           0\n",
       "Sex            0\n",
       "Age            0\n",
       "SibSp          0\n",
       "Parch          0\n",
       "Ticket         0\n",
       "Fare           0\n",
       "Embarked       0\n",
       "HasCabin       0\n",
       "FamilySize     0\n",
       "FamilyGroup    0\n",
       "Fare_log       0\n",
       "dtype: int64"
      ]
     },
     "execution_count": 30,
     "metadata": {},
     "output_type": "execute_result"
    }
   ],
   "source": [
    "df.isnull().sum().sort_values(ascending=False).head(15)"
   ]
  },
  {
   "cell_type": "code",
   "execution_count": 31,
   "id": "ff7ae5ba",
   "metadata": {
    "execution": {
     "iopub.execute_input": "2025-07-29T20:04:57.642508Z",
     "iopub.status.busy": "2025-07-29T20:04:57.642136Z",
     "iopub.status.idle": "2025-07-29T20:04:57.653928Z",
     "shell.execute_reply": "2025-07-29T20:04:57.652752Z"
    },
    "papermill": {
     "duration": 0.027067,
     "end_time": "2025-07-29T20:04:57.655661",
     "exception": false,
     "start_time": "2025-07-29T20:04:57.628594",
     "status": "completed"
    },
    "tags": []
   },
   "outputs": [],
   "source": [
    "# Fill missing Fare based on median Fare within each Pclass\n",
    "df['Fare'] = df.groupby('Pclass')['Fare'].transform(\n",
    "    lambda x: x.fillna(x.median())\n",
    ")\n",
    "df['Fare_log'] = df['Fare'].apply(lambda x: np.log(x + 1))\n"
   ]
  },
  {
   "cell_type": "code",
   "execution_count": 32,
   "id": "d24f6cb4",
   "metadata": {
    "execution": {
     "iopub.execute_input": "2025-07-29T20:04:57.681897Z",
     "iopub.status.busy": "2025-07-29T20:04:57.681556Z",
     "iopub.status.idle": "2025-07-29T20:04:57.692136Z",
     "shell.execute_reply": "2025-07-29T20:04:57.691105Z"
    },
    "papermill": {
     "duration": 0.025538,
     "end_time": "2025-07-29T20:04:57.693732",
     "exception": false,
     "start_time": "2025-07-29T20:04:57.668194",
     "status": "completed"
    },
    "tags": []
   },
   "outputs": [],
   "source": [
    "# Fill missing Fare based on median Fare within each Pclass\n",
    "test_df['Fare'] = test_df.groupby('Pclass')['Fare'].transform(\n",
    "    lambda x: x.fillna(x.median())\n",
    ")\n",
    "test_df['Fare_log'] = test_df['Fare'].apply(lambda x: np.log(x + 1))\n"
   ]
  },
  {
   "cell_type": "code",
   "execution_count": 33,
   "id": "e1585090",
   "metadata": {
    "execution": {
     "iopub.execute_input": "2025-07-29T20:04:57.718779Z",
     "iopub.status.busy": "2025-07-29T20:04:57.718428Z",
     "iopub.status.idle": "2025-07-29T20:04:57.727167Z",
     "shell.execute_reply": "2025-07-29T20:04:57.726208Z"
    },
    "papermill": {
     "duration": 0.023095,
     "end_time": "2025-07-29T20:04:57.728718",
     "exception": false,
     "start_time": "2025-07-29T20:04:57.705623",
     "status": "completed"
    },
    "tags": []
   },
   "outputs": [
    {
     "data": {
      "text/plain": [
       "PassengerId    0\n",
       "Pclass         0\n",
       "Name           0\n",
       "Sex            0\n",
       "Age            0\n",
       "SibSp          0\n",
       "Parch          0\n",
       "Ticket         0\n",
       "Fare           0\n",
       "Embarked       0\n",
       "HasCabin       0\n",
       "FamilySize     0\n",
       "FamilyGroup    0\n",
       "Fare_log       0\n",
       "Deck           0\n",
       "dtype: int64"
      ]
     },
     "execution_count": 33,
     "metadata": {},
     "output_type": "execute_result"
    }
   ],
   "source": [
    "test_df.isnull().sum().sort_values(ascending=False).head(15)"
   ]
  },
  {
   "cell_type": "code",
   "execution_count": 34,
   "id": "e6f53433",
   "metadata": {
    "execution": {
     "iopub.execute_input": "2025-07-29T20:04:57.757037Z",
     "iopub.status.busy": "2025-07-29T20:04:57.756714Z",
     "iopub.status.idle": "2025-07-29T20:04:57.765410Z",
     "shell.execute_reply": "2025-07-29T20:04:57.764228Z"
    },
    "papermill": {
     "duration": 0.024686,
     "end_time": "2025-07-29T20:04:57.767123",
     "exception": false,
     "start_time": "2025-07-29T20:04:57.742437",
     "status": "completed"
    },
    "tags": []
   },
   "outputs": [
    {
     "name": "stdout",
     "output_type": "stream",
     "text": [
      "Index(['Name', 'Sex', 'Ticket', 'Embarked', 'FamilyGroup', 'Deck'], dtype='object')\n",
      "0\n"
     ]
    }
   ],
   "source": [
    "print(df.select_dtypes(include='object').columns)  # Should be empty\n",
    "print(df.isnull().sum().sum()) "
   ]
  },
  {
   "cell_type": "code",
   "execution_count": 35,
   "id": "56887f74",
   "metadata": {
    "execution": {
     "iopub.execute_input": "2025-07-29T20:04:57.794981Z",
     "iopub.status.busy": "2025-07-29T20:04:57.794613Z",
     "iopub.status.idle": "2025-07-29T20:04:57.802792Z",
     "shell.execute_reply": "2025-07-29T20:04:57.801749Z"
    },
    "papermill": {
     "duration": 0.023801,
     "end_time": "2025-07-29T20:04:57.804334",
     "exception": false,
     "start_time": "2025-07-29T20:04:57.780533",
     "status": "completed"
    },
    "tags": []
   },
   "outputs": [
    {
     "data": {
      "text/plain": [
       "Embarked\n",
       "C    0.553571\n",
       "Q    0.389610\n",
       "S    0.339009\n",
       "Name: Survived, dtype: float64"
      ]
     },
     "execution_count": 35,
     "metadata": {},
     "output_type": "execute_result"
    }
   ],
   "source": [
    "df.groupby('Embarked')['Survived'].mean()\n"
   ]
  },
  {
   "cell_type": "code",
   "execution_count": 36,
   "id": "26b35177",
   "metadata": {
    "execution": {
     "iopub.execute_input": "2025-07-29T20:04:57.831410Z",
     "iopub.status.busy": "2025-07-29T20:04:57.830577Z",
     "iopub.status.idle": "2025-07-29T20:04:57.839293Z",
     "shell.execute_reply": "2025-07-29T20:04:57.838345Z"
    },
    "papermill": {
     "duration": 0.023887,
     "end_time": "2025-07-29T20:04:57.841022",
     "exception": false,
     "start_time": "2025-07-29T20:04:57.817135",
     "status": "completed"
    },
    "tags": []
   },
   "outputs": [
    {
     "data": {
      "text/plain": [
       "Sex\n",
       "female    0.742038\n",
       "male      0.188908\n",
       "Name: Survived, dtype: float64"
      ]
     },
     "execution_count": 36,
     "metadata": {},
     "output_type": "execute_result"
    }
   ],
   "source": [
    "df.groupby('Sex')['Survived'].mean()\n"
   ]
  },
  {
   "cell_type": "code",
   "execution_count": 37,
   "id": "79917494",
   "metadata": {
    "execution": {
     "iopub.execute_input": "2025-07-29T20:04:57.867510Z",
     "iopub.status.busy": "2025-07-29T20:04:57.867154Z",
     "iopub.status.idle": "2025-07-29T20:04:57.897293Z",
     "shell.execute_reply": "2025-07-29T20:04:57.896154Z"
    },
    "papermill": {
     "duration": 0.045285,
     "end_time": "2025-07-29T20:04:57.899084",
     "exception": false,
     "start_time": "2025-07-29T20:04:57.853799",
     "status": "completed"
    },
    "tags": []
   },
   "outputs": [
    {
     "name": "stdout",
     "output_type": "stream",
     "text": [
      "       Sex      AgeBin  Survived  Count\n",
      "0   female       Child         0     13\n",
      "1   female       Child         1     19\n",
      "2   female        Teen         0      9\n",
      "3   female        Teen         1     27\n",
      "4   female  YoungAdult         0     43\n",
      "5   female  YoungAdult         1    130\n",
      "6   female       Adult         0     16\n",
      "7   female       Adult         1     54\n",
      "8   female      Senior         0      0\n",
      "9   female      Senior         1      3\n",
      "10    male       Child         0     16\n",
      "11    male       Child         1     21\n",
      "12    male        Teen         0     31\n",
      "13    male        Teen         1      3\n",
      "14    male  YoungAdult         0    287\n",
      "15    male  YoungAdult         1     54\n",
      "16    male       Adult         0    117\n",
      "17    male       Adult         1     29\n",
      "18    male      Senior         0     17\n",
      "19    male      Senior         1      2\n"
     ]
    }
   ],
   "source": [
    "# Group by Sex, Age (you might want to bin age first), and Survived\n",
    "df['AgeBin'] = pd.cut(df['Age'], bins=[0, 12, 18, 35, 60, 80], labels=['Child', 'Teen', 'YoungAdult', 'Adult', 'Senior'])\n",
    "\n",
    "grouped = df.groupby(['Sex', 'AgeBin', 'Survived'])['PassengerId'].count().reset_index()\n",
    "grouped.rename(columns={'PassengerId': 'Count'}, inplace=True)\n",
    "print(grouped)\n"
   ]
  },
  {
   "cell_type": "code",
   "execution_count": 38,
   "id": "dc4a3043",
   "metadata": {
    "execution": {
     "iopub.execute_input": "2025-07-29T20:04:57.924823Z",
     "iopub.status.busy": "2025-07-29T20:04:57.924499Z",
     "iopub.status.idle": "2025-07-29T20:04:57.931430Z",
     "shell.execute_reply": "2025-07-29T20:04:57.930515Z"
    },
    "papermill": {
     "duration": 0.021567,
     "end_time": "2025-07-29T20:04:57.932944",
     "exception": false,
     "start_time": "2025-07-29T20:04:57.911377",
     "status": "completed"
    },
    "tags": []
   },
   "outputs": [],
   "source": [
    "# Group by Sex, Age (you might want to bin age first), and Survived\n",
    "test_df['AgeBin'] = pd.cut(test_df['Age'], bins=[0, 12, 18, 35, 60, 80], labels=['Child', 'Teen', 'YoungAdult', 'Adult', 'Senior'])\n",
    "\n",
    "#grouped = df.groupby(['Sex', 'AgeBin', 'Survived'])['PassengerId'].count().reset_index()\n",
    "#grouped.rename(columns={'PassengerId': 'Count'}, inplace=True)\n",
    "#print(grouped)\n"
   ]
  },
  {
   "cell_type": "code",
   "execution_count": 39,
   "id": "f83b0a24",
   "metadata": {
    "execution": {
     "iopub.execute_input": "2025-07-29T20:04:57.958816Z",
     "iopub.status.busy": "2025-07-29T20:04:57.958462Z",
     "iopub.status.idle": "2025-07-29T20:04:57.971417Z",
     "shell.execute_reply": "2025-07-29T20:04:57.970214Z"
    },
    "papermill": {
     "duration": 0.02801,
     "end_time": "2025-07-29T20:04:57.973235",
     "exception": false,
     "start_time": "2025-07-29T20:04:57.945225",
     "status": "completed"
    },
    "tags": []
   },
   "outputs": [],
   "source": [
    "df['Title'] = df['Name'].str.extract(' ([A-Za-z]+)\\.', expand=False)\n",
    "df['Title'] = df['Title'].replace({\n",
    "    'Mlle': 'Miss', 'Ms': 'Miss', 'Mme': 'Mrs',\n",
    "    'Lady': 'Rare', 'Countess': 'Rare', 'Capt': 'Rare',\n",
    "    'Col': 'Rare', 'Don': 'Rare', 'Dr': 'Rare', 'Major': 'Rare',\n",
    "    'Rev': 'Rare', 'Sir': 'Rare', 'Jonkheer': 'Rare', 'Dona': 'Rare'\n",
    "})\n"
   ]
  },
  {
   "cell_type": "code",
   "execution_count": 40,
   "id": "b3fcce6c",
   "metadata": {
    "execution": {
     "iopub.execute_input": "2025-07-29T20:04:58.002429Z",
     "iopub.status.busy": "2025-07-29T20:04:58.002154Z",
     "iopub.status.idle": "2025-07-29T20:04:58.011660Z",
     "shell.execute_reply": "2025-07-29T20:04:58.010546Z"
    },
    "papermill": {
     "duration": 0.025785,
     "end_time": "2025-07-29T20:04:58.013186",
     "exception": false,
     "start_time": "2025-07-29T20:04:57.987401",
     "status": "completed"
    },
    "tags": []
   },
   "outputs": [],
   "source": [
    "test_df['Title'] = test_df['Name'].str.extract(' ([A-Za-z]+)\\.', expand=False)\n",
    "test_df['Title'] = test_df['Title'].replace({\n",
    "    'Mlle': 'Miss', 'Ms': 'Miss', 'Mme': 'Mrs',\n",
    "    'Lady': 'Rare', 'Countess': 'Rare', 'Capt': 'Rare',\n",
    "    'Col': 'Rare', 'Don': 'Rare', 'Dr': 'Rare', 'Major': 'Rare',\n",
    "    'Rev': 'Rare', 'Sir': 'Rare', 'Jonkheer': 'Rare', 'Dona': 'Rare'\n",
    "})\n"
   ]
  },
  {
   "cell_type": "code",
   "execution_count": 41,
   "id": "f66f89a9",
   "metadata": {
    "execution": {
     "iopub.execute_input": "2025-07-29T20:04:58.039145Z",
     "iopub.status.busy": "2025-07-29T20:04:58.038494Z",
     "iopub.status.idle": "2025-07-29T20:04:58.044794Z",
     "shell.execute_reply": "2025-07-29T20:04:58.043816Z"
    },
    "papermill": {
     "duration": 0.020868,
     "end_time": "2025-07-29T20:04:58.046270",
     "exception": false,
     "start_time": "2025-07-29T20:04:58.025402",
     "status": "completed"
    },
    "tags": []
   },
   "outputs": [],
   "source": [
    "df['Sex*Pclass'] = df['Sex'].map({'male': 0, 'female': 1}) * df['Pclass']\n"
   ]
  },
  {
   "cell_type": "code",
   "execution_count": 42,
   "id": "f07c00af",
   "metadata": {
    "execution": {
     "iopub.execute_input": "2025-07-29T20:04:58.072717Z",
     "iopub.status.busy": "2025-07-29T20:04:58.071915Z",
     "iopub.status.idle": "2025-07-29T20:04:58.078047Z",
     "shell.execute_reply": "2025-07-29T20:04:58.077235Z"
    },
    "papermill": {
     "duration": 0.020916,
     "end_time": "2025-07-29T20:04:58.079576",
     "exception": false,
     "start_time": "2025-07-29T20:04:58.058660",
     "status": "completed"
    },
    "tags": []
   },
   "outputs": [],
   "source": [
    "test_df['Sex*Pclass'] = test_df['Sex'].map({'male': 0, 'female': 1}) * test_df['Pclass']\n"
   ]
  },
  {
   "cell_type": "code",
   "execution_count": 43,
   "id": "49b156e3",
   "metadata": {
    "execution": {
     "iopub.execute_input": "2025-07-29T20:04:58.105310Z",
     "iopub.status.busy": "2025-07-29T20:04:58.104963Z",
     "iopub.status.idle": "2025-07-29T20:04:58.111310Z",
     "shell.execute_reply": "2025-07-29T20:04:58.110359Z"
    },
    "papermill": {
     "duration": 0.02105,
     "end_time": "2025-07-29T20:04:58.112882",
     "exception": false,
     "start_time": "2025-07-29T20:04:58.091832",
     "status": "completed"
    },
    "tags": []
   },
   "outputs": [],
   "source": [
    "df['Fare_Per_Person'] = df['Fare'] / df['FamilySize']\n",
    "df['Fare_Per_Person'].fillna(df['Fare_Per_Person'].median(), inplace=True)\n"
   ]
  },
  {
   "cell_type": "code",
   "execution_count": 44,
   "id": "1f7e08af",
   "metadata": {
    "execution": {
     "iopub.execute_input": "2025-07-29T20:04:58.139040Z",
     "iopub.status.busy": "2025-07-29T20:04:58.138079Z",
     "iopub.status.idle": "2025-07-29T20:04:58.144324Z",
     "shell.execute_reply": "2025-07-29T20:04:58.143575Z"
    },
    "papermill": {
     "duration": 0.02072,
     "end_time": "2025-07-29T20:04:58.145781",
     "exception": false,
     "start_time": "2025-07-29T20:04:58.125061",
     "status": "completed"
    },
    "tags": []
   },
   "outputs": [],
   "source": [
    "test_df['Fare_Per_Person'] = test_df['Fare'] / test_df['FamilySize']\n",
    "test_df['Fare_Per_Person'].fillna(test_df['Fare_Per_Person'].median(), inplace=True)\n"
   ]
  },
  {
   "cell_type": "code",
   "execution_count": 45,
   "id": "f2ee35c8",
   "metadata": {
    "execution": {
     "iopub.execute_input": "2025-07-29T20:04:58.173477Z",
     "iopub.status.busy": "2025-07-29T20:04:58.173116Z",
     "iopub.status.idle": "2025-07-29T20:04:58.186490Z",
     "shell.execute_reply": "2025-07-29T20:04:58.185465Z"
    },
    "papermill": {
     "duration": 0.029978,
     "end_time": "2025-07-29T20:04:58.188132",
     "exception": false,
     "start_time": "2025-07-29T20:04:58.158154",
     "status": "completed"
    },
    "tags": []
   },
   "outputs": [
    {
     "name": "stdout",
     "output_type": "stream",
     "text": [
      "      Sex      AgeBin  Survived\n",
      "0  female       Child  0.593750\n",
      "1  female        Teen  0.750000\n",
      "2  female  YoungAdult  0.751445\n",
      "3  female       Adult  0.771429\n",
      "4  female      Senior  1.000000\n",
      "5    male       Child  0.567568\n",
      "6    male        Teen  0.088235\n",
      "7    male  YoungAdult  0.158358\n",
      "8    male       Adult  0.198630\n",
      "9    male      Senior  0.105263\n"
     ]
    }
   ],
   "source": [
    "survival_rate = df.groupby(['Sex', 'AgeBin'])['Survived'].mean().reset_index()\n",
    "print(survival_rate)\n"
   ]
  },
  {
   "cell_type": "code",
   "execution_count": 46,
   "id": "2860f296",
   "metadata": {
    "execution": {
     "iopub.execute_input": "2025-07-29T20:04:58.214610Z",
     "iopub.status.busy": "2025-07-29T20:04:58.214301Z",
     "iopub.status.idle": "2025-07-29T20:04:58.223936Z",
     "shell.execute_reply": "2025-07-29T20:04:58.222924Z"
    },
    "papermill": {
     "duration": 0.024666,
     "end_time": "2025-07-29T20:04:58.225549",
     "exception": false,
     "start_time": "2025-07-29T20:04:58.200883",
     "status": "completed"
    },
    "tags": []
   },
   "outputs": [
    {
     "data": {
      "text/plain": [
       "PassengerId    0\n",
       "Survived       0\n",
       "Sex*Pclass     0\n",
       "Title          0\n",
       "AgeBin         0\n",
       "Deck           0\n",
       "Fare_log       0\n",
       "FamilyGroup    0\n",
       "FamilySize     0\n",
       "HasCabin       0\n",
       "Embarked       0\n",
       "Fare           0\n",
       "Ticket         0\n",
       "Parch          0\n",
       "SibSp          0\n",
       "dtype: int64"
      ]
     },
     "execution_count": 46,
     "metadata": {},
     "output_type": "execute_result"
    }
   ],
   "source": [
    "df.isnull().sum().sort_values(ascending=False).head(15)"
   ]
  },
  {
   "cell_type": "code",
   "execution_count": 47,
   "id": "ff1f96ac",
   "metadata": {
    "execution": {
     "iopub.execute_input": "2025-07-29T20:04:58.252846Z",
     "iopub.status.busy": "2025-07-29T20:04:58.252120Z",
     "iopub.status.idle": "2025-07-29T20:04:58.500795Z",
     "shell.execute_reply": "2025-07-29T20:04:58.499666Z"
    },
    "papermill": {
     "duration": 0.263304,
     "end_time": "2025-07-29T20:04:58.502360",
     "exception": false,
     "start_time": "2025-07-29T20:04:58.239056",
     "status": "completed"
    },
    "tags": []
   },
   "outputs": [
    {
     "data": {
      "image/png": "[encoded data removed]",
      "text/plain": [
       "<Figure size 1000x600 with 1 Axes>"
      ]
     },
     "metadata": {},
     "output_type": "display_data"
    }
   ],
   "source": [
    "import seaborn as sns\n",
    "import matplotlib.pyplot as plt\n",
    "\n",
    "# First, bin ages for grouping\n",
    "df['AgeBin'] = pd.cut(df['Age'], bins=[0, 12, 18, 35, 60, 80], labels=['Child', 'Teen', 'YoungAdult', 'Adult', 'Senior'])\n",
    "\n",
    "# Create a countplot of survival by gender and age group\n",
    "plt.figure(figsize=(10, 6))\n",
    "sns.countplot(data=df, x='AgeBin', hue='Survived', palette='Set2', dodge=True)\n",
    "plt.title('Survival Count by Age Group')\n",
    "plt.xlabel('Age Group')\n",
    "plt.ylabel('Count')\n",
    "plt.legend(title='Survived', labels=['No', 'Yes'])\n",
    "plt.grid(axis='y', linestyle='--', alpha=0.7)\n",
    "plt.tight_layout()\n",
    "plt.show()\n"
   ]
  },
  {
   "cell_type": "code",
   "execution_count": 48,
   "id": "eece448d",
   "metadata": {
    "execution": {
     "iopub.execute_input": "2025-07-29T20:04:58.530522Z",
     "iopub.status.busy": "2025-07-29T20:04:58.530223Z",
     "iopub.status.idle": "2025-07-29T20:04:59.139486Z",
     "shell.execute_reply": "2025-07-29T20:04:59.138415Z"
    },
    "papermill": {
     "duration": 0.625224,
     "end_time": "2025-07-29T20:04:59.141379",
     "exception": false,
     "start_time": "2025-07-29T20:04:58.516155",
     "status": "completed"
    },
    "tags": []
   },
   "outputs": [
    {
     "data": {
      "image/png": "[encoded data removed]",
      "text/plain": [
       "<Figure size 1058.88x500 with 2 Axes>"
      ]
     },
     "metadata": {},
     "output_type": "display_data"
    }
   ],
   "source": [
    "import seaborn as sns\n",
    "import matplotlib.pyplot as plt\n",
    "\n",
    "# Make sure AgeBin exists\n",
    "df['AgeBin'] = pd.cut(df['Age'], bins=[0, 12, 18, 35, 60, 80], \n",
    "                      labels=['Child', 'Teen', 'YoungAdult', 'Adult', 'Senior'])\n",
    "\n",
    "# Set up the grid\n",
    "g = sns.catplot(\n",
    "    data=df, kind=\"count\", \n",
    "    x=\"AgeBin\", hue=\"Pclass\", col=\"Sex\",\n",
    "    palette=\"pastel\", edgecolor=\".6\"\n",
    ")\n",
    "\n",
    "g.set_titles(\"Sex: {col_name}\")\n",
    "g.set_axis_labels(\"Age Group\", \"Passenger Count\")\n",
    "g._legend.set_title(\"Pclass\")\n",
    "plt.subplots_adjust(top=0.85)\n",
    "g.fig.suptitle(\"Survival Distribution by Age Group, Class, and Gender\")\n",
    "plt.show()\n"
   ]
  },
  {
   "cell_type": "code",
   "execution_count": 49,
   "id": "bbecb77c",
   "metadata": {
    "execution": {
     "iopub.execute_input": "2025-07-29T20:04:59.173461Z",
     "iopub.status.busy": "2025-07-29T20:04:59.173164Z",
     "iopub.status.idle": "2025-07-29T20:04:59.179190Z",
     "shell.execute_reply": "2025-07-29T20:04:59.178352Z"
    },
    "papermill": {
     "duration": 0.02282,
     "end_time": "2025-07-29T20:04:59.180892",
     "exception": false,
     "start_time": "2025-07-29T20:04:59.158072",
     "status": "completed"
    },
    "tags": []
   },
   "outputs": [
    {
     "name": "stdout",
     "output_type": "stream",
     "text": [
      "✅ Object columns now: ['Name', 'Sex', 'Ticket', 'Embarked', 'FamilyGroup', 'Deck', 'Title']\n"
     ]
    }
   ],
   "source": [
    "print(\"✅ Object columns now:\", df.select_dtypes(include='object').columns.tolist())\n"
   ]
  },
  {
   "cell_type": "code",
   "execution_count": 50,
   "id": "d1e24421",
   "metadata": {
    "execution": {
     "iopub.execute_input": "2025-07-29T20:04:59.211664Z",
     "iopub.status.busy": "2025-07-29T20:04:59.211367Z",
     "iopub.status.idle": "2025-07-29T20:04:59.218781Z",
     "shell.execute_reply": "2025-07-29T20:04:59.217765Z"
    },
    "papermill": {
     "duration": 0.024886,
     "end_time": "2025-07-29T20:04:59.220341",
     "exception": false,
     "start_time": "2025-07-29T20:04:59.195455",
     "status": "completed"
    },
    "tags": []
   },
   "outputs": [
    {
     "name": "stdout",
     "output_type": "stream",
     "text": [
      "✅ Object columns now: ['Name', 'Sex', 'Ticket', 'Embarked', 'FamilyGroup', 'Deck', 'Title']\n"
     ]
    }
   ],
   "source": [
    "print(\"✅ Object columns now:\", test_df.select_dtypes(include='object').columns.tolist())\n"
   ]
  },
  {
   "cell_type": "code",
   "execution_count": 51,
   "id": "92121dc3",
   "metadata": {
    "execution": {
     "iopub.execute_input": "2025-07-29T20:04:59.251515Z",
     "iopub.status.busy": "2025-07-29T20:04:59.251177Z",
     "iopub.status.idle": "2025-07-29T20:04:59.468400Z",
     "shell.execute_reply": "2025-07-29T20:04:59.466315Z"
    },
    "papermill": {
     "duration": 0.235979,
     "end_time": "2025-07-29T20:04:59.470950",
     "exception": false,
     "start_time": "2025-07-29T20:04:59.234971",
     "status": "completed"
    },
    "tags": []
   },
   "outputs": [
    {
     "name": "stdout",
     "output_type": "stream",
     "text": [
      "✅ Object columns now: ['Name']\n"
     ]
    }
   ],
   "source": [
    "from sklearn.preprocessing import LabelEncoder\n",
    "import pandas as pd\n",
    "\n",
    "#  Encode 'Sex' using LabelEncoder\n",
    "df['Sex'] = LabelEncoder().fit_transform(df['Sex'].astype(str))  # male=1, female=0\n",
    "\n",
    "#  Drop 'Ticket'\n",
    "df.drop(columns=['Ticket'], inplace=True)\n",
    "\n",
    "#  One-hot encode remaining object columns\n",
    "categorical_cols = ['Embarked', 'FamilyGroup', 'Deck', 'Title']\n",
    "df = pd.get_dummies(df, columns=categorical_cols, drop_first=True)\n",
    "\n",
    "# ✅ Final check\n",
    "print(\"✅ Object columns now:\", df.select_dtypes(include='object').columns.tolist())\n"
   ]
  },
  {
   "cell_type": "code",
   "execution_count": 52,
   "id": "ccd0db7b",
   "metadata": {
    "execution": {
     "iopub.execute_input": "2025-07-29T20:04:59.520010Z",
     "iopub.status.busy": "2025-07-29T20:04:59.519609Z",
     "iopub.status.idle": "2025-07-29T20:04:59.536324Z",
     "shell.execute_reply": "2025-07-29T20:04:59.535345Z"
    },
    "papermill": {
     "duration": 0.042185,
     "end_time": "2025-07-29T20:04:59.537760",
     "exception": false,
     "start_time": "2025-07-29T20:04:59.495575",
     "status": "completed"
    },
    "tags": []
   },
   "outputs": [
    {
     "name": "stdout",
     "output_type": "stream",
     "text": [
      "✅ Object columns now: ['Name']\n"
     ]
    }
   ],
   "source": [
    "from sklearn.preprocessing import LabelEncoder\n",
    "import pandas as pd\n",
    "\n",
    "#  Encode 'Sex' using LabelEncoder\n",
    "test_df['Sex'] = LabelEncoder().fit_transform(test_df['Sex'].astype(str))  # male=1, female=0\n",
    "\n",
    "#  Drop 'Ticket'\n",
    "test_df.drop(columns=['Ticket'], inplace=True)\n",
    "\n",
    "#  One-hot encode remaining object columns\n",
    "categorical_cols = ['Embarked', 'FamilyGroup', 'Deck', 'Title']\n",
    "test_df = pd.get_dummies(test_df, columns=categorical_cols, drop_first=True)\n",
    "\n",
    "# ✅ Final check\n",
    "print(\"✅ Object columns now:\", test_df.select_dtypes(include='object').columns.tolist())\n"
   ]
  },
  {
   "cell_type": "code",
   "execution_count": 53,
   "id": "56465116",
   "metadata": {
    "execution": {
     "iopub.execute_input": "2025-07-29T20:04:59.568758Z",
     "iopub.status.busy": "2025-07-29T20:04:59.567637Z",
     "iopub.status.idle": "2025-07-29T20:04:59.576733Z",
     "shell.execute_reply": "2025-07-29T20:04:59.575616Z"
    },
    "papermill": {
     "duration": 0.025697,
     "end_time": "2025-07-29T20:04:59.578144",
     "exception": false,
     "start_time": "2025-07-29T20:04:59.552447",
     "status": "completed"
    },
    "tags": []
   },
   "outputs": [
    {
     "name": "stdout",
     "output_type": "stream",
     "text": [
      "✅ Object columns now: []\n"
     ]
    }
   ],
   "source": [
    "df.drop('Name', axis=1, inplace=True)\n",
    "print(\"✅ Object columns now:\", df.select_dtypes(include='object').columns.tolist())"
   ]
  },
  {
   "cell_type": "code",
   "execution_count": 54,
   "id": "d731ffe6",
   "metadata": {
    "execution": {
     "iopub.execute_input": "2025-07-29T20:04:59.609471Z",
     "iopub.status.busy": "2025-07-29T20:04:59.608636Z",
     "iopub.status.idle": "2025-07-29T20:04:59.615541Z",
     "shell.execute_reply": "2025-07-29T20:04:59.614704Z"
    },
    "papermill": {
     "duration": 0.023668,
     "end_time": "2025-07-29T20:04:59.616925",
     "exception": false,
     "start_time": "2025-07-29T20:04:59.593257",
     "status": "completed"
    },
    "tags": []
   },
   "outputs": [
    {
     "name": "stdout",
     "output_type": "stream",
     "text": [
      "✅ Object columns now: []\n"
     ]
    }
   ],
   "source": [
    "test_df.drop('Name', axis=1, inplace=True)\n",
    "print(\"✅ Object columns now:\", test_df.select_dtypes(include='object').columns.tolist())"
   ]
  },
  {
   "cell_type": "code",
   "execution_count": 55,
   "id": "03545725",
   "metadata": {
    "execution": {
     "iopub.execute_input": "2025-07-29T20:04:59.647182Z",
     "iopub.status.busy": "2025-07-29T20:04:59.646850Z",
     "iopub.status.idle": "2025-07-29T20:04:59.652656Z",
     "shell.execute_reply": "2025-07-29T20:04:59.651620Z"
    },
    "papermill": {
     "duration": 0.022816,
     "end_time": "2025-07-29T20:04:59.654301",
     "exception": false,
     "start_time": "2025-07-29T20:04:59.631485",
     "status": "completed"
    },
    "tags": []
   },
   "outputs": [
    {
     "name": "stdout",
     "output_type": "stream",
     "text": [
      "✅ All features are numeric and ready for model training.\n"
     ]
    }
   ],
   "source": [
    "if df.select_dtypes(include='object').shape[1] > 0:\n",
    "    print(\"❌ Still has object columns:\", df.select_dtypes(include='object').columns.tolist())\n",
    "    raise ValueError(\"You must encode or drop all object columns before modeling.\")\n",
    "else:\n",
    "    print(\"✅ All features are numeric and ready for model training.\")\n"
   ]
  },
  {
   "cell_type": "code",
   "execution_count": 56,
   "id": "53785825",
   "metadata": {
    "execution": {
     "iopub.execute_input": "2025-07-29T20:04:59.685433Z",
     "iopub.status.busy": "2025-07-29T20:04:59.684776Z",
     "iopub.status.idle": "2025-07-29T20:04:59.690744Z",
     "shell.execute_reply": "2025-07-29T20:04:59.689753Z"
    },
    "papermill": {
     "duration": 0.023201,
     "end_time": "2025-07-29T20:04:59.692188",
     "exception": false,
     "start_time": "2025-07-29T20:04:59.668987",
     "status": "completed"
    },
    "tags": []
   },
   "outputs": [
    {
     "name": "stdout",
     "output_type": "stream",
     "text": [
      "✅ All features are numeric and ready for model training.\n"
     ]
    }
   ],
   "source": [
    "if test_df.select_dtypes(include='object').shape[1] > 0:\n",
    "    print(\"❌ Still has object columns:\", test_df.select_dtypes(include='object').columns.tolist())\n",
    "    raise ValueError(\"You must encode or drop all object columns before modeling.\")\n",
    "else:\n",
    "    print(\"✅ All features are numeric and ready for model training.\")\n"
   ]
  },
  {
   "cell_type": "markdown",
   "id": "de2dcfb9",
   "metadata": {
    "papermill": {
     "duration": 0.014386,
     "end_time": "2025-07-29T20:04:59.721844",
     "exception": false,
     "start_time": "2025-07-29T20:04:59.707458",
     "status": "completed"
    },
    "tags": []
   },
   "source": [
    "## Model Benchmarking\n",
    "\n",
    "- Random Forest\n",
    "- ElasticNet\n",
    "- XGBoost"
   ]
  },
  {
   "cell_type": "code",
   "execution_count": 57,
   "id": "697b0c19",
   "metadata": {
    "execution": {
     "iopub.execute_input": "2025-07-29T20:04:59.752781Z",
     "iopub.status.busy": "2025-07-29T20:04:59.752452Z",
     "iopub.status.idle": "2025-07-29T20:05:16.554147Z",
     "shell.execute_reply": "2025-07-29T20:05:16.552985Z"
    },
    "papermill": {
     "duration": 16.819215,
     "end_time": "2025-07-29T20:05:16.555832",
     "exception": false,
     "start_time": "2025-07-29T20:04:59.736617",
     "status": "completed"
    },
    "tags": []
   },
   "outputs": [
    {
     "name": "stdout",
     "output_type": "stream",
     "text": [
      "Fitting 5 folds for each of 20 candidates, totalling 100 fits\n",
      "Confusion Matrix:\n",
      " [[97 13]\n",
      " [22 47]]\n",
      "Classification Report:\n",
      "               precision    recall  f1-score   support\n",
      "\n",
      "           0       0.82      0.88      0.85       110\n",
      "           1       0.78      0.68      0.73        69\n",
      "\n",
      "    accuracy                           0.80       179\n",
      "   macro avg       0.80      0.78      0.79       179\n",
      "weighted avg       0.80      0.80      0.80       179\n",
      "\n",
      "Accuracy: 0.8044692737430168\n",
      "ROC AUC Score: 0.7814888010540184\n",
      "F1 Score: 0.7286821705426356\n"
     ]
    }
   ],
   "source": [
    "import warnings\n",
    "warnings.filterwarnings('ignore')\n",
    "from sklearn.ensemble import RandomForestClassifier\n",
    "from sklearn.model_selection import train_test_split, RandomizedSearchCV\n",
    "from sklearn.metrics import classification_report, confusion_matrix, accuracy_score, roc_auc_score, f1_score\n",
    "import numpy as np\n",
    "import pandas as pd\n",
    "\n",
    "# Step 1: Define Features and Target\n",
    "#X = df.drop(columns=['PassengerId', 'Survived'])  # Ensure df is cleaned and encoded\n",
    "#y = df['Survived']\n",
    "# Drop PassengerId and target column\n",
    "X = df.drop(columns=['PassengerId', 'Survived'])\n",
    "\n",
    "# Convert all boolean columns to integers\n",
    "bool_cols = X.select_dtypes(include='bool').columns\n",
    "X[bool_cols] = X[bool_cols].astype(int)\n",
    "\n",
    "# Convert categorical column 'AgeBin' to string, then one-hot encode\n",
    "if 'AgeBin' in X.columns:\n",
    "    X['AgeBin'] = X['AgeBin'].astype(str)\n",
    "\n",
    "# One-hot encode any object or category type columns\n",
    "X = pd.get_dummies(X, drop_first=True)\n",
    "\n",
    "# Force everything to float32\n",
    "X = X.apply(pd.to_numeric, errors='coerce').fillna(0).astype('float32')\n",
    "\n",
    "# Target\n",
    "y = df['Survived']\n",
    "\n",
    "\n",
    "# Step 2: Train-Test Split\n",
    "X_train, X_val, y_train, y_val = train_test_split(X, y, stratify=y, test_size=0.2, random_state=42)\n",
    "\n",
    "# Step 3: No scaling needed for Random Forest\n",
    "\n",
    "# Step 4: Define Model and Hyperparameter Grid\n",
    "param_grid = {\n",
    "    'n_estimators': [100, 200, 500],\n",
    "    'max_depth': [None, 5, 10, 20],\n",
    "    'min_samples_split': [2, 5, 10],\n",
    "    'min_samples_leaf': [1, 2, 4],\n",
    "    'max_features': ['sqrt', 'log2']  # Removed 'auto'\n",
    "}\n",
    "\n",
    "base_model = RandomForestClassifier(random_state=42)\n",
    "\n",
    "# Step 5: Randomized Search\n",
    "rf_search = RandomizedSearchCV(\n",
    "    base_model,\n",
    "    param_distributions=param_grid,\n",
    "    n_iter=20,\n",
    "    cv=5,\n",
    "    verbose=1,\n",
    "    n_jobs=-1,\n",
    "    random_state=42\n",
    ")\n",
    "\n",
    "rf_search.fit(X_train, y_train)\n",
    "\n",
    "# Step 6: Evaluation\n",
    "y_pred = rf_search.predict(X_val)\n",
    "\n",
    "print(\"Confusion Matrix:\\n\", confusion_matrix(y_val, y_pred))\n",
    "print(\"Classification Report:\\n\", classification_report(y_val, y_pred))\n",
    "print(\"Accuracy:\", accuracy_score(y_val, y_pred))\n",
    "print(\"ROC AUC Score:\", roc_auc_score(y_val, y_pred))\n",
    "print(\"F1 Score:\", f1_score(y_val, y_pred))\n"
   ]
  },
  {
   "cell_type": "code",
   "execution_count": 58,
   "id": "908c72ca",
   "metadata": {
    "execution": {
     "iopub.execute_input": "2025-07-29T20:05:16.587173Z",
     "iopub.status.busy": "2025-07-29T20:05:16.586851Z",
     "iopub.status.idle": "2025-07-29T20:05:30.387256Z",
     "shell.execute_reply": "2025-07-29T20:05:30.386072Z"
    },
    "papermill": {
     "duration": 13.817819,
     "end_time": "2025-07-29T20:05:30.389069",
     "exception": false,
     "start_time": "2025-07-29T20:05:16.571250",
     "status": "completed"
    },
    "tags": []
   },
   "outputs": [
    {
     "name": "stdout",
     "output_type": "stream",
     "text": [
      "Fitting 5 folds for each of 20 candidates, totalling 100 fits\n",
      "Confusion Matrix:\n",
      " [[98 12]\n",
      " [19 50]]\n",
      "Classification Report:\n",
      "               precision    recall  f1-score   support\n",
      "\n",
      "           0       0.84      0.89      0.86       110\n",
      "           1       0.81      0.72      0.76        69\n",
      "\n",
      "    accuracy                           0.83       179\n",
      "   macro avg       0.82      0.81      0.81       179\n",
      "weighted avg       0.83      0.83      0.82       179\n",
      "\n",
      "Accuracy: 0.8268156424581006\n",
      "ROC AUC Score: 0.8077733860342556\n",
      "F1 Score: 0.7633587786259542\n"
     ]
    }
   ],
   "source": [
    "from sklearn.linear_model import LogisticRegression\n",
    "from sklearn.model_selection import RandomizedSearchCV\n",
    "from sklearn.metrics import classification_report, confusion_matrix, accuracy_score, roc_auc_score, f1_score\n",
    "\n",
    "# Step 1: Feature Scaling (needed for ElasticNet)\n",
    "from sklearn.preprocessing import StandardScaler\n",
    "scaler = StandardScaler()\n",
    "X_train_scaled = scaler.fit_transform(X_train)\n",
    "X_val_scaled = scaler.transform(X_val)\n",
    "\n",
    "# Step 2: Define hyperparameter grid\n",
    "param_grid = {\n",
    "    'C': np.logspace(-3, 2, 50),      # Inverse regularization strength\n",
    "    'l1_ratio': np.linspace(0, 1, 10) # 0 = Ridge, 1 = Lasso\n",
    "}\n",
    "\n",
    "# Step 3: Set up Logistic Regression with Elastic Net\n",
    "elastic_net = LogisticRegression(\n",
    "    penalty='elasticnet',\n",
    "    solver='saga',\n",
    "    max_iter=5000,\n",
    "    random_state=42\n",
    ")\n",
    "\n",
    "search_en = RandomizedSearchCV(\n",
    "    elastic_net,\n",
    "    param_distributions=param_grid,\n",
    "    n_iter=20,\n",
    "    cv=5,\n",
    "    random_state=42,\n",
    "    verbose=1,\n",
    "    n_jobs=-1\n",
    ")\n",
    "\n",
    "# Step 4: Fit model\n",
    "search_en.fit(X_train_scaled, y_train)\n",
    "\n",
    "# Step 5: Evaluate\n",
    "y_pred_en = search_en.predict(X_val_scaled)\n",
    "\n",
    "print(\"Confusion Matrix:\\n\", confusion_matrix(y_val, y_pred_en))\n",
    "print(\"Classification Report:\\n\", classification_report(y_val, y_pred_en))\n",
    "print(\"Accuracy:\", accuracy_score(y_val, y_pred_en))\n",
    "print(\"ROC AUC Score:\", roc_auc_score(y_val, y_pred_en))\n",
    "print(\"F1 Score:\", f1_score(y_val, y_pred_en))\n"
   ]
  },
  {
   "cell_type": "code",
   "execution_count": 59,
   "id": "e7f951b4",
   "metadata": {
    "execution": {
     "iopub.execute_input": "2025-07-29T20:05:30.421698Z",
     "iopub.status.busy": "2025-07-29T20:05:30.420665Z",
     "iopub.status.idle": "2025-07-29T20:05:37.194201Z",
     "shell.execute_reply": "2025-07-29T20:05:37.193408Z"
    },
    "papermill": {
     "duration": 6.791366,
     "end_time": "2025-07-29T20:05:37.195986",
     "exception": false,
     "start_time": "2025-07-29T20:05:30.404620",
     "status": "completed"
    },
    "tags": []
   },
   "outputs": [
    {
     "name": "stdout",
     "output_type": "stream",
     "text": [
      "Fitting 5 folds for each of 20 candidates, totalling 100 fits\n",
      "Confusion Matrix:\n",
      " [[96 14]\n",
      " [22 47]]\n",
      "Classification Report:\n",
      "               precision    recall  f1-score   support\n",
      "\n",
      "           0       0.81      0.87      0.84       110\n",
      "           1       0.77      0.68      0.72        69\n",
      "\n",
      "    accuracy                           0.80       179\n",
      "   macro avg       0.79      0.78      0.78       179\n",
      "weighted avg       0.80      0.80      0.80       179\n",
      "\n",
      "Accuracy: 0.7988826815642458\n",
      "ROC AUC Score: 0.7769433465085639\n",
      "F1 Score: 0.7230769230769231\n"
     ]
    }
   ],
   "source": [
    "from xgboost import XGBClassifier\n",
    "from sklearn.model_selection import RandomizedSearchCV\n",
    "from sklearn.metrics import classification_report, confusion_matrix, accuracy_score, roc_auc_score, f1_score\n",
    "\n",
    "# Step 1: Define Model and Param Grid\n",
    "xgb_model = XGBClassifier(use_label_encoder=False, eval_metric='logloss', random_state=42)\n",
    "\n",
    "param_grid = {\n",
    "    'n_estimators': [100, 200, 300],\n",
    "    'max_depth': [3, 5, 7],\n",
    "    'learning_rate': [0.01, 0.05, 0.1],\n",
    "    'subsample': [0.6, 0.8, 1.0],\n",
    "    'colsample_bytree': [0.6, 0.8, 1.0]\n",
    "}\n",
    "\n",
    "xgb_search = RandomizedSearchCV(\n",
    "    estimator=xgb_model,\n",
    "    param_distributions=param_grid,\n",
    "    n_iter=20,\n",
    "    cv=5,\n",
    "    verbose=1,\n",
    "    n_jobs=-1,\n",
    "    random_state=42\n",
    ")\n",
    "\n",
    "# Step 2: Fit model (X_train, y_train are already defined)\n",
    "xgb_search.fit(X_train, y_train)\n",
    "\n",
    "# Step 3: Evaluation\n",
    "y_pred_xgb = xgb_search.predict(X_val)\n",
    "\n",
    "print(\"Confusion Matrix:\\n\", confusion_matrix(y_val, y_pred_xgb))\n",
    "print(\"Classification Report:\\n\", classification_report(y_val, y_pred_xgb))\n",
    "print(\"Accuracy:\", accuracy_score(y_val, y_pred_xgb))\n",
    "print(\"ROC AUC Score:\", roc_auc_score(y_val, y_pred_xgb))\n",
    "print(\"F1 Score:\", f1_score(y_val, y_pred_xgb))\n"
   ]
  },
  {
   "cell_type": "code",
   "execution_count": 60,
   "id": "b51cc279",
   "metadata": {
    "execution": {
     "iopub.execute_input": "2025-07-29T20:05:37.229093Z",
     "iopub.status.busy": "2025-07-29T20:05:37.228720Z",
     "iopub.status.idle": "2025-07-29T20:05:37.256965Z",
     "shell.execute_reply": "2025-07-29T20:05:37.255914Z"
    },
    "papermill": {
     "duration": 0.047209,
     "end_time": "2025-07-29T20:05:37.258521",
     "exception": false,
     "start_time": "2025-07-29T20:05:37.211312",
     "status": "completed"
    },
    "tags": []
   },
   "outputs": [
    {
     "name": "stdout",
     "output_type": "stream",
     "text": [
      "✅ submission.csv generated successfully.\n"
     ]
    }
   ],
   "source": [
    "import pandas as pd\n",
    "from sklearn.linear_model import LogisticRegression\n",
    "from sklearn.preprocessing import StandardScaler\n",
    "import joblib  # optional if you saved the model\n",
    "\n",
    "# Step 1: Prepare test_df the same way as train_df\n",
    "X_test = test_df.copy()\n",
    "\n",
    "# Convert AgeBin to string, then one-hot encode\n",
    "if 'AgeBin' in X_test.columns:\n",
    "    X_test['AgeBin'] = X_test['AgeBin'].astype(str)\n",
    "\n",
    "# Convert bools to int\n",
    "bool_cols = X_test.select_dtypes(include='bool').columns\n",
    "X_test[bool_cols] = X_test[bool_cols].astype(int)\n",
    "\n",
    "# One-hot encode object/category columns\n",
    "X_test = pd.get_dummies(X_test, drop_first=True)\n",
    "\n",
    "# Match test_df columns to training set\n",
    "missing_cols = set(X_train.columns) - set(X_test.columns)\n",
    "for col in missing_cols:\n",
    "    X_test[col] = 0  # Add missing columns with 0\n",
    "X_test = X_test[X_train.columns]  # Reorder columns\n",
    "\n",
    "# Scale using the same scaler used on X_train\n",
    "X_test_scaled = scaler.transform(X_test)\n",
    "\n",
    "# Step 2: Predict using the trained Elastic Net model\n",
    "y_test_preds = search_en.predict(X_test_scaled)  # or rf_search.predict(...) for RF\n",
    "\n",
    "# Step 3: Create submission DataFrame\n",
    "submission = pd.DataFrame({\n",
    "    'PassengerId': test_df['PassengerId'],\n",
    "    'Survived': y_test_preds\n",
    "})\n",
    "\n",
    "# Step 4: Save to CSV\n",
    "submission.to_csv('submission.csv', index=False)\n",
    "print(\"✅ submission.csv generated successfully.\")\n"
   ]
  }
 ],
 "metadata": {
  "kaggle": {
   "accelerator": "none",
   "dataSources": [
    {
     "datasetId": 7741954,
     "sourceId": 12284545,
     "sourceType": "datasetVersion"
    },
    {
     "datasetId": 7742507,
     "sourceId": 12285401,
     "sourceType": "datasetVersion"
    }
   ],
   "dockerImageVersionId": 31040,
   "isGpuEnabled": false,
   "isInternetEnabled": true,
   "language": "python",
   "sourceType": "notebook"
  },
  "kernelspec": {
   "display_name": "Python 3",
   "language": "python",
   "name": "python3"
  },
  "language_info": {
   "codemirror_mode": {
    "name": "ipython",
    "version": 3
   },
   "file_extension": ".py",
   "mimetype": "text/x-python",
   "name": "python",
   "nbconvert_exporter": "python",
   "pygments_lexer": "ipython3",
   "version": "3.11.11"
  },
  "papermill": {
   "default_parameters": {},
   "duration": 54.594329,
   "end_time": "2025-07-29T20:05:39.893569",
   "environment_variables": {},
   "exception": null,
   "input_path": "__notebook__.ipynb",
   "output_path": "__notebook__.ipynb",
   "parameters": {},
   "start_time": "2025-07-29T20:04:45.299240",
   "version": "2.6.0"
  }
 },
 "nbformat": 4,
 "nbformat_minor": 5
}
