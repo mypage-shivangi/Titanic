{
 "cells": [
  {
   "cell_type": "code",
   "execution_count": 1,
   "id": "2b98556b",
   "metadata": {
    "_cell_guid": "b1076dfc-b9ad-4769-8c92-a6c4dae69d19",
    "_uuid": "8f2839f25d086af736a60e9eeb907d3b93b6e0e5",
    "execution": {
     "iopub.execute_input": "2025-06-25T20:47:26.110322Z",
     "iopub.status.busy": "2025-06-25T20:47:26.109983Z",
     "iopub.status.idle": "2025-06-25T20:47:28.094206Z",
     "shell.execute_reply": "2025-06-25T20:47:28.093061Z"
    },
    "papermill": {
     "duration": 1.994158,
     "end_time": "2025-06-25T20:47:28.095749",
     "exception": false,
     "start_time": "2025-06-25T20:47:26.101591",
     "status": "completed"
    },
    "tags": []
   },
   "outputs": [
    {
     "name": "stdout",
     "output_type": "stream",
     "text": [
      "/kaggle/input/traintc/train.csv\n"
     ]
    }
   ],
   "source": [
    "# This Python 3 environment comes with many helpful analytics libraries installed\n",
    "# It is defined by the kaggle/python Docker image: https://github.com/kaggle/docker-python\n",
    "# For example, here's several helpful packages to load\n",
    "\n",
    "import numpy as np # linear algebra\n",
    "import pandas as pd # data processing, CSV file I/O (e.g. pd.read_csv)\n",
    "\n",
    "# Input data files are available in the read-only \"../input/\" directory\n",
    "# For example, running this (by clicking run or pressing Shift+Enter) will list all files under the input directory\n",
    "\n",
    "import os\n",
    "for dirname, _, filenames in os.walk('/kaggle/input'):\n",
    "    for filename in filenames:\n",
    "        print(os.path.join(dirname, filename))\n",
    "\n",
    "# You can write up to 20GB to the current directory (/kaggle/working/) that gets preserved as output when you create a version using \"Save & Run All\" \n",
    "# You can also write temporary files to /kaggle/temp/, but they won't be saved outside of the current session"
   ]
  },
  {
   "cell_type": "code",
   "execution_count": 2,
   "id": "de7feb4c",
   "metadata": {
    "execution": {
     "iopub.execute_input": "2025-06-25T20:47:28.110496Z",
     "iopub.status.busy": "2025-06-25T20:47:28.110053Z",
     "iopub.status.idle": "2025-06-25T20:47:28.137037Z",
     "shell.execute_reply": "2025-06-25T20:47:28.136100Z"
    },
    "papermill": {
     "duration": 0.036096,
     "end_time": "2025-06-25T20:47:28.138822",
     "exception": false,
     "start_time": "2025-06-25T20:47:28.102726",
     "status": "completed"
    },
    "tags": []
   },
   "outputs": [],
   "source": [
    "df=pd.read_csv('/kaggle/input/traintc/train.csv')"
   ]
  },
  {
   "cell_type": "code",
   "execution_count": 3,
   "id": "382bcbc0",
   "metadata": {
    "execution": {
     "iopub.execute_input": "2025-06-25T20:47:28.153167Z",
     "iopub.status.busy": "2025-06-25T20:47:28.152881Z",
     "iopub.status.idle": "2025-06-25T20:47:28.170336Z",
     "shell.execute_reply": "2025-06-25T20:47:28.169319Z"
    },
    "papermill": {
     "duration": 0.026453,
     "end_time": "2025-06-25T20:47:28.172019",
     "exception": false,
     "start_time": "2025-06-25T20:47:28.145566",
     "status": "completed"
    },
    "tags": []
   },
   "outputs": [
    {
     "name": "stdout",
     "output_type": "stream",
     "text": [
      "   PassengerId  Survived  Pclass  \\\n",
      "0            1         0       3   \n",
      "1            2         1       1   \n",
      "2            3         1       3   \n",
      "3            4         1       1   \n",
      "4            5         0       3   \n",
      "\n",
      "                                                Name     Sex   Age  SibSp  \\\n",
      "0                            Braund, Mr. Owen Harris    male  22.0      1   \n",
      "1  Cumings, Mrs. John Bradley (Florence Briggs Th...  female  38.0      1   \n",
      "2                             Heikkinen, Miss. Laina  female  26.0      0   \n",
      "3       Futrelle, Mrs. Jacques Heath (Lily May Peel)  female  35.0      1   \n",
      "4                           Allen, Mr. William Henry    male  35.0      0   \n",
      "\n",
      "   Parch            Ticket     Fare Cabin Embarked  \n",
      "0      0         A/5 21171   7.2500   NaN        S  \n",
      "1      0          PC 17599  71.2833   C85        C  \n",
      "2      0  STON/O2. 3101282   7.9250   NaN        S  \n",
      "3      0            113803  53.1000  C123        S  \n",
      "4      0            373450   8.0500   NaN        S  \n"
     ]
    }
   ],
   "source": [
    "print(df.head())"
   ]
  },
  {
   "cell_type": "code",
   "execution_count": 4,
   "id": "711d3fed",
   "metadata": {
    "execution": {
     "iopub.execute_input": "2025-06-25T20:47:28.186596Z",
     "iopub.status.busy": "2025-06-25T20:47:28.186314Z",
     "iopub.status.idle": "2025-06-25T20:47:28.193532Z",
     "shell.execute_reply": "2025-06-25T20:47:28.192588Z"
    },
    "papermill": {
     "duration": 0.01633,
     "end_time": "2025-06-25T20:47:28.195126",
     "exception": false,
     "start_time": "2025-06-25T20:47:28.178796",
     "status": "completed"
    },
    "tags": []
   },
   "outputs": [],
   "source": [
    "df['HasCabin'] = df['Cabin'].notnull().astype(int)\n"
   ]
  },
  {
   "cell_type": "code",
   "execution_count": 5,
   "id": "1a8935f4",
   "metadata": {
    "execution": {
     "iopub.execute_input": "2025-06-25T20:47:28.209831Z",
     "iopub.status.busy": "2025-06-25T20:47:28.209535Z",
     "iopub.status.idle": "2025-06-25T20:47:28.222969Z",
     "shell.execute_reply": "2025-06-25T20:47:28.221986Z"
    },
    "papermill": {
     "duration": 0.022806,
     "end_time": "2025-06-25T20:47:28.224592",
     "exception": false,
     "start_time": "2025-06-25T20:47:28.201786",
     "status": "completed"
    },
    "tags": []
   },
   "outputs": [
    {
     "name": "stdout",
     "output_type": "stream",
     "text": [
      "Pclass\n",
      "1    0.814815\n",
      "2    0.086957\n",
      "3    0.024440\n",
      "Name: HasCabin, dtype: float64\n"
     ]
    }
   ],
   "source": [
    "cabin_by_class = df.groupby('Pclass')['HasCabin'].mean()\n",
    "print(cabin_by_class)\n"
   ]
  },
  {
   "cell_type": "code",
   "execution_count": 6,
   "id": "474bf392",
   "metadata": {
    "execution": {
     "iopub.execute_input": "2025-06-25T20:47:28.239667Z",
     "iopub.status.busy": "2025-06-25T20:47:28.239343Z",
     "iopub.status.idle": "2025-06-25T20:47:30.549779Z",
     "shell.execute_reply": "2025-06-25T20:47:30.548772Z"
    },
    "papermill": {
     "duration": 2.319356,
     "end_time": "2025-06-25T20:47:30.551264",
     "exception": false,
     "start_time": "2025-06-25T20:47:28.231908",
     "status": "completed"
    },
    "tags": []
   },
   "outputs": [
    {
     "data": {
      "image/png": "[encoded data removed]",
      "text/plain": [
       "<Figure size 640x480 with 1 Axes>"
      ]
     },
     "metadata": {},
     "output_type": "display_data"
    }
   ],
   "source": [
    "import seaborn as sns\n",
    "import matplotlib.pyplot as plt\n",
    "\n",
    "sns.barplot(x='Pclass', y='HasCabin', data=df)\n",
    "plt.title(\"Proportion of Passengers with Cabin by Class\")\n",
    "plt.ylabel(\"Has Cabin (1 = Yes, 0 = No)\")\n",
    "plt.show()\n"
   ]
  },
  {
   "cell_type": "code",
   "execution_count": 7,
   "id": "5610013d",
   "metadata": {
    "execution": {
     "iopub.execute_input": "2025-06-25T20:47:30.567093Z",
     "iopub.status.busy": "2025-06-25T20:47:30.566126Z",
     "iopub.status.idle": "2025-06-25T20:47:30.572508Z",
     "shell.execute_reply": "2025-06-25T20:47:30.571729Z"
    },
    "papermill": {
     "duration": 0.015595,
     "end_time": "2025-06-25T20:47:30.573970",
     "exception": false,
     "start_time": "2025-06-25T20:47:30.558375",
     "status": "completed"
    },
    "tags": []
   },
   "outputs": [],
   "source": [
    "df['HasCabin'] = df['Cabin'].notnull().astype(int)\n",
    "df['CabinClass'] = df['Pclass'] * df['HasCabin']\n"
   ]
  },
  {
   "cell_type": "code",
   "execution_count": 8,
   "id": "7a2e977c",
   "metadata": {
    "execution": {
     "iopub.execute_input": "2025-06-25T20:47:30.589081Z",
     "iopub.status.busy": "2025-06-25T20:47:30.588717Z",
     "iopub.status.idle": "2025-06-25T20:47:30.594645Z",
     "shell.execute_reply": "2025-06-25T20:47:30.593572Z"
    },
    "papermill": {
     "duration": 0.015239,
     "end_time": "2025-06-25T20:47:30.596165",
     "exception": false,
     "start_time": "2025-06-25T20:47:30.580926",
     "status": "completed"
    },
    "tags": []
   },
   "outputs": [],
   "source": [
    "df['FamilySize'] = df['SibSp'] + df['Parch'] + 1  # +1 includes the passenger themself\n"
   ]
  },
  {
   "cell_type": "code",
   "execution_count": 9,
   "id": "b4e191b3",
   "metadata": {
    "execution": {
     "iopub.execute_input": "2025-06-25T20:47:30.612059Z",
     "iopub.status.busy": "2025-06-25T20:47:30.611140Z",
     "iopub.status.idle": "2025-06-25T20:47:30.618212Z",
     "shell.execute_reply": "2025-06-25T20:47:30.617200Z"
    },
    "papermill": {
     "duration": 0.016253,
     "end_time": "2025-06-25T20:47:30.619579",
     "exception": false,
     "start_time": "2025-06-25T20:47:30.603326",
     "status": "completed"
    },
    "tags": []
   },
   "outputs": [
    {
     "name": "stdout",
     "output_type": "stream",
     "text": [
      "FamilySize\n",
      "1     0.303538\n",
      "2     0.552795\n",
      "3     0.578431\n",
      "4     0.724138\n",
      "5     0.200000\n",
      "6     0.136364\n",
      "7     0.333333\n",
      "8     0.000000\n",
      "11    0.000000\n",
      "Name: Survived, dtype: float64\n"
     ]
    }
   ],
   "source": [
    "survival_by_family = df.groupby('FamilySize')['Survived'].mean()\n",
    "print(survival_by_family)\n"
   ]
  },
  {
   "cell_type": "code",
   "execution_count": 10,
   "id": "1f029faf",
   "metadata": {
    "execution": {
     "iopub.execute_input": "2025-06-25T20:47:30.634807Z",
     "iopub.status.busy": "2025-06-25T20:47:30.634431Z",
     "iopub.status.idle": "2025-06-25T20:47:30.983137Z",
     "shell.execute_reply": "2025-06-25T20:47:30.982236Z"
    },
    "papermill": {
     "duration": 0.358175,
     "end_time": "2025-06-25T20:47:30.984767",
     "exception": false,
     "start_time": "2025-06-25T20:47:30.626592",
     "status": "completed"
    },
    "tags": []
   },
   "outputs": [
    {
     "data": {
      "image/png": "[encoded data removed]",
      "text/plain": [
       "<Figure size 640x480 with 1 Axes>"
      ]
     },
     "metadata": {},
     "output_type": "display_data"
    }
   ],
   "source": [
    "import seaborn as sns\n",
    "import matplotlib.pyplot as plt\n",
    "\n",
    "sns.barplot(x='FamilySize', y='Survived', data=df)\n",
    "plt.title(\"Survival Rate by Family Size\")\n",
    "plt.ylabel(\"Survival Rate\")\n",
    "plt.xlabel(\"Family Size\")\n",
    "plt.show()\n"
   ]
  },
  {
   "cell_type": "code",
   "execution_count": 11,
   "id": "41bc2d1e",
   "metadata": {
    "execution": {
     "iopub.execute_input": "2025-06-25T20:47:31.001348Z",
     "iopub.status.busy": "2025-06-25T20:47:31.001017Z",
     "iopub.status.idle": "2025-06-25T20:47:31.007269Z",
     "shell.execute_reply": "2025-06-25T20:47:31.006436Z"
    },
    "papermill": {
     "duration": 0.016323,
     "end_time": "2025-06-25T20:47:31.008761",
     "exception": false,
     "start_time": "2025-06-25T20:47:30.992438",
     "status": "completed"
    },
    "tags": []
   },
   "outputs": [],
   "source": [
    "def family_group(size):\n",
    "    if size == 1:\n",
    "        return 'Solo'\n",
    "    elif size <= 4:\n",
    "        return 'Small'\n",
    "    elif size <= 6:\n",
    "        return 'Medium'\n",
    "    else:\n",
    "        return 'Large'\n",
    "\n",
    "df['FamilyGroup'] = df['FamilySize'].apply(family_group)\n"
   ]
  },
  {
   "cell_type": "code",
   "execution_count": 12,
   "id": "239b1ffd",
   "metadata": {
    "execution": {
     "iopub.execute_input": "2025-06-25T20:47:31.024808Z",
     "iopub.status.busy": "2025-06-25T20:47:31.024464Z",
     "iopub.status.idle": "2025-06-25T20:47:31.032497Z",
     "shell.execute_reply": "2025-06-25T20:47:31.031748Z"
    },
    "papermill": {
     "duration": 0.017563,
     "end_time": "2025-06-25T20:47:31.033926",
     "exception": false,
     "start_time": "2025-06-25T20:47:31.016363",
     "status": "completed"
    },
    "tags": []
   },
   "outputs": [
    {
     "data": {
      "text/plain": [
       "Pclass\n",
       "1    84.154687\n",
       "2    20.662183\n",
       "3    13.675550\n",
       "Name: Fare, dtype: float64"
      ]
     },
     "execution_count": 12,
     "metadata": {},
     "output_type": "execute_result"
    }
   ],
   "source": [
    "df.groupby('Pclass')['Fare'].mean()\n"
   ]
  },
  {
   "cell_type": "code",
   "execution_count": 13,
   "id": "2de531d6",
   "metadata": {
    "execution": {
     "iopub.execute_input": "2025-06-25T20:47:31.050297Z",
     "iopub.status.busy": "2025-06-25T20:47:31.049943Z",
     "iopub.status.idle": "2025-06-25T20:47:31.235657Z",
     "shell.execute_reply": "2025-06-25T20:47:31.234761Z"
    },
    "papermill": {
     "duration": 0.195674,
     "end_time": "2025-06-25T20:47:31.237149",
     "exception": false,
     "start_time": "2025-06-25T20:47:31.041475",
     "status": "completed"
    },
    "tags": []
   },
   "outputs": [
    {
     "data": {
      "text/plain": [
       "Text(0.5, 1.0, 'Fare Distribution by Passenger Class')"
      ]
     },
     "execution_count": 13,
     "metadata": {},
     "output_type": "execute_result"
    },
    {
     "data": {
      "image/png": "[encoded data removed]",
      "text/plain": [
       "<Figure size 640x480 with 1 Axes>"
      ]
     },
     "metadata": {},
     "output_type": "display_data"
    }
   ],
   "source": [
    "import seaborn as sns\n",
    "import matplotlib.pyplot as plt\n",
    "\n",
    "sns.boxplot(x='Pclass', y='Fare', data=df)\n",
    "plt.title(\"Fare Distribution by Passenger Class\")\n"
   ]
  },
  {
   "cell_type": "code",
   "execution_count": 14,
   "id": "251087bc",
   "metadata": {
    "execution": {
     "iopub.execute_input": "2025-06-25T20:47:31.255354Z",
     "iopub.status.busy": "2025-06-25T20:47:31.255000Z",
     "iopub.status.idle": "2025-06-25T20:47:31.262041Z",
     "shell.execute_reply": "2025-06-25T20:47:31.261071Z"
    },
    "papermill": {
     "duration": 0.018447,
     "end_time": "2025-06-25T20:47:31.263511",
     "exception": false,
     "start_time": "2025-06-25T20:47:31.245064",
     "status": "completed"
    },
    "tags": []
   },
   "outputs": [],
   "source": [
    "df['Fare_log'] = df['Fare'].apply(lambda x: np.log1p(x))  # log1p handles 0 safely"
   ]
  },
  {
   "cell_type": "code",
   "execution_count": 15,
   "id": "60e2a607",
   "metadata": {
    "execution": {
     "iopub.execute_input": "2025-06-25T20:47:31.280528Z",
     "iopub.status.busy": "2025-06-25T20:47:31.279962Z",
     "iopub.status.idle": "2025-06-25T20:47:31.861348Z",
     "shell.execute_reply": "2025-06-25T20:47:31.860501Z"
    },
    "papermill": {
     "duration": 0.591586,
     "end_time": "2025-06-25T20:47:31.862920",
     "exception": false,
     "start_time": "2025-06-25T20:47:31.271334",
     "status": "completed"
    },
    "tags": []
   },
   "outputs": [
    {
     "name": "stderr",
     "output_type": "stream",
     "text": [
      "/usr/local/lib/python3.11/dist-packages/seaborn/_oldcore.py:1119: FutureWarning: use_inf_as_na option is deprecated and will be removed in a future version. Convert inf values to NaN before operating instead.\n",
      "  with pd.option_context('mode.use_inf_as_na', True):\n",
      "/usr/local/lib/python3.11/dist-packages/seaborn/_oldcore.py:1119: FutureWarning: use_inf_as_na option is deprecated and will be removed in a future version. Convert inf values to NaN before operating instead.\n",
      "  with pd.option_context('mode.use_inf_as_na', True):\n"
     ]
    },
    {
     "data": {
      "image/png": "[encoded data removed]",
      "text/plain": [
       "<Figure size 1200x400 with 2 Axes>"
      ]
     },
     "metadata": {},
     "output_type": "display_data"
    }
   ],
   "source": [
    "import matplotlib.pyplot as plt\n",
    "import seaborn as sns\n",
    "\n",
    "fig, ax = plt.subplots(1, 2, figsize=(12, 4))\n",
    "sns.histplot(df['Fare'], kde=True, ax=ax[0])\n",
    "ax[0].set_title(\"Original Fare Distribution\")\n",
    "\n",
    "sns.histplot(df['Fare_log'], kde=True, ax=ax[1])\n",
    "ax[1].set_title(\"Log-Transformed Fare\")\n",
    "plt.show()\n"
   ]
  },
  {
   "cell_type": "code",
   "execution_count": 16,
   "id": "f213bd43",
   "metadata": {
    "execution": {
     "iopub.execute_input": "2025-06-25T20:47:31.881912Z",
     "iopub.status.busy": "2025-06-25T20:47:31.881641Z",
     "iopub.status.idle": "2025-06-25T20:47:31.899862Z",
     "shell.execute_reply": "2025-06-25T20:47:31.898924Z"
    },
    "papermill": {
     "duration": 0.0292,
     "end_time": "2025-06-25T20:47:31.901427",
     "exception": false,
     "start_time": "2025-06-25T20:47:31.872227",
     "status": "completed"
    },
    "tags": []
   },
   "outputs": [
    {
     "name": "stderr",
     "output_type": "stream",
     "text": [
      "/tmp/ipykernel_13/1198387443.py:5: FutureWarning: A value is trying to be set on a copy of a DataFrame or Series through chained assignment using an inplace method.\n",
      "The behavior will change in pandas 3.0. This inplace method will never work because the intermediate object on which we are setting values always behaves as a copy.\n",
      "\n",
      "For example, when doing 'df[col].method(value, inplace=True)', try using 'df.method({col: value}, inplace=True)' or df[col] = df[col].method(value) instead, to perform the operation inplace on the original object.\n",
      "\n",
      "\n",
      "  df['Embarked'].fillna(df['Embarked'].mode()[0], inplace=True)\n",
      "/tmp/ipykernel_13/1198387443.py:9: FutureWarning: A value is trying to be set on a copy of a DataFrame or Series through chained assignment using an inplace method.\n",
      "The behavior will change in pandas 3.0. This inplace method will never work because the intermediate object on which we are setting values always behaves as a copy.\n",
      "\n",
      "For example, when doing 'df[col].method(value, inplace=True)', try using 'df.method({col: value}, inplace=True)' or df[col] = df[col].method(value) instead, to perform the operation inplace on the original object.\n",
      "\n",
      "\n",
      "  df['Deck'].fillna('U', inplace=True)\n"
     ]
    }
   ],
   "source": [
    "# 1. Impute missing Age using median by Sex and Pclass\n",
    "df['Age'] = df.groupby(['Sex', 'Pclass'])['Age'].transform(lambda x: x.fillna(x.median()))\n",
    "\n",
    "# 2. Impute missing Embarked values with mode\n",
    "df['Embarked'].fillna(df['Embarked'].mode()[0], inplace=True)\n",
    "\n",
    "# 3. Extract Deck from Cabin and impute 'U' (Unknown) for missing cabins\n",
    "df['Deck'] = df['Cabin'].str[0]\n",
    "df['Deck'].fillna('U', inplace=True)"
   ]
  },
  {
   "cell_type": "code",
   "execution_count": 17,
   "id": "1de01716",
   "metadata": {
    "execution": {
     "iopub.execute_input": "2025-06-25T20:47:31.920282Z",
     "iopub.status.busy": "2025-06-25T20:47:31.919928Z",
     "iopub.status.idle": "2025-06-25T20:47:31.928818Z",
     "shell.execute_reply": "2025-06-25T20:47:31.928012Z"
    },
    "papermill": {
     "duration": 0.019937,
     "end_time": "2025-06-25T20:47:31.930212",
     "exception": false,
     "start_time": "2025-06-25T20:47:31.910275",
     "status": "completed"
    },
    "tags": []
   },
   "outputs": [
    {
     "data": {
      "text/plain": [
       "Cabin          687\n",
       "PassengerId      0\n",
       "Survived         0\n",
       "Fare_log         0\n",
       "FamilyGroup      0\n",
       "FamilySize       0\n",
       "CabinClass       0\n",
       "HasCabin         0\n",
       "Embarked         0\n",
       "Fare             0\n",
       "Ticket           0\n",
       "Parch            0\n",
       "SibSp            0\n",
       "Age              0\n",
       "Sex              0\n",
       "dtype: int64"
      ]
     },
     "execution_count": 17,
     "metadata": {},
     "output_type": "execute_result"
    }
   ],
   "source": [
    "df.isnull().sum().sort_values(ascending=False).head(15)"
   ]
  },
  {
   "cell_type": "code",
   "execution_count": 18,
   "id": "ede72797",
   "metadata": {
    "execution": {
     "iopub.execute_input": "2025-06-25T20:47:31.948806Z",
     "iopub.status.busy": "2025-06-25T20:47:31.948462Z",
     "iopub.status.idle": "2025-06-25T20:47:31.953913Z",
     "shell.execute_reply": "2025-06-25T20:47:31.952945Z"
    },
    "papermill": {
     "duration": 0.016546,
     "end_time": "2025-06-25T20:47:31.955386",
     "exception": false,
     "start_time": "2025-06-25T20:47:31.938840",
     "status": "completed"
    },
    "tags": []
   },
   "outputs": [
    {
     "name": "stdout",
     "output_type": "stream",
     "text": [
      "Index(['PassengerId', 'Survived', 'Pclass', 'Name', 'Sex', 'Age', 'SibSp',\n",
      "       'Parch', 'Ticket', 'Fare', 'Cabin', 'Embarked', 'HasCabin',\n",
      "       'CabinClass', 'FamilySize', 'FamilyGroup', 'Fare_log', 'Deck'],\n",
      "      dtype='object')\n"
     ]
    }
   ],
   "source": [
    "print(df.columns)"
   ]
  },
  {
   "cell_type": "code",
   "execution_count": 19,
   "id": "e9fefc9e",
   "metadata": {
    "execution": {
     "iopub.execute_input": "2025-06-25T20:47:31.974117Z",
     "iopub.status.busy": "2025-06-25T20:47:31.973819Z",
     "iopub.status.idle": "2025-06-25T20:47:31.981077Z",
     "shell.execute_reply": "2025-06-25T20:47:31.980206Z"
    },
    "papermill": {
     "duration": 0.018278,
     "end_time": "2025-06-25T20:47:31.982536",
     "exception": false,
     "start_time": "2025-06-25T20:47:31.964258",
     "status": "completed"
    },
    "tags": []
   },
   "outputs": [],
   "source": [
    "df.drop(columns=['Cabin'], inplace=True)\n"
   ]
  },
  {
   "cell_type": "code",
   "execution_count": 20,
   "id": "968fe1a2",
   "metadata": {
    "execution": {
     "iopub.execute_input": "2025-06-25T20:47:32.002587Z",
     "iopub.status.busy": "2025-06-25T20:47:32.001766Z",
     "iopub.status.idle": "2025-06-25T20:47:32.011196Z",
     "shell.execute_reply": "2025-06-25T20:47:32.010205Z"
    },
    "papermill": {
     "duration": 0.020799,
     "end_time": "2025-06-25T20:47:32.012605",
     "exception": false,
     "start_time": "2025-06-25T20:47:31.991806",
     "status": "completed"
    },
    "tags": []
   },
   "outputs": [
    {
     "data": {
      "text/plain": [
       "PassengerId    0\n",
       "Fare           0\n",
       "Fare_log       0\n",
       "FamilyGroup    0\n",
       "FamilySize     0\n",
       "CabinClass     0\n",
       "HasCabin       0\n",
       "Embarked       0\n",
       "Ticket         0\n",
       "Survived       0\n",
       "Parch          0\n",
       "SibSp          0\n",
       "Age            0\n",
       "Sex            0\n",
       "Name           0\n",
       "dtype: int64"
      ]
     },
     "execution_count": 20,
     "metadata": {},
     "output_type": "execute_result"
    }
   ],
   "source": [
    "df.isnull().sum().sort_values(ascending=False).head(15)"
   ]
  },
  {
   "cell_type": "code",
   "execution_count": 21,
   "id": "c64a1a38",
   "metadata": {
    "execution": {
     "iopub.execute_input": "2025-06-25T20:47:32.031961Z",
     "iopub.status.busy": "2025-06-25T20:47:32.031599Z",
     "iopub.status.idle": "2025-06-25T20:47:32.040476Z",
     "shell.execute_reply": "2025-06-25T20:47:32.039045Z"
    },
    "papermill": {
     "duration": 0.020396,
     "end_time": "2025-06-25T20:47:32.042061",
     "exception": false,
     "start_time": "2025-06-25T20:47:32.021665",
     "status": "completed"
    },
    "tags": []
   },
   "outputs": [
    {
     "name": "stdout",
     "output_type": "stream",
     "text": [
      "Index(['Name', 'Sex', 'Ticket', 'Embarked', 'FamilyGroup', 'Deck'], dtype='object')\n",
      "0\n"
     ]
    }
   ],
   "source": [
    "print(df.select_dtypes(include='object').columns)  # Should be empty\n",
    "print(df.isnull().sum().sum()) "
   ]
  },
  {
   "cell_type": "code",
   "execution_count": 22,
   "id": "f672fca8",
   "metadata": {
    "execution": {
     "iopub.execute_input": "2025-06-25T20:47:32.061960Z",
     "iopub.status.busy": "2025-06-25T20:47:32.061612Z",
     "iopub.status.idle": "2025-06-25T20:47:32.069563Z",
     "shell.execute_reply": "2025-06-25T20:47:32.068731Z"
    },
    "papermill": {
     "duration": 0.019381,
     "end_time": "2025-06-25T20:47:32.070976",
     "exception": false,
     "start_time": "2025-06-25T20:47:32.051595",
     "status": "completed"
    },
    "tags": []
   },
   "outputs": [
    {
     "data": {
      "text/plain": [
       "Embarked\n",
       "C    0.553571\n",
       "Q    0.389610\n",
       "S    0.339009\n",
       "Name: Survived, dtype: float64"
      ]
     },
     "execution_count": 22,
     "metadata": {},
     "output_type": "execute_result"
    }
   ],
   "source": [
    "df.groupby('Embarked')['Survived'].mean()\n"
   ]
  },
  {
   "cell_type": "code",
   "execution_count": 23,
   "id": "97245548",
   "metadata": {
    "execution": {
     "iopub.execute_input": "2025-06-25T20:47:32.090517Z",
     "iopub.status.busy": "2025-06-25T20:47:32.090134Z",
     "iopub.status.idle": "2025-06-25T20:47:32.098461Z",
     "shell.execute_reply": "2025-06-25T20:47:32.097440Z"
    },
    "papermill": {
     "duration": 0.019794,
     "end_time": "2025-06-25T20:47:32.100053",
     "exception": false,
     "start_time": "2025-06-25T20:47:32.080259",
     "status": "completed"
    },
    "tags": []
   },
   "outputs": [
    {
     "data": {
      "text/plain": [
       "Sex\n",
       "female    0.742038\n",
       "male      0.188908\n",
       "Name: Survived, dtype: float64"
      ]
     },
     "execution_count": 23,
     "metadata": {},
     "output_type": "execute_result"
    }
   ],
   "source": [
    "df.groupby('Sex')['Survived'].mean()\n"
   ]
  },
  {
   "cell_type": "code",
   "execution_count": 24,
   "id": "fbf6f225",
   "metadata": {
    "execution": {
     "iopub.execute_input": "2025-06-25T20:47:32.120669Z",
     "iopub.status.busy": "2025-06-25T20:47:32.119565Z",
     "iopub.status.idle": "2025-06-25T20:47:32.141950Z",
     "shell.execute_reply": "2025-06-25T20:47:32.140965Z"
    },
    "papermill": {
     "duration": 0.034097,
     "end_time": "2025-06-25T20:47:32.143494",
     "exception": false,
     "start_time": "2025-06-25T20:47:32.109397",
     "status": "completed"
    },
    "tags": []
   },
   "outputs": [
    {
     "name": "stdout",
     "output_type": "stream",
     "text": [
      "       Sex      AgeBin  Survived  Count\n",
      "0   female       Child         0     13\n",
      "1   female       Child         1     19\n",
      "2   female        Teen         0      9\n",
      "3   female        Teen         1     27\n",
      "4   female  YoungAdult         0     43\n",
      "5   female  YoungAdult         1    130\n",
      "6   female       Adult         0     16\n",
      "7   female       Adult         1     54\n",
      "8   female      Senior         0      0\n",
      "9   female      Senior         1      3\n",
      "10    male       Child         0     16\n",
      "11    male       Child         1     21\n",
      "12    male        Teen         0     31\n",
      "13    male        Teen         1      3\n",
      "14    male  YoungAdult         0    287\n",
      "15    male  YoungAdult         1     54\n",
      "16    male       Adult         0    117\n",
      "17    male       Adult         1     29\n",
      "18    male      Senior         0     17\n",
      "19    male      Senior         1      2\n"
     ]
    },
    {
     "name": "stderr",
     "output_type": "stream",
     "text": [
      "/tmp/ipykernel_13/415350966.py:4: FutureWarning: The default of observed=False is deprecated and will be changed to True in a future version of pandas. Pass observed=False to retain current behavior or observed=True to adopt the future default and silence this warning.\n",
      "  grouped = df.groupby(['Sex', 'AgeBin', 'Survived'])['PassengerId'].count().reset_index()\n"
     ]
    }
   ],
   "source": [
    "# Group by Sex, Age (you might want to bin age first), and Survived\n",
    "df['AgeBin'] = pd.cut(df['Age'], bins=[0, 12, 18, 35, 60, 80], labels=['Child', 'Teen', 'YoungAdult', 'Adult', 'Senior'])\n",
    "\n",
    "grouped = df.groupby(['Sex', 'AgeBin', 'Survived'])['PassengerId'].count().reset_index()\n",
    "grouped.rename(columns={'PassengerId': 'Count'}, inplace=True)\n",
    "print(grouped)\n"
   ]
  },
  {
   "cell_type": "code",
   "execution_count": 25,
   "id": "3a55e665",
   "metadata": {
    "execution": {
     "iopub.execute_input": "2025-06-25T20:47:32.226767Z",
     "iopub.status.busy": "2025-06-25T20:47:32.226364Z",
     "iopub.status.idle": "2025-06-25T20:47:32.239612Z",
     "shell.execute_reply": "2025-06-25T20:47:32.238587Z"
    },
    "papermill": {
     "duration": 0.088151,
     "end_time": "2025-06-25T20:47:32.241047",
     "exception": false,
     "start_time": "2025-06-25T20:47:32.152896",
     "status": "completed"
    },
    "tags": []
   },
   "outputs": [
    {
     "name": "stdout",
     "output_type": "stream",
     "text": [
      "      Sex      AgeBin  Survived\n",
      "0  female       Child  0.593750\n",
      "1  female        Teen  0.750000\n",
      "2  female  YoungAdult  0.751445\n",
      "3  female       Adult  0.771429\n",
      "4  female      Senior  1.000000\n",
      "5    male       Child  0.567568\n",
      "6    male        Teen  0.088235\n",
      "7    male  YoungAdult  0.158358\n",
      "8    male       Adult  0.198630\n",
      "9    male      Senior  0.105263\n"
     ]
    },
    {
     "name": "stderr",
     "output_type": "stream",
     "text": [
      "/tmp/ipykernel_13/2632816335.py:1: FutureWarning: The default of observed=False is deprecated and will be changed to True in a future version of pandas. Pass observed=False to retain current behavior or observed=True to adopt the future default and silence this warning.\n",
      "  survival_rate = df.groupby(['Sex', 'AgeBin'])['Survived'].mean().reset_index()\n"
     ]
    }
   ],
   "source": [
    "survival_rate = df.groupby(['Sex', 'AgeBin'])['Survived'].mean().reset_index()\n",
    "print(survival_rate)\n"
   ]
  },
  {
   "cell_type": "code",
   "execution_count": 26,
   "id": "2970f551",
   "metadata": {
    "execution": {
     "iopub.execute_input": "2025-06-25T20:47:32.261870Z",
     "iopub.status.busy": "2025-06-25T20:47:32.261533Z",
     "iopub.status.idle": "2025-06-25T20:47:32.512569Z",
     "shell.execute_reply": "2025-06-25T20:47:32.511551Z"
    },
    "papermill": {
     "duration": 0.263314,
     "end_time": "2025-06-25T20:47:32.514266",
     "exception": false,
     "start_time": "2025-06-25T20:47:32.250952",
     "status": "completed"
    },
    "tags": []
   },
   "outputs": [
    {
     "name": "stderr",
     "output_type": "stream",
     "text": [
      "/usr/local/lib/python3.11/dist-packages/seaborn/categorical.py:641: FutureWarning: The default of observed=False is deprecated and will be changed to True in a future version of pandas. Pass observed=False to retain current behavior or observed=True to adopt the future default and silence this warning.\n",
      "  grouped_vals = vals.groupby(grouper)\n",
      "/usr/local/lib/python3.11/dist-packages/seaborn/categorical.py:641: FutureWarning: The default of observed=False is deprecated and will be changed to True in a future version of pandas. Pass observed=False to retain current behavior or observed=True to adopt the future default and silence this warning.\n",
      "  grouped_vals = vals.groupby(grouper)\n"
     ]
    },
    {
     "data": {
      "image/png": "[encoded data removed]",
      "text/plain": [
       "<Figure size 1000x600 with 1 Axes>"
      ]
     },
     "metadata": {},
     "output_type": "display_data"
    }
   ],
   "source": [
    "import seaborn as sns\n",
    "import matplotlib.pyplot as plt\n",
    "\n",
    "# First, bin ages for grouping\n",
    "df['AgeBin'] = pd.cut(df['Age'], bins=[0, 12, 18, 35, 60, 80], labels=['Child', 'Teen', 'YoungAdult', 'Adult', 'Senior'])\n",
    "\n",
    "# Create a countplot of survival by gender and age group\n",
    "plt.figure(figsize=(10, 6))\n",
    "sns.countplot(data=df, x='AgeBin', hue='Survived', palette='Set2', dodge=True)\n",
    "plt.title('Survival Count by Age Group')\n",
    "plt.xlabel('Age Group')\n",
    "plt.ylabel('Count')\n",
    "plt.legend(title='Survived', labels=['No', 'Yes'])\n",
    "plt.grid(axis='y', linestyle='--', alpha=0.7)\n",
    "plt.tight_layout()\n",
    "plt.show()\n"
   ]
  },
  {
   "cell_type": "code",
   "execution_count": 27,
   "id": "6f10b9e5",
   "metadata": {
    "execution": {
     "iopub.execute_input": "2025-06-25T20:47:32.535708Z",
     "iopub.status.busy": "2025-06-25T20:47:32.535372Z",
     "iopub.status.idle": "2025-06-25T20:47:33.152088Z",
     "shell.execute_reply": "2025-06-25T20:47:33.151226Z"
    },
    "papermill": {
     "duration": 0.629011,
     "end_time": "2025-06-25T20:47:33.153507",
     "exception": false,
     "start_time": "2025-06-25T20:47:32.524496",
     "status": "completed"
    },
    "tags": []
   },
   "outputs": [
    {
     "name": "stderr",
     "output_type": "stream",
     "text": [
      "/usr/local/lib/python3.11/dist-packages/seaborn/categorical.py:641: FutureWarning: The default of observed=False is deprecated and will be changed to True in a future version of pandas. Pass observed=False to retain current behavior or observed=True to adopt the future default and silence this warning.\n",
      "  grouped_vals = vals.groupby(grouper)\n",
      "/usr/local/lib/python3.11/dist-packages/seaborn/categorical.py:641: FutureWarning: The default of observed=False is deprecated and will be changed to True in a future version of pandas. Pass observed=False to retain current behavior or observed=True to adopt the future default and silence this warning.\n",
      "  grouped_vals = vals.groupby(grouper)\n",
      "/usr/local/lib/python3.11/dist-packages/seaborn/categorical.py:641: FutureWarning: The default of observed=False is deprecated and will be changed to True in a future version of pandas. Pass observed=False to retain current behavior or observed=True to adopt the future default and silence this warning.\n",
      "  grouped_vals = vals.groupby(grouper)\n",
      "/usr/local/lib/python3.11/dist-packages/seaborn/categorical.py:641: FutureWarning: The default of observed=False is deprecated and will be changed to True in a future version of pandas. Pass observed=False to retain current behavior or observed=True to adopt the future default and silence this warning.\n",
      "  grouped_vals = vals.groupby(grouper)\n",
      "/usr/local/lib/python3.11/dist-packages/seaborn/axisgrid.py:118: UserWarning: The figure layout has changed to tight\n",
      "  self._figure.tight_layout(*args, **kwargs)\n"
     ]
    },
    {
     "data": {
      "image/png": "[encoded data removed]",
      "text/plain": [
       "<Figure size 1058.88x500 with 2 Axes>"
      ]
     },
     "metadata": {},
     "output_type": "display_data"
    }
   ],
   "source": [
    "import seaborn as sns\n",
    "import matplotlib.pyplot as plt\n",
    "\n",
    "# Make sure AgeBin exists\n",
    "df['AgeBin'] = pd.cut(df['Age'], bins=[0, 12, 18, 35, 60, 80], \n",
    "                      labels=['Child', 'Teen', 'YoungAdult', 'Adult', 'Senior'])\n",
    "\n",
    "# Set up the grid\n",
    "g = sns.catplot(\n",
    "    data=df, kind=\"count\", \n",
    "    x=\"AgeBin\", hue=\"Pclass\", col=\"Sex\",\n",
    "    palette=\"pastel\", edgecolor=\".6\"\n",
    ")\n",
    "\n",
    "g.set_titles(\"Sex: {col_name}\")\n",
    "g.set_axis_labels(\"Age Group\", \"Passenger Count\")\n",
    "g._legend.set_title(\"Pclass\")\n",
    "plt.subplots_adjust(top=0.85)\n",
    "g.fig.suptitle(\"Survival Distribution by Age Group, Class, and Gender\")\n",
    "plt.show()\n"
   ]
  },
  {
   "cell_type": "code",
   "execution_count": 28,
   "id": "475ef36f",
   "metadata": {
    "execution": {
     "iopub.execute_input": "2025-06-25T20:47:33.177384Z",
     "iopub.status.busy": "2025-06-25T20:47:33.177043Z",
     "iopub.status.idle": "2025-06-25T20:47:33.386317Z",
     "shell.execute_reply": "2025-06-25T20:47:33.385485Z"
    },
    "papermill": {
     "duration": 0.223466,
     "end_time": "2025-06-25T20:47:33.387994",
     "exception": false,
     "start_time": "2025-06-25T20:47:33.164528",
     "status": "completed"
    },
    "tags": []
   },
   "outputs": [],
   "source": [
    "from sklearn.preprocessing import LabelEncoder\n",
    "\n",
    "# 1. Encode 'Sex'\n",
    "le = LabelEncoder()\n",
    "df['Sex'] = le.fit_transform(df['Sex'])  # male=0, female=1 (or vice versa)\n",
    "\n",
    "# 2. Extract title from 'Name' and drop 'Name'\n",
    "df['Title'] = df['Name'].str.extract(r',\\s*([^\\.]*)\\s*\\.')\n",
    "df.drop(columns=['Name'], inplace=True)\n",
    "\n",
    "# Optional: consolidate rare titles here if not already done\n",
    "rare_titles = ['Dr', 'Rev', 'Col', 'Major', 'Capt', 'Don', 'Sir', 'Jonkheer', 'Lady', 'Countess', 'Dona']\n",
    "df['Title'] = df['Title'].replace(rare_titles, 'Rare')\n",
    "\n",
    "# 3. Drop or engineer 'Ticket'\n",
    "df.drop(columns=['Ticket'], inplace=True)\n",
    "\n",
    "# 4. One-hot encode selected categorical variables\n",
    "df = pd.get_dummies(df, columns=['Embarked', 'FamilyGroup', 'Deck', 'Title','AgeBin'], drop_first=True)\n"
   ]
  },
  {
   "cell_type": "code",
   "execution_count": 29,
   "id": "4d93c02b",
   "metadata": {
    "execution": {
     "iopub.execute_input": "2025-06-25T20:47:33.412597Z",
     "iopub.status.busy": "2025-06-25T20:47:33.412272Z",
     "iopub.status.idle": "2025-06-25T20:47:33.418408Z",
     "shell.execute_reply": "2025-06-25T20:47:33.417447Z"
    },
    "papermill": {
     "duration": 0.021325,
     "end_time": "2025-06-25T20:47:33.420136",
     "exception": false,
     "start_time": "2025-06-25T20:47:33.398811",
     "status": "completed"
    },
    "tags": []
   },
   "outputs": [
    {
     "name": "stdout",
     "output_type": "stream",
     "text": [
      "Series([], dtype: object)\n"
     ]
    }
   ],
   "source": [
    "# Check data types first\n",
    "print(df.dtypes[df.dtypes == 'object'])\n"
   ]
  },
  {
   "cell_type": "code",
   "execution_count": 30,
   "id": "936595fd",
   "metadata": {
    "execution": {
     "iopub.execute_input": "2025-06-25T20:47:33.443754Z",
     "iopub.status.busy": "2025-06-25T20:47:33.443286Z",
     "iopub.status.idle": "2025-06-25T20:47:33.452871Z",
     "shell.execute_reply": "2025-06-25T20:47:33.451769Z"
    },
    "papermill": {
     "duration": 0.02329,
     "end_time": "2025-06-25T20:47:33.454633",
     "exception": false,
     "start_time": "2025-06-25T20:47:33.431343",
     "status": "completed"
    },
    "tags": []
   },
   "outputs": [
    {
     "name": "stdout",
     "output_type": "stream",
     "text": [
      "PassengerId           0\n",
      "Survived              0\n",
      "Pclass                0\n",
      "Sex                   0\n",
      "Age                   0\n",
      "SibSp                 0\n",
      "Parch                 0\n",
      "Fare                  0\n",
      "HasCabin              0\n",
      "CabinClass            0\n",
      "FamilySize            0\n",
      "Fare_log              0\n",
      "Embarked_Q            0\n",
      "Embarked_S            0\n",
      "FamilyGroup_Medium    0\n",
      "FamilyGroup_Small     0\n",
      "FamilyGroup_Solo      0\n",
      "Deck_B                0\n",
      "Deck_C                0\n",
      "Deck_D                0\n",
      "Deck_E                0\n",
      "Deck_F                0\n",
      "Deck_G                0\n",
      "Deck_T                0\n",
      "Deck_U                0\n",
      "Title_Miss            0\n",
      "Title_Mlle            0\n",
      "Title_Mme             0\n",
      "Title_Mr              0\n",
      "Title_Mrs             0\n",
      "Title_Ms              0\n",
      "Title_Rare            0\n",
      "Title_the Countess    0\n",
      "AgeBin_Teen           0\n",
      "AgeBin_YoungAdult     0\n",
      "AgeBin_Adult          0\n",
      "AgeBin_Senior         0\n",
      "dtype: int64\n",
      "PassengerId             int64\n",
      "Survived                int64\n",
      "Pclass                  int64\n",
      "Sex                     int64\n",
      "Age                   float64\n",
      "SibSp                   int64\n",
      "Parch                   int64\n",
      "Fare                  float64\n",
      "HasCabin                int64\n",
      "CabinClass              int64\n",
      "FamilySize              int64\n",
      "Fare_log              float64\n",
      "Embarked_Q               bool\n",
      "Embarked_S               bool\n",
      "FamilyGroup_Medium       bool\n",
      "FamilyGroup_Small        bool\n",
      "FamilyGroup_Solo         bool\n",
      "Deck_B                   bool\n",
      "Deck_C                   bool\n",
      "Deck_D                   bool\n",
      "Deck_E                   bool\n",
      "Deck_F                   bool\n",
      "Deck_G                   bool\n",
      "Deck_T                   bool\n",
      "Deck_U                   bool\n",
      "Title_Miss               bool\n",
      "Title_Mlle               bool\n",
      "Title_Mme                bool\n",
      "Title_Mr                 bool\n",
      "Title_Mrs                bool\n",
      "Title_Ms                 bool\n",
      "Title_Rare               bool\n",
      "Title_the Countess       bool\n",
      "AgeBin_Teen              bool\n",
      "AgeBin_YoungAdult        bool\n",
      "AgeBin_Adult             bool\n",
      "AgeBin_Senior            bool\n",
      "dtype: object\n"
     ]
    }
   ],
   "source": [
    "# Final check before modeling\n",
    "print(df.isnull().sum())  # make sure no new NaNs were created\n",
    "print(df.dtypes)          # ensure everything is numeric\n"
   ]
  },
  {
   "cell_type": "code",
   "execution_count": 31,
   "id": "ea3a2a15",
   "metadata": {
    "execution": {
     "iopub.execute_input": "2025-06-25T20:47:33.478033Z",
     "iopub.status.busy": "2025-06-25T20:47:33.477691Z",
     "iopub.status.idle": "2025-06-25T20:47:33.482811Z",
     "shell.execute_reply": "2025-06-25T20:47:33.481765Z"
    },
    "papermill": {
     "duration": 0.018452,
     "end_time": "2025-06-25T20:47:33.484347",
     "exception": false,
     "start_time": "2025-06-25T20:47:33.465895",
     "status": "completed"
    },
    "tags": []
   },
   "outputs": [
    {
     "name": "stdout",
     "output_type": "stream",
     "text": [
      "Index(['PassengerId', 'Survived', 'Pclass', 'Sex', 'Age', 'SibSp', 'Parch',\n",
      "       'Fare', 'HasCabin', 'CabinClass', 'FamilySize', 'Fare_log',\n",
      "       'Embarked_Q', 'Embarked_S', 'FamilyGroup_Medium', 'FamilyGroup_Small',\n",
      "       'FamilyGroup_Solo', 'Deck_B', 'Deck_C', 'Deck_D', 'Deck_E', 'Deck_F',\n",
      "       'Deck_G', 'Deck_T', 'Deck_U', 'Title_Miss', 'Title_Mlle', 'Title_Mme',\n",
      "       'Title_Mr', 'Title_Mrs', 'Title_Ms', 'Title_Rare', 'Title_the Countess',\n",
      "       'AgeBin_Teen', 'AgeBin_YoungAdult', 'AgeBin_Adult', 'AgeBin_Senior'],\n",
      "      dtype='object')\n"
     ]
    }
   ],
   "source": [
    "print(df.columns)"
   ]
  },
  {
   "cell_type": "code",
   "execution_count": 32,
   "id": "21b57a2b",
   "metadata": {
    "execution": {
     "iopub.execute_input": "2025-06-25T20:47:33.507702Z",
     "iopub.status.busy": "2025-06-25T20:47:33.507389Z",
     "iopub.status.idle": "2025-06-25T20:47:33.514648Z",
     "shell.execute_reply": "2025-06-25T20:47:33.513716Z"
    },
    "papermill": {
     "duration": 0.020447,
     "end_time": "2025-06-25T20:47:33.515984",
     "exception": false,
     "start_time": "2025-06-25T20:47:33.495537",
     "status": "completed"
    },
    "tags": []
   },
   "outputs": [
    {
     "name": "stdout",
     "output_type": "stream",
     "text": [
      "Index([], dtype='object')\n",
      "0\n"
     ]
    }
   ],
   "source": [
    "print(df.select_dtypes(include='object').columns)  # Should be empty\n",
    "print(df.isnull().sum().sum()) "
   ]
  },
  {
   "cell_type": "code",
   "execution_count": 33,
   "id": "5b873ade",
   "metadata": {
    "execution": {
     "iopub.execute_input": "2025-06-25T20:47:33.539089Z",
     "iopub.status.busy": "2025-06-25T20:47:33.538749Z",
     "iopub.status.idle": "2025-06-25T20:47:33.545473Z",
     "shell.execute_reply": "2025-06-25T20:47:33.544756Z"
    },
    "papermill": {
     "duration": 0.019839,
     "end_time": "2025-06-25T20:47:33.546818",
     "exception": false,
     "start_time": "2025-06-25T20:47:33.526979",
     "status": "completed"
    },
    "tags": []
   },
   "outputs": [],
   "source": [
    "X = df.drop(columns=['Survived', 'PassengerId'])  # drop ID and target\n",
    "y = df['Survived']\n"
   ]
  },
  {
   "cell_type": "code",
   "execution_count": 34,
   "id": "6e17e73a",
   "metadata": {
    "execution": {
     "iopub.execute_input": "2025-06-25T20:47:33.570223Z",
     "iopub.status.busy": "2025-06-25T20:47:33.569877Z",
     "iopub.status.idle": "2025-06-25T20:47:33.711752Z",
     "shell.execute_reply": "2025-06-25T20:47:33.710855Z"
    },
    "papermill": {
     "duration": 0.15559,
     "end_time": "2025-06-25T20:47:33.713395",
     "exception": false,
     "start_time": "2025-06-25T20:47:33.557805",
     "status": "completed"
    },
    "tags": []
   },
   "outputs": [],
   "source": [
    "from sklearn.model_selection import train_test_split\n",
    "\n",
    "X_train, X_valid, y_train, y_valid = train_test_split(\n",
    "    X, y, test_size=0.2, random_state=42, stratify=y\n",
    ")\n"
   ]
  },
  {
   "cell_type": "code",
   "execution_count": 35,
   "id": "e7890e70",
   "metadata": {
    "execution": {
     "iopub.execute_input": "2025-06-25T20:47:33.737018Z",
     "iopub.status.busy": "2025-06-25T20:47:33.736434Z",
     "iopub.status.idle": "2025-06-25T20:47:33.741319Z",
     "shell.execute_reply": "2025-06-25T20:47:33.740478Z"
    },
    "papermill": {
     "duration": 0.018454,
     "end_time": "2025-06-25T20:47:33.742865",
     "exception": false,
     "start_time": "2025-06-25T20:47:33.724411",
     "status": "completed"
    },
    "tags": []
   },
   "outputs": [],
   "source": [
    "X_train.columns = X_train.columns.str.replace(' ', '_')\n"
   ]
  },
  {
   "cell_type": "code",
   "execution_count": 36,
   "id": "37f796f5",
   "metadata": {
    "execution": {
     "iopub.execute_input": "2025-06-25T20:47:33.765947Z",
     "iopub.status.busy": "2025-06-25T20:47:33.765627Z",
     "iopub.status.idle": "2025-06-25T20:47:39.963898Z",
     "shell.execute_reply": "2025-06-25T20:47:39.963026Z"
    },
    "papermill": {
     "duration": 6.211974,
     "end_time": "2025-06-25T20:47:39.965723",
     "exception": false,
     "start_time": "2025-06-25T20:47:33.753749",
     "status": "completed"
    },
    "tags": []
   },
   "outputs": [
    {
     "name": "stdout",
     "output_type": "stream",
     "text": [
      "[LightGBM] [Info] Number of positive: 273, number of negative: 439\n",
      "[LightGBM] [Info] Auto-choosing row-wise multi-threading, the overhead of testing was 0.003889 seconds.\n",
      "You can set `force_row_wise=true` to remove the overhead.\n",
      "And if memory is not enough, you can set `force_col_wise=true`.\n",
      "[LightGBM] [Info] Total Bins 384\n",
      "[LightGBM] [Info] Number of data points in the train set: 712, number of used features: 33\n",
      "[LightGBM] [Info] [binary:BoostFromScore]: pavg=0.383427 -> initscore=-0.475028\n",
      "[LightGBM] [Info] Start training from score -0.475028\n"
     ]
    },
    {
     "data": {
      "text/html": [
       "<style>#sk-container-id-1 {color: black;background-color: white;}#sk-container-id-1 pre{padding: 0;}#sk-container-id-1 div.sk-toggleable {background-color: white;}#sk-container-id-1 label.sk-toggleable__label {cursor: pointer;display: block;width: 100%;margin-bottom: 0;padding: 0.3em;box-sizing: border-box;text-align: center;}#sk-container-id-1 label.sk-toggleable__label-arrow:before {content: \"▸\";float: left;margin-right: 0.25em;color: #696969;}#sk-container-id-1 label.sk-toggleable__label-arrow:hover:before {color: black;}#sk-container-id-1 div.sk-estimator:hover label.sk-toggleable__label-arrow:before {color: black;}#sk-container-id-1 div.sk-toggleable__content {max-height: 0;max-width: 0;overflow: hidden;text-align: left;background-color: #f0f8ff;}#sk-container-id-1 div.sk-toggleable__content pre {margin: 0.2em;color: black;border-radius: 0.25em;background-color: #f0f8ff;}#sk-container-id-1 input.sk-toggleable__control:checked~div.sk-toggleable__content {max-height: 200px;max-width: 100%;overflow: auto;}#sk-container-id-1 input.sk-toggleable__control:checked~label.sk-toggleable__label-arrow:before {content: \"▾\";}#sk-container-id-1 div.sk-estimator input.sk-toggleable__control:checked~label.sk-toggleable__label {background-color: #d4ebff;}#sk-container-id-1 div.sk-label input.sk-toggleable__control:checked~label.sk-toggleable__label {background-color: #d4ebff;}#sk-container-id-1 input.sk-hidden--visually {border: 0;clip: rect(1px 1px 1px 1px);clip: rect(1px, 1px, 1px, 1px);height: 1px;margin: -1px;overflow: hidden;padding: 0;position: absolute;width: 1px;}#sk-container-id-1 div.sk-estimator {font-family: monospace;background-color: #f0f8ff;border: 1px dotted black;border-radius: 0.25em;box-sizing: border-box;margin-bottom: 0.5em;}#sk-container-id-1 div.sk-estimator:hover {background-color: #d4ebff;}#sk-container-id-1 div.sk-parallel-item::after {content: \"\";width: 100%;border-bottom: 1px solid gray;flex-grow: 1;}#sk-container-id-1 div.sk-label:hover label.sk-toggleable__label {background-color: #d4ebff;}#sk-container-id-1 div.sk-serial::before {content: \"\";position: absolute;border-left: 1px solid gray;box-sizing: border-box;top: 0;bottom: 0;left: 50%;z-index: 0;}#sk-container-id-1 div.sk-serial {display: flex;flex-direction: column;align-items: center;background-color: white;padding-right: 0.2em;padding-left: 0.2em;position: relative;}#sk-container-id-1 div.sk-item {position: relative;z-index: 1;}#sk-container-id-1 div.sk-parallel {display: flex;align-items: stretch;justify-content: center;background-color: white;position: relative;}#sk-container-id-1 div.sk-item::before, #sk-container-id-1 div.sk-parallel-item::before {content: \"\";position: absolute;border-left: 1px solid gray;box-sizing: border-box;top: 0;bottom: 0;left: 50%;z-index: -1;}#sk-container-id-1 div.sk-parallel-item {display: flex;flex-direction: column;z-index: 1;position: relative;background-color: white;}#sk-container-id-1 div.sk-parallel-item:first-child::after {align-self: flex-end;width: 50%;}#sk-container-id-1 div.sk-parallel-item:last-child::after {align-self: flex-start;width: 50%;}#sk-container-id-1 div.sk-parallel-item:only-child::after {width: 0;}#sk-container-id-1 div.sk-dashed-wrapped {border: 1px dashed gray;margin: 0 0.4em 0.5em 0.4em;box-sizing: border-box;padding-bottom: 0.4em;background-color: white;}#sk-container-id-1 div.sk-label label {font-family: monospace;font-weight: bold;display: inline-block;line-height: 1.2em;}#sk-container-id-1 div.sk-label-container {text-align: center;}#sk-container-id-1 div.sk-container {/* jupyter's `normalize.less` sets `[hidden] { display: none; }` but bootstrap.min.css set `[hidden] { display: none !important; }` so we also need the `!important` here to be able to override the default hidden behavior on the sphinx rendered scikit-learn.org. See: https://github.com/scikit-learn/scikit-learn/issues/21755 */display: inline-block !important;position: relative;}#sk-container-id-1 div.sk-text-repr-fallback {display: none;}</style><div id=\"sk-container-id-1\" class=\"sk-top-container\"><div class=\"sk-text-repr-fallback\"><pre>LGBMClassifier(min_child_samples=1, min_split_gain=0, num_leaves=64,\n",
       "               random_state=42)</pre><b>In a Jupyter environment, please rerun this cell to show the HTML representation or trust the notebook. <br />On GitHub, the HTML representation is unable to render, please try loading this page with nbviewer.org.</b></div><div class=\"sk-container\" hidden><div class=\"sk-item\"><div class=\"sk-estimator sk-toggleable\"><input class=\"sk-toggleable__control sk-hidden--visually\" id=\"sk-estimator-id-1\" type=\"checkbox\" checked><label for=\"sk-estimator-id-1\" class=\"sk-toggleable__label sk-toggleable__label-arrow\">LGBMClassifier</label><div class=\"sk-toggleable__content\"><pre>LGBMClassifier(min_child_samples=1, min_split_gain=0, num_leaves=64,\n",
       "               random_state=42)</pre></div></div></div></div></div>"
      ],
      "text/plain": [
       "LGBMClassifier(min_child_samples=1, min_split_gain=0, num_leaves=64,\n",
       "               random_state=42)"
      ]
     },
     "execution_count": 36,
     "metadata": {},
     "output_type": "execute_result"
    }
   ],
   "source": [
    "from lightgbm import LGBMClassifier\n",
    "\n",
    "model = LGBMClassifier(\n",
    "    n_estimators=100,\n",
    "    num_leaves=64,\n",
    "    min_child_samples=1,\n",
    "    min_split_gain=0,\n",
    "    max_depth=-1,\n",
    "    random_state=42\n",
    ")\n",
    "\n",
    "model.fit(X_train, y_train)\n"
   ]
  },
  {
   "cell_type": "code",
   "execution_count": 37,
   "id": "a57fb182",
   "metadata": {
    "execution": {
     "iopub.execute_input": "2025-06-25T20:47:39.990939Z",
     "iopub.status.busy": "2025-06-25T20:47:39.990313Z",
     "iopub.status.idle": "2025-06-25T20:47:40.000902Z",
     "shell.execute_reply": "2025-06-25T20:47:40.000020Z"
    },
    "papermill": {
     "duration": 0.024798,
     "end_time": "2025-06-25T20:47:40.002430",
     "exception": false,
     "start_time": "2025-06-25T20:47:39.977632",
     "status": "completed"
    },
    "tags": []
   },
   "outputs": [
    {
     "data": {
      "text/plain": [
       "Survived\n",
       "0    0.616573\n",
       "1    0.383427\n",
       "Name: proportion, dtype: float64"
      ]
     },
     "execution_count": 37,
     "metadata": {},
     "output_type": "execute_result"
    }
   ],
   "source": [
    "y_train.value_counts(normalize=True)\n"
   ]
  },
  {
   "cell_type": "code",
   "execution_count": 38,
   "id": "48e81d50",
   "metadata": {
    "execution": {
     "iopub.execute_input": "2025-06-25T20:47:40.027299Z",
     "iopub.status.busy": "2025-06-25T20:47:40.026963Z",
     "iopub.status.idle": "2025-06-25T20:47:40.032110Z",
     "shell.execute_reply": "2025-06-25T20:47:40.031246Z"
    },
    "papermill": {
     "duration": 0.019552,
     "end_time": "2025-06-25T20:47:40.033683",
     "exception": false,
     "start_time": "2025-06-25T20:47:40.014131",
     "status": "completed"
    },
    "tags": []
   },
   "outputs": [],
   "source": [
    "X_train.columns = X_train.columns.str.replace(' ', '_')\n",
    "X_valid.columns = X_valid.columns.str.replace(' ', '_')\n"
   ]
  },
  {
   "cell_type": "code",
   "execution_count": 39,
   "id": "40eb1832",
   "metadata": {
    "execution": {
     "iopub.execute_input": "2025-06-25T20:47:40.059292Z",
     "iopub.status.busy": "2025-06-25T20:47:40.058955Z",
     "iopub.status.idle": "2025-06-25T20:47:40.063606Z",
     "shell.execute_reply": "2025-06-25T20:47:40.062855Z"
    },
    "papermill": {
     "duration": 0.018903,
     "end_time": "2025-06-25T20:47:40.065103",
     "exception": false,
     "start_time": "2025-06-25T20:47:40.046200",
     "status": "completed"
    },
    "tags": []
   },
   "outputs": [],
   "source": [
    "df.columns = df.columns.str.replace(' ', '_')\n"
   ]
  },
  {
   "cell_type": "code",
   "execution_count": 40,
   "id": "127f81fb",
   "metadata": {
    "execution": {
     "iopub.execute_input": "2025-06-25T20:47:40.090295Z",
     "iopub.status.busy": "2025-06-25T20:47:40.089398Z",
     "iopub.status.idle": "2025-06-25T20:47:40.094030Z",
     "shell.execute_reply": "2025-06-25T20:47:40.092972Z"
    },
    "papermill": {
     "duration": 0.018757,
     "end_time": "2025-06-25T20:47:40.095644",
     "exception": false,
     "start_time": "2025-06-25T20:47:40.076887",
     "status": "completed"
    },
    "tags": []
   },
   "outputs": [],
   "source": [
    "assert list(X_train.columns) == list(X_valid.columns)\n"
   ]
  }
 ],
 "metadata": {
  "kaggle": {
   "accelerator": "none",
   "dataSources": [
    {
     "datasetId": 7741954,
     "sourceId": 12284545,
     "sourceType": "datasetVersion"
    }
   ],
   "dockerImageVersionId": 31040,
   "isGpuEnabled": false,
   "isInternetEnabled": true,
   "language": "python",
   "sourceType": "notebook"
  },
  "kernelspec": {
   "display_name": "Python 3",
   "language": "python",
   "name": "python3"
  },
  "language_info": {
   "codemirror_mode": {
    "name": "ipython",
    "version": 3
   },
   "file_extension": ".py",
   "mimetype": "text/x-python",
   "name": "python",
   "nbconvert_exporter": "python",
   "pygments_lexer": "ipython3",
   "version": "3.11.11"
  },
  "papermill": {
   "default_parameters": {},
   "duration": 19.911229,
   "end_time": "2025-06-25T20:47:41.128536",
   "environment_variables": {},
   "exception": null,
   "input_path": "__notebook__.ipynb",
   "output_path": "__notebook__.ipynb",
   "parameters": {},
   "start_time": "2025-06-25T20:47:21.217307",
   "version": "2.6.0"
  }
 },
 "nbformat": 4,
 "nbformat_minor": 5
}
