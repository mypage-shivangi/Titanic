{
 "cells": [
  {
   "cell_type": "code",
   "execution_count": 1,
   "id": "58de9717",
   "metadata": {
    "_cell_guid": "b1076dfc-b9ad-4769-8c92-a6c4dae69d19",
    "_uuid": "8f2839f25d086af736a60e9eeb907d3b93b6e0e5",
    "execution": {
     "iopub.execute_input": "2025-06-26T07:29:12.944095Z",
     "iopub.status.busy": "2025-06-26T07:29:12.943212Z",
     "iopub.status.idle": "2025-06-26T07:29:15.008452Z",
     "shell.execute_reply": "2025-06-26T07:29:15.007320Z"
    },
    "papermill": {
     "duration": 2.080286,
     "end_time": "2025-06-26T07:29:15.010107",
     "exception": false,
     "start_time": "2025-06-26T07:29:12.929821",
     "status": "completed"
    },
    "tags": []
   },
   "outputs": [
    {
     "name": "stdout",
     "output_type": "stream",
     "text": [
      "/kaggle/input/testtc/test.csv\n",
      "/kaggle/input/traintc/train.csv\n"
     ]
    }
   ],
   "source": [
    "# This Python 3 environment comes with many helpful analytics libraries installed\n",
    "# It is defined by the kaggle/python Docker image: https://github.com/kaggle/docker-python\n",
    "# For example, here's several helpful packages to load\n",
    "\n",
    "import numpy as np # linear algebra\n",
    "import pandas as pd # data processing, CSV file I/O (e.g. pd.read_csv)\n",
    "\n",
    "# Input data files are available in the read-only \"../input/\" directory\n",
    "# For example, running this (by clicking run or pressing Shift+Enter) will list all files under the input directory\n",
    "\n",
    "import os\n",
    "for dirname, _, filenames in os.walk('/kaggle/input'):\n",
    "    for filename in filenames:\n",
    "        print(os.path.join(dirname, filename))\n",
    "\n",
    "# You can write up to 20GB to the current directory (/kaggle/working/) that gets preserved as output when you create a version using \"Save & Run All\" \n",
    "# You can also write temporary files to /kaggle/temp/, but they won't be saved outside of the current session"
   ]
  },
  {
   "cell_type": "code",
   "execution_count": 2,
   "id": "aa34eab1",
   "metadata": {
    "execution": {
     "iopub.execute_input": "2025-06-26T07:29:15.033303Z",
     "iopub.status.busy": "2025-06-26T07:29:15.032887Z",
     "iopub.status.idle": "2025-06-26T07:29:15.097688Z",
     "shell.execute_reply": "2025-06-26T07:29:15.096712Z"
    },
    "papermill": {
     "duration": 0.07822,
     "end_time": "2025-06-26T07:29:15.099442",
     "exception": false,
     "start_time": "2025-06-26T07:29:15.021222",
     "status": "completed"
    },
    "tags": []
   },
   "outputs": [],
   "source": [
    "df=pd.read_csv('/kaggle/input/traintc/train.csv')\n",
    "test_data = pd.read_csv('/kaggle/input/testtc/test.csv')\n",
    "combined = pd.concat([df, test_data], sort=False)\n",
    "df=combined"
   ]
  },
  {
   "cell_type": "code",
   "execution_count": 3,
   "id": "2da76ab7",
   "metadata": {
    "execution": {
     "iopub.execute_input": "2025-06-26T07:29:15.122454Z",
     "iopub.status.busy": "2025-06-26T07:29:15.122156Z",
     "iopub.status.idle": "2025-06-26T07:29:15.135785Z",
     "shell.execute_reply": "2025-06-26T07:29:15.134596Z"
    },
    "papermill": {
     "duration": 0.026931,
     "end_time": "2025-06-26T07:29:15.137326",
     "exception": false,
     "start_time": "2025-06-26T07:29:15.110395",
     "status": "completed"
    },
    "tags": []
   },
   "outputs": [
    {
     "name": "stdout",
     "output_type": "stream",
     "text": [
      "   PassengerId  Survived  Pclass  \\\n",
      "0            1       0.0       3   \n",
      "1            2       1.0       1   \n",
      "2            3       1.0       3   \n",
      "3            4       1.0       1   \n",
      "4            5       0.0       3   \n",
      "\n",
      "                                                Name     Sex   Age  SibSp  \\\n",
      "0                            Braund, Mr. Owen Harris    male  22.0      1   \n",
      "1  Cumings, Mrs. John Bradley (Florence Briggs Th...  female  38.0      1   \n",
      "2                             Heikkinen, Miss. Laina  female  26.0      0   \n",
      "3       Futrelle, Mrs. Jacques Heath (Lily May Peel)  female  35.0      1   \n",
      "4                           Allen, Mr. William Henry    male  35.0      0   \n",
      "\n",
      "   Parch            Ticket     Fare Cabin Embarked  \n",
      "0      0         A/5 21171   7.2500   NaN        S  \n",
      "1      0          PC 17599  71.2833   C85        C  \n",
      "2      0  STON/O2. 3101282   7.9250   NaN        S  \n",
      "3      0            113803  53.1000  C123        S  \n",
      "4      0            373450   8.0500   NaN        S  \n"
     ]
    }
   ],
   "source": [
    "print(df.head())"
   ]
  },
  {
   "cell_type": "code",
   "execution_count": 4,
   "id": "d878b0ff",
   "metadata": {
    "execution": {
     "iopub.execute_input": "2025-06-26T07:29:15.161346Z",
     "iopub.status.busy": "2025-06-26T07:29:15.160672Z",
     "iopub.status.idle": "2025-06-26T07:29:15.166319Z",
     "shell.execute_reply": "2025-06-26T07:29:15.165574Z"
    },
    "papermill": {
     "duration": 0.01897,
     "end_time": "2025-06-26T07:29:15.167805",
     "exception": false,
     "start_time": "2025-06-26T07:29:15.148835",
     "status": "completed"
    },
    "tags": []
   },
   "outputs": [],
   "source": [
    "df['HasCabin'] = df['Cabin'].notnull().astype(int)\n"
   ]
  },
  {
   "cell_type": "code",
   "execution_count": 5,
   "id": "8f13db5c",
   "metadata": {
    "execution": {
     "iopub.execute_input": "2025-06-26T07:29:15.191032Z",
     "iopub.status.busy": "2025-06-26T07:29:15.190393Z",
     "iopub.status.idle": "2025-06-26T07:29:15.201817Z",
     "shell.execute_reply": "2025-06-26T07:29:15.200797Z"
    },
    "papermill": {
     "duration": 0.024307,
     "end_time": "2025-06-26T07:29:15.203076",
     "exception": false,
     "start_time": "2025-06-26T07:29:15.178769",
     "status": "completed"
    },
    "tags": []
   },
   "outputs": [
    {
     "name": "stdout",
     "output_type": "stream",
     "text": [
      "Pclass\n",
      "1    0.792570\n",
      "2    0.083032\n",
      "3    0.022567\n",
      "Name: HasCabin, dtype: float64\n"
     ]
    }
   ],
   "source": [
    "cabin_by_class = df.groupby('Pclass')['HasCabin'].mean()\n",
    "print(cabin_by_class)\n"
   ]
  },
  {
   "cell_type": "code",
   "execution_count": 6,
   "id": "3d3ff264",
   "metadata": {
    "execution": {
     "iopub.execute_input": "2025-06-26T07:29:15.228409Z",
     "iopub.status.busy": "2025-06-26T07:29:15.227572Z",
     "iopub.status.idle": "2025-06-26T07:29:17.544071Z",
     "shell.execute_reply": "2025-06-26T07:29:17.543220Z"
    },
    "papermill": {
     "duration": 2.32971,
     "end_time": "2025-06-26T07:29:17.545485",
     "exception": false,
     "start_time": "2025-06-26T07:29:15.215775",
     "status": "completed"
    },
    "tags": []
   },
   "outputs": [
    {
     "data": {
      "image/png": "[encoded data removed]",
      "text/plain": [
       "<Figure size 640x480 with 1 Axes>"
      ]
     },
     "metadata": {},
     "output_type": "display_data"
    }
   ],
   "source": [
    "import seaborn as sns\n",
    "import matplotlib.pyplot as plt\n",
    "\n",
    "sns.barplot(x='Pclass', y='HasCabin', data=df)\n",
    "plt.title(\"Proportion of Passengers with Cabin by Class\")\n",
    "plt.ylabel(\"Has Cabin (1 = Yes, 0 = No)\")\n",
    "plt.show()\n"
   ]
  },
  {
   "cell_type": "code",
   "execution_count": 7,
   "id": "adba52ef",
   "metadata": {
    "execution": {
     "iopub.execute_input": "2025-06-26T07:29:17.569938Z",
     "iopub.status.busy": "2025-06-26T07:29:17.569425Z",
     "iopub.status.idle": "2025-06-26T07:29:17.575775Z",
     "shell.execute_reply": "2025-06-26T07:29:17.574987Z"
    },
    "papermill": {
     "duration": 0.019986,
     "end_time": "2025-06-26T07:29:17.577140",
     "exception": false,
     "start_time": "2025-06-26T07:29:17.557154",
     "status": "completed"
    },
    "tags": []
   },
   "outputs": [],
   "source": [
    "df['HasCabin'] = df['Cabin'].notnull().astype(int)\n",
    "df['CabinClass'] = df['Pclass'] * df['HasCabin']\n"
   ]
  },
  {
   "cell_type": "code",
   "execution_count": 8,
   "id": "8f5fecde",
   "metadata": {
    "execution": {
     "iopub.execute_input": "2025-06-26T07:29:17.601717Z",
     "iopub.status.busy": "2025-06-26T07:29:17.601404Z",
     "iopub.status.idle": "2025-06-26T07:29:17.606784Z",
     "shell.execute_reply": "2025-06-26T07:29:17.606027Z"
    },
    "papermill": {
     "duration": 0.019207,
     "end_time": "2025-06-26T07:29:17.608088",
     "exception": false,
     "start_time": "2025-06-26T07:29:17.588881",
     "status": "completed"
    },
    "tags": []
   },
   "outputs": [],
   "source": [
    "df['FamilySize'] = df['SibSp'] + df['Parch'] + 1  # +1 includes the passenger themself\n"
   ]
  },
  {
   "cell_type": "code",
   "execution_count": 9,
   "id": "050ed6d9",
   "metadata": {
    "execution": {
     "iopub.execute_input": "2025-06-26T07:29:17.632202Z",
     "iopub.status.busy": "2025-06-26T07:29:17.631554Z",
     "iopub.status.idle": "2025-06-26T07:29:17.638572Z",
     "shell.execute_reply": "2025-06-26T07:29:17.637612Z"
    },
    "papermill": {
     "duration": 0.020743,
     "end_time": "2025-06-26T07:29:17.640223",
     "exception": false,
     "start_time": "2025-06-26T07:29:17.619480",
     "status": "completed"
    },
    "tags": []
   },
   "outputs": [
    {
     "name": "stdout",
     "output_type": "stream",
     "text": [
      "FamilySize\n",
      "1     0.303538\n",
      "2     0.552795\n",
      "3     0.578431\n",
      "4     0.724138\n",
      "5     0.200000\n",
      "6     0.136364\n",
      "7     0.333333\n",
      "8     0.000000\n",
      "11    0.000000\n",
      "Name: Survived, dtype: float64\n"
     ]
    }
   ],
   "source": [
    "survival_by_family = df.groupby('FamilySize')['Survived'].mean()\n",
    "print(survival_by_family)\n"
   ]
  },
  {
   "cell_type": "code",
   "execution_count": 10,
   "id": "ffe4d535",
   "metadata": {
    "execution": {
     "iopub.execute_input": "2025-06-26T07:29:17.665291Z",
     "iopub.status.busy": "2025-06-26T07:29:17.664597Z",
     "iopub.status.idle": "2025-06-26T07:29:18.311609Z",
     "shell.execute_reply": "2025-06-26T07:29:18.310766Z"
    },
    "papermill": {
     "duration": 0.661188,
     "end_time": "2025-06-26T07:29:18.313128",
     "exception": false,
     "start_time": "2025-06-26T07:29:17.651940",
     "status": "completed"
    },
    "tags": []
   },
   "outputs": [
    {
     "data": {
      "image/png": "[encoded data removed]",
      "text/plain": [
       "<Figure size 640x480 with 1 Axes>"
      ]
     },
     "metadata": {},
     "output_type": "display_data"
    }
   ],
   "source": [
    "import seaborn as sns\n",
    "import matplotlib.pyplot as plt\n",
    "\n",
    "sns.barplot(x='FamilySize', y='Survived', data=df)\n",
    "plt.title(\"Survival Rate by Family Size\")\n",
    "plt.ylabel(\"Survival Rate\")\n",
    "plt.xlabel(\"Family Size\")\n",
    "plt.show()\n"
   ]
  },
  {
   "cell_type": "code",
   "execution_count": 11,
   "id": "ba105cb0",
   "metadata": {
    "execution": {
     "iopub.execute_input": "2025-06-26T07:29:18.338632Z",
     "iopub.status.busy": "2025-06-26T07:29:18.338334Z",
     "iopub.status.idle": "2025-06-26T07:29:18.344341Z",
     "shell.execute_reply": "2025-06-26T07:29:18.343515Z"
    },
    "papermill": {
     "duration": 0.020337,
     "end_time": "2025-06-26T07:29:18.345807",
     "exception": false,
     "start_time": "2025-06-26T07:29:18.325470",
     "status": "completed"
    },
    "tags": []
   },
   "outputs": [],
   "source": [
    "def family_group(size):\n",
    "    if size == 1:\n",
    "        return 'Solo'\n",
    "    elif size <= 4:\n",
    "        return 'Small'\n",
    "    elif size <= 6:\n",
    "        return 'Medium'\n",
    "    else:\n",
    "        return 'Large'\n",
    "\n",
    "df['FamilyGroup'] = df['FamilySize'].apply(family_group)\n"
   ]
  },
  {
   "cell_type": "code",
   "execution_count": 12,
   "id": "f4ce6685",
   "metadata": {
    "execution": {
     "iopub.execute_input": "2025-06-26T07:29:18.370660Z",
     "iopub.status.busy": "2025-06-26T07:29:18.370322Z",
     "iopub.status.idle": "2025-06-26T07:29:18.377988Z",
     "shell.execute_reply": "2025-06-26T07:29:18.377238Z"
    },
    "papermill": {
     "duration": 0.0216,
     "end_time": "2025-06-26T07:29:18.379292",
     "exception": false,
     "start_time": "2025-06-26T07:29:18.357692",
     "status": "completed"
    },
    "tags": []
   },
   "outputs": [
    {
     "data": {
      "text/plain": [
       "Pclass\n",
       "1    87.508992\n",
       "2    21.179196\n",
       "3    13.302889\n",
       "Name: Fare, dtype: float64"
      ]
     },
     "execution_count": 12,
     "metadata": {},
     "output_type": "execute_result"
    }
   ],
   "source": [
    "df.groupby('Pclass')['Fare'].mean()\n"
   ]
  },
  {
   "cell_type": "code",
   "execution_count": 13,
   "id": "864e96de",
   "metadata": {
    "execution": {
     "iopub.execute_input": "2025-06-26T07:29:18.404794Z",
     "iopub.status.busy": "2025-06-26T07:29:18.404036Z",
     "iopub.status.idle": "2025-06-26T07:29:18.585841Z",
     "shell.execute_reply": "2025-06-26T07:29:18.584788Z"
    },
    "papermill": {
     "duration": 0.195933,
     "end_time": "2025-06-26T07:29:18.587312",
     "exception": false,
     "start_time": "2025-06-26T07:29:18.391379",
     "status": "completed"
    },
    "tags": []
   },
   "outputs": [
    {
     "data": {
      "text/plain": [
       "Text(0.5, 1.0, 'Fare Distribution by Passenger Class')"
      ]
     },
     "execution_count": 13,
     "metadata": {},
     "output_type": "execute_result"
    },
    {
     "data": {
      "image/png": "[encoded data removed]",
      "text/plain": [
       "<Figure size 640x480 with 1 Axes>"
      ]
     },
     "metadata": {},
     "output_type": "display_data"
    }
   ],
   "source": [
    "import seaborn as sns\n",
    "import matplotlib.pyplot as plt\n",
    "\n",
    "sns.boxplot(x='Pclass', y='Fare', data=df)\n",
    "plt.title(\"Fare Distribution by Passenger Class\")\n"
   ]
  },
  {
   "cell_type": "code",
   "execution_count": 14,
   "id": "6c1e67f1",
   "metadata": {
    "execution": {
     "iopub.execute_input": "2025-06-26T07:29:18.614111Z",
     "iopub.status.busy": "2025-06-26T07:29:18.613668Z",
     "iopub.status.idle": "2025-06-26T07:29:18.621145Z",
     "shell.execute_reply": "2025-06-26T07:29:18.620280Z"
    },
    "papermill": {
     "duration": 0.022675,
     "end_time": "2025-06-26T07:29:18.622564",
     "exception": false,
     "start_time": "2025-06-26T07:29:18.599889",
     "status": "completed"
    },
    "tags": []
   },
   "outputs": [],
   "source": [
    "df['Fare_log'] = df['Fare'].apply(lambda x: np.log1p(x))  # log1p handles 0 safely"
   ]
  },
  {
   "cell_type": "code",
   "execution_count": 15,
   "id": "23a9929d",
   "metadata": {
    "execution": {
     "iopub.execute_input": "2025-06-26T07:29:18.649948Z",
     "iopub.status.busy": "2025-06-26T07:29:18.649282Z",
     "iopub.status.idle": "2025-06-26T07:29:19.280531Z",
     "shell.execute_reply": "2025-06-26T07:29:19.279684Z"
    },
    "papermill": {
     "duration": 0.646733,
     "end_time": "2025-06-26T07:29:19.282278",
     "exception": false,
     "start_time": "2025-06-26T07:29:18.635545",
     "status": "completed"
    },
    "tags": []
   },
   "outputs": [
    {
     "name": "stderr",
     "output_type": "stream",
     "text": [
      "/usr/local/lib/python3.11/dist-packages/seaborn/_oldcore.py:1119: FutureWarning: use_inf_as_na option is deprecated and will be removed in a future version. Convert inf values to NaN before operating instead.\n",
      "  with pd.option_context('mode.use_inf_as_na', True):\n",
      "/usr/local/lib/python3.11/dist-packages/seaborn/_oldcore.py:1119: FutureWarning: use_inf_as_na option is deprecated and will be removed in a future version. Convert inf values to NaN before operating instead.\n",
      "  with pd.option_context('mode.use_inf_as_na', True):\n"
     ]
    },
    {
     "data": {
      "image/png": "[encoded data removed]",
      "text/plain": [
       "<Figure size 1200x400 with 2 Axes>"
      ]
     },
     "metadata": {},
     "output_type": "display_data"
    }
   ],
   "source": [
    "import matplotlib.pyplot as plt\n",
    "import seaborn as sns\n",
    "\n",
    "fig, ax = plt.subplots(1, 2, figsize=(12, 4))\n",
    "sns.histplot(df['Fare'], kde=True, ax=ax[0])\n",
    "ax[0].set_title(\"Original Fare Distribution\")\n",
    "\n",
    "sns.histplot(df['Fare_log'], kde=True, ax=ax[1])\n",
    "ax[1].set_title(\"Log-Transformed Fare\")\n",
    "plt.show()\n"
   ]
  },
  {
   "cell_type": "code",
   "execution_count": 16,
   "id": "00080857",
   "metadata": {
    "execution": {
     "iopub.execute_input": "2025-06-26T07:29:19.375497Z",
     "iopub.status.busy": "2025-06-26T07:29:19.375171Z",
     "iopub.status.idle": "2025-06-26T07:29:19.393293Z",
     "shell.execute_reply": "2025-06-26T07:29:19.392260Z"
    },
    "papermill": {
     "duration": 0.098364,
     "end_time": "2025-06-26T07:29:19.394845",
     "exception": false,
     "start_time": "2025-06-26T07:29:19.296481",
     "status": "completed"
    },
    "tags": []
   },
   "outputs": [
    {
     "name": "stderr",
     "output_type": "stream",
     "text": [
      "/tmp/ipykernel_13/1198387443.py:5: FutureWarning: A value is trying to be set on a copy of a DataFrame or Series through chained assignment using an inplace method.\n",
      "The behavior will change in pandas 3.0. This inplace method will never work because the intermediate object on which we are setting values always behaves as a copy.\n",
      "\n",
      "For example, when doing 'df[col].method(value, inplace=True)', try using 'df.method({col: value}, inplace=True)' or df[col] = df[col].method(value) instead, to perform the operation inplace on the original object.\n",
      "\n",
      "\n",
      "  df['Embarked'].fillna(df['Embarked'].mode()[0], inplace=True)\n",
      "/tmp/ipykernel_13/1198387443.py:9: FutureWarning: A value is trying to be set on a copy of a DataFrame or Series through chained assignment using an inplace method.\n",
      "The behavior will change in pandas 3.0. This inplace method will never work because the intermediate object on which we are setting values always behaves as a copy.\n",
      "\n",
      "For example, when doing 'df[col].method(value, inplace=True)', try using 'df.method({col: value}, inplace=True)' or df[col] = df[col].method(value) instead, to perform the operation inplace on the original object.\n",
      "\n",
      "\n",
      "  df['Deck'].fillna('U', inplace=True)\n"
     ]
    }
   ],
   "source": [
    "# 1. Impute missing Age using median by Sex and Pclass\n",
    "df['Age'] = df.groupby(['Sex', 'Pclass'])['Age'].transform(lambda x: x.fillna(x.median()))\n",
    "\n",
    "# 2. Impute missing Embarked values with mode\n",
    "df['Embarked'].fillna(df['Embarked'].mode()[0], inplace=True)\n",
    "\n",
    "# 3. Extract Deck from Cabin and impute 'U' (Unknown) for missing cabins\n",
    "df['Deck'] = df['Cabin'].str[0]\n",
    "df['Deck'].fillna('U', inplace=True)"
   ]
  },
  {
   "cell_type": "code",
   "execution_count": 17,
   "id": "3e48e441",
   "metadata": {
    "execution": {
     "iopub.execute_input": "2025-06-26T07:29:19.425994Z",
     "iopub.status.busy": "2025-06-26T07:29:19.425365Z",
     "iopub.status.idle": "2025-06-26T07:29:19.434591Z",
     "shell.execute_reply": "2025-06-26T07:29:19.433654Z"
    },
    "papermill": {
     "duration": 0.026629,
     "end_time": "2025-06-26T07:29:19.435982",
     "exception": false,
     "start_time": "2025-06-26T07:29:19.409353",
     "status": "completed"
    },
    "tags": []
   },
   "outputs": [
    {
     "data": {
      "text/plain": [
       "Cabin          1014\n",
       "Survived        418\n",
       "Fare              1\n",
       "Fare_log          1\n",
       "FamilyGroup       0\n",
       "FamilySize        0\n",
       "CabinClass        0\n",
       "HasCabin          0\n",
       "Embarked          0\n",
       "PassengerId       0\n",
       "Ticket            0\n",
       "Parch             0\n",
       "SibSp             0\n",
       "Age               0\n",
       "Sex               0\n",
       "dtype: int64"
      ]
     },
     "execution_count": 17,
     "metadata": {},
     "output_type": "execute_result"
    }
   ],
   "source": [
    "df.isnull().sum().sort_values(ascending=False).head(15)"
   ]
  },
  {
   "cell_type": "code",
   "execution_count": 18,
   "id": "ff1acbbc",
   "metadata": {
    "execution": {
     "iopub.execute_input": "2025-06-26T07:29:19.466613Z",
     "iopub.status.busy": "2025-06-26T07:29:19.465908Z",
     "iopub.status.idle": "2025-06-26T07:29:19.470766Z",
     "shell.execute_reply": "2025-06-26T07:29:19.469830Z"
    },
    "papermill": {
     "duration": 0.021601,
     "end_time": "2025-06-26T07:29:19.472330",
     "exception": false,
     "start_time": "2025-06-26T07:29:19.450729",
     "status": "completed"
    },
    "tags": []
   },
   "outputs": [
    {
     "name": "stdout",
     "output_type": "stream",
     "text": [
      "Index(['PassengerId', 'Survived', 'Pclass', 'Name', 'Sex', 'Age', 'SibSp',\n",
      "       'Parch', 'Ticket', 'Fare', 'Cabin', 'Embarked', 'HasCabin',\n",
      "       'CabinClass', 'FamilySize', 'FamilyGroup', 'Fare_log', 'Deck'],\n",
      "      dtype='object')\n"
     ]
    }
   ],
   "source": [
    "print(df.columns)"
   ]
  },
  {
   "cell_type": "code",
   "execution_count": 19,
   "id": "344df6ae",
   "metadata": {
    "execution": {
     "iopub.execute_input": "2025-06-26T07:29:19.504871Z",
     "iopub.status.busy": "2025-06-26T07:29:19.504177Z",
     "iopub.status.idle": "2025-06-26T07:29:19.510150Z",
     "shell.execute_reply": "2025-06-26T07:29:19.509255Z"
    },
    "papermill": {
     "duration": 0.022646,
     "end_time": "2025-06-26T07:29:19.511540",
     "exception": false,
     "start_time": "2025-06-26T07:29:19.488894",
     "status": "completed"
    },
    "tags": []
   },
   "outputs": [],
   "source": [
    "df.drop(columns=['Cabin'], inplace=True)\n"
   ]
  },
  {
   "cell_type": "code",
   "execution_count": 20,
   "id": "78f1d49e",
   "metadata": {
    "execution": {
     "iopub.execute_input": "2025-06-26T07:29:19.541934Z",
     "iopub.status.busy": "2025-06-26T07:29:19.541117Z",
     "iopub.status.idle": "2025-06-26T07:29:19.549849Z",
     "shell.execute_reply": "2025-06-26T07:29:19.548994Z"
    },
    "papermill": {
     "duration": 0.025124,
     "end_time": "2025-06-26T07:29:19.551168",
     "exception": false,
     "start_time": "2025-06-26T07:29:19.526044",
     "status": "completed"
    },
    "tags": []
   },
   "outputs": [
    {
     "data": {
      "text/plain": [
       "Survived       418\n",
       "Fare             1\n",
       "Fare_log         1\n",
       "PassengerId      0\n",
       "FamilyGroup      0\n",
       "FamilySize       0\n",
       "CabinClass       0\n",
       "HasCabin         0\n",
       "Embarked         0\n",
       "Ticket           0\n",
       "Parch            0\n",
       "SibSp            0\n",
       "Age              0\n",
       "Sex              0\n",
       "Name             0\n",
       "dtype: int64"
      ]
     },
     "execution_count": 20,
     "metadata": {},
     "output_type": "execute_result"
    }
   ],
   "source": [
    "df.isnull().sum().sort_values(ascending=False).head(15)"
   ]
  },
  {
   "cell_type": "code",
   "execution_count": 21,
   "id": "bb6951f1",
   "metadata": {
    "execution": {
     "iopub.execute_input": "2025-06-26T07:29:19.582925Z",
     "iopub.status.busy": "2025-06-26T07:29:19.581980Z",
     "iopub.status.idle": "2025-06-26T07:29:19.592930Z",
     "shell.execute_reply": "2025-06-26T07:29:19.592118Z"
    },
    "papermill": {
     "duration": 0.028139,
     "end_time": "2025-06-26T07:29:19.594462",
     "exception": false,
     "start_time": "2025-06-26T07:29:19.566323",
     "status": "completed"
    },
    "tags": []
   },
   "outputs": [],
   "source": [
    "# Fill missing Fare based on median Fare within each Pclass\n",
    "df['Fare'] = df.groupby('Pclass')['Fare'].transform(\n",
    "    lambda x: x.fillna(x.median())\n",
    ")\n",
    "df['Fare_log'] = df['Fare'].apply(lambda x: np.log(x + 1))\n"
   ]
  },
  {
   "cell_type": "code",
   "execution_count": 22,
   "id": "c8258b2c",
   "metadata": {
    "execution": {
     "iopub.execute_input": "2025-06-26T07:29:19.624718Z",
     "iopub.status.busy": "2025-06-26T07:29:19.624402Z",
     "iopub.status.idle": "2025-06-26T07:29:19.632568Z",
     "shell.execute_reply": "2025-06-26T07:29:19.631806Z"
    },
    "papermill": {
     "duration": 0.024767,
     "end_time": "2025-06-26T07:29:19.633884",
     "exception": false,
     "start_time": "2025-06-26T07:29:19.609117",
     "status": "completed"
    },
    "tags": []
   },
   "outputs": [
    {
     "name": "stdout",
     "output_type": "stream",
     "text": [
      "Index(['Name', 'Sex', 'Ticket', 'Embarked', 'FamilyGroup', 'Deck'], dtype='object')\n",
      "418\n"
     ]
    }
   ],
   "source": [
    "print(df.select_dtypes(include='object').columns)  # Should be empty\n",
    "print(df.isnull().sum().sum()) "
   ]
  },
  {
   "cell_type": "code",
   "execution_count": 23,
   "id": "88f17560",
   "metadata": {
    "execution": {
     "iopub.execute_input": "2025-06-26T07:29:19.663985Z",
     "iopub.status.busy": "2025-06-26T07:29:19.663659Z",
     "iopub.status.idle": "2025-06-26T07:29:19.671565Z",
     "shell.execute_reply": "2025-06-26T07:29:19.670718Z"
    },
    "papermill": {
     "duration": 0.02461,
     "end_time": "2025-06-26T07:29:19.672941",
     "exception": false,
     "start_time": "2025-06-26T07:29:19.648331",
     "status": "completed"
    },
    "tags": []
   },
   "outputs": [
    {
     "data": {
      "text/plain": [
       "Embarked\n",
       "C    0.553571\n",
       "Q    0.389610\n",
       "S    0.339009\n",
       "Name: Survived, dtype: float64"
      ]
     },
     "execution_count": 23,
     "metadata": {},
     "output_type": "execute_result"
    }
   ],
   "source": [
    "df.groupby('Embarked')['Survived'].mean()\n"
   ]
  },
  {
   "cell_type": "code",
   "execution_count": 24,
   "id": "4edc4096",
   "metadata": {
    "execution": {
     "iopub.execute_input": "2025-06-26T07:29:19.703687Z",
     "iopub.status.busy": "2025-06-26T07:29:19.703121Z",
     "iopub.status.idle": "2025-06-26T07:29:19.710693Z",
     "shell.execute_reply": "2025-06-26T07:29:19.709977Z"
    },
    "papermill": {
     "duration": 0.024221,
     "end_time": "2025-06-26T07:29:19.712025",
     "exception": false,
     "start_time": "2025-06-26T07:29:19.687804",
     "status": "completed"
    },
    "tags": []
   },
   "outputs": [
    {
     "data": {
      "text/plain": [
       "Sex\n",
       "female    0.742038\n",
       "male      0.188908\n",
       "Name: Survived, dtype: float64"
      ]
     },
     "execution_count": 24,
     "metadata": {},
     "output_type": "execute_result"
    }
   ],
   "source": [
    "df.groupby('Sex')['Survived'].mean()\n"
   ]
  },
  {
   "cell_type": "code",
   "execution_count": 25,
   "id": "08c28308",
   "metadata": {
    "execution": {
     "iopub.execute_input": "2025-06-26T07:29:19.742841Z",
     "iopub.status.busy": "2025-06-26T07:29:19.742254Z",
     "iopub.status.idle": "2025-06-26T07:29:19.766808Z",
     "shell.execute_reply": "2025-06-26T07:29:19.765580Z"
    },
    "papermill": {
     "duration": 0.041531,
     "end_time": "2025-06-26T07:29:19.768268",
     "exception": false,
     "start_time": "2025-06-26T07:29:19.726737",
     "status": "completed"
    },
    "tags": []
   },
   "outputs": [
    {
     "name": "stdout",
     "output_type": "stream",
     "text": [
      "       Sex      AgeBin  Survived  Count\n",
      "0   female       Child       0.0     13\n",
      "1   female       Child       1.0     19\n",
      "2   female        Teen       0.0      9\n",
      "3   female        Teen       1.0     27\n",
      "4   female  YoungAdult       0.0     43\n",
      "5   female  YoungAdult       1.0    121\n",
      "6   female       Adult       0.0     16\n",
      "7   female       Adult       1.0     63\n",
      "8   female      Senior       0.0      0\n",
      "9   female      Senior       1.0      3\n",
      "10    male       Child       0.0     16\n",
      "11    male       Child       1.0     21\n",
      "12    male        Teen       0.0     31\n",
      "13    male        Teen       1.0      3\n",
      "14    male  YoungAdult       0.0    287\n",
      "15    male  YoungAdult       1.0     54\n",
      "16    male       Adult       0.0    117\n",
      "17    male       Adult       1.0     29\n",
      "18    male      Senior       0.0     17\n",
      "19    male      Senior       1.0      2\n"
     ]
    },
    {
     "name": "stderr",
     "output_type": "stream",
     "text": [
      "/tmp/ipykernel_13/415350966.py:4: FutureWarning: The default of observed=False is deprecated and will be changed to True in a future version of pandas. Pass observed=False to retain current behavior or observed=True to adopt the future default and silence this warning.\n",
      "  grouped = df.groupby(['Sex', 'AgeBin', 'Survived'])['PassengerId'].count().reset_index()\n"
     ]
    }
   ],
   "source": [
    "# Group by Sex, Age (you might want to bin age first), and Survived\n",
    "df['AgeBin'] = pd.cut(df['Age'], bins=[0, 12, 18, 35, 60, 80], labels=['Child', 'Teen', 'YoungAdult', 'Adult', 'Senior'])\n",
    "\n",
    "grouped = df.groupby(['Sex', 'AgeBin', 'Survived'])['PassengerId'].count().reset_index()\n",
    "grouped.rename(columns={'PassengerId': 'Count'}, inplace=True)\n",
    "print(grouped)\n"
   ]
  },
  {
   "cell_type": "code",
   "execution_count": 26,
   "id": "6852e25d",
   "metadata": {
    "execution": {
     "iopub.execute_input": "2025-06-26T07:29:19.798945Z",
     "iopub.status.busy": "2025-06-26T07:29:19.798608Z",
     "iopub.status.idle": "2025-06-26T07:29:19.811007Z",
     "shell.execute_reply": "2025-06-26T07:29:19.810041Z"
    },
    "papermill": {
     "duration": 0.029211,
     "end_time": "2025-06-26T07:29:19.812277",
     "exception": false,
     "start_time": "2025-06-26T07:29:19.783066",
     "status": "completed"
    },
    "tags": []
   },
   "outputs": [
    {
     "name": "stdout",
     "output_type": "stream",
     "text": [
      "      Sex      AgeBin  Survived\n",
      "0  female       Child  0.593750\n",
      "1  female        Teen  0.750000\n",
      "2  female  YoungAdult  0.737805\n",
      "3  female       Adult  0.797468\n",
      "4  female      Senior  1.000000\n",
      "5    male       Child  0.567568\n",
      "6    male        Teen  0.088235\n",
      "7    male  YoungAdult  0.158358\n",
      "8    male       Adult  0.198630\n",
      "9    male      Senior  0.105263\n"
     ]
    },
    {
     "name": "stderr",
     "output_type": "stream",
     "text": [
      "/tmp/ipykernel_13/2632816335.py:1: FutureWarning: The default of observed=False is deprecated and will be changed to True in a future version of pandas. Pass observed=False to retain current behavior or observed=True to adopt the future default and silence this warning.\n",
      "  survival_rate = df.groupby(['Sex', 'AgeBin'])['Survived'].mean().reset_index()\n"
     ]
    }
   ],
   "source": [
    "survival_rate = df.groupby(['Sex', 'AgeBin'])['Survived'].mean().reset_index()\n",
    "print(survival_rate)\n"
   ]
  },
  {
   "cell_type": "code",
   "execution_count": 27,
   "id": "a1c45773",
   "metadata": {
    "execution": {
     "iopub.execute_input": "2025-06-26T07:29:19.843717Z",
     "iopub.status.busy": "2025-06-26T07:29:19.843055Z",
     "iopub.status.idle": "2025-06-26T07:29:20.084172Z",
     "shell.execute_reply": "2025-06-26T07:29:20.083288Z"
    },
    "papermill": {
     "duration": 0.258637,
     "end_time": "2025-06-26T07:29:20.085895",
     "exception": false,
     "start_time": "2025-06-26T07:29:19.827258",
     "status": "completed"
    },
    "tags": []
   },
   "outputs": [
    {
     "name": "stderr",
     "output_type": "stream",
     "text": [
      "/usr/local/lib/python3.11/dist-packages/seaborn/categorical.py:641: FutureWarning: The default of observed=False is deprecated and will be changed to True in a future version of pandas. Pass observed=False to retain current behavior or observed=True to adopt the future default and silence this warning.\n",
      "  grouped_vals = vals.groupby(grouper)\n",
      "/usr/local/lib/python3.11/dist-packages/seaborn/categorical.py:641: FutureWarning: The default of observed=False is deprecated and will be changed to True in a future version of pandas. Pass observed=False to retain current behavior or observed=True to adopt the future default and silence this warning.\n",
      "  grouped_vals = vals.groupby(grouper)\n"
     ]
    },
    {
     "data": {
      "image/png": "[encoded data removed]",
      "text/plain": [
       "<Figure size 1000x600 with 1 Axes>"
      ]
     },
     "metadata": {},
     "output_type": "display_data"
    }
   ],
   "source": [
    "import seaborn as sns\n",
    "import matplotlib.pyplot as plt\n",
    "\n",
    "# First, bin ages for grouping\n",
    "df['AgeBin'] = pd.cut(df['Age'], bins=[0, 12, 18, 35, 60, 80], labels=['Child', 'Teen', 'YoungAdult', 'Adult', 'Senior'])\n",
    "\n",
    "# Create a countplot of survival by gender and age group\n",
    "plt.figure(figsize=(10, 6))\n",
    "sns.countplot(data=df, x='AgeBin', hue='Survived', palette='Set2', dodge=True)\n",
    "plt.title('Survival Count by Age Group')\n",
    "plt.xlabel('Age Group')\n",
    "plt.ylabel('Count')\n",
    "plt.legend(title='Survived', labels=['No', 'Yes'])\n",
    "plt.grid(axis='y', linestyle='--', alpha=0.7)\n",
    "plt.tight_layout()\n",
    "plt.show()\n"
   ]
  },
  {
   "cell_type": "code",
   "execution_count": 28,
   "id": "bc2eb212",
   "metadata": {
    "execution": {
     "iopub.execute_input": "2025-06-26T07:29:20.119530Z",
     "iopub.status.busy": "2025-06-26T07:29:20.118968Z",
     "iopub.status.idle": "2025-06-26T07:29:20.745159Z",
     "shell.execute_reply": "2025-06-26T07:29:20.744129Z"
    },
    "papermill": {
     "duration": 0.64466,
     "end_time": "2025-06-26T07:29:20.746770",
     "exception": false,
     "start_time": "2025-06-26T07:29:20.102110",
     "status": "completed"
    },
    "tags": []
   },
   "outputs": [
    {
     "name": "stderr",
     "output_type": "stream",
     "text": [
      "/usr/local/lib/python3.11/dist-packages/seaborn/categorical.py:641: FutureWarning: The default of observed=False is deprecated and will be changed to True in a future version of pandas. Pass observed=False to retain current behavior or observed=True to adopt the future default and silence this warning.\n",
      "  grouped_vals = vals.groupby(grouper)\n",
      "/usr/local/lib/python3.11/dist-packages/seaborn/categorical.py:641: FutureWarning: The default of observed=False is deprecated and will be changed to True in a future version of pandas. Pass observed=False to retain current behavior or observed=True to adopt the future default and silence this warning.\n",
      "  grouped_vals = vals.groupby(grouper)\n",
      "/usr/local/lib/python3.11/dist-packages/seaborn/categorical.py:641: FutureWarning: The default of observed=False is deprecated and will be changed to True in a future version of pandas. Pass observed=False to retain current behavior or observed=True to adopt the future default and silence this warning.\n",
      "  grouped_vals = vals.groupby(grouper)\n",
      "/usr/local/lib/python3.11/dist-packages/seaborn/categorical.py:641: FutureWarning: The default of observed=False is deprecated and will be changed to True in a future version of pandas. Pass observed=False to retain current behavior or observed=True to adopt the future default and silence this warning.\n",
      "  grouped_vals = vals.groupby(grouper)\n",
      "/usr/local/lib/python3.11/dist-packages/seaborn/axisgrid.py:118: UserWarning: The figure layout has changed to tight\n",
      "  self._figure.tight_layout(*args, **kwargs)\n"
     ]
    },
    {
     "data": {
      "image/png": "[encoded data removed]",
      "text/plain": [
       "<Figure size 1058.88x500 with 2 Axes>"
      ]
     },
     "metadata": {},
     "output_type": "display_data"
    }
   ],
   "source": [
    "import seaborn as sns\n",
    "import matplotlib.pyplot as plt\n",
    "\n",
    "# Make sure AgeBin exists\n",
    "df['AgeBin'] = pd.cut(df['Age'], bins=[0, 12, 18, 35, 60, 80], \n",
    "                      labels=['Child', 'Teen', 'YoungAdult', 'Adult', 'Senior'])\n",
    "\n",
    "# Set up the grid\n",
    "g = sns.catplot(\n",
    "    data=df, kind=\"count\", \n",
    "    x=\"AgeBin\", hue=\"Pclass\", col=\"Sex\",\n",
    "    palette=\"pastel\", edgecolor=\".6\"\n",
    ")\n",
    "\n",
    "g.set_titles(\"Sex: {col_name}\")\n",
    "g.set_axis_labels(\"Age Group\", \"Passenger Count\")\n",
    "g._legend.set_title(\"Pclass\")\n",
    "plt.subplots_adjust(top=0.85)\n",
    "g.fig.suptitle(\"Survival Distribution by Age Group, Class, and Gender\")\n",
    "plt.show()\n"
   ]
  },
  {
   "cell_type": "code",
   "execution_count": 29,
   "id": "fef4ddf9",
   "metadata": {
    "execution": {
     "iopub.execute_input": "2025-06-26T07:29:20.781775Z",
     "iopub.status.busy": "2025-06-26T07:29:20.781435Z",
     "iopub.status.idle": "2025-06-26T07:29:21.008069Z",
     "shell.execute_reply": "2025-06-26T07:29:21.007128Z"
    },
    "papermill": {
     "duration": 0.246307,
     "end_time": "2025-06-26T07:29:21.009837",
     "exception": false,
     "start_time": "2025-06-26T07:29:20.763530",
     "status": "completed"
    },
    "tags": []
   },
   "outputs": [],
   "source": [
    "from sklearn.preprocessing import LabelEncoder\n",
    "\n",
    "# 1. Encode 'Sex'\n",
    "le = LabelEncoder()\n",
    "df['Sex'] = le.fit_transform(df['Sex'])  # male=0, female=1 (or vice versa)\n",
    "\n",
    "# 2. Extract title from 'Name' and drop 'Name'\n",
    "df['Title'] = df['Name'].str.extract(r',\\s*([^\\.]*)\\s*\\.')\n",
    "df.drop(columns=['Name'], inplace=True)\n",
    "\n",
    "# Optional: consolidate rare titles here if not already done\n",
    "rare_titles = ['Dr', 'Rev', 'Col', 'Major', 'Capt', 'Don', 'Sir', 'Jonkheer', 'Lady', 'Countess', 'Dona']\n",
    "df['Title'] = df['Title'].replace(rare_titles, 'Rare')\n",
    "\n",
    "# 3. Drop or engineer 'Ticket'\n",
    "df.drop(columns=['Ticket'], inplace=True)\n",
    "\n",
    "# 4. One-hot encode selected categorical variables\n",
    "df = pd.get_dummies(df, columns=['Embarked', 'FamilyGroup', 'Deck', 'Title','AgeBin'], drop_first=True)\n"
   ]
  },
  {
   "cell_type": "code",
   "execution_count": 30,
   "id": "076edcc4",
   "metadata": {
    "execution": {
     "iopub.execute_input": "2025-06-26T07:29:21.044686Z",
     "iopub.status.busy": "2025-06-26T07:29:21.044370Z",
     "iopub.status.idle": "2025-06-26T07:29:21.050130Z",
     "shell.execute_reply": "2025-06-26T07:29:21.049215Z"
    },
    "papermill": {
     "duration": 0.024919,
     "end_time": "2025-06-26T07:29:21.051601",
     "exception": false,
     "start_time": "2025-06-26T07:29:21.026682",
     "status": "completed"
    },
    "tags": []
   },
   "outputs": [
    {
     "name": "stdout",
     "output_type": "stream",
     "text": [
      "Series([], dtype: object)\n"
     ]
    }
   ],
   "source": [
    "# Check data types first\n",
    "print(df.dtypes[df.dtypes == 'object'])\n"
   ]
  },
  {
   "cell_type": "code",
   "execution_count": 31,
   "id": "66d2e9af",
   "metadata": {
    "execution": {
     "iopub.execute_input": "2025-06-26T07:29:21.086518Z",
     "iopub.status.busy": "2025-06-26T07:29:21.085934Z",
     "iopub.status.idle": "2025-06-26T07:29:21.094467Z",
     "shell.execute_reply": "2025-06-26T07:29:21.093481Z"
    },
    "papermill": {
     "duration": 0.027354,
     "end_time": "2025-06-26T07:29:21.095926",
     "exception": false,
     "start_time": "2025-06-26T07:29:21.068572",
     "status": "completed"
    },
    "tags": []
   },
   "outputs": [
    {
     "name": "stdout",
     "output_type": "stream",
     "text": [
      "PassengerId             0\n",
      "Survived              418\n",
      "Pclass                  0\n",
      "Sex                     0\n",
      "Age                     0\n",
      "SibSp                   0\n",
      "Parch                   0\n",
      "Fare                    0\n",
      "HasCabin                0\n",
      "CabinClass              0\n",
      "FamilySize              0\n",
      "Fare_log                0\n",
      "Embarked_Q              0\n",
      "Embarked_S              0\n",
      "FamilyGroup_Medium      0\n",
      "FamilyGroup_Small       0\n",
      "FamilyGroup_Solo        0\n",
      "Deck_B                  0\n",
      "Deck_C                  0\n",
      "Deck_D                  0\n",
      "Deck_E                  0\n",
      "Deck_F                  0\n",
      "Deck_G                  0\n",
      "Deck_T                  0\n",
      "Deck_U                  0\n",
      "Title_Miss              0\n",
      "Title_Mlle              0\n",
      "Title_Mme               0\n",
      "Title_Mr                0\n",
      "Title_Mrs               0\n",
      "Title_Ms                0\n",
      "Title_Rare              0\n",
      "Title_the Countess      0\n",
      "AgeBin_Teen             0\n",
      "AgeBin_YoungAdult       0\n",
      "AgeBin_Adult            0\n",
      "AgeBin_Senior           0\n",
      "dtype: int64\n",
      "PassengerId             int64\n",
      "Survived              float64\n",
      "Pclass                  int64\n",
      "Sex                     int64\n",
      "Age                   float64\n",
      "SibSp                   int64\n",
      "Parch                   int64\n",
      "Fare                  float64\n",
      "HasCabin                int64\n",
      "CabinClass              int64\n",
      "FamilySize              int64\n",
      "Fare_log              float64\n",
      "Embarked_Q               bool\n",
      "Embarked_S               bool\n",
      "FamilyGroup_Medium       bool\n",
      "FamilyGroup_Small        bool\n",
      "FamilyGroup_Solo         bool\n",
      "Deck_B                   bool\n",
      "Deck_C                   bool\n",
      "Deck_D                   bool\n",
      "Deck_E                   bool\n",
      "Deck_F                   bool\n",
      "Deck_G                   bool\n",
      "Deck_T                   bool\n",
      "Deck_U                   bool\n",
      "Title_Miss               bool\n",
      "Title_Mlle               bool\n",
      "Title_Mme                bool\n",
      "Title_Mr                 bool\n",
      "Title_Mrs                bool\n",
      "Title_Ms                 bool\n",
      "Title_Rare               bool\n",
      "Title_the Countess       bool\n",
      "AgeBin_Teen              bool\n",
      "AgeBin_YoungAdult        bool\n",
      "AgeBin_Adult             bool\n",
      "AgeBin_Senior            bool\n",
      "dtype: object\n"
     ]
    }
   ],
   "source": [
    "# Final check before modeling\n",
    "print(df.isnull().sum())  # make sure no new NaNs were created\n",
    "print(df.dtypes)          # ensure everything is numeric\n"
   ]
  },
  {
   "cell_type": "code",
   "execution_count": 32,
   "id": "be5dc47c",
   "metadata": {
    "execution": {
     "iopub.execute_input": "2025-06-26T07:29:21.130919Z",
     "iopub.status.busy": "2025-06-26T07:29:21.129979Z",
     "iopub.status.idle": "2025-06-26T07:29:21.135141Z",
     "shell.execute_reply": "2025-06-26T07:29:21.134341Z"
    },
    "papermill": {
     "duration": 0.023771,
     "end_time": "2025-06-26T07:29:21.136430",
     "exception": false,
     "start_time": "2025-06-26T07:29:21.112659",
     "status": "completed"
    },
    "tags": []
   },
   "outputs": [
    {
     "name": "stdout",
     "output_type": "stream",
     "text": [
      "Index(['PassengerId', 'Survived', 'Pclass', 'Sex', 'Age', 'SibSp', 'Parch',\n",
      "       'Fare', 'HasCabin', 'CabinClass', 'FamilySize', 'Fare_log',\n",
      "       'Embarked_Q', 'Embarked_S', 'FamilyGroup_Medium', 'FamilyGroup_Small',\n",
      "       'FamilyGroup_Solo', 'Deck_B', 'Deck_C', 'Deck_D', 'Deck_E', 'Deck_F',\n",
      "       'Deck_G', 'Deck_T', 'Deck_U', 'Title_Miss', 'Title_Mlle', 'Title_Mme',\n",
      "       'Title_Mr', 'Title_Mrs', 'Title_Ms', 'Title_Rare', 'Title_the Countess',\n",
      "       'AgeBin_Teen', 'AgeBin_YoungAdult', 'AgeBin_Adult', 'AgeBin_Senior'],\n",
      "      dtype='object')\n"
     ]
    }
   ],
   "source": [
    "print(df.columns)"
   ]
  },
  {
   "cell_type": "code",
   "execution_count": 33,
   "id": "b45fe998",
   "metadata": {
    "execution": {
     "iopub.execute_input": "2025-06-26T07:29:21.171548Z",
     "iopub.status.busy": "2025-06-26T07:29:21.171234Z",
     "iopub.status.idle": "2025-06-26T07:29:21.177769Z",
     "shell.execute_reply": "2025-06-26T07:29:21.176695Z"
    },
    "papermill": {
     "duration": 0.025851,
     "end_time": "2025-06-26T07:29:21.179215",
     "exception": false,
     "start_time": "2025-06-26T07:29:21.153364",
     "status": "completed"
    },
    "tags": []
   },
   "outputs": [
    {
     "name": "stdout",
     "output_type": "stream",
     "text": [
      "Index([], dtype='object')\n",
      "418\n"
     ]
    }
   ],
   "source": [
    "print(df.select_dtypes(include='object').columns)  # Should be empty\n",
    "print(df.isnull().sum().sum()) "
   ]
  },
  {
   "cell_type": "code",
   "execution_count": 34,
   "id": "e58bbdd5",
   "metadata": {
    "execution": {
     "iopub.execute_input": "2025-06-26T07:29:21.214528Z",
     "iopub.status.busy": "2025-06-26T07:29:21.213674Z",
     "iopub.status.idle": "2025-06-26T07:29:21.228154Z",
     "shell.execute_reply": "2025-06-26T07:29:21.227333Z"
    },
    "papermill": {
     "duration": 0.033547,
     "end_time": "2025-06-26T07:29:21.229693",
     "exception": false,
     "start_time": "2025-06-26T07:29:21.196146",
     "status": "completed"
    },
    "tags": []
   },
   "outputs": [],
   "source": [
    "# 🔹 1. Get original train length\n",
    "train_len = len(pd.read_csv('/kaggle/input/traintc/train.csv'))\n",
    "\n",
    "# 🔹 2. Define X and y (use only the training portion)\n",
    "X = df.drop(columns=['Survived','PassengerId'], errors='ignore').iloc[:train_len]\n",
    "y = df.loc[:train_len-1, 'Survived']\n"
   ]
  },
  {
   "cell_type": "code",
   "execution_count": 35,
   "id": "8b328f7f",
   "metadata": {
    "execution": {
     "iopub.execute_input": "2025-06-26T07:29:21.265454Z",
     "iopub.status.busy": "2025-06-26T07:29:21.264649Z",
     "iopub.status.idle": "2025-06-26T07:29:21.392449Z",
     "shell.execute_reply": "2025-06-26T07:29:21.391671Z"
    },
    "papermill": {
     "duration": 0.147263,
     "end_time": "2025-06-26T07:29:21.394081",
     "exception": false,
     "start_time": "2025-06-26T07:29:21.246818",
     "status": "completed"
    },
    "tags": []
   },
   "outputs": [],
   "source": [
    "from sklearn.model_selection import train_test_split\n",
    "\n",
    "X_train, X_valid, y_train, y_valid = train_test_split(\n",
    "    X, y, test_size=0.2, random_state=42, stratify=y\n",
    ")\n"
   ]
  },
  {
   "cell_type": "code",
   "execution_count": 36,
   "id": "9a9e15b0",
   "metadata": {
    "execution": {
     "iopub.execute_input": "2025-06-26T07:29:21.430266Z",
     "iopub.status.busy": "2025-06-26T07:29:21.429858Z",
     "iopub.status.idle": "2025-06-26T07:29:21.434651Z",
     "shell.execute_reply": "2025-06-26T07:29:21.433965Z"
    },
    "papermill": {
     "duration": 0.024505,
     "end_time": "2025-06-26T07:29:21.435930",
     "exception": false,
     "start_time": "2025-06-26T07:29:21.411425",
     "status": "completed"
    },
    "tags": []
   },
   "outputs": [],
   "source": [
    "X_train.columns = X_train.columns.str.replace(' ', '_')\n"
   ]
  },
  {
   "cell_type": "code",
   "execution_count": 37,
   "id": "105a49a4",
   "metadata": {
    "execution": {
     "iopub.execute_input": "2025-06-26T07:29:21.471945Z",
     "iopub.status.busy": "2025-06-26T07:29:21.471043Z",
     "iopub.status.idle": "2025-06-26T07:29:27.789830Z",
     "shell.execute_reply": "2025-06-26T07:29:27.788649Z"
    },
    "papermill": {
     "duration": 6.338295,
     "end_time": "2025-06-26T07:29:27.791486",
     "exception": false,
     "start_time": "2025-06-26T07:29:21.453191",
     "status": "completed"
    },
    "tags": []
   },
   "outputs": [
    {
     "name": "stdout",
     "output_type": "stream",
     "text": [
      "[LightGBM] [Info] Number of positive: 273, number of negative: 439\n",
      "[LightGBM] [Info] Auto-choosing row-wise multi-threading, the overhead of testing was 0.003842 seconds.\n",
      "You can set `force_row_wise=true` to remove the overhead.\n",
      "And if memory is not enough, you can set `force_col_wise=true`.\n",
      "[LightGBM] [Info] Total Bins 384\n",
      "[LightGBM] [Info] Number of data points in the train set: 712, number of used features: 33\n",
      "[LightGBM] [Info] [binary:BoostFromScore]: pavg=0.383427 -> initscore=-0.475028\n",
      "[LightGBM] [Info] Start training from score -0.475028\n"
     ]
    },
    {
     "data": {
      "text/html": [
       "<style>#sk-container-id-1 {color: black;background-color: white;}#sk-container-id-1 pre{padding: 0;}#sk-container-id-1 div.sk-toggleable {background-color: white;}#sk-container-id-1 label.sk-toggleable__label {cursor: pointer;display: block;width: 100%;margin-bottom: 0;padding: 0.3em;box-sizing: border-box;text-align: center;}#sk-container-id-1 label.sk-toggleable__label-arrow:before {content: \"▸\";float: left;margin-right: 0.25em;color: #696969;}#sk-container-id-1 label.sk-toggleable__label-arrow:hover:before {color: black;}#sk-container-id-1 div.sk-estimator:hover label.sk-toggleable__label-arrow:before {color: black;}#sk-container-id-1 div.sk-toggleable__content {max-height: 0;max-width: 0;overflow: hidden;text-align: left;background-color: #f0f8ff;}#sk-container-id-1 div.sk-toggleable__content pre {margin: 0.2em;color: black;border-radius: 0.25em;background-color: #f0f8ff;}#sk-container-id-1 input.sk-toggleable__control:checked~div.sk-toggleable__content {max-height: 200px;max-width: 100%;overflow: auto;}#sk-container-id-1 input.sk-toggleable__control:checked~label.sk-toggleable__label-arrow:before {content: \"▾\";}#sk-container-id-1 div.sk-estimator input.sk-toggleable__control:checked~label.sk-toggleable__label {background-color: #d4ebff;}#sk-container-id-1 div.sk-label input.sk-toggleable__control:checked~label.sk-toggleable__label {background-color: #d4ebff;}#sk-container-id-1 input.sk-hidden--visually {border: 0;clip: rect(1px 1px 1px 1px);clip: rect(1px, 1px, 1px, 1px);height: 1px;margin: -1px;overflow: hidden;padding: 0;position: absolute;width: 1px;}#sk-container-id-1 div.sk-estimator {font-family: monospace;background-color: #f0f8ff;border: 1px dotted black;border-radius: 0.25em;box-sizing: border-box;margin-bottom: 0.5em;}#sk-container-id-1 div.sk-estimator:hover {background-color: #d4ebff;}#sk-container-id-1 div.sk-parallel-item::after {content: \"\";width: 100%;border-bottom: 1px solid gray;flex-grow: 1;}#sk-container-id-1 div.sk-label:hover label.sk-toggleable__label {background-color: #d4ebff;}#sk-container-id-1 div.sk-serial::before {content: \"\";position: absolute;border-left: 1px solid gray;box-sizing: border-box;top: 0;bottom: 0;left: 50%;z-index: 0;}#sk-container-id-1 div.sk-serial {display: flex;flex-direction: column;align-items: center;background-color: white;padding-right: 0.2em;padding-left: 0.2em;position: relative;}#sk-container-id-1 div.sk-item {position: relative;z-index: 1;}#sk-container-id-1 div.sk-parallel {display: flex;align-items: stretch;justify-content: center;background-color: white;position: relative;}#sk-container-id-1 div.sk-item::before, #sk-container-id-1 div.sk-parallel-item::before {content: \"\";position: absolute;border-left: 1px solid gray;box-sizing: border-box;top: 0;bottom: 0;left: 50%;z-index: -1;}#sk-container-id-1 div.sk-parallel-item {display: flex;flex-direction: column;z-index: 1;position: relative;background-color: white;}#sk-container-id-1 div.sk-parallel-item:first-child::after {align-self: flex-end;width: 50%;}#sk-container-id-1 div.sk-parallel-item:last-child::after {align-self: flex-start;width: 50%;}#sk-container-id-1 div.sk-parallel-item:only-child::after {width: 0;}#sk-container-id-1 div.sk-dashed-wrapped {border: 1px dashed gray;margin: 0 0.4em 0.5em 0.4em;box-sizing: border-box;padding-bottom: 0.4em;background-color: white;}#sk-container-id-1 div.sk-label label {font-family: monospace;font-weight: bold;display: inline-block;line-height: 1.2em;}#sk-container-id-1 div.sk-label-container {text-align: center;}#sk-container-id-1 div.sk-container {/* jupyter's `normalize.less` sets `[hidden] { display: none; }` but bootstrap.min.css set `[hidden] { display: none !important; }` so we also need the `!important` here to be able to override the default hidden behavior on the sphinx rendered scikit-learn.org. See: https://github.com/scikit-learn/scikit-learn/issues/21755 */display: inline-block !important;position: relative;}#sk-container-id-1 div.sk-text-repr-fallback {display: none;}</style><div id=\"sk-container-id-1\" class=\"sk-top-container\"><div class=\"sk-text-repr-fallback\"><pre>LGBMClassifier(min_child_samples=1, min_split_gain=0, num_leaves=64,\n",
       "               random_state=42)</pre><b>In a Jupyter environment, please rerun this cell to show the HTML representation or trust the notebook. <br />On GitHub, the HTML representation is unable to render, please try loading this page with nbviewer.org.</b></div><div class=\"sk-container\" hidden><div class=\"sk-item\"><div class=\"sk-estimator sk-toggleable\"><input class=\"sk-toggleable__control sk-hidden--visually\" id=\"sk-estimator-id-1\" type=\"checkbox\" checked><label for=\"sk-estimator-id-1\" class=\"sk-toggleable__label sk-toggleable__label-arrow\">LGBMClassifier</label><div class=\"sk-toggleable__content\"><pre>LGBMClassifier(min_child_samples=1, min_split_gain=0, num_leaves=64,\n",
       "               random_state=42)</pre></div></div></div></div></div>"
      ],
      "text/plain": [
       "LGBMClassifier(min_child_samples=1, min_split_gain=0, num_leaves=64,\n",
       "               random_state=42)"
      ]
     },
     "execution_count": 37,
     "metadata": {},
     "output_type": "execute_result"
    }
   ],
   "source": [
    "from lightgbm import LGBMClassifier\n",
    "\n",
    "model = LGBMClassifier(\n",
    "    n_estimators=100,\n",
    "    num_leaves=64,\n",
    "    min_child_samples=1,\n",
    "    min_split_gain=0,\n",
    "    max_depth=-1,\n",
    "    random_state=42\n",
    ")\n",
    "\n",
    "model.fit(X_train, y_train)\n"
   ]
  },
  {
   "cell_type": "code",
   "execution_count": 38,
   "id": "798fa029",
   "metadata": {
    "execution": {
     "iopub.execute_input": "2025-06-26T07:29:27.829116Z",
     "iopub.status.busy": "2025-06-26T07:29:27.828431Z",
     "iopub.status.idle": "2025-06-26T07:29:27.839613Z",
     "shell.execute_reply": "2025-06-26T07:29:27.838656Z"
    },
    "papermill": {
     "duration": 0.03148,
     "end_time": "2025-06-26T07:29:27.841385",
     "exception": false,
     "start_time": "2025-06-26T07:29:27.809905",
     "status": "completed"
    },
    "tags": []
   },
   "outputs": [
    {
     "data": {
      "text/plain": [
       "Survived\n",
       "0.0    0.616573\n",
       "1.0    0.383427\n",
       "Name: proportion, dtype: float64"
      ]
     },
     "execution_count": 38,
     "metadata": {},
     "output_type": "execute_result"
    }
   ],
   "source": [
    "y_train.value_counts(normalize=True)\n"
   ]
  },
  {
   "cell_type": "code",
   "execution_count": 39,
   "id": "f66fe05f",
   "metadata": {
    "execution": {
     "iopub.execute_input": "2025-06-26T07:29:27.878187Z",
     "iopub.status.busy": "2025-06-26T07:29:27.877876Z",
     "iopub.status.idle": "2025-06-26T07:29:27.883284Z",
     "shell.execute_reply": "2025-06-26T07:29:27.882272Z"
    },
    "papermill": {
     "duration": 0.025496,
     "end_time": "2025-06-26T07:29:27.884837",
     "exception": false,
     "start_time": "2025-06-26T07:29:27.859341",
     "status": "completed"
    },
    "tags": []
   },
   "outputs": [],
   "source": [
    "X_train.columns = X_train.columns.str.replace(' ', '_')\n",
    "X_valid.columns = X_valid.columns.str.replace(' ', '_')\n"
   ]
  },
  {
   "cell_type": "code",
   "execution_count": 40,
   "id": "60ee6eff",
   "metadata": {
    "execution": {
     "iopub.execute_input": "2025-06-26T07:29:27.921381Z",
     "iopub.status.busy": "2025-06-26T07:29:27.920726Z",
     "iopub.status.idle": "2025-06-26T07:29:27.925711Z",
     "shell.execute_reply": "2025-06-26T07:29:27.924974Z"
    },
    "papermill": {
     "duration": 0.024583,
     "end_time": "2025-06-26T07:29:27.927063",
     "exception": false,
     "start_time": "2025-06-26T07:29:27.902480",
     "status": "completed"
    },
    "tags": []
   },
   "outputs": [],
   "source": [
    "df.columns = df.columns.str.replace(' ', '_')\n"
   ]
  },
  {
   "cell_type": "code",
   "execution_count": 41,
   "id": "865288ff",
   "metadata": {
    "execution": {
     "iopub.execute_input": "2025-06-26T07:29:27.965040Z",
     "iopub.status.busy": "2025-06-26T07:29:27.964171Z",
     "iopub.status.idle": "2025-06-26T07:29:27.968812Z",
     "shell.execute_reply": "2025-06-26T07:29:27.967815Z"
    },
    "papermill": {
     "duration": 0.024606,
     "end_time": "2025-06-26T07:29:27.970201",
     "exception": false,
     "start_time": "2025-06-26T07:29:27.945595",
     "status": "completed"
    },
    "tags": []
   },
   "outputs": [],
   "source": [
    "assert list(X_train.columns) == list(X_valid.columns)\n"
   ]
  },
  {
   "cell_type": "code",
   "execution_count": 42,
   "id": "d832973f",
   "metadata": {
    "execution": {
     "iopub.execute_input": "2025-06-26T07:29:28.007884Z",
     "iopub.status.busy": "2025-06-26T07:29:28.007536Z",
     "iopub.status.idle": "2025-06-26T07:29:32.626660Z",
     "shell.execute_reply": "2025-06-26T07:29:32.625829Z"
    },
    "papermill": {
     "duration": 4.639693,
     "end_time": "2025-06-26T07:29:32.628096",
     "exception": false,
     "start_time": "2025-06-26T07:29:27.988403",
     "status": "completed"
    },
    "tags": []
   },
   "outputs": [
    {
     "data": {
      "text/html": [
       "<div>\n",
       "<style scoped>\n",
       "    .dataframe tbody tr th:only-of-type {\n",
       "        vertical-align: middle;\n",
       "    }\n",
       "\n",
       "    .dataframe tbody tr th {\n",
       "        vertical-align: top;\n",
       "    }\n",
       "\n",
       "    .dataframe thead th {\n",
       "        text-align: right;\n",
       "    }\n",
       "</style>\n",
       "<table border=\"1\" class=\"dataframe\">\n",
       "  <thead>\n",
       "    <tr style=\"text-align: right;\">\n",
       "      <th></th>\n",
       "      <th>Accuracy</th>\n",
       "      <th>ROC_AUC</th>\n",
       "    </tr>\n",
       "  </thead>\n",
       "  <tbody>\n",
       "    <tr>\n",
       "      <th>Logistic</th>\n",
       "      <td>0.8436</td>\n",
       "      <td>0.8599</td>\n",
       "    </tr>\n",
       "    <tr>\n",
       "      <th>XGBoost</th>\n",
       "      <td>0.8268</td>\n",
       "      <td>0.8363</td>\n",
       "    </tr>\n",
       "    <tr>\n",
       "      <th>RandomForest</th>\n",
       "      <td>0.8045</td>\n",
       "      <td>0.8319</td>\n",
       "    </tr>\n",
       "  </tbody>\n",
       "</table>\n",
       "</div>"
      ],
      "text/plain": [
       "              Accuracy  ROC_AUC\n",
       "Logistic        0.8436   0.8599\n",
       "XGBoost         0.8268   0.8363\n",
       "RandomForest    0.8045   0.8319"
      ]
     },
     "execution_count": 42,
     "metadata": {},
     "output_type": "execute_result"
    }
   ],
   "source": [
    "from sklearn.linear_model import LogisticRegression\n",
    "from sklearn.ensemble import RandomForestClassifier\n",
    "from xgboost import XGBClassifier\n",
    "from sklearn.metrics import accuracy_score, roc_auc_score\n",
    "import pandas as pd\n",
    "\n",
    "# Define your chosen models\n",
    "subset_models = {\n",
    "    'Logistic': LogisticRegression(max_iter=1000, random_state=42),\n",
    "    'RandomForest': RandomForestClassifier(n_estimators=100, random_state=42),\n",
    "    'XGBoost': XGBClassifier(use_label_encoder=False, eval_metric='logloss', random_state=42)\n",
    "}\n",
    "\n",
    "# Evaluate\n",
    "subset_results = {}\n",
    "\n",
    "for name, model in subset_models.items():\n",
    "    model.fit(X_train, y_train)\n",
    "    preds = model.predict(X_valid)\n",
    "    probs = model.predict_proba(X_valid)[:, 1]\n",
    "    \n",
    "    acc = accuracy_score(y_valid, preds)\n",
    "    auc = roc_auc_score(y_valid, probs)\n",
    "    \n",
    "    subset_results[name] = {'Accuracy': round(acc, 4), 'ROC_AUC': round(auc, 4)}\n",
    "\n",
    "# Display\n",
    "pd.DataFrame(subset_results).T.sort_values('ROC_AUC', ascending=False)\n"
   ]
  },
  {
   "cell_type": "code",
   "execution_count": 43,
   "id": "d6a9b78f",
   "metadata": {
    "execution": {
     "iopub.execute_input": "2025-06-26T07:29:32.666703Z",
     "iopub.status.busy": "2025-06-26T07:29:32.666402Z",
     "iopub.status.idle": "2025-06-26T07:29:32.673641Z",
     "shell.execute_reply": "2025-06-26T07:29:32.672885Z"
    },
    "papermill": {
     "duration": 0.028119,
     "end_time": "2025-06-26T07:29:32.675116",
     "exception": false,
     "start_time": "2025-06-26T07:29:32.646997",
     "status": "completed"
    },
    "tags": []
   },
   "outputs": [],
   "source": [
    "from sklearn.metrics import accuracy_score, roc_auc_score\n",
    "import pandas as pd\n",
    "\n",
    "def evaluate_models(models, X_train, X_valid, y_train, y_valid):\n",
    "    \"\"\"\n",
    "    Evaluates classification models with accuracy and ROC AUC.\n",
    "    Handles regressors like BayesianRidge by thresholding at 0.5.\n",
    "    \"\"\"\n",
    "    results = {}\n",
    "    \n",
    "    for name, model in models.items():\n",
    "        model.fit(X_train, y_train)\n",
    "        \n",
    "        if hasattr(model, \"predict_proba\"):\n",
    "            probs = model.predict_proba(X_valid)[:, 1]\n",
    "        else:\n",
    "            probs = model.predict(X_valid)\n",
    "        \n",
    "        # Threshold for BayesianRidge, if needed\n",
    "        preds = (probs >= 0.5).astype(int) if 'Ridge' in name or 'Bayesian' in name else model.predict(X_valid)\n",
    "        \n",
    "        acc = accuracy_score(y_valid, preds)\n",
    "        auc = roc_auc_score(y_valid, probs)\n",
    "        \n",
    "        results[name] = {'Accuracy': round(acc, 4), 'ROC_AUC': round(auc, 4)}\n",
    "    \n",
    "    return pd.DataFrame(results).T.sort_values('ROC_AUC', ascending=False)\n"
   ]
  },
  {
   "cell_type": "code",
   "execution_count": 44,
   "id": "07f609d3",
   "metadata": {
    "execution": {
     "iopub.execute_input": "2025-06-26T07:29:32.713460Z",
     "iopub.status.busy": "2025-06-26T07:29:32.713099Z",
     "iopub.status.idle": "2025-06-26T07:29:36.591169Z",
     "shell.execute_reply": "2025-06-26T07:29:36.590324Z"
    },
    "papermill": {
     "duration": 3.899584,
     "end_time": "2025-06-26T07:29:36.593298",
     "exception": false,
     "start_time": "2025-06-26T07:29:32.693714",
     "status": "completed"
    },
    "tags": []
   },
   "outputs": [
    {
     "name": "stdout",
     "output_type": "stream",
     "text": [
      "📊 Stacking Model Results:\n",
      "Accuracy: 0.8547\n",
      "ROC AUC : 0.8663\n"
     ]
    }
   ],
   "source": [
    "from sklearn.ensemble import StackingClassifier\n",
    "from sklearn.linear_model import LogisticRegression\n",
    "from sklearn.ensemble import RandomForestClassifier\n",
    "from xgboost import XGBClassifier\n",
    "from sklearn.preprocessing import StandardScaler\n",
    "from sklearn.pipeline import Pipeline\n",
    "from sklearn.model_selection import train_test_split, RandomizedSearchCV\n",
    "from sklearn.metrics import accuracy_score, roc_auc_score\n",
    "import numpy as np\n",
    "import pandas as pd\n",
    "\n",
    "RANDOM_STATE = 42\n",
    "\n",
    "# Logistic with Scaling\n",
    "logreg_pipeline = Pipeline([\n",
    "    ('scaler', StandardScaler()),\n",
    "    ('logreg', LogisticRegression(max_iter=2000, random_state=RANDOM_STATE))\n",
    "])\n",
    "\n",
    "# Base models\n",
    "base_models = [\n",
    "    ('lr', logreg_pipeline),\n",
    "    ('rf', RandomForestClassifier(random_state=RANDOM_STATE)),\n",
    "    ('xgb', XGBClassifier(use_label_encoder=False, eval_metric='logloss', random_state=RANDOM_STATE))\n",
    "]\n",
    "\n",
    "# Meta-model (final estimator)\n",
    "final_estimator = LogisticRegression(max_iter=2000, random_state=RANDOM_STATE)\n",
    "\n",
    "# Build StackingClassifier\n",
    "stacking_model = StackingClassifier(\n",
    "    estimators=base_models,\n",
    "    final_estimator=final_estimator,\n",
    "    passthrough=True,  # Optional: pass original features to final estimator\n",
    "    cv=5,\n",
    "    n_jobs=-1\n",
    ")\n",
    "\n",
    "# Fit on training data\n",
    "stacking_model.fit(X_train, y_train)\n",
    "\n",
    "# Evaluate\n",
    "preds = stacking_model.predict(X_valid)\n",
    "probs = stacking_model.predict_proba(X_valid)[:, 1]\n",
    "\n",
    "acc = accuracy_score(y_valid, preds)\n",
    "auc = roc_auc_score(y_valid, probs)\n",
    "\n",
    "print(f\"📊 Stacking Model Results:\")\n",
    "print(f\"Accuracy: {round(acc, 4)}\")\n",
    "print(f\"ROC AUC : {round(auc, 4)}\")\n"
   ]
  },
  {
   "cell_type": "code",
   "execution_count": 45,
   "id": "2e1466a9",
   "metadata": {
    "execution": {
     "iopub.execute_input": "2025-06-26T07:29:36.653962Z",
     "iopub.status.busy": "2025-06-26T07:29:36.653441Z",
     "iopub.status.idle": "2025-06-26T07:29:36.661525Z",
     "shell.execute_reply": "2025-06-26T07:29:36.660624Z"
    },
    "papermill": {
     "duration": 0.040356,
     "end_time": "2025-06-26T07:29:36.662976",
     "exception": false,
     "start_time": "2025-06-26T07:29:36.622620",
     "status": "completed"
    },
    "tags": []
   },
   "outputs": [],
   "source": [
    "# All features except Survived and PassengerId\n",
    "X_full = df.drop(columns=['Survived', 'PassengerId'], errors='ignore').iloc[:train_len]\n",
    "y_full = df.loc[:train_len-1, 'Survived']\n",
    "\n",
    "# Test set\n",
    "X_test = df.drop(columns=['Survived', 'PassengerId'], errors='ignore').iloc[train_len:]\n"
   ]
  },
  {
   "cell_type": "code",
   "execution_count": 46,
   "id": "7f12912d",
   "metadata": {
    "execution": {
     "iopub.execute_input": "2025-06-26T07:29:36.700637Z",
     "iopub.status.busy": "2025-06-26T07:29:36.700346Z",
     "iopub.status.idle": "2025-06-26T07:29:36.713147Z",
     "shell.execute_reply": "2025-06-26T07:29:36.712299Z"
    },
    "papermill": {
     "duration": 0.033188,
     "end_time": "2025-06-26T07:29:36.714676",
     "exception": false,
     "start_time": "2025-06-26T07:29:36.681488",
     "status": "completed"
    },
    "tags": []
   },
   "outputs": [],
   "source": [
    "from sklearn.preprocessing import StandardScaler\n",
    "\n",
    "scaler = StandardScaler()\n",
    "X_scaled = scaler.fit_transform(X_full)      # for training\n",
    "X_test_scaled = scaler.transform(X_test)     # for prediction\n"
   ]
  },
  {
   "cell_type": "code",
   "execution_count": 47,
   "id": "e70093c0",
   "metadata": {
    "execution": {
     "iopub.execute_input": "2025-06-26T07:29:36.756404Z",
     "iopub.status.busy": "2025-06-26T07:29:36.756108Z",
     "iopub.status.idle": "2025-06-26T07:29:36.760478Z",
     "shell.execute_reply": "2025-06-26T07:29:36.759809Z"
    },
    "papermill": {
     "duration": 0.029299,
     "end_time": "2025-06-26T07:29:36.761851",
     "exception": false,
     "start_time": "2025-06-26T07:29:36.732552",
     "status": "completed"
    },
    "tags": []
   },
   "outputs": [],
   "source": [
    "from sklearn.linear_model import LogisticRegressionCV\n",
    "\n",
    "elastic_model = LogisticRegressionCV(\n",
    "    cv=5,\n",
    "    l1_ratios=[0.1, 0.5, 0.9],\n",
    "    max_iter=5000,\n",
    "    penalty='elasticnet',\n",
    "    solver='saga',\n",
    "    random_state=42,\n",
    "    scoring='roc_auc'\n",
    ")\n"
   ]
  },
  {
   "cell_type": "code",
   "execution_count": 48,
   "id": "df5a5cba",
   "metadata": {
    "execution": {
     "iopub.execute_input": "2025-06-26T07:29:36.803321Z",
     "iopub.status.busy": "2025-06-26T07:29:36.803001Z",
     "iopub.status.idle": "2025-06-26T07:29:36.811175Z",
     "shell.execute_reply": "2025-06-26T07:29:36.810304Z"
    },
    "papermill": {
     "duration": 0.029102,
     "end_time": "2025-06-26T07:29:36.812940",
     "exception": false,
     "start_time": "2025-06-26T07:29:36.783838",
     "status": "completed"
    },
    "tags": []
   },
   "outputs": [],
   "source": [
    "from sklearn.model_selection import train_test_split\n",
    "\n",
    "X_train, X_val, y_train, y_val = train_test_split(\n",
    "    X_full, y_full, test_size=0.2, stratify=y_full, random_state=42\n",
    ")\n"
   ]
  },
  {
   "cell_type": "code",
   "execution_count": 49,
   "id": "037c4885",
   "metadata": {
    "execution": {
     "iopub.execute_input": "2025-06-26T07:29:36.855299Z",
     "iopub.status.busy": "2025-06-26T07:29:36.854993Z",
     "iopub.status.idle": "2025-06-26T07:29:36.867018Z",
     "shell.execute_reply": "2025-06-26T07:29:36.866087Z"
    },
    "papermill": {
     "duration": 0.032398,
     "end_time": "2025-06-26T07:29:36.868640",
     "exception": false,
     "start_time": "2025-06-26T07:29:36.836242",
     "status": "completed"
    },
    "tags": []
   },
   "outputs": [],
   "source": [
    "from sklearn.preprocessing import StandardScaler\n",
    "\n",
    "scaler = StandardScaler()\n",
    "X_train_scaled = scaler.fit_transform(X_train)\n",
    "X_val_scaled = scaler.transform(X_val)\n"
   ]
  },
  {
   "cell_type": "code",
   "execution_count": 50,
   "id": "43eba6af",
   "metadata": {
    "execution": {
     "iopub.execute_input": "2025-06-26T07:29:36.906969Z",
     "iopub.status.busy": "2025-06-26T07:29:36.906312Z",
     "iopub.status.idle": "2025-06-26T07:29:36.921417Z",
     "shell.execute_reply": "2025-06-26T07:29:36.920545Z"
    },
    "papermill": {
     "duration": 0.035452,
     "end_time": "2025-06-26T07:29:36.923044",
     "exception": false,
     "start_time": "2025-06-26T07:29:36.887592",
     "status": "completed"
    },
    "tags": []
   },
   "outputs": [],
   "source": [
    "from sklearn.model_selection import train_test_split\n",
    "from sklearn.preprocessing import StandardScaler\n",
    "\n",
    "X_train, X_val, y_train, y_val = train_test_split(\n",
    "    X_full, y_full, test_size=0.2, stratify=y_full, random_state=42)\n",
    "\n",
    "scaler = StandardScaler()\n",
    "X_train_scaled = scaler.fit_transform(X_train)\n",
    "X_val_scaled = scaler.transform(X_val)\n"
   ]
  },
  {
   "cell_type": "code",
   "execution_count": 51,
   "id": "c7d62444",
   "metadata": {
    "execution": {
     "iopub.execute_input": "2025-06-26T07:29:36.959924Z",
     "iopub.status.busy": "2025-06-26T07:29:36.959603Z",
     "iopub.status.idle": "2025-06-26T07:30:04.597419Z",
     "shell.execute_reply": "2025-06-26T07:30:04.596464Z"
    },
    "papermill": {
     "duration": 27.658075,
     "end_time": "2025-06-26T07:30:04.599045",
     "exception": false,
     "start_time": "2025-06-26T07:29:36.940970",
     "status": "completed"
    },
    "tags": []
   },
   "outputs": [
    {
     "data": {
      "text/html": [
       "<div>\n",
       "<style scoped>\n",
       "    .dataframe tbody tr th:only-of-type {\n",
       "        vertical-align: middle;\n",
       "    }\n",
       "\n",
       "    .dataframe tbody tr th {\n",
       "        vertical-align: top;\n",
       "    }\n",
       "\n",
       "    .dataframe thead th {\n",
       "        text-align: right;\n",
       "    }\n",
       "</style>\n",
       "<table border=\"1\" class=\"dataframe\">\n",
       "  <thead>\n",
       "    <tr style=\"text-align: right;\">\n",
       "      <th></th>\n",
       "      <th>Accuracy</th>\n",
       "      <th>ROC_AUC</th>\n",
       "    </tr>\n",
       "  </thead>\n",
       "  <tbody>\n",
       "    <tr>\n",
       "      <th>L1 (Lasso)</th>\n",
       "      <td>0.8268</td>\n",
       "      <td>0.8627</td>\n",
       "    </tr>\n",
       "    <tr>\n",
       "      <th>L2 (Ridge)</th>\n",
       "      <td>0.8324</td>\n",
       "      <td>0.8625</td>\n",
       "    </tr>\n",
       "    <tr>\n",
       "      <th>ElasticNet (L1+L2)</th>\n",
       "      <td>0.8101</td>\n",
       "      <td>0.8523</td>\n",
       "    </tr>\n",
       "  </tbody>\n",
       "</table>\n",
       "</div>"
      ],
      "text/plain": [
       "                    Accuracy  ROC_AUC\n",
       "L1 (Lasso)            0.8268   0.8627\n",
       "L2 (Ridge)            0.8324   0.8625\n",
       "ElasticNet (L1+L2)    0.8101   0.8523"
      ]
     },
     "execution_count": 51,
     "metadata": {},
     "output_type": "execute_result"
    }
   ],
   "source": [
    "from sklearn.linear_model import LogisticRegression, LogisticRegressionCV\n",
    "from sklearn.metrics import accuracy_score, roc_auc_score\n",
    "\n",
    "models = {\n",
    "    \"L1 (Lasso)\": LogisticRegression(penalty='l1', solver='liblinear', C=1.0, max_iter=1000),\n",
    "    \"L2 (Ridge)\": LogisticRegression(penalty='l2', solver='liblinear', C=1.0, max_iter=1000),\n",
    "    \"ElasticNet (L1+L2)\": LogisticRegressionCV(\n",
    "        penalty='elasticnet',\n",
    "        solver='saga',\n",
    "        l1_ratios=[0.1, 0.5, 0.9],\n",
    "        Cs=10,\n",
    "        cv=5,\n",
    "        scoring='roc_auc',\n",
    "        max_iter=5000,\n",
    "        random_state=42\n",
    "    )\n",
    "}\n",
    "\n",
    "results = {}\n",
    "\n",
    "for name, model in models.items():\n",
    "    model.fit(X_train_scaled, y_train)\n",
    "    val_preds = model.predict(X_val_scaled)\n",
    "    val_probs = model.predict_proba(X_val_scaled)[:, 1]\n",
    "    \n",
    "    acc = accuracy_score(y_val, val_preds)\n",
    "    auc = roc_auc_score(y_val, val_probs)\n",
    "    \n",
    "    results[name] = {'Accuracy': round(acc, 4), 'ROC_AUC': round(auc, 4)}\n",
    "\n",
    "# Show comparison\n",
    "import pandas as pd\n",
    "pd.DataFrame(results).T.sort_values('ROC_AUC', ascending=False)\n"
   ]
  },
  {
   "cell_type": "code",
   "execution_count": 52,
   "id": "25d57c80",
   "metadata": {
    "execution": {
     "iopub.execute_input": "2025-06-26T07:30:04.637396Z",
     "iopub.status.busy": "2025-06-26T07:30:04.637053Z",
     "iopub.status.idle": "2025-06-26T07:30:04.760355Z",
     "shell.execute_reply": "2025-06-26T07:30:04.759269Z"
    },
    "papermill": {
     "duration": 0.14405,
     "end_time": "2025-06-26T07:30:04.761858",
     "exception": false,
     "start_time": "2025-06-26T07:30:04.617808",
     "status": "completed"
    },
    "tags": []
   },
   "outputs": [
    {
     "name": "stdout",
     "output_type": "stream",
     "text": [
      "XGBoost Accuracy: 0.8045\n",
      "XGBoost ROC AUC : 0.8466\n"
     ]
    }
   ],
   "source": [
    "from xgboost import XGBClassifier\n",
    "from sklearn.metrics import accuracy_score, roc_auc_score\n",
    "\n",
    "xgb_model = XGBClassifier(\n",
    "    n_estimators=100,\n",
    "    max_depth=3,\n",
    "    learning_rate=0.1,\n",
    "    use_label_encoder=False,\n",
    "    eval_metric='logloss',\n",
    "    random_state=42\n",
    ")\n",
    "\n",
    "xgb_model.fit(X_train_scaled, y_train)\n",
    "xgb_preds = xgb_model.predict(X_val_scaled)\n",
    "xgb_probs = xgb_model.predict_proba(X_val_scaled)[:, 1]\n",
    "\n",
    "print(\"XGBoost Accuracy:\", round(accuracy_score(y_val, xgb_preds), 4))\n",
    "print(\"XGBoost ROC AUC :\", round(roc_auc_score(y_val, xgb_probs), 4))\n"
   ]
  },
  {
   "cell_type": "code",
   "execution_count": 53,
   "id": "c879df63",
   "metadata": {
    "execution": {
     "iopub.execute_input": "2025-06-26T07:30:04.799889Z",
     "iopub.status.busy": "2025-06-26T07:30:04.799073Z",
     "iopub.status.idle": "2025-06-26T07:30:05.412436Z",
     "shell.execute_reply": "2025-06-26T07:30:05.411396Z"
    },
    "papermill": {
     "duration": 0.633854,
     "end_time": "2025-06-26T07:30:05.414114",
     "exception": false,
     "start_time": "2025-06-26T07:30:04.780260",
     "status": "completed"
    },
    "tags": []
   },
   "outputs": [
    {
     "name": "stdout",
     "output_type": "stream",
     "text": [
      "CatBoost Accuracy: 0.8212\n",
      "CatBoost ROC AUC : 0.8547\n"
     ]
    }
   ],
   "source": [
    "from catboost import CatBoostClassifier\n",
    "\n",
    "cat_model = CatBoostClassifier(\n",
    "    iterations=100,\n",
    "    learning_rate=0.1,\n",
    "    depth=3,\n",
    "    verbose=0,\n",
    "    random_state=42\n",
    ")\n",
    "\n",
    "cat_model.fit(X_train, y_train)  # No scaling needed!\n",
    "cat_preds = cat_model.predict(X_val)\n",
    "cat_probs = cat_model.predict_proba(X_val)[:, 1]\n",
    "\n",
    "print(\"CatBoost Accuracy:\", round(accuracy_score(y_val, cat_preds), 4))\n",
    "print(\"CatBoost ROC AUC :\", round(roc_auc_score(y_val, cat_probs), 4))\n"
   ]
  },
  {
   "cell_type": "code",
   "execution_count": 54,
   "id": "2756d649",
   "metadata": {
    "execution": {
     "iopub.execute_input": "2025-06-26T07:30:05.451798Z",
     "iopub.status.busy": "2025-06-26T07:30:05.451464Z",
     "iopub.status.idle": "2025-06-26T07:30:05.867405Z",
     "shell.execute_reply": "2025-06-26T07:30:05.865717Z"
    },
    "papermill": {
     "duration": 0.438002,
     "end_time": "2025-06-26T07:30:05.870632",
     "exception": false,
     "start_time": "2025-06-26T07:30:05.432630",
     "status": "completed"
    },
    "tags": []
   },
   "outputs": [
    {
     "name": "stdout",
     "output_type": "stream",
     "text": [
      "L1 (Lasso) → Accuracy: 0.8380, AUC: 0.8585\n",
      "L2 (Ridge) → Accuracy: 0.8212, AUC: 0.8584\n"
     ]
    },
    {
     "name": "stderr",
     "output_type": "stream",
     "text": [
      "/usr/local/lib/python3.11/dist-packages/sklearn/linear_model/_logistic.py:1173: FutureWarning: `penalty='none'`has been deprecated in 1.2 and will be removed in 1.4. To keep the past behaviour, set `penalty=None`.\n",
      "  warnings.warn(\n"
     ]
    },
    {
     "name": "stdout",
     "output_type": "stream",
     "text": [
      "No Reg → Accuracy: 0.8324, AUC: 0.8626\n"
     ]
    },
    {
     "name": "stderr",
     "output_type": "stream",
     "text": [
      "/usr/local/lib/python3.11/dist-packages/sklearn/linear_model/_logistic.py:458: ConvergenceWarning: lbfgs failed to converge (status=1):\n",
      "STOP: TOTAL NO. OF ITERATIONS REACHED LIMIT.\n",
      "\n",
      "Increase the number of iterations (max_iter) or scale the data as shown in:\n",
      "    https://scikit-learn.org/stable/modules/preprocessing.html\n",
      "Please also refer to the documentation for alternative solver options:\n",
      "    https://scikit-learn.org/stable/modules/linear_model.html#logistic-regression\n",
      "  n_iter_i = _check_optimize_result(\n"
     ]
    }
   ],
   "source": [
    "from sklearn.linear_model import LogisticRegression\n",
    "from sklearn.metrics import roc_auc_score, accuracy_score\n",
    "from sklearn.model_selection import train_test_split\n",
    "\n",
    "X_train, X_val, y_train, y_val = train_test_split(X_full, y_full, test_size=0.2, stratify=y_full, random_state=42)\n",
    "\n",
    "models = {\n",
    "    \"L1 (Lasso)\": LogisticRegression(penalty='l1', solver='liblinear', C=1.0, max_iter=1000),\n",
    "    \"L2 (Ridge)\": LogisticRegression(penalty='l2', solver='liblinear', C=1.0, max_iter=1000),\n",
    "    \"No Reg\": LogisticRegression(penalty='none', solver='lbfgs', max_iter=1000)\n",
    "}\n",
    "\n",
    "for name, model in models.items():\n",
    "    model.fit(X_train, y_train)\n",
    "    preds = model.predict(X_val)\n",
    "    probs = model.predict_proba(X_val)[:, 1]\n",
    "    \n",
    "    acc = accuracy_score(y_val, preds)\n",
    "    auc = roc_auc_score(y_val, probs)\n",
    "    \n",
    "    print(f\"{name} → Accuracy: {acc:.4f}, AUC: {auc:.4f}\")\n"
   ]
  },
  {
   "cell_type": "code",
   "execution_count": 55,
   "id": "ee3d640f",
   "metadata": {
    "execution": {
     "iopub.execute_input": "2025-06-26T07:30:05.933812Z",
     "iopub.status.busy": "2025-06-26T07:30:05.932355Z",
     "iopub.status.idle": "2025-06-26T07:30:08.055144Z",
     "shell.execute_reply": "2025-06-26T07:30:08.053559Z"
    },
    "papermill": {
     "duration": 2.156049,
     "end_time": "2025-06-26T07:30:08.056944",
     "exception": false,
     "start_time": "2025-06-26T07:30:05.900895",
     "status": "completed"
    },
    "tags": []
   },
   "outputs": [
    {
     "name": "stdout",
     "output_type": "stream",
     "text": [
      "✅ 'submission.csv' (using full features) is ready!\n"
     ]
    }
   ],
   "source": [
    "# Retrain model\n",
    "stacking_model.fit(X_full, y_full)\n",
    "\n",
    "# Predict and submit\n",
    "test_preds = stacking_model.predict(X_test)\n",
    "\n",
    "submission = pd.DataFrame({\n",
    "    'PassengerId': test_data['PassengerId'],\n",
    "    'Survived': test_preds\n",
    "})\n",
    "\n",
    "submission.to_csv('submission.csv', index=False)\n",
    "print(\"✅ 'submission.csv' (using full features) is ready!\")\n"
   ]
  },
  {
   "cell_type": "code",
   "execution_count": 56,
   "id": "2b836b8d",
   "metadata": {
    "execution": {
     "iopub.execute_input": "2025-06-26T07:30:08.119995Z",
     "iopub.status.busy": "2025-06-26T07:30:08.119591Z",
     "iopub.status.idle": "2025-06-26T07:30:08.127311Z",
     "shell.execute_reply": "2025-06-26T07:30:08.126236Z"
    },
    "papermill": {
     "duration": 0.041404,
     "end_time": "2025-06-26T07:30:08.129024",
     "exception": false,
     "start_time": "2025-06-26T07:30:08.087620",
     "status": "completed"
    },
    "tags": []
   },
   "outputs": [
    {
     "name": "stdout",
     "output_type": "stream",
     "text": [
      "0\n"
     ]
    }
   ],
   "source": [
    "print(y_full.isnull().sum())  # should be 0\n"
   ]
  },
  {
   "cell_type": "code",
   "execution_count": 57,
   "id": "35fb0c03",
   "metadata": {
    "execution": {
     "iopub.execute_input": "2025-06-26T07:30:08.167563Z",
     "iopub.status.busy": "2025-06-26T07:30:08.166944Z",
     "iopub.status.idle": "2025-06-26T07:30:08.172092Z",
     "shell.execute_reply": "2025-06-26T07:30:08.171142Z"
    },
    "papermill": {
     "duration": 0.026071,
     "end_time": "2025-06-26T07:30:08.173453",
     "exception": false,
     "start_time": "2025-06-26T07:30:08.147382",
     "status": "completed"
    },
    "tags": []
   },
   "outputs": [
    {
     "name": "stdout",
     "output_type": "stream",
     "text": [
      "True\n"
     ]
    }
   ],
   "source": [
    "print(X_full.columns.equals(X_test.columns))  # should be True\n"
   ]
  },
  {
   "cell_type": "code",
   "execution_count": 58,
   "id": "29ffae91",
   "metadata": {
    "execution": {
     "iopub.execute_input": "2025-06-26T07:30:08.211468Z",
     "iopub.status.busy": "2025-06-26T07:30:08.211164Z",
     "iopub.status.idle": "2025-06-26T07:30:08.231591Z",
     "shell.execute_reply": "2025-06-26T07:30:08.230599Z"
    },
    "papermill": {
     "duration": 0.041146,
     "end_time": "2025-06-26T07:30:08.233146",
     "exception": false,
     "start_time": "2025-06-26T07:30:08.192000",
     "status": "completed"
    },
    "tags": []
   },
   "outputs": [
    {
     "name": "stdout",
     "output_type": "stream",
     "text": [
      "[0. 1. 1. 1. 0.]\n"
     ]
    }
   ],
   "source": [
    "# Sanity check\n",
    "print(stacking_model.predict(X_full[:5]))  # should output [0, 1, ...]\n"
   ]
  },
  {
   "cell_type": "code",
   "execution_count": 59,
   "id": "cc55c687",
   "metadata": {
    "execution": {
     "iopub.execute_input": "2025-06-26T07:30:08.272309Z",
     "iopub.status.busy": "2025-06-26T07:30:08.271338Z",
     "iopub.status.idle": "2025-06-26T07:30:08.279102Z",
     "shell.execute_reply": "2025-06-26T07:30:08.278149Z"
    },
    "papermill": {
     "duration": 0.028565,
     "end_time": "2025-06-26T07:30:08.280513",
     "exception": false,
     "start_time": "2025-06-26T07:30:08.251948",
     "status": "completed"
    },
    "tags": []
   },
   "outputs": [],
   "source": [
    "# Start from full df\n",
    "X_all = df.drop(columns=['Survived', 'PassengerId'], errors='ignore')\n",
    "X_full = X_all.iloc[:train_len]\n",
    "X_test = X_all.iloc[train_len:]\n",
    "\n",
    "# Optional: if you dropped features before, do it here\n",
    "# X_full = X_full.drop(columns=features_to_drop, errors='ignore')\n",
    "# X_test = X_test.drop(columns=features_to_drop, errors='ignore')\n",
    "\n",
    "# Make sure columns match exactly\n",
    "X_test = X_test[X_full.columns]\n"
   ]
  },
  {
   "cell_type": "code",
   "execution_count": 60,
   "id": "afbedb09",
   "metadata": {
    "execution": {
     "iopub.execute_input": "2025-06-26T07:30:08.319846Z",
     "iopub.status.busy": "2025-06-26T07:30:08.318723Z",
     "iopub.status.idle": "2025-06-26T07:30:10.888354Z",
     "shell.execute_reply": "2025-06-26T07:30:10.887556Z"
    },
    "papermill": {
     "duration": 2.591631,
     "end_time": "2025-06-26T07:30:10.890582",
     "exception": false,
     "start_time": "2025-06-26T07:30:08.298951",
     "status": "completed"
    },
    "tags": []
   },
   "outputs": [],
   "source": [
    "stacking_model.fit(X_full, y_full)\n",
    "test_preds = stacking_model.predict(X_test)\n",
    "\n",
    "submission = pd.DataFrame({\n",
    "    'PassengerId': test_data['PassengerId'],\n",
    "    'Survived': test_preds.astype(int)  # just to ensure it's int, not float\n",
    "})\n",
    "\n",
    "submission.to_csv('submission.csv', index=False)\n"
   ]
  },
  {
   "cell_type": "code",
   "execution_count": 61,
   "id": "a64d1ac6",
   "metadata": {
    "execution": {
     "iopub.execute_input": "2025-06-26T07:30:10.954356Z",
     "iopub.status.busy": "2025-06-26T07:30:10.954012Z",
     "iopub.status.idle": "2025-06-26T07:30:10.967012Z",
     "shell.execute_reply": "2025-06-26T07:30:10.966220Z"
    },
    "papermill": {
     "duration": 0.046647,
     "end_time": "2025-06-26T07:30:10.968556",
     "exception": false,
     "start_time": "2025-06-26T07:30:10.921909",
     "status": "completed"
    },
    "tags": []
   },
   "outputs": [
    {
     "name": "stdout",
     "output_type": "stream",
     "text": [
      "   PassengerId  Survived\n",
      "0          892         0\n",
      "1          893         0\n",
      "2          894         0\n",
      "3          895         0\n",
      "4          896         1\n",
      "(418, 2)\n",
      "Survived\n",
      "0    266\n",
      "1    152\n",
      "Name: count, dtype: int64\n"
     ]
    }
   ],
   "source": [
    "print(submission.head())\n",
    "print(submission.shape)  # should be (418, 2)\n",
    "print(submission['Survived'].value_counts())  # check 0s and 1s\n"
   ]
  },
  {
   "cell_type": "code",
   "execution_count": 62,
   "id": "506f96c7",
   "metadata": {
    "execution": {
     "iopub.execute_input": "2025-06-26T07:30:11.008307Z",
     "iopub.status.busy": "2025-06-26T07:30:11.007366Z",
     "iopub.status.idle": "2025-06-26T07:30:11.059143Z",
     "shell.execute_reply": "2025-06-26T07:30:11.057933Z"
    },
    "papermill": {
     "duration": 0.073716,
     "end_time": "2025-06-26T07:30:11.060944",
     "exception": false,
     "start_time": "2025-06-26T07:30:10.987228",
     "status": "completed"
    },
    "tags": []
   },
   "outputs": [
    {
     "name": "stdout",
     "output_type": "stream",
     "text": [
      "📊 Feature Scores:\n",
      "                Feature       Score\n",
      "26            Title_Mr  317.016763\n",
      "1                  Sex  306.593249\n",
      "9             Fare_log  102.442025\n",
      "22              Deck_U   99.462219\n",
      "6             HasCabin   99.462219\n",
      "0               Pclass   97.835853\n",
      "27           Title_Mrs   97.430906\n",
      "23          Title_Miss   84.265009\n",
      "7           CabinClass   74.689720\n",
      "13   FamilyGroup_Small   67.461461\n",
      "5                 Fare   58.314907\n",
      "14    FamilyGroup_Solo   34.601859\n",
      "11          Embarked_S   23.546389\n",
      "17              Deck_D   21.097573\n",
      "15              Deck_B   19.149438\n",
      "18              Deck_E   18.416236\n",
      "16              Deck_C   16.851283\n",
      "12  FamilyGroup_Medium    8.360211\n",
      "32   AgeBin_YoungAdult    6.553140\n",
      "19              Deck_F    5.615841\n",
      "4                Parch    5.066904\n",
      "24          Title_Mlle    3.230752\n",
      "2                  Age    3.192070\n",
      "34       AgeBin_Senior    2.660201\n",
      "28            Title_Ms    1.609437\n",
      "33        AgeBin_Adult    1.080503\n",
      "10          Embarked_Q    0.705233\n",
      "21              Deck_T    0.621537\n",
      "8           FamilySize    0.516703\n",
      "3                SibSp    0.484537\n",
      "31         AgeBin_Teen    0.242300\n",
      "20              Deck_G    0.230651\n",
      "29          Title_Rare    0.002324\n",
      "25           Title_Mme         NaN\n",
      "30  Title_the_Countess         NaN\n"
     ]
    },
    {
     "name": "stderr",
     "output_type": "stream",
     "text": [
      "/usr/local/lib/python3.11/dist-packages/sklearn/feature_selection/_univariate_selection.py:112: UserWarning: Features [25 30] are constant.\n",
      "  warnings.warn(\"Features %s are constant.\" % constant_features_idx, UserWarning)\n",
      "/usr/local/lib/python3.11/dist-packages/sklearn/feature_selection/_univariate_selection.py:113: RuntimeWarning: invalid value encountered in divide\n",
      "  f = msb / msw\n",
      "/usr/local/lib/python3.11/dist-packages/pandas/io/formats/format.py:1458: RuntimeWarning: invalid value encountered in greater\n",
      "  has_large_values = (abs_vals > 1e6).any()\n",
      "/usr/local/lib/python3.11/dist-packages/pandas/io/formats/format.py:1459: RuntimeWarning: invalid value encountered in less\n",
      "  has_small_values = ((abs_vals < 10 ** (-self.digits)) & (abs_vals > 0)).any()\n",
      "/usr/local/lib/python3.11/dist-packages/pandas/io/formats/format.py:1459: RuntimeWarning: invalid value encountered in greater\n",
      "  has_small_values = ((abs_vals < 10 ** (-self.digits)) & (abs_vals > 0)).any()\n"
     ]
    }
   ],
   "source": [
    "from sklearn.feature_selection import SelectKBest, f_classif, mutual_info_classif\n",
    "\n",
    "# Method 1: ANOVA F-test (good for linear models)\n",
    "selector = SelectKBest(score_func=f_classif, k='all')  # Start with all to inspect scores\n",
    "selector.fit(X_train, y_train)\n",
    "\n",
    "feature_scores = pd.DataFrame({\n",
    "    'Feature': X_train.columns,\n",
    "    'Score': selector.scores_\n",
    "}).sort_values(by='Score', ascending=False)\n",
    "\n",
    "print(\"📊 Feature Scores:\\n\", feature_scores)\n"
   ]
  },
  {
   "cell_type": "code",
   "execution_count": 63,
   "id": "70c5ebb7",
   "metadata": {
    "execution": {
     "iopub.execute_input": "2025-06-26T07:30:11.099316Z",
     "iopub.status.busy": "2025-06-26T07:30:11.098999Z",
     "iopub.status.idle": "2025-06-26T07:30:13.064949Z",
     "shell.execute_reply": "2025-06-26T07:30:13.062658Z"
    },
    "papermill": {
     "duration": 1.98702,
     "end_time": "2025-06-26T07:30:13.066677",
     "exception": false,
     "start_time": "2025-06-26T07:30:11.079657",
     "status": "completed"
    },
    "tags": []
   },
   "outputs": [
    {
     "name": "stdout",
     "output_type": "stream",
     "text": [
      "🔍 Accuracy: 0.8492\n",
      "🔍 ROC AUC : 0.8643\n"
     ]
    }
   ],
   "source": [
    "from sklearn.ensemble import StackingClassifier\n",
    "from sklearn.linear_model import LogisticRegression\n",
    "from sklearn.ensemble import RandomForestClassifier\n",
    "from xgboost import XGBClassifier\n",
    "from sklearn.preprocessing import StandardScaler\n",
    "from sklearn.pipeline import Pipeline\n",
    "from sklearn.metrics import accuracy_score, roc_auc_score\n",
    "import pandas as pd\n",
    "\n",
    "# 🔹 Step 1: Drop weak/noisy features\n",
    "features_to_drop = [\n",
    "    'Title_Rare', 'Title_Mme', 'Title_the_Countess',\n",
    "    'Deck_G', 'Deck_T', 'Embarked_Q', 'AgeBin_Teen', 'AgeBin_Adult'\n",
    "]\n",
    "\n",
    "X_train_pruned = X_train.drop(columns=features_to_drop, errors='ignore')\n",
    "X_valid_pruned = X_valid.drop(columns=features_to_drop, errors='ignore')\n",
    "\n",
    "# 🔹 Step 2: Define base models with scaling for Logistic Regression\n",
    "logreg_pipeline = Pipeline([\n",
    "    ('scaler', StandardScaler()),\n",
    "    ('logreg', LogisticRegression(max_iter=5000, random_state=42))\n",
    "])\n",
    "\n",
    "base_models = [\n",
    "    ('lr', logreg_pipeline),\n",
    "    ('rf', RandomForestClassifier(random_state=42)),\n",
    "    ('xgb', XGBClassifier(use_label_encoder=False, eval_metric='logloss', random_state=42))\n",
    "]\n",
    "\n",
    "# 🔹 Step 3: Define final estimator and stack\n",
    "stack_model = StackingClassifier(\n",
    "    estimators=base_models,\n",
    "    final_estimator=LogisticRegression(max_iter=2000, random_state=42),\n",
    "    passthrough=True,\n",
    "    cv=5,\n",
    "    n_jobs=-1\n",
    ")\n",
    "\n",
    "# 🔹 Step 4: Train the stacking model\n",
    "stack_model.fit(X_train_pruned, y_train)\n",
    "\n",
    "# 🔹 Step 5: Predict and evaluate\n",
    "preds = stack_model.predict(X_valid_pruned)\n",
    "probs = stack_model.predict_proba(X_valid_pruned)[:, 1]\n",
    "\n",
    "print(\"🔍 Accuracy:\", round(accuracy_score(y_valid, preds), 4))\n",
    "print(\"🔍 ROC AUC :\", round(roc_auc_score(y_valid, probs), 4))\n"
   ]
  },
  {
   "cell_type": "code",
   "execution_count": 64,
   "id": "dc4bd929",
   "metadata": {
    "execution": {
     "iopub.execute_input": "2025-06-26T07:30:13.130830Z",
     "iopub.status.busy": "2025-06-26T07:30:13.130479Z",
     "iopub.status.idle": "2025-06-26T07:30:21.539855Z",
     "shell.execute_reply": "2025-06-26T07:30:21.537777Z"
    },
    "papermill": {
     "duration": 8.444136,
     "end_time": "2025-06-26T07:30:21.542041",
     "exception": false,
     "start_time": "2025-06-26T07:30:13.097905",
     "status": "completed"
    },
    "tags": []
   },
   "outputs": [
    {
     "name": "stdout",
     "output_type": "stream",
     "text": [
      "Cross-Validated ROC AUC: 0.8677 ± 0.0309\n"
     ]
    }
   ],
   "source": [
    "from sklearn.model_selection import cross_val_score\n",
    "\n",
    "scores = cross_val_score(stacking_model, X_scaled, y_full, cv=5, scoring='roc_auc')\n",
    "print(f\"Cross-Validated ROC AUC: {scores.mean():.4f} ± {scores.std():.4f}\")\n"
   ]
  },
  {
   "cell_type": "code",
   "execution_count": 65,
   "id": "75537ffe",
   "metadata": {
    "execution": {
     "iopub.execute_input": "2025-06-26T07:30:21.608725Z",
     "iopub.status.busy": "2025-06-26T07:30:21.608167Z",
     "iopub.status.idle": "2025-06-26T07:30:21.639352Z",
     "shell.execute_reply": "2025-06-26T07:30:21.637980Z"
    },
    "papermill": {
     "duration": 0.065084,
     "end_time": "2025-06-26T07:30:21.640858",
     "exception": false,
     "start_time": "2025-06-26T07:30:21.575774",
     "status": "completed"
    },
    "tags": []
   },
   "outputs": [
    {
     "name": "stdout",
     "output_type": "stream",
     "text": [
      "              precision    recall  f1-score   support\n",
      "\n",
      "         0.0       1.00      0.08      0.15       110\n",
      "         1.0       0.41      1.00      0.58        69\n",
      "\n",
      "    accuracy                           0.44       179\n",
      "   macro avg       0.70      0.54      0.36       179\n",
      "weighted avg       0.77      0.44      0.32       179\n",
      "\n"
     ]
    },
    {
     "name": "stderr",
     "output_type": "stream",
     "text": [
      "/usr/local/lib/python3.11/dist-packages/sklearn/base.py:439: UserWarning: X does not have valid feature names, but StandardScaler was fitted with feature names\n",
      "  warnings.warn(\n",
      "/usr/local/lib/python3.11/dist-packages/sklearn/base.py:439: UserWarning: X does not have valid feature names, but RandomForestClassifier was fitted with feature names\n",
      "  warnings.warn(\n"
     ]
    }
   ],
   "source": [
    "from sklearn.metrics import classification_report\n",
    "\n",
    "val_preds = stacking_model.predict(X_val_scaled)\n",
    "print(classification_report(y_val, val_preds))\n"
   ]
  },
  {
   "cell_type": "code",
   "execution_count": 66,
   "id": "6cdd1e5b",
   "metadata": {
    "execution": {
     "iopub.execute_input": "2025-06-26T07:30:21.681401Z",
     "iopub.status.busy": "2025-06-26T07:30:21.681086Z",
     "iopub.status.idle": "2025-06-26T07:30:21.762115Z",
     "shell.execute_reply": "2025-06-26T07:30:21.760993Z"
    },
    "papermill": {
     "duration": 0.103409,
     "end_time": "2025-06-26T07:30:21.763772",
     "exception": false,
     "start_time": "2025-06-26T07:30:21.660363",
     "status": "completed"
    },
    "tags": []
   },
   "outputs": [
    {
     "name": "stdout",
     "output_type": "stream",
     "text": [
      "🔧 Best F1: 0.6175 at threshold: 0.7\n"
     ]
    },
    {
     "name": "stderr",
     "output_type": "stream",
     "text": [
      "/usr/local/lib/python3.11/dist-packages/sklearn/base.py:439: UserWarning: X does not have valid feature names, but StandardScaler was fitted with feature names\n",
      "  warnings.warn(\n",
      "/usr/local/lib/python3.11/dist-packages/sklearn/base.py:439: UserWarning: X does not have valid feature names, but RandomForestClassifier was fitted with feature names\n",
      "  warnings.warn(\n"
     ]
    }
   ],
   "source": [
    "from sklearn.metrics import f1_score\n",
    "\n",
    "probs = stacking_model.predict_proba(X_val_scaled)[:, 1]\n",
    "\n",
    "best_threshold = 0.5\n",
    "best_f1 = 0\n",
    "\n",
    "for thresh in [i/100 for i in range(30, 71)]:\n",
    "    preds_thresh = (probs >= thresh).astype(int)\n",
    "    f1 = f1_score(y_val, preds_thresh)\n",
    "    if f1 > best_f1:\n",
    "        best_f1 = f1\n",
    "        best_threshold = thresh\n",
    "\n",
    "print(f\"🔧 Best F1: {best_f1:.4f} at threshold: {best_threshold}\")\n"
   ]
  },
  {
   "cell_type": "code",
   "execution_count": 67,
   "id": "474415b8",
   "metadata": {
    "execution": {
     "iopub.execute_input": "2025-06-26T07:30:21.804011Z",
     "iopub.status.busy": "2025-06-26T07:30:21.803298Z",
     "iopub.status.idle": "2025-06-26T07:30:30.480425Z",
     "shell.execute_reply": "2025-06-26T07:30:30.478413Z"
    },
    "papermill": {
     "duration": 8.699285,
     "end_time": "2025-06-26T07:30:30.482417",
     "exception": false,
     "start_time": "2025-06-26T07:30:21.783132",
     "status": "completed"
    },
    "tags": []
   },
   "outputs": [
    {
     "name": "stdout",
     "output_type": "stream",
     "text": [
      "📌 Average best threshold: 0.4200\n"
     ]
    }
   ],
   "source": [
    "from sklearn.model_selection import StratifiedKFold\n",
    "from sklearn.metrics import f1_score\n",
    "\n",
    "best_thresholds = []\n",
    "skf = StratifiedKFold(n_splits=5, shuffle=True, random_state=42)\n",
    "\n",
    "for train_idx, val_idx in skf.split(X_scaled, y_full):\n",
    "    X_tr, X_val = X_scaled[train_idx], X_scaled[val_idx]\n",
    "    y_tr, y_val = y_full.iloc[train_idx], y_full.iloc[val_idx]\n",
    "\n",
    "    model = stacking_model  # or best model\n",
    "    model.fit(X_tr, y_tr)\n",
    "    probs = model.predict_proba(X_val)[:, 1]\n",
    "\n",
    "    best_f1 = 0\n",
    "    best_thresh = 0.5\n",
    "    for t in [i/100 for i in range(30, 71)]:\n",
    "        preds = (probs >= t).astype(int)\n",
    "        f1 = f1_score(y_val, preds)\n",
    "        if f1 > best_f1:\n",
    "            best_f1 = f1\n",
    "            best_thresh = t\n",
    "    best_thresholds.append(best_thresh)\n",
    "\n",
    "print(f\"📌 Average best threshold: {sum(best_thresholds)/len(best_thresholds):.4f}\")\n"
   ]
  },
  {
   "cell_type": "code",
   "execution_count": 68,
   "id": "c6c7d1a0",
   "metadata": {
    "execution": {
     "iopub.execute_input": "2025-06-26T07:30:30.528715Z",
     "iopub.status.busy": "2025-06-26T07:30:30.527800Z",
     "iopub.status.idle": "2025-06-26T07:30:30.551120Z",
     "shell.execute_reply": "2025-06-26T07:30:30.550167Z"
    },
    "papermill": {
     "duration": 0.044686,
     "end_time": "2025-06-26T07:30:30.552645",
     "exception": false,
     "start_time": "2025-06-26T07:30:30.507959",
     "status": "completed"
    },
    "tags": []
   },
   "outputs": [
    {
     "name": "stdout",
     "output_type": "stream",
     "text": [
      "✅ Saved: submission_threshold_0.42.csv\n",
      "✅ Saved: submission_threshold_0.68.csv\n"
     ]
    }
   ],
   "source": [
    "# ✅ Make sure you have a trained final_model and scaled test data: X_test_scaled\n",
    "\n",
    "# Step 1: Get predicted probabilities\n",
    "test_probs = stacking_model.predict_proba(X_test_scaled)[:, 1]\n",
    "\n",
    "# Step 2: Generate submissions for both thresholds\n",
    "for t in [0.42, 0.68]:\n",
    "    preds = (test_probs >= t).astype(int)\n",
    "    \n",
    "    submission = pd.DataFrame({\n",
    "        'PassengerId': test_data['PassengerId'],\n",
    "        'Survived': preds\n",
    "    })\n",
    "    \n",
    "    filename = f'submission_threshold_{t:.2f}.csv'\n",
    "    submission.to_csv(filename, index=False)\n",
    "    print(f\"✅ Saved: {filename}\")\n"
   ]
  },
  {
   "cell_type": "code",
   "execution_count": 69,
   "id": "a656aed7",
   "metadata": {
    "execution": {
     "iopub.execute_input": "2025-06-26T07:30:30.592153Z",
     "iopub.status.busy": "2025-06-26T07:30:30.591836Z",
     "iopub.status.idle": "2025-06-26T07:30:48.279847Z",
     "shell.execute_reply": "2025-06-26T07:30:48.278558Z"
    },
    "papermill": {
     "duration": 17.709486,
     "end_time": "2025-06-26T07:30:48.281311",
     "exception": false,
     "start_time": "2025-06-26T07:30:30.571825",
     "status": "completed"
    },
    "tags": []
   },
   "outputs": [
    {
     "name": "stdout",
     "output_type": "stream",
     "text": [
      "Fitting 5 folds for each of 30 candidates, totalling 150 fits\n",
      "✅ Best Random Forest Params: {'n_estimators': 100, 'min_samples_split': 10, 'min_samples_leaf': 4, 'max_depth': 20, 'bootstrap': False}\n"
     ]
    }
   ],
   "source": [
    "from sklearn.model_selection import RandomizedSearchCV\n",
    "from sklearn.ensemble import RandomForestClassifier\n",
    "import numpy as np\n",
    "\n",
    "# Parameter grid\n",
    "rf_param_grid = {\n",
    "    'n_estimators': [100, 200, 300],\n",
    "    'max_depth': [None, 5, 10, 20],\n",
    "    'min_samples_split': [2, 5, 10],\n",
    "    'min_samples_leaf': [1, 2, 4],\n",
    "    'bootstrap': [True, False]\n",
    "}\n",
    "\n",
    "# Randomized search\n",
    "rf_search = RandomizedSearchCV(\n",
    "    estimator=RandomForestClassifier(random_state=42),\n",
    "    param_distributions=rf_param_grid,\n",
    "    n_iter=30,  # number of models to try\n",
    "    scoring='roc_auc',\n",
    "    cv=5,\n",
    "    n_jobs=-1,\n",
    "    random_state=42,\n",
    "    verbose=1\n",
    ")\n",
    "\n",
    "rf_search.fit(X_train_pruned, y_train)\n",
    "best_rf = rf_search.best_estimator_\n",
    "\n",
    "print(\"✅ Best Random Forest Params:\", rf_search.best_params_)\n"
   ]
  },
  {
   "cell_type": "code",
   "execution_count": 70,
   "id": "add4587c",
   "metadata": {
    "execution": {
     "iopub.execute_input": "2025-06-26T07:30:48.322202Z",
     "iopub.status.busy": "2025-06-26T07:30:48.321873Z",
     "iopub.status.idle": "2025-06-26T07:30:55.142936Z",
     "shell.execute_reply": "2025-06-26T07:30:55.141792Z"
    },
    "papermill": {
     "duration": 6.843654,
     "end_time": "2025-06-26T07:30:55.144537",
     "exception": false,
     "start_time": "2025-06-26T07:30:48.300883",
     "status": "completed"
    },
    "tags": []
   },
   "outputs": [
    {
     "name": "stdout",
     "output_type": "stream",
     "text": [
      "Fitting 5 folds for each of 30 candidates, totalling 150 fits\n",
      "✅ Best XGBoost Params: {'subsample': 0.7, 'n_estimators': 100, 'max_depth': 3, 'learning_rate': 0.1, 'colsample_bytree': 0.7}\n"
     ]
    }
   ],
   "source": [
    "from xgboost import XGBClassifier\n",
    "\n",
    "# Parameter grid\n",
    "xgb_param_grid = {\n",
    "    'n_estimators': [100, 200, 300],\n",
    "    'max_depth': [3, 5, 7, 10],\n",
    "    'learning_rate': [0.01, 0.05, 0.1, 0.2],\n",
    "    'subsample': [0.7, 0.8, 1.0],\n",
    "    'colsample_bytree': [0.7, 0.8, 1.0],\n",
    "}\n",
    "\n",
    "xgb_search = RandomizedSearchCV(\n",
    "    estimator=XGBClassifier(use_label_encoder=False, eval_metric='logloss', random_state=42),\n",
    "    param_distributions=xgb_param_grid,\n",
    "    n_iter=30,\n",
    "    scoring='roc_auc',\n",
    "    cv=5,\n",
    "    n_jobs=-1,\n",
    "    random_state=42,\n",
    "    verbose=1\n",
    ")\n",
    "\n",
    "xgb_search.fit(X_train_pruned, y_train)\n",
    "best_xgb = xgb_search.best_estimator_\n",
    "\n",
    "print(\"✅ Best XGBoost Params:\", xgb_search.best_params_)\n"
   ]
  },
  {
   "cell_type": "code",
   "execution_count": 71,
   "id": "f592a7d8",
   "metadata": {
    "execution": {
     "iopub.execute_input": "2025-06-26T07:30:55.185762Z",
     "iopub.status.busy": "2025-06-26T07:30:55.185280Z",
     "iopub.status.idle": "2025-06-26T07:30:56.771291Z",
     "shell.execute_reply": "2025-06-26T07:30:56.769225Z"
    },
    "papermill": {
     "duration": 1.608883,
     "end_time": "2025-06-26T07:30:56.773113",
     "exception": false,
     "start_time": "2025-06-26T07:30:55.164230",
     "status": "completed"
    },
    "tags": []
   },
   "outputs": [
    {
     "name": "stdout",
     "output_type": "stream",
     "text": [
      "📊 Tuned Stacking Accuracy: 0.8268\n",
      "📊 Tuned Stacking ROC AUC : 0.8552\n"
     ]
    }
   ],
   "source": [
    "from sklearn.pipeline import Pipeline\n",
    "from sklearn.linear_model import LogisticRegression\n",
    "from sklearn.ensemble import StackingClassifier\n",
    "from sklearn.preprocessing import StandardScaler\n",
    "\n",
    "logreg_pipeline = Pipeline([\n",
    "    ('scaler', StandardScaler()),\n",
    "    ('logreg', LogisticRegression(max_iter=2000, random_state=42))\n",
    "])\n",
    "\n",
    "# Stacking\n",
    "stack_model_tuned = StackingClassifier(\n",
    "    estimators=[\n",
    "        ('lr', logreg_pipeline),\n",
    "        ('rf', best_rf),\n",
    "        ('xgb', best_xgb)\n",
    "    ],\n",
    "    final_estimator=LogisticRegression(max_iter=2000, random_state=42),\n",
    "    passthrough=True,\n",
    "    cv=5,\n",
    "    n_jobs=-1\n",
    ")\n",
    "\n",
    "# Train on pruned features\n",
    "stack_model_tuned.fit(X_train_pruned, y_train)\n",
    "\n",
    "# Evaluate\n",
    "preds = stack_model_tuned.predict(X_valid_pruned)\n",
    "probs = stack_model_tuned.predict_proba(X_valid_pruned)[:, 1]\n",
    "\n",
    "from sklearn.metrics import accuracy_score, roc_auc_score\n",
    "print(\"📊 Tuned Stacking Accuracy:\", round(accuracy_score(y_valid, preds), 4))\n",
    "print(\"📊 Tuned Stacking ROC AUC :\", round(roc_auc_score(y_valid, probs), 4))\n"
   ]
  }
 ],
 "metadata": {
  "kaggle": {
   "accelerator": "none",
   "dataSources": [
    {
     "datasetId": 7741954,
     "sourceId": 12284545,
     "sourceType": "datasetVersion"
    },
    {
     "datasetId": 7742507,
     "sourceId": 12285401,
     "sourceType": "datasetVersion"
    }
   ],
   "dockerImageVersionId": 31040,
   "isGpuEnabled": false,
   "isInternetEnabled": true,
   "language": "python",
   "sourceType": "notebook"
  },
  "kernelspec": {
   "display_name": "Python 3",
   "language": "python",
   "name": "python3"
  },
  "language_info": {
   "codemirror_mode": {
    "name": "ipython",
    "version": 3
   },
   "file_extension": ".py",
   "mimetype": "text/x-python",
   "name": "python",
   "nbconvert_exporter": "python",
   "pygments_lexer": "ipython3",
   "version": "3.11.11"
  },
  "papermill": {
   "default_parameters": {},
   "duration": 112.729281,
   "end_time": "2025-06-26T07:30:59.424969",
   "environment_variables": {},
   "exception": null,
   "input_path": "__notebook__.ipynb",
   "output_path": "__notebook__.ipynb",
   "parameters": {},
   "start_time": "2025-06-26T07:29:06.695688",
   "version": "2.6.0"
  }
 },
 "nbformat": 4,
 "nbformat_minor": 5
}
