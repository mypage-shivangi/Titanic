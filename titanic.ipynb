{
 "cells": [
  {
   "cell_type": "code",
   "execution_count": 1,
   "id": "c374785c",
   "metadata": {
    "_cell_guid": "b1076dfc-b9ad-4769-8c92-a6c4dae69d19",
    "_uuid": "8f2839f25d086af736a60e9eeb907d3b93b6e0e5",
    "execution": {
     "iopub.execute_input": "2025-06-25T21:52:26.840420Z",
     "iopub.status.busy": "2025-06-25T21:52:26.840071Z",
     "iopub.status.idle": "2025-06-25T21:52:28.778609Z",
     "shell.execute_reply": "2025-06-25T21:52:28.777599Z"
    },
    "papermill": {
     "duration": 1.951552,
     "end_time": "2025-06-25T21:52:28.780059",
     "exception": false,
     "start_time": "2025-06-25T21:52:26.828507",
     "status": "completed"
    },
    "tags": []
   },
   "outputs": [
    {
     "name": "stdout",
     "output_type": "stream",
     "text": [
      "/kaggle/input/traintc/train.csv\n",
      "/kaggle/input/testtc/test.csv\n"
     ]
    }
   ],
   "source": [
    "# This Python 3 environment comes with many helpful analytics libraries installed\n",
    "# It is defined by the kaggle/python Docker image: https://github.com/kaggle/docker-python\n",
    "# For example, here's several helpful packages to load\n",
    "\n",
    "import numpy as np # linear algebra\n",
    "import pandas as pd # data processing, CSV file I/O (e.g. pd.read_csv)\n",
    "\n",
    "# Input data files are available in the read-only \"../input/\" directory\n",
    "# For example, running this (by clicking run or pressing Shift+Enter) will list all files under the input directory\n",
    "\n",
    "import os\n",
    "for dirname, _, filenames in os.walk('/kaggle/input'):\n",
    "    for filename in filenames:\n",
    "        print(os.path.join(dirname, filename))\n",
    "\n",
    "# You can write up to 20GB to the current directory (/kaggle/working/) that gets preserved as output when you create a version using \"Save & Run All\" \n",
    "# You can also write temporary files to /kaggle/temp/, but they won't be saved outside of the current session"
   ]
  },
  {
   "cell_type": "code",
   "execution_count": 2,
   "id": "a5e692b9",
   "metadata": {
    "execution": {
     "iopub.execute_input": "2025-06-25T21:52:28.799264Z",
     "iopub.status.busy": "2025-06-25T21:52:28.798826Z",
     "iopub.status.idle": "2025-06-25T21:52:28.842217Z",
     "shell.execute_reply": "2025-06-25T21:52:28.841331Z"
    },
    "papermill": {
     "duration": 0.054555,
     "end_time": "2025-06-25T21:52:28.843823",
     "exception": false,
     "start_time": "2025-06-25T21:52:28.789268",
     "status": "completed"
    },
    "tags": []
   },
   "outputs": [],
   "source": [
    "df=pd.read_csv('/kaggle/input/traintc/train.csv')\n",
    "test_data = pd.read_csv('/kaggle/input/testtc/test.csv')\n",
    "combined = pd.concat([df, test_data], sort=False)\n",
    "df=combined"
   ]
  },
  {
   "cell_type": "code",
   "execution_count": 3,
   "id": "ae3b29d4",
   "metadata": {
    "execution": {
     "iopub.execute_input": "2025-06-25T21:52:28.863486Z",
     "iopub.status.busy": "2025-06-25T21:52:28.862791Z",
     "iopub.status.idle": "2025-06-25T21:52:28.875475Z",
     "shell.execute_reply": "2025-06-25T21:52:28.874481Z"
    },
    "papermill": {
     "duration": 0.023987,
     "end_time": "2025-06-25T21:52:28.876893",
     "exception": false,
     "start_time": "2025-06-25T21:52:28.852906",
     "status": "completed"
    },
    "tags": []
   },
   "outputs": [
    {
     "name": "stdout",
     "output_type": "stream",
     "text": [
      "   PassengerId  Survived  Pclass  \\\n",
      "0            1       0.0       3   \n",
      "1            2       1.0       1   \n",
      "2            3       1.0       3   \n",
      "3            4       1.0       1   \n",
      "4            5       0.0       3   \n",
      "\n",
      "                                                Name     Sex   Age  SibSp  \\\n",
      "0                            Braund, Mr. Owen Harris    male  22.0      1   \n",
      "1  Cumings, Mrs. John Bradley (Florence Briggs Th...  female  38.0      1   \n",
      "2                             Heikkinen, Miss. Laina  female  26.0      0   \n",
      "3       Futrelle, Mrs. Jacques Heath (Lily May Peel)  female  35.0      1   \n",
      "4                           Allen, Mr. William Henry    male  35.0      0   \n",
      "\n",
      "   Parch            Ticket     Fare Cabin Embarked  \n",
      "0      0         A/5 21171   7.2500   NaN        S  \n",
      "1      0          PC 17599  71.2833   C85        C  \n",
      "2      0  STON/O2. 3101282   7.9250   NaN        S  \n",
      "3      0            113803  53.1000  C123        S  \n",
      "4      0            373450   8.0500   NaN        S  \n"
     ]
    }
   ],
   "source": [
    "print(df.head())"
   ]
  },
  {
   "cell_type": "code",
   "execution_count": 4,
   "id": "76312b65",
   "metadata": {
    "execution": {
     "iopub.execute_input": "2025-06-25T21:52:28.895780Z",
     "iopub.status.busy": "2025-06-25T21:52:28.895481Z",
     "iopub.status.idle": "2025-06-25T21:52:28.900970Z",
     "shell.execute_reply": "2025-06-25T21:52:28.900161Z"
    },
    "papermill": {
     "duration": 0.016593,
     "end_time": "2025-06-25T21:52:28.902403",
     "exception": false,
     "start_time": "2025-06-25T21:52:28.885810",
     "status": "completed"
    },
    "tags": []
   },
   "outputs": [],
   "source": [
    "df['HasCabin'] = df['Cabin'].notnull().astype(int)\n"
   ]
  },
  {
   "cell_type": "code",
   "execution_count": 5,
   "id": "de19a70c",
   "metadata": {
    "execution": {
     "iopub.execute_input": "2025-06-25T21:52:28.921853Z",
     "iopub.status.busy": "2025-06-25T21:52:28.921568Z",
     "iopub.status.idle": "2025-06-25T21:52:28.932378Z",
     "shell.execute_reply": "2025-06-25T21:52:28.931543Z"
    },
    "papermill": {
     "duration": 0.021742,
     "end_time": "2025-06-25T21:52:28.933623",
     "exception": false,
     "start_time": "2025-06-25T21:52:28.911881",
     "status": "completed"
    },
    "tags": []
   },
   "outputs": [
    {
     "name": "stdout",
     "output_type": "stream",
     "text": [
      "Pclass\n",
      "1    0.792570\n",
      "2    0.083032\n",
      "3    0.022567\n",
      "Name: HasCabin, dtype: float64\n"
     ]
    }
   ],
   "source": [
    "cabin_by_class = df.groupby('Pclass')['HasCabin'].mean()\n",
    "print(cabin_by_class)\n"
   ]
  },
  {
   "cell_type": "code",
   "execution_count": 6,
   "id": "931bfd39",
   "metadata": {
    "execution": {
     "iopub.execute_input": "2025-06-25T21:52:28.953950Z",
     "iopub.status.busy": "2025-06-25T21:52:28.953667Z",
     "iopub.status.idle": "2025-06-25T21:52:31.337042Z",
     "shell.execute_reply": "2025-06-25T21:52:31.336015Z"
    },
    "papermill": {
     "duration": 2.394587,
     "end_time": "2025-06-25T21:52:31.338870",
     "exception": false,
     "start_time": "2025-06-25T21:52:28.944283",
     "status": "completed"
    },
    "tags": []
   },
   "outputs": [
    {
     "data": {
      "image/png": "[encoded data removed]",
      "text/plain": [
       "<Figure size 640x480 with 1 Axes>"
      ]
     },
     "metadata": {},
     "output_type": "display_data"
    }
   ],
   "source": [
    "import seaborn as sns\n",
    "import matplotlib.pyplot as plt\n",
    "\n",
    "sns.barplot(x='Pclass', y='HasCabin', data=df)\n",
    "plt.title(\"Proportion of Passengers with Cabin by Class\")\n",
    "plt.ylabel(\"Has Cabin (1 = Yes, 0 = No)\")\n",
    "plt.show()\n"
   ]
  },
  {
   "cell_type": "code",
   "execution_count": 7,
   "id": "0b89b33c",
   "metadata": {
    "execution": {
     "iopub.execute_input": "2025-06-25T21:52:31.363417Z",
     "iopub.status.busy": "2025-06-25T21:52:31.362895Z",
     "iopub.status.idle": "2025-06-25T21:52:31.369981Z",
     "shell.execute_reply": "2025-06-25T21:52:31.369240Z"
    },
    "papermill": {
     "duration": 0.019882,
     "end_time": "2025-06-25T21:52:31.371369",
     "exception": false,
     "start_time": "2025-06-25T21:52:31.351487",
     "status": "completed"
    },
    "tags": []
   },
   "outputs": [],
   "source": [
    "df['HasCabin'] = df['Cabin'].notnull().astype(int)\n",
    "df['CabinClass'] = df['Pclass'] * df['HasCabin']\n"
   ]
  },
  {
   "cell_type": "code",
   "execution_count": 8,
   "id": "4ebc2ceb",
   "metadata": {
    "execution": {
     "iopub.execute_input": "2025-06-25T21:52:31.392281Z",
     "iopub.status.busy": "2025-06-25T21:52:31.391453Z",
     "iopub.status.idle": "2025-06-25T21:52:31.397484Z",
     "shell.execute_reply": "2025-06-25T21:52:31.396723Z"
    },
    "papermill": {
     "duration": 0.017939,
     "end_time": "2025-06-25T21:52:31.398792",
     "exception": false,
     "start_time": "2025-06-25T21:52:31.380853",
     "status": "completed"
    },
    "tags": []
   },
   "outputs": [],
   "source": [
    "df['FamilySize'] = df['SibSp'] + df['Parch'] + 1  # +1 includes the passenger themself\n"
   ]
  },
  {
   "cell_type": "code",
   "execution_count": 9,
   "id": "f3886747",
   "metadata": {
    "execution": {
     "iopub.execute_input": "2025-06-25T21:52:31.418408Z",
     "iopub.status.busy": "2025-06-25T21:52:31.418078Z",
     "iopub.status.idle": "2025-06-25T21:52:31.424929Z",
     "shell.execute_reply": "2025-06-25T21:52:31.424151Z"
    },
    "papermill": {
     "duration": 0.018425,
     "end_time": "2025-06-25T21:52:31.426552",
     "exception": false,
     "start_time": "2025-06-25T21:52:31.408127",
     "status": "completed"
    },
    "tags": []
   },
   "outputs": [
    {
     "name": "stdout",
     "output_type": "stream",
     "text": [
      "FamilySize\n",
      "1     0.303538\n",
      "2     0.552795\n",
      "3     0.578431\n",
      "4     0.724138\n",
      "5     0.200000\n",
      "6     0.136364\n",
      "7     0.333333\n",
      "8     0.000000\n",
      "11    0.000000\n",
      "Name: Survived, dtype: float64\n"
     ]
    }
   ],
   "source": [
    "survival_by_family = df.groupby('FamilySize')['Survived'].mean()\n",
    "print(survival_by_family)\n"
   ]
  },
  {
   "cell_type": "code",
   "execution_count": 10,
   "id": "71499d98",
   "metadata": {
    "execution": {
     "iopub.execute_input": "2025-06-25T21:52:31.452035Z",
     "iopub.status.busy": "2025-06-25T21:52:31.451753Z",
     "iopub.status.idle": "2025-06-25T21:52:31.991682Z",
     "shell.execute_reply": "2025-06-25T21:52:31.990783Z"
    },
    "papermill": {
     "duration": 0.551786,
     "end_time": "2025-06-25T21:52:31.993340",
     "exception": false,
     "start_time": "2025-06-25T21:52:31.441554",
     "status": "completed"
    },
    "tags": []
   },
   "outputs": [
    {
     "data": {
      "image/png": "[encoded data removed]",
      "text/plain": [
       "<Figure size 640x480 with 1 Axes>"
      ]
     },
     "metadata": {},
     "output_type": "display_data"
    }
   ],
   "source": [
    "import seaborn as sns\n",
    "import matplotlib.pyplot as plt\n",
    "\n",
    "sns.barplot(x='FamilySize', y='Survived', data=df)\n",
    "plt.title(\"Survival Rate by Family Size\")\n",
    "plt.ylabel(\"Survival Rate\")\n",
    "plt.xlabel(\"Family Size\")\n",
    "plt.show()\n"
   ]
  },
  {
   "cell_type": "code",
   "execution_count": 11,
   "id": "0b844dbb",
   "metadata": {
    "execution": {
     "iopub.execute_input": "2025-06-25T21:52:32.015793Z",
     "iopub.status.busy": "2025-06-25T21:52:32.014924Z",
     "iopub.status.idle": "2025-06-25T21:52:32.020885Z",
     "shell.execute_reply": "2025-06-25T21:52:32.020150Z"
    },
    "papermill": {
     "duration": 0.01834,
     "end_time": "2025-06-25T21:52:32.022241",
     "exception": false,
     "start_time": "2025-06-25T21:52:32.003901",
     "status": "completed"
    },
    "tags": []
   },
   "outputs": [],
   "source": [
    "def family_group(size):\n",
    "    if size == 1:\n",
    "        return 'Solo'\n",
    "    elif size <= 4:\n",
    "        return 'Small'\n",
    "    elif size <= 6:\n",
    "        return 'Medium'\n",
    "    else:\n",
    "        return 'Large'\n",
    "\n",
    "df['FamilyGroup'] = df['FamilySize'].apply(family_group)\n"
   ]
  },
  {
   "cell_type": "code",
   "execution_count": 12,
   "id": "3855ecff",
   "metadata": {
    "execution": {
     "iopub.execute_input": "2025-06-25T21:52:32.042845Z",
     "iopub.status.busy": "2025-06-25T21:52:32.042565Z",
     "iopub.status.idle": "2025-06-25T21:52:32.049943Z",
     "shell.execute_reply": "2025-06-25T21:52:32.049180Z"
    },
    "papermill": {
     "duration": 0.019183,
     "end_time": "2025-06-25T21:52:32.051251",
     "exception": false,
     "start_time": "2025-06-25T21:52:32.032068",
     "status": "completed"
    },
    "tags": []
   },
   "outputs": [
    {
     "data": {
      "text/plain": [
       "Pclass\n",
       "1    87.508992\n",
       "2    21.179196\n",
       "3    13.302889\n",
       "Name: Fare, dtype: float64"
      ]
     },
     "execution_count": 12,
     "metadata": {},
     "output_type": "execute_result"
    }
   ],
   "source": [
    "df.groupby('Pclass')['Fare'].mean()\n"
   ]
  },
  {
   "cell_type": "code",
   "execution_count": 13,
   "id": "fb7c3593",
   "metadata": {
    "execution": {
     "iopub.execute_input": "2025-06-25T21:52:32.072049Z",
     "iopub.status.busy": "2025-06-25T21:52:32.071764Z",
     "iopub.status.idle": "2025-06-25T21:52:32.248762Z",
     "shell.execute_reply": "2025-06-25T21:52:32.247852Z"
    },
    "papermill": {
     "duration": 0.189087,
     "end_time": "2025-06-25T21:52:32.250324",
     "exception": false,
     "start_time": "2025-06-25T21:52:32.061237",
     "status": "completed"
    },
    "tags": []
   },
   "outputs": [
    {
     "data": {
      "text/plain": [
       "Text(0.5, 1.0, 'Fare Distribution by Passenger Class')"
      ]
     },
     "execution_count": 13,
     "metadata": {},
     "output_type": "execute_result"
    },
    {
     "data": {
      "image/png": "[encoded data removed]",
      "text/plain": [
       "<Figure size 640x480 with 1 Axes>"
      ]
     },
     "metadata": {},
     "output_type": "display_data"
    }
   ],
   "source": [
    "import seaborn as sns\n",
    "import matplotlib.pyplot as plt\n",
    "\n",
    "sns.boxplot(x='Pclass', y='Fare', data=df)\n",
    "plt.title(\"Fare Distribution by Passenger Class\")\n"
   ]
  },
  {
   "cell_type": "code",
   "execution_count": 14,
   "id": "f6a3ca1f",
   "metadata": {
    "execution": {
     "iopub.execute_input": "2025-06-25T21:52:32.272240Z",
     "iopub.status.busy": "2025-06-25T21:52:32.271910Z",
     "iopub.status.idle": "2025-06-25T21:52:32.278843Z",
     "shell.execute_reply": "2025-06-25T21:52:32.278097Z"
    },
    "papermill": {
     "duration": 0.019323,
     "end_time": "2025-06-25T21:52:32.280192",
     "exception": false,
     "start_time": "2025-06-25T21:52:32.260869",
     "status": "completed"
    },
    "tags": []
   },
   "outputs": [],
   "source": [
    "df['Fare_log'] = df['Fare'].apply(lambda x: np.log1p(x))  # log1p handles 0 safely"
   ]
  },
  {
   "cell_type": "code",
   "execution_count": 15,
   "id": "d406c1b9",
   "metadata": {
    "execution": {
     "iopub.execute_input": "2025-06-25T21:52:32.301692Z",
     "iopub.status.busy": "2025-06-25T21:52:32.301417Z",
     "iopub.status.idle": "2025-06-25T21:52:32.910700Z",
     "shell.execute_reply": "2025-06-25T21:52:32.909865Z"
    },
    "papermill": {
     "duration": 0.621539,
     "end_time": "2025-06-25T21:52:32.912083",
     "exception": false,
     "start_time": "2025-06-25T21:52:32.290544",
     "status": "completed"
    },
    "tags": []
   },
   "outputs": [
    {
     "name": "stderr",
     "output_type": "stream",
     "text": [
      "/usr/local/lib/python3.11/dist-packages/seaborn/_oldcore.py:1119: FutureWarning: use_inf_as_na option is deprecated and will be removed in a future version. Convert inf values to NaN before operating instead.\n",
      "  with pd.option_context('mode.use_inf_as_na', True):\n",
      "/usr/local/lib/python3.11/dist-packages/seaborn/_oldcore.py:1119: FutureWarning: use_inf_as_na option is deprecated and will be removed in a future version. Convert inf values to NaN before operating instead.\n",
      "  with pd.option_context('mode.use_inf_as_na', True):\n"
     ]
    },
    {
     "data": {
      "image/png": "[encoded data removed]",
      "text/plain": [
       "<Figure size 1200x400 with 2 Axes>"
      ]
     },
     "metadata": {},
     "output_type": "display_data"
    }
   ],
   "source": [
    "import matplotlib.pyplot as plt\n",
    "import seaborn as sns\n",
    "\n",
    "fig, ax = plt.subplots(1, 2, figsize=(12, 4))\n",
    "sns.histplot(df['Fare'], kde=True, ax=ax[0])\n",
    "ax[0].set_title(\"Original Fare Distribution\")\n",
    "\n",
    "sns.histplot(df['Fare_log'], kde=True, ax=ax[1])\n",
    "ax[1].set_title(\"Log-Transformed Fare\")\n",
    "plt.show()\n"
   ]
  },
  {
   "cell_type": "code",
   "execution_count": 16,
   "id": "17dda24f",
   "metadata": {
    "execution": {
     "iopub.execute_input": "2025-06-25T21:52:32.936656Z",
     "iopub.status.busy": "2025-06-25T21:52:32.935869Z",
     "iopub.status.idle": "2025-06-25T21:52:32.953221Z",
     "shell.execute_reply": "2025-06-25T21:52:32.952157Z"
    },
    "papermill": {
     "duration": 0.031254,
     "end_time": "2025-06-25T21:52:32.954909",
     "exception": false,
     "start_time": "2025-06-25T21:52:32.923655",
     "status": "completed"
    },
    "tags": []
   },
   "outputs": [
    {
     "name": "stderr",
     "output_type": "stream",
     "text": [
      "/tmp/ipykernel_13/1198387443.py:5: FutureWarning: A value is trying to be set on a copy of a DataFrame or Series through chained assignment using an inplace method.\n",
      "The behavior will change in pandas 3.0. This inplace method will never work because the intermediate object on which we are setting values always behaves as a copy.\n",
      "\n",
      "For example, when doing 'df[col].method(value, inplace=True)', try using 'df.method({col: value}, inplace=True)' or df[col] = df[col].method(value) instead, to perform the operation inplace on the original object.\n",
      "\n",
      "\n",
      "  df['Embarked'].fillna(df['Embarked'].mode()[0], inplace=True)\n",
      "/tmp/ipykernel_13/1198387443.py:9: FutureWarning: A value is trying to be set on a copy of a DataFrame or Series through chained assignment using an inplace method.\n",
      "The behavior will change in pandas 3.0. This inplace method will never work because the intermediate object on which we are setting values always behaves as a copy.\n",
      "\n",
      "For example, when doing 'df[col].method(value, inplace=True)', try using 'df.method({col: value}, inplace=True)' or df[col] = df[col].method(value) instead, to perform the operation inplace on the original object.\n",
      "\n",
      "\n",
      "  df['Deck'].fillna('U', inplace=True)\n"
     ]
    }
   ],
   "source": [
    "# 1. Impute missing Age using median by Sex and Pclass\n",
    "df['Age'] = df.groupby(['Sex', 'Pclass'])['Age'].transform(lambda x: x.fillna(x.median()))\n",
    "\n",
    "# 2. Impute missing Embarked values with mode\n",
    "df['Embarked'].fillna(df['Embarked'].mode()[0], inplace=True)\n",
    "\n",
    "# 3. Extract Deck from Cabin and impute 'U' (Unknown) for missing cabins\n",
    "df['Deck'] = df['Cabin'].str[0]\n",
    "df['Deck'].fillna('U', inplace=True)"
   ]
  },
  {
   "cell_type": "code",
   "execution_count": 17,
   "id": "4d8b28f0",
   "metadata": {
    "execution": {
     "iopub.execute_input": "2025-06-25T21:52:33.039897Z",
     "iopub.status.busy": "2025-06-25T21:52:33.039192Z",
     "iopub.status.idle": "2025-06-25T21:52:33.047509Z",
     "shell.execute_reply": "2025-06-25T21:52:33.046850Z"
    },
    "papermill": {
     "duration": 0.081777,
     "end_time": "2025-06-25T21:52:33.048679",
     "exception": false,
     "start_time": "2025-06-25T21:52:32.966902",
     "status": "completed"
    },
    "tags": []
   },
   "outputs": [
    {
     "data": {
      "text/plain": [
       "Cabin          1014\n",
       "Survived        418\n",
       "Fare              1\n",
       "Fare_log          1\n",
       "FamilyGroup       0\n",
       "FamilySize        0\n",
       "CabinClass        0\n",
       "HasCabin          0\n",
       "Embarked          0\n",
       "PassengerId       0\n",
       "Ticket            0\n",
       "Parch             0\n",
       "SibSp             0\n",
       "Age               0\n",
       "Sex               0\n",
       "dtype: int64"
      ]
     },
     "execution_count": 17,
     "metadata": {},
     "output_type": "execute_result"
    }
   ],
   "source": [
    "df.isnull().sum().sort_values(ascending=False).head(15)"
   ]
  },
  {
   "cell_type": "code",
   "execution_count": 18,
   "id": "40265464",
   "metadata": {
    "execution": {
     "iopub.execute_input": "2025-06-25T21:52:33.073323Z",
     "iopub.status.busy": "2025-06-25T21:52:33.072713Z",
     "iopub.status.idle": "2025-06-25T21:52:33.077785Z",
     "shell.execute_reply": "2025-06-25T21:52:33.076835Z"
    },
    "papermill": {
     "duration": 0.018991,
     "end_time": "2025-06-25T21:52:33.079351",
     "exception": false,
     "start_time": "2025-06-25T21:52:33.060360",
     "status": "completed"
    },
    "tags": []
   },
   "outputs": [
    {
     "name": "stdout",
     "output_type": "stream",
     "text": [
      "Index(['PassengerId', 'Survived', 'Pclass', 'Name', 'Sex', 'Age', 'SibSp',\n",
      "       'Parch', 'Ticket', 'Fare', 'Cabin', 'Embarked', 'HasCabin',\n",
      "       'CabinClass', 'FamilySize', 'FamilyGroup', 'Fare_log', 'Deck'],\n",
      "      dtype='object')\n"
     ]
    }
   ],
   "source": [
    "print(df.columns)"
   ]
  },
  {
   "cell_type": "code",
   "execution_count": 19,
   "id": "168fa850",
   "metadata": {
    "execution": {
     "iopub.execute_input": "2025-06-25T21:52:33.104277Z",
     "iopub.status.busy": "2025-06-25T21:52:33.103643Z",
     "iopub.status.idle": "2025-06-25T21:52:33.109377Z",
     "shell.execute_reply": "2025-06-25T21:52:33.108733Z"
    },
    "papermill": {
     "duration": 0.019493,
     "end_time": "2025-06-25T21:52:33.110638",
     "exception": false,
     "start_time": "2025-06-25T21:52:33.091145",
     "status": "completed"
    },
    "tags": []
   },
   "outputs": [],
   "source": [
    "df.drop(columns=['Cabin'], inplace=True)\n"
   ]
  },
  {
   "cell_type": "code",
   "execution_count": 20,
   "id": "8ec04e66",
   "metadata": {
    "execution": {
     "iopub.execute_input": "2025-06-25T21:52:33.135157Z",
     "iopub.status.busy": "2025-06-25T21:52:33.134827Z",
     "iopub.status.idle": "2025-06-25T21:52:33.143543Z",
     "shell.execute_reply": "2025-06-25T21:52:33.142855Z"
    },
    "papermill": {
     "duration": 0.022361,
     "end_time": "2025-06-25T21:52:33.144832",
     "exception": false,
     "start_time": "2025-06-25T21:52:33.122471",
     "status": "completed"
    },
    "tags": []
   },
   "outputs": [
    {
     "data": {
      "text/plain": [
       "Survived       418\n",
       "Fare             1\n",
       "Fare_log         1\n",
       "PassengerId      0\n",
       "FamilyGroup      0\n",
       "FamilySize       0\n",
       "CabinClass       0\n",
       "HasCabin         0\n",
       "Embarked         0\n",
       "Ticket           0\n",
       "Parch            0\n",
       "SibSp            0\n",
       "Age              0\n",
       "Sex              0\n",
       "Name             0\n",
       "dtype: int64"
      ]
     },
     "execution_count": 20,
     "metadata": {},
     "output_type": "execute_result"
    }
   ],
   "source": [
    "df.isnull().sum().sort_values(ascending=False).head(15)"
   ]
  },
  {
   "cell_type": "code",
   "execution_count": 21,
   "id": "1117b2e1",
   "metadata": {
    "execution": {
     "iopub.execute_input": "2025-06-25T21:52:33.169854Z",
     "iopub.status.busy": "2025-06-25T21:52:33.169552Z",
     "iopub.status.idle": "2025-06-25T21:52:33.179973Z",
     "shell.execute_reply": "2025-06-25T21:52:33.179361Z"
    },
    "papermill": {
     "duration": 0.024592,
     "end_time": "2025-06-25T21:52:33.181406",
     "exception": false,
     "start_time": "2025-06-25T21:52:33.156814",
     "status": "completed"
    },
    "tags": []
   },
   "outputs": [],
   "source": [
    "# Fill missing Fare based on median Fare within each Pclass\n",
    "df['Fare'] = df.groupby('Pclass')['Fare'].transform(\n",
    "    lambda x: x.fillna(x.median())\n",
    ")\n",
    "df['Fare_log'] = df['Fare'].apply(lambda x: np.log(x + 1))\n"
   ]
  },
  {
   "cell_type": "code",
   "execution_count": 22,
   "id": "a4a9296b",
   "metadata": {
    "execution": {
     "iopub.execute_input": "2025-06-25T21:52:33.206151Z",
     "iopub.status.busy": "2025-06-25T21:52:33.205831Z",
     "iopub.status.idle": "2025-06-25T21:52:33.214218Z",
     "shell.execute_reply": "2025-06-25T21:52:33.213276Z"
    },
    "papermill": {
     "duration": 0.02245,
     "end_time": "2025-06-25T21:52:33.215599",
     "exception": false,
     "start_time": "2025-06-25T21:52:33.193149",
     "status": "completed"
    },
    "tags": []
   },
   "outputs": [
    {
     "name": "stdout",
     "output_type": "stream",
     "text": [
      "Index(['Name', 'Sex', 'Ticket', 'Embarked', 'FamilyGroup', 'Deck'], dtype='object')\n",
      "418\n"
     ]
    }
   ],
   "source": [
    "print(df.select_dtypes(include='object').columns)  # Should be empty\n",
    "print(df.isnull().sum().sum()) "
   ]
  },
  {
   "cell_type": "code",
   "execution_count": 23,
   "id": "693dc959",
   "metadata": {
    "execution": {
     "iopub.execute_input": "2025-06-25T21:52:33.241128Z",
     "iopub.status.busy": "2025-06-25T21:52:33.240809Z",
     "iopub.status.idle": "2025-06-25T21:52:33.248380Z",
     "shell.execute_reply": "2025-06-25T21:52:33.247534Z"
    },
    "papermill": {
     "duration": 0.021867,
     "end_time": "2025-06-25T21:52:33.249729",
     "exception": false,
     "start_time": "2025-06-25T21:52:33.227862",
     "status": "completed"
    },
    "tags": []
   },
   "outputs": [
    {
     "data": {
      "text/plain": [
       "Embarked\n",
       "C    0.553571\n",
       "Q    0.389610\n",
       "S    0.339009\n",
       "Name: Survived, dtype: float64"
      ]
     },
     "execution_count": 23,
     "metadata": {},
     "output_type": "execute_result"
    }
   ],
   "source": [
    "df.groupby('Embarked')['Survived'].mean()\n"
   ]
  },
  {
   "cell_type": "code",
   "execution_count": 24,
   "id": "05a9d97f",
   "metadata": {
    "execution": {
     "iopub.execute_input": "2025-06-25T21:52:33.275747Z",
     "iopub.status.busy": "2025-06-25T21:52:33.274949Z",
     "iopub.status.idle": "2025-06-25T21:52:33.282169Z",
     "shell.execute_reply": "2025-06-25T21:52:33.281413Z"
    },
    "papermill": {
     "duration": 0.021509,
     "end_time": "2025-06-25T21:52:33.283540",
     "exception": false,
     "start_time": "2025-06-25T21:52:33.262031",
     "status": "completed"
    },
    "tags": []
   },
   "outputs": [
    {
     "data": {
      "text/plain": [
       "Sex\n",
       "female    0.742038\n",
       "male      0.188908\n",
       "Name: Survived, dtype: float64"
      ]
     },
     "execution_count": 24,
     "metadata": {},
     "output_type": "execute_result"
    }
   ],
   "source": [
    "df.groupby('Sex')['Survived'].mean()\n"
   ]
  },
  {
   "cell_type": "code",
   "execution_count": 25,
   "id": "aa7c4de3",
   "metadata": {
    "execution": {
     "iopub.execute_input": "2025-06-25T21:52:33.309398Z",
     "iopub.status.busy": "2025-06-25T21:52:33.308617Z",
     "iopub.status.idle": "2025-06-25T21:52:33.330535Z",
     "shell.execute_reply": "2025-06-25T21:52:33.329454Z"
    },
    "papermill": {
     "duration": 0.036324,
     "end_time": "2025-06-25T21:52:33.332015",
     "exception": false,
     "start_time": "2025-06-25T21:52:33.295691",
     "status": "completed"
    },
    "tags": []
   },
   "outputs": [
    {
     "name": "stdout",
     "output_type": "stream",
     "text": [
      "       Sex      AgeBin  Survived  Count\n",
      "0   female       Child       0.0     13\n",
      "1   female       Child       1.0     19\n",
      "2   female        Teen       0.0      9\n",
      "3   female        Teen       1.0     27\n",
      "4   female  YoungAdult       0.0     43\n",
      "5   female  YoungAdult       1.0    121\n",
      "6   female       Adult       0.0     16\n",
      "7   female       Adult       1.0     63\n",
      "8   female      Senior       0.0      0\n",
      "9   female      Senior       1.0      3\n",
      "10    male       Child       0.0     16\n",
      "11    male       Child       1.0     21\n",
      "12    male        Teen       0.0     31\n",
      "13    male        Teen       1.0      3\n",
      "14    male  YoungAdult       0.0    287\n",
      "15    male  YoungAdult       1.0     54\n",
      "16    male       Adult       0.0    117\n",
      "17    male       Adult       1.0     29\n",
      "18    male      Senior       0.0     17\n",
      "19    male      Senior       1.0      2\n"
     ]
    },
    {
     "name": "stderr",
     "output_type": "stream",
     "text": [
      "/tmp/ipykernel_13/415350966.py:4: FutureWarning: The default of observed=False is deprecated and will be changed to True in a future version of pandas. Pass observed=False to retain current behavior or observed=True to adopt the future default and silence this warning.\n",
      "  grouped = df.groupby(['Sex', 'AgeBin', 'Survived'])['PassengerId'].count().reset_index()\n"
     ]
    }
   ],
   "source": [
    "# Group by Sex, Age (you might want to bin age first), and Survived\n",
    "df['AgeBin'] = pd.cut(df['Age'], bins=[0, 12, 18, 35, 60, 80], labels=['Child', 'Teen', 'YoungAdult', 'Adult', 'Senior'])\n",
    "\n",
    "grouped = df.groupby(['Sex', 'AgeBin', 'Survived'])['PassengerId'].count().reset_index()\n",
    "grouped.rename(columns={'PassengerId': 'Count'}, inplace=True)\n",
    "print(grouped)\n"
   ]
  },
  {
   "cell_type": "code",
   "execution_count": 26,
   "id": "5e1f0153",
   "metadata": {
    "execution": {
     "iopub.execute_input": "2025-06-25T21:52:33.358547Z",
     "iopub.status.busy": "2025-06-25T21:52:33.357760Z",
     "iopub.status.idle": "2025-06-25T21:52:33.368441Z",
     "shell.execute_reply": "2025-06-25T21:52:33.367594Z"
    },
    "papermill": {
     "duration": 0.025098,
     "end_time": "2025-06-25T21:52:33.369776",
     "exception": false,
     "start_time": "2025-06-25T21:52:33.344678",
     "status": "completed"
    },
    "tags": []
   },
   "outputs": [
    {
     "name": "stdout",
     "output_type": "stream",
     "text": [
      "      Sex      AgeBin  Survived\n",
      "0  female       Child  0.593750\n",
      "1  female        Teen  0.750000\n",
      "2  female  YoungAdult  0.737805\n",
      "3  female       Adult  0.797468\n",
      "4  female      Senior  1.000000\n",
      "5    male       Child  0.567568\n",
      "6    male        Teen  0.088235\n",
      "7    male  YoungAdult  0.158358\n",
      "8    male       Adult  0.198630\n",
      "9    male      Senior  0.105263\n"
     ]
    },
    {
     "name": "stderr",
     "output_type": "stream",
     "text": [
      "/tmp/ipykernel_13/2632816335.py:1: FutureWarning: The default of observed=False is deprecated and will be changed to True in a future version of pandas. Pass observed=False to retain current behavior or observed=True to adopt the future default and silence this warning.\n",
      "  survival_rate = df.groupby(['Sex', 'AgeBin'])['Survived'].mean().reset_index()\n"
     ]
    }
   ],
   "source": [
    "survival_rate = df.groupby(['Sex', 'AgeBin'])['Survived'].mean().reset_index()\n",
    "print(survival_rate)\n"
   ]
  },
  {
   "cell_type": "code",
   "execution_count": 27,
   "id": "af5fd462",
   "metadata": {
    "execution": {
     "iopub.execute_input": "2025-06-25T21:52:33.395210Z",
     "iopub.status.busy": "2025-06-25T21:52:33.394879Z",
     "iopub.status.idle": "2025-06-25T21:52:33.628089Z",
     "shell.execute_reply": "2025-06-25T21:52:33.627267Z"
    },
    "papermill": {
     "duration": 0.247646,
     "end_time": "2025-06-25T21:52:33.629566",
     "exception": false,
     "start_time": "2025-06-25T21:52:33.381920",
     "status": "completed"
    },
    "tags": []
   },
   "outputs": [
    {
     "name": "stderr",
     "output_type": "stream",
     "text": [
      "/usr/local/lib/python3.11/dist-packages/seaborn/categorical.py:641: FutureWarning: The default of observed=False is deprecated and will be changed to True in a future version of pandas. Pass observed=False to retain current behavior or observed=True to adopt the future default and silence this warning.\n",
      "  grouped_vals = vals.groupby(grouper)\n",
      "/usr/local/lib/python3.11/dist-packages/seaborn/categorical.py:641: FutureWarning: The default of observed=False is deprecated and will be changed to True in a future version of pandas. Pass observed=False to retain current behavior or observed=True to adopt the future default and silence this warning.\n",
      "  grouped_vals = vals.groupby(grouper)\n"
     ]
    },
    {
     "data": {
      "image/png": "[encoded data removed]",
      "text/plain": [
       "<Figure size 1000x600 with 1 Axes>"
      ]
     },
     "metadata": {},
     "output_type": "display_data"
    }
   ],
   "source": [
    "import seaborn as sns\n",
    "import matplotlib.pyplot as plt\n",
    "\n",
    "# First, bin ages for grouping\n",
    "df['AgeBin'] = pd.cut(df['Age'], bins=[0, 12, 18, 35, 60, 80], labels=['Child', 'Teen', 'YoungAdult', 'Adult', 'Senior'])\n",
    "\n",
    "# Create a countplot of survival by gender and age group\n",
    "plt.figure(figsize=(10, 6))\n",
    "sns.countplot(data=df, x='AgeBin', hue='Survived', palette='Set2', dodge=True)\n",
    "plt.title('Survival Count by Age Group')\n",
    "plt.xlabel('Age Group')\n",
    "plt.ylabel('Count')\n",
    "plt.legend(title='Survived', labels=['No', 'Yes'])\n",
    "plt.grid(axis='y', linestyle='--', alpha=0.7)\n",
    "plt.tight_layout()\n",
    "plt.show()\n"
   ]
  },
  {
   "cell_type": "code",
   "execution_count": 28,
   "id": "0ac9ad3d",
   "metadata": {
    "execution": {
     "iopub.execute_input": "2025-06-25T21:52:33.658630Z",
     "iopub.status.busy": "2025-06-25T21:52:33.658326Z",
     "iopub.status.idle": "2025-06-25T21:52:34.255367Z",
     "shell.execute_reply": "2025-06-25T21:52:34.254603Z"
    },
    "papermill": {
     "duration": 0.613367,
     "end_time": "2025-06-25T21:52:34.257086",
     "exception": false,
     "start_time": "2025-06-25T21:52:33.643719",
     "status": "completed"
    },
    "tags": []
   },
   "outputs": [
    {
     "name": "stderr",
     "output_type": "stream",
     "text": [
      "/usr/local/lib/python3.11/dist-packages/seaborn/categorical.py:641: FutureWarning: The default of observed=False is deprecated and will be changed to True in a future version of pandas. Pass observed=False to retain current behavior or observed=True to adopt the future default and silence this warning.\n",
      "  grouped_vals = vals.groupby(grouper)\n",
      "/usr/local/lib/python3.11/dist-packages/seaborn/categorical.py:641: FutureWarning: The default of observed=False is deprecated and will be changed to True in a future version of pandas. Pass observed=False to retain current behavior or observed=True to adopt the future default and silence this warning.\n",
      "  grouped_vals = vals.groupby(grouper)\n",
      "/usr/local/lib/python3.11/dist-packages/seaborn/categorical.py:641: FutureWarning: The default of observed=False is deprecated and will be changed to True in a future version of pandas. Pass observed=False to retain current behavior or observed=True to adopt the future default and silence this warning.\n",
      "  grouped_vals = vals.groupby(grouper)\n",
      "/usr/local/lib/python3.11/dist-packages/seaborn/categorical.py:641: FutureWarning: The default of observed=False is deprecated and will be changed to True in a future version of pandas. Pass observed=False to retain current behavior or observed=True to adopt the future default and silence this warning.\n",
      "  grouped_vals = vals.groupby(grouper)\n",
      "/usr/local/lib/python3.11/dist-packages/seaborn/axisgrid.py:118: UserWarning: The figure layout has changed to tight\n",
      "  self._figure.tight_layout(*args, **kwargs)\n"
     ]
    },
    {
     "data": {
      "image/png": "[encoded data removed]",
      "text/plain": [
       "<Figure size 1058.88x500 with 2 Axes>"
      ]
     },
     "metadata": {},
     "output_type": "display_data"
    }
   ],
   "source": [
    "import seaborn as sns\n",
    "import matplotlib.pyplot as plt\n",
    "\n",
    "# Make sure AgeBin exists\n",
    "df['AgeBin'] = pd.cut(df['Age'], bins=[0, 12, 18, 35, 60, 80], \n",
    "                      labels=['Child', 'Teen', 'YoungAdult', 'Adult', 'Senior'])\n",
    "\n",
    "# Set up the grid\n",
    "g = sns.catplot(\n",
    "    data=df, kind=\"count\", \n",
    "    x=\"AgeBin\", hue=\"Pclass\", col=\"Sex\",\n",
    "    palette=\"pastel\", edgecolor=\".6\"\n",
    ")\n",
    "\n",
    "g.set_titles(\"Sex: {col_name}\")\n",
    "g.set_axis_labels(\"Age Group\", \"Passenger Count\")\n",
    "g._legend.set_title(\"Pclass\")\n",
    "plt.subplots_adjust(top=0.85)\n",
    "g.fig.suptitle(\"Survival Distribution by Age Group, Class, and Gender\")\n",
    "plt.show()\n"
   ]
  },
  {
   "cell_type": "code",
   "execution_count": 29,
   "id": "fd4c9fc3",
   "metadata": {
    "execution": {
     "iopub.execute_input": "2025-06-25T21:52:34.287831Z",
     "iopub.status.busy": "2025-06-25T21:52:34.287542Z",
     "iopub.status.idle": "2025-06-25T21:52:34.477546Z",
     "shell.execute_reply": "2025-06-25T21:52:34.476869Z"
    },
    "papermill": {
     "duration": 0.206602,
     "end_time": "2025-06-25T21:52:34.479014",
     "exception": false,
     "start_time": "2025-06-25T21:52:34.272412",
     "status": "completed"
    },
    "tags": []
   },
   "outputs": [],
   "source": [
    "from sklearn.preprocessing import LabelEncoder\n",
    "\n",
    "# 1. Encode 'Sex'\n",
    "le = LabelEncoder()\n",
    "df['Sex'] = le.fit_transform(df['Sex'])  # male=0, female=1 (or vice versa)\n",
    "\n",
    "# 2. Extract title from 'Name' and drop 'Name'\n",
    "df['Title'] = df['Name'].str.extract(r',\\s*([^\\.]*)\\s*\\.')\n",
    "df.drop(columns=['Name'], inplace=True)\n",
    "\n",
    "# Optional: consolidate rare titles here if not already done\n",
    "rare_titles = ['Dr', 'Rev', 'Col', 'Major', 'Capt', 'Don', 'Sir', 'Jonkheer', 'Lady', 'Countess', 'Dona']\n",
    "df['Title'] = df['Title'].replace(rare_titles, 'Rare')\n",
    "\n",
    "# 3. Drop or engineer 'Ticket'\n",
    "df.drop(columns=['Ticket'], inplace=True)\n",
    "\n",
    "# 4. One-hot encode selected categorical variables\n",
    "df = pd.get_dummies(df, columns=['Embarked', 'FamilyGroup', 'Deck', 'Title','AgeBin'], drop_first=True)\n"
   ]
  },
  {
   "cell_type": "code",
   "execution_count": 30,
   "id": "88fefa4e",
   "metadata": {
    "execution": {
     "iopub.execute_input": "2025-06-25T21:52:34.510820Z",
     "iopub.status.busy": "2025-06-25T21:52:34.510529Z",
     "iopub.status.idle": "2025-06-25T21:52:34.515956Z",
     "shell.execute_reply": "2025-06-25T21:52:34.515149Z"
    },
    "papermill": {
     "duration": 0.022524,
     "end_time": "2025-06-25T21:52:34.517204",
     "exception": false,
     "start_time": "2025-06-25T21:52:34.494680",
     "status": "completed"
    },
    "tags": []
   },
   "outputs": [
    {
     "name": "stdout",
     "output_type": "stream",
     "text": [
      "Series([], dtype: object)\n"
     ]
    }
   ],
   "source": [
    "# Check data types first\n",
    "print(df.dtypes[df.dtypes == 'object'])\n"
   ]
  },
  {
   "cell_type": "code",
   "execution_count": 31,
   "id": "86ddfdac",
   "metadata": {
    "execution": {
     "iopub.execute_input": "2025-06-25T21:52:34.548859Z",
     "iopub.status.busy": "2025-06-25T21:52:34.548237Z",
     "iopub.status.idle": "2025-06-25T21:52:34.556898Z",
     "shell.execute_reply": "2025-06-25T21:52:34.555924Z"
    },
    "papermill": {
     "duration": 0.02592,
     "end_time": "2025-06-25T21:52:34.558522",
     "exception": false,
     "start_time": "2025-06-25T21:52:34.532602",
     "status": "completed"
    },
    "tags": []
   },
   "outputs": [
    {
     "name": "stdout",
     "output_type": "stream",
     "text": [
      "PassengerId             0\n",
      "Survived              418\n",
      "Pclass                  0\n",
      "Sex                     0\n",
      "Age                     0\n",
      "SibSp                   0\n",
      "Parch                   0\n",
      "Fare                    0\n",
      "HasCabin                0\n",
      "CabinClass              0\n",
      "FamilySize              0\n",
      "Fare_log                0\n",
      "Embarked_Q              0\n",
      "Embarked_S              0\n",
      "FamilyGroup_Medium      0\n",
      "FamilyGroup_Small       0\n",
      "FamilyGroup_Solo        0\n",
      "Deck_B                  0\n",
      "Deck_C                  0\n",
      "Deck_D                  0\n",
      "Deck_E                  0\n",
      "Deck_F                  0\n",
      "Deck_G                  0\n",
      "Deck_T                  0\n",
      "Deck_U                  0\n",
      "Title_Miss              0\n",
      "Title_Mlle              0\n",
      "Title_Mme               0\n",
      "Title_Mr                0\n",
      "Title_Mrs               0\n",
      "Title_Ms                0\n",
      "Title_Rare              0\n",
      "Title_the Countess      0\n",
      "AgeBin_Teen             0\n",
      "AgeBin_YoungAdult       0\n",
      "AgeBin_Adult            0\n",
      "AgeBin_Senior           0\n",
      "dtype: int64\n",
      "PassengerId             int64\n",
      "Survived              float64\n",
      "Pclass                  int64\n",
      "Sex                     int64\n",
      "Age                   float64\n",
      "SibSp                   int64\n",
      "Parch                   int64\n",
      "Fare                  float64\n",
      "HasCabin                int64\n",
      "CabinClass              int64\n",
      "FamilySize              int64\n",
      "Fare_log              float64\n",
      "Embarked_Q               bool\n",
      "Embarked_S               bool\n",
      "FamilyGroup_Medium       bool\n",
      "FamilyGroup_Small        bool\n",
      "FamilyGroup_Solo         bool\n",
      "Deck_B                   bool\n",
      "Deck_C                   bool\n",
      "Deck_D                   bool\n",
      "Deck_E                   bool\n",
      "Deck_F                   bool\n",
      "Deck_G                   bool\n",
      "Deck_T                   bool\n",
      "Deck_U                   bool\n",
      "Title_Miss               bool\n",
      "Title_Mlle               bool\n",
      "Title_Mme                bool\n",
      "Title_Mr                 bool\n",
      "Title_Mrs                bool\n",
      "Title_Ms                 bool\n",
      "Title_Rare               bool\n",
      "Title_the Countess       bool\n",
      "AgeBin_Teen              bool\n",
      "AgeBin_YoungAdult        bool\n",
      "AgeBin_Adult             bool\n",
      "AgeBin_Senior            bool\n",
      "dtype: object\n"
     ]
    }
   ],
   "source": [
    "# Final check before modeling\n",
    "print(df.isnull().sum())  # make sure no new NaNs were created\n",
    "print(df.dtypes)          # ensure everything is numeric\n"
   ]
  },
  {
   "cell_type": "code",
   "execution_count": 32,
   "id": "5c9d3ea4",
   "metadata": {
    "execution": {
     "iopub.execute_input": "2025-06-25T21:52:34.590049Z",
     "iopub.status.busy": "2025-06-25T21:52:34.589336Z",
     "iopub.status.idle": "2025-06-25T21:52:34.594254Z",
     "shell.execute_reply": "2025-06-25T21:52:34.593333Z"
    },
    "papermill": {
     "duration": 0.021996,
     "end_time": "2025-06-25T21:52:34.595655",
     "exception": false,
     "start_time": "2025-06-25T21:52:34.573659",
     "status": "completed"
    },
    "tags": []
   },
   "outputs": [
    {
     "name": "stdout",
     "output_type": "stream",
     "text": [
      "Index(['PassengerId', 'Survived', 'Pclass', 'Sex', 'Age', 'SibSp', 'Parch',\n",
      "       'Fare', 'HasCabin', 'CabinClass', 'FamilySize', 'Fare_log',\n",
      "       'Embarked_Q', 'Embarked_S', 'FamilyGroup_Medium', 'FamilyGroup_Small',\n",
      "       'FamilyGroup_Solo', 'Deck_B', 'Deck_C', 'Deck_D', 'Deck_E', 'Deck_F',\n",
      "       'Deck_G', 'Deck_T', 'Deck_U', 'Title_Miss', 'Title_Mlle', 'Title_Mme',\n",
      "       'Title_Mr', 'Title_Mrs', 'Title_Ms', 'Title_Rare', 'Title_the Countess',\n",
      "       'AgeBin_Teen', 'AgeBin_YoungAdult', 'AgeBin_Adult', 'AgeBin_Senior'],\n",
      "      dtype='object')\n"
     ]
    }
   ],
   "source": [
    "print(df.columns)"
   ]
  },
  {
   "cell_type": "code",
   "execution_count": 33,
   "id": "5896ef00",
   "metadata": {
    "execution": {
     "iopub.execute_input": "2025-06-25T21:52:34.628760Z",
     "iopub.status.busy": "2025-06-25T21:52:34.627974Z",
     "iopub.status.idle": "2025-06-25T21:52:34.634385Z",
     "shell.execute_reply": "2025-06-25T21:52:34.633588Z"
    },
    "papermill": {
     "duration": 0.024815,
     "end_time": "2025-06-25T21:52:34.635696",
     "exception": false,
     "start_time": "2025-06-25T21:52:34.610881",
     "status": "completed"
    },
    "tags": []
   },
   "outputs": [
    {
     "name": "stdout",
     "output_type": "stream",
     "text": [
      "Index([], dtype='object')\n",
      "418\n"
     ]
    }
   ],
   "source": [
    "print(df.select_dtypes(include='object').columns)  # Should be empty\n",
    "print(df.isnull().sum().sum()) "
   ]
  },
  {
   "cell_type": "code",
   "execution_count": 34,
   "id": "2b77c8e4",
   "metadata": {
    "execution": {
     "iopub.execute_input": "2025-06-25T21:52:34.668481Z",
     "iopub.status.busy": "2025-06-25T21:52:34.667660Z",
     "iopub.status.idle": "2025-06-25T21:52:34.680952Z",
     "shell.execute_reply": "2025-06-25T21:52:34.680145Z"
    },
    "papermill": {
     "duration": 0.031376,
     "end_time": "2025-06-25T21:52:34.682471",
     "exception": false,
     "start_time": "2025-06-25T21:52:34.651095",
     "status": "completed"
    },
    "tags": []
   },
   "outputs": [],
   "source": [
    "# 🔹 1. Get original train length\n",
    "train_len = len(pd.read_csv('/kaggle/input/traintc/train.csv'))\n",
    "\n",
    "# 🔹 2. Define X and y (use only the training portion)\n",
    "X = df.drop(columns=['Survived','PassengerId'], errors='ignore').iloc[:train_len]\n",
    "y = df.loc[:train_len-1, 'Survived']\n"
   ]
  },
  {
   "cell_type": "code",
   "execution_count": 35,
   "id": "a477a64e",
   "metadata": {
    "execution": {
     "iopub.execute_input": "2025-06-25T21:52:34.713729Z",
     "iopub.status.busy": "2025-06-25T21:52:34.713443Z",
     "iopub.status.idle": "2025-06-25T21:52:34.837499Z",
     "shell.execute_reply": "2025-06-25T21:52:34.836640Z"
    },
    "papermill": {
     "duration": 0.141397,
     "end_time": "2025-06-25T21:52:34.839027",
     "exception": false,
     "start_time": "2025-06-25T21:52:34.697630",
     "status": "completed"
    },
    "tags": []
   },
   "outputs": [],
   "source": [
    "from sklearn.model_selection import train_test_split\n",
    "\n",
    "X_train, X_valid, y_train, y_valid = train_test_split(\n",
    "    X, y, test_size=0.2, random_state=42, stratify=y\n",
    ")\n"
   ]
  },
  {
   "cell_type": "code",
   "execution_count": 36,
   "id": "61dc1b55",
   "metadata": {
    "execution": {
     "iopub.execute_input": "2025-06-25T21:52:34.871938Z",
     "iopub.status.busy": "2025-06-25T21:52:34.870803Z",
     "iopub.status.idle": "2025-06-25T21:52:34.875634Z",
     "shell.execute_reply": "2025-06-25T21:52:34.874903Z"
    },
    "papermill": {
     "duration": 0.02211,
     "end_time": "2025-06-25T21:52:34.876863",
     "exception": false,
     "start_time": "2025-06-25T21:52:34.854753",
     "status": "completed"
    },
    "tags": []
   },
   "outputs": [],
   "source": [
    "X_train.columns = X_train.columns.str.replace(' ', '_')\n"
   ]
  },
  {
   "cell_type": "code",
   "execution_count": 37,
   "id": "b3c2bf54",
   "metadata": {
    "execution": {
     "iopub.execute_input": "2025-06-25T21:52:34.908099Z",
     "iopub.status.busy": "2025-06-25T21:52:34.907497Z",
     "iopub.status.idle": "2025-06-25T21:52:40.820812Z",
     "shell.execute_reply": "2025-06-25T21:52:40.819912Z"
    },
    "papermill": {
     "duration": 5.930161,
     "end_time": "2025-06-25T21:52:40.822049",
     "exception": false,
     "start_time": "2025-06-25T21:52:34.891888",
     "status": "completed"
    },
    "tags": []
   },
   "outputs": [
    {
     "name": "stdout",
     "output_type": "stream",
     "text": [
      "[LightGBM] [Info] Number of positive: 273, number of negative: 439\n",
      "[LightGBM] [Info] Auto-choosing row-wise multi-threading, the overhead of testing was 0.002980 seconds.\n",
      "You can set `force_row_wise=true` to remove the overhead.\n",
      "And if memory is not enough, you can set `force_col_wise=true`.\n",
      "[LightGBM] [Info] Total Bins 384\n",
      "[LightGBM] [Info] Number of data points in the train set: 712, number of used features: 33\n",
      "[LightGBM] [Info] [binary:BoostFromScore]: pavg=0.383427 -> initscore=-0.475028\n",
      "[LightGBM] [Info] Start training from score -0.475028\n"
     ]
    },
    {
     "data": {
      "text/html": [
       "<style>#sk-container-id-1 {color: black;background-color: white;}#sk-container-id-1 pre{padding: 0;}#sk-container-id-1 div.sk-toggleable {background-color: white;}#sk-container-id-1 label.sk-toggleable__label {cursor: pointer;display: block;width: 100%;margin-bottom: 0;padding: 0.3em;box-sizing: border-box;text-align: center;}#sk-container-id-1 label.sk-toggleable__label-arrow:before {content: \"▸\";float: left;margin-right: 0.25em;color: #696969;}#sk-container-id-1 label.sk-toggleable__label-arrow:hover:before {color: black;}#sk-container-id-1 div.sk-estimator:hover label.sk-toggleable__label-arrow:before {color: black;}#sk-container-id-1 div.sk-toggleable__content {max-height: 0;max-width: 0;overflow: hidden;text-align: left;background-color: #f0f8ff;}#sk-container-id-1 div.sk-toggleable__content pre {margin: 0.2em;color: black;border-radius: 0.25em;background-color: #f0f8ff;}#sk-container-id-1 input.sk-toggleable__control:checked~div.sk-toggleable__content {max-height: 200px;max-width: 100%;overflow: auto;}#sk-container-id-1 input.sk-toggleable__control:checked~label.sk-toggleable__label-arrow:before {content: \"▾\";}#sk-container-id-1 div.sk-estimator input.sk-toggleable__control:checked~label.sk-toggleable__label {background-color: #d4ebff;}#sk-container-id-1 div.sk-label input.sk-toggleable__control:checked~label.sk-toggleable__label {background-color: #d4ebff;}#sk-container-id-1 input.sk-hidden--visually {border: 0;clip: rect(1px 1px 1px 1px);clip: rect(1px, 1px, 1px, 1px);height: 1px;margin: -1px;overflow: hidden;padding: 0;position: absolute;width: 1px;}#sk-container-id-1 div.sk-estimator {font-family: monospace;background-color: #f0f8ff;border: 1px dotted black;border-radius: 0.25em;box-sizing: border-box;margin-bottom: 0.5em;}#sk-container-id-1 div.sk-estimator:hover {background-color: #d4ebff;}#sk-container-id-1 div.sk-parallel-item::after {content: \"\";width: 100%;border-bottom: 1px solid gray;flex-grow: 1;}#sk-container-id-1 div.sk-label:hover label.sk-toggleable__label {background-color: #d4ebff;}#sk-container-id-1 div.sk-serial::before {content: \"\";position: absolute;border-left: 1px solid gray;box-sizing: border-box;top: 0;bottom: 0;left: 50%;z-index: 0;}#sk-container-id-1 div.sk-serial {display: flex;flex-direction: column;align-items: center;background-color: white;padding-right: 0.2em;padding-left: 0.2em;position: relative;}#sk-container-id-1 div.sk-item {position: relative;z-index: 1;}#sk-container-id-1 div.sk-parallel {display: flex;align-items: stretch;justify-content: center;background-color: white;position: relative;}#sk-container-id-1 div.sk-item::before, #sk-container-id-1 div.sk-parallel-item::before {content: \"\";position: absolute;border-left: 1px solid gray;box-sizing: border-box;top: 0;bottom: 0;left: 50%;z-index: -1;}#sk-container-id-1 div.sk-parallel-item {display: flex;flex-direction: column;z-index: 1;position: relative;background-color: white;}#sk-container-id-1 div.sk-parallel-item:first-child::after {align-self: flex-end;width: 50%;}#sk-container-id-1 div.sk-parallel-item:last-child::after {align-self: flex-start;width: 50%;}#sk-container-id-1 div.sk-parallel-item:only-child::after {width: 0;}#sk-container-id-1 div.sk-dashed-wrapped {border: 1px dashed gray;margin: 0 0.4em 0.5em 0.4em;box-sizing: border-box;padding-bottom: 0.4em;background-color: white;}#sk-container-id-1 div.sk-label label {font-family: monospace;font-weight: bold;display: inline-block;line-height: 1.2em;}#sk-container-id-1 div.sk-label-container {text-align: center;}#sk-container-id-1 div.sk-container {/* jupyter's `normalize.less` sets `[hidden] { display: none; }` but bootstrap.min.css set `[hidden] { display: none !important; }` so we also need the `!important` here to be able to override the default hidden behavior on the sphinx rendered scikit-learn.org. See: https://github.com/scikit-learn/scikit-learn/issues/21755 */display: inline-block !important;position: relative;}#sk-container-id-1 div.sk-text-repr-fallback {display: none;}</style><div id=\"sk-container-id-1\" class=\"sk-top-container\"><div class=\"sk-text-repr-fallback\"><pre>LGBMClassifier(min_child_samples=1, min_split_gain=0, num_leaves=64,\n",
       "               random_state=42)</pre><b>In a Jupyter environment, please rerun this cell to show the HTML representation or trust the notebook. <br />On GitHub, the HTML representation is unable to render, please try loading this page with nbviewer.org.</b></div><div class=\"sk-container\" hidden><div class=\"sk-item\"><div class=\"sk-estimator sk-toggleable\"><input class=\"sk-toggleable__control sk-hidden--visually\" id=\"sk-estimator-id-1\" type=\"checkbox\" checked><label for=\"sk-estimator-id-1\" class=\"sk-toggleable__label sk-toggleable__label-arrow\">LGBMClassifier</label><div class=\"sk-toggleable__content\"><pre>LGBMClassifier(min_child_samples=1, min_split_gain=0, num_leaves=64,\n",
       "               random_state=42)</pre></div></div></div></div></div>"
      ],
      "text/plain": [
       "LGBMClassifier(min_child_samples=1, min_split_gain=0, num_leaves=64,\n",
       "               random_state=42)"
      ]
     },
     "execution_count": 37,
     "metadata": {},
     "output_type": "execute_result"
    }
   ],
   "source": [
    "from lightgbm import LGBMClassifier\n",
    "\n",
    "model = LGBMClassifier(\n",
    "    n_estimators=100,\n",
    "    num_leaves=64,\n",
    "    min_child_samples=1,\n",
    "    min_split_gain=0,\n",
    "    max_depth=-1,\n",
    "    random_state=42\n",
    ")\n",
    "\n",
    "model.fit(X_train, y_train)\n"
   ]
  },
  {
   "cell_type": "code",
   "execution_count": 38,
   "id": "48fa022e",
   "metadata": {
    "execution": {
     "iopub.execute_input": "2025-06-25T21:52:40.854872Z",
     "iopub.status.busy": "2025-06-25T21:52:40.853893Z",
     "iopub.status.idle": "2025-06-25T21:52:40.863762Z",
     "shell.execute_reply": "2025-06-25T21:52:40.862974Z"
    },
    "papermill": {
     "duration": 0.027055,
     "end_time": "2025-06-25T21:52:40.864941",
     "exception": false,
     "start_time": "2025-06-25T21:52:40.837886",
     "status": "completed"
    },
    "tags": []
   },
   "outputs": [
    {
     "data": {
      "text/plain": [
       "Survived\n",
       "0.0    0.616573\n",
       "1.0    0.383427\n",
       "Name: proportion, dtype: float64"
      ]
     },
     "execution_count": 38,
     "metadata": {},
     "output_type": "execute_result"
    }
   ],
   "source": [
    "y_train.value_counts(normalize=True)\n"
   ]
  },
  {
   "cell_type": "code",
   "execution_count": 39,
   "id": "013e7c8e",
   "metadata": {
    "execution": {
     "iopub.execute_input": "2025-06-25T21:52:40.897134Z",
     "iopub.status.busy": "2025-06-25T21:52:40.896812Z",
     "iopub.status.idle": "2025-06-25T21:52:40.901683Z",
     "shell.execute_reply": "2025-06-25T21:52:40.900878Z"
    },
    "papermill": {
     "duration": 0.022124,
     "end_time": "2025-06-25T21:52:40.902972",
     "exception": false,
     "start_time": "2025-06-25T21:52:40.880848",
     "status": "completed"
    },
    "tags": []
   },
   "outputs": [],
   "source": [
    "X_train.columns = X_train.columns.str.replace(' ', '_')\n",
    "X_valid.columns = X_valid.columns.str.replace(' ', '_')\n"
   ]
  },
  {
   "cell_type": "code",
   "execution_count": 40,
   "id": "4ff6a548",
   "metadata": {
    "execution": {
     "iopub.execute_input": "2025-06-25T21:52:40.935777Z",
     "iopub.status.busy": "2025-06-25T21:52:40.935016Z",
     "iopub.status.idle": "2025-06-25T21:52:40.939629Z",
     "shell.execute_reply": "2025-06-25T21:52:40.938830Z"
    },
    "papermill": {
     "duration": 0.02205,
     "end_time": "2025-06-25T21:52:40.940974",
     "exception": false,
     "start_time": "2025-06-25T21:52:40.918924",
     "status": "completed"
    },
    "tags": []
   },
   "outputs": [],
   "source": [
    "df.columns = df.columns.str.replace(' ', '_')\n"
   ]
  },
  {
   "cell_type": "code",
   "execution_count": 41,
   "id": "3971054b",
   "metadata": {
    "execution": {
     "iopub.execute_input": "2025-06-25T21:52:40.973770Z",
     "iopub.status.busy": "2025-06-25T21:52:40.972997Z",
     "iopub.status.idle": "2025-06-25T21:52:40.977261Z",
     "shell.execute_reply": "2025-06-25T21:52:40.976463Z"
    },
    "papermill": {
     "duration": 0.022079,
     "end_time": "2025-06-25T21:52:40.978580",
     "exception": false,
     "start_time": "2025-06-25T21:52:40.956501",
     "status": "completed"
    },
    "tags": []
   },
   "outputs": [],
   "source": [
    "assert list(X_train.columns) == list(X_valid.columns)\n"
   ]
  },
  {
   "cell_type": "code",
   "execution_count": 42,
   "id": "6c3a1108",
   "metadata": {
    "execution": {
     "iopub.execute_input": "2025-06-25T21:52:41.010942Z",
     "iopub.status.busy": "2025-06-25T21:52:41.010646Z",
     "iopub.status.idle": "2025-06-25T21:52:45.687361Z",
     "shell.execute_reply": "2025-06-25T21:52:45.686449Z"
    },
    "papermill": {
     "duration": 4.6945,
     "end_time": "2025-06-25T21:52:45.688852",
     "exception": false,
     "start_time": "2025-06-25T21:52:40.994352",
     "status": "completed"
    },
    "tags": []
   },
   "outputs": [
    {
     "data": {
      "text/html": [
       "<div>\n",
       "<style scoped>\n",
       "    .dataframe tbody tr th:only-of-type {\n",
       "        vertical-align: middle;\n",
       "    }\n",
       "\n",
       "    .dataframe tbody tr th {\n",
       "        vertical-align: top;\n",
       "    }\n",
       "\n",
       "    .dataframe thead th {\n",
       "        text-align: right;\n",
       "    }\n",
       "</style>\n",
       "<table border=\"1\" class=\"dataframe\">\n",
       "  <thead>\n",
       "    <tr style=\"text-align: right;\">\n",
       "      <th></th>\n",
       "      <th>Accuracy</th>\n",
       "      <th>ROC_AUC</th>\n",
       "    </tr>\n",
       "  </thead>\n",
       "  <tbody>\n",
       "    <tr>\n",
       "      <th>Logistic</th>\n",
       "      <td>0.8436</td>\n",
       "      <td>0.8599</td>\n",
       "    </tr>\n",
       "    <tr>\n",
       "      <th>XGBoost</th>\n",
       "      <td>0.8268</td>\n",
       "      <td>0.8363</td>\n",
       "    </tr>\n",
       "    <tr>\n",
       "      <th>RandomForest</th>\n",
       "      <td>0.8045</td>\n",
       "      <td>0.8319</td>\n",
       "    </tr>\n",
       "  </tbody>\n",
       "</table>\n",
       "</div>"
      ],
      "text/plain": [
       "              Accuracy  ROC_AUC\n",
       "Logistic        0.8436   0.8599\n",
       "XGBoost         0.8268   0.8363\n",
       "RandomForest    0.8045   0.8319"
      ]
     },
     "execution_count": 42,
     "metadata": {},
     "output_type": "execute_result"
    }
   ],
   "source": [
    "from sklearn.linear_model import LogisticRegression\n",
    "from sklearn.ensemble import RandomForestClassifier\n",
    "from xgboost import XGBClassifier\n",
    "from sklearn.metrics import accuracy_score, roc_auc_score\n",
    "import pandas as pd\n",
    "\n",
    "# Define your chosen models\n",
    "subset_models = {\n",
    "    'Logistic': LogisticRegression(max_iter=1000, random_state=42),\n",
    "    'RandomForest': RandomForestClassifier(n_estimators=100, random_state=42),\n",
    "    'XGBoost': XGBClassifier(use_label_encoder=False, eval_metric='logloss', random_state=42)\n",
    "}\n",
    "\n",
    "# Evaluate\n",
    "subset_results = {}\n",
    "\n",
    "for name, model in subset_models.items():\n",
    "    model.fit(X_train, y_train)\n",
    "    preds = model.predict(X_valid)\n",
    "    probs = model.predict_proba(X_valid)[:, 1]\n",
    "    \n",
    "    acc = accuracy_score(y_valid, preds)\n",
    "    auc = roc_auc_score(y_valid, probs)\n",
    "    \n",
    "    subset_results[name] = {'Accuracy': round(acc, 4), 'ROC_AUC': round(auc, 4)}\n",
    "\n",
    "# Display\n",
    "pd.DataFrame(subset_results).T.sort_values('ROC_AUC', ascending=False)\n"
   ]
  },
  {
   "cell_type": "code",
   "execution_count": 43,
   "id": "865f83bf",
   "metadata": {
    "execution": {
     "iopub.execute_input": "2025-06-25T21:52:45.721525Z",
     "iopub.status.busy": "2025-06-25T21:52:45.721223Z",
     "iopub.status.idle": "2025-06-25T21:52:45.727853Z",
     "shell.execute_reply": "2025-06-25T21:52:45.727097Z"
    },
    "papermill": {
     "duration": 0.024087,
     "end_time": "2025-06-25T21:52:45.729220",
     "exception": false,
     "start_time": "2025-06-25T21:52:45.705133",
     "status": "completed"
    },
    "tags": []
   },
   "outputs": [],
   "source": [
    "from sklearn.metrics import accuracy_score, roc_auc_score\n",
    "import pandas as pd\n",
    "\n",
    "def evaluate_models(models, X_train, X_valid, y_train, y_valid):\n",
    "    \"\"\"\n",
    "    Evaluates classification models with accuracy and ROC AUC.\n",
    "    Handles regressors like BayesianRidge by thresholding at 0.5.\n",
    "    \"\"\"\n",
    "    results = {}\n",
    "    \n",
    "    for name, model in models.items():\n",
    "        model.fit(X_train, y_train)\n",
    "        \n",
    "        if hasattr(model, \"predict_proba\"):\n",
    "            probs = model.predict_proba(X_valid)[:, 1]\n",
    "        else:\n",
    "            probs = model.predict(X_valid)\n",
    "        \n",
    "        # Threshold for BayesianRidge, if needed\n",
    "        preds = (probs >= 0.5).astype(int) if 'Ridge' in name or 'Bayesian' in name else model.predict(X_valid)\n",
    "        \n",
    "        acc = accuracy_score(y_valid, preds)\n",
    "        auc = roc_auc_score(y_valid, probs)\n",
    "        \n",
    "        results[name] = {'Accuracy': round(acc, 4), 'ROC_AUC': round(auc, 4)}\n",
    "    \n",
    "    return pd.DataFrame(results).T.sort_values('ROC_AUC', ascending=False)\n"
   ]
  },
  {
   "cell_type": "code",
   "execution_count": 44,
   "id": "ea4d2c05",
   "metadata": {
    "execution": {
     "iopub.execute_input": "2025-06-25T21:52:45.762184Z",
     "iopub.status.busy": "2025-06-25T21:52:45.761838Z",
     "iopub.status.idle": "2025-06-25T21:52:49.700703Z",
     "shell.execute_reply": "2025-06-25T21:52:49.699949Z"
    },
    "papermill": {
     "duration": 3.957767,
     "end_time": "2025-06-25T21:52:49.703159",
     "exception": false,
     "start_time": "2025-06-25T21:52:45.745392",
     "status": "completed"
    },
    "tags": []
   },
   "outputs": [
    {
     "name": "stdout",
     "output_type": "stream",
     "text": [
      "📊 Stacking Model Results:\n",
      "Accuracy: 0.8547\n",
      "ROC AUC : 0.8663\n"
     ]
    }
   ],
   "source": [
    "from sklearn.ensemble import StackingClassifier\n",
    "from sklearn.linear_model import LogisticRegression\n",
    "from sklearn.ensemble import RandomForestClassifier\n",
    "from xgboost import XGBClassifier\n",
    "from sklearn.preprocessing import StandardScaler\n",
    "from sklearn.pipeline import Pipeline\n",
    "from sklearn.model_selection import train_test_split, RandomizedSearchCV\n",
    "from sklearn.metrics import accuracy_score, roc_auc_score\n",
    "import numpy as np\n",
    "import pandas as pd\n",
    "\n",
    "RANDOM_STATE = 42\n",
    "\n",
    "# Logistic with Scaling\n",
    "logreg_pipeline = Pipeline([\n",
    "    ('scaler', StandardScaler()),\n",
    "    ('logreg', LogisticRegression(max_iter=2000, random_state=RANDOM_STATE))\n",
    "])\n",
    "\n",
    "# Base models\n",
    "base_models = [\n",
    "    ('lr', logreg_pipeline),\n",
    "    ('rf', RandomForestClassifier(random_state=RANDOM_STATE)),\n",
    "    ('xgb', XGBClassifier(use_label_encoder=False, eval_metric='logloss', random_state=RANDOM_STATE))\n",
    "]\n",
    "\n",
    "# Meta-model (final estimator)\n",
    "final_estimator = LogisticRegression(max_iter=2000, random_state=RANDOM_STATE)\n",
    "\n",
    "# Build StackingClassifier\n",
    "stacking_model = StackingClassifier(\n",
    "    estimators=base_models,\n",
    "    final_estimator=final_estimator,\n",
    "    passthrough=True,  # Optional: pass original features to final estimator\n",
    "    cv=5,\n",
    "    n_jobs=-1\n",
    ")\n",
    "\n",
    "# Fit on training data\n",
    "stacking_model.fit(X_train, y_train)\n",
    "\n",
    "# Evaluate\n",
    "preds = stacking_model.predict(X_valid)\n",
    "probs = stacking_model.predict_proba(X_valid)[:, 1]\n",
    "\n",
    "acc = accuracy_score(y_valid, preds)\n",
    "auc = roc_auc_score(y_valid, probs)\n",
    "\n",
    "print(f\"📊 Stacking Model Results:\")\n",
    "print(f\"Accuracy: {round(acc, 4)}\")\n",
    "print(f\"ROC AUC : {round(auc, 4)}\")\n"
   ]
  },
  {
   "cell_type": "code",
   "execution_count": 45,
   "id": "2bc97ffe",
   "metadata": {
    "execution": {
     "iopub.execute_input": "2025-06-25T21:52:49.776453Z",
     "iopub.status.busy": "2025-06-25T21:52:49.776127Z",
     "iopub.status.idle": "2025-06-25T21:52:49.783778Z",
     "shell.execute_reply": "2025-06-25T21:52:49.783226Z"
    },
    "papermill": {
     "duration": 0.036365,
     "end_time": "2025-06-25T21:52:49.785138",
     "exception": false,
     "start_time": "2025-06-25T21:52:49.748773",
     "status": "completed"
    },
    "tags": []
   },
   "outputs": [],
   "source": [
    "# All features except Survived and PassengerId\n",
    "X_full = df.drop(columns=['Survived', 'PassengerId'], errors='ignore').iloc[:train_len]\n",
    "y_full = df.loc[:train_len-1, 'Survived']\n",
    "\n",
    "# Test set\n",
    "X_test = df.drop(columns=['Survived', 'PassengerId'], errors='ignore').iloc[train_len:]\n"
   ]
  },
  {
   "cell_type": "code",
   "execution_count": 46,
   "id": "f5c85e02",
   "metadata": {
    "execution": {
     "iopub.execute_input": "2025-06-25T21:52:49.834896Z",
     "iopub.status.busy": "2025-06-25T21:52:49.834039Z",
     "iopub.status.idle": "2025-06-25T21:52:51.828966Z",
     "shell.execute_reply": "2025-06-25T21:52:51.827165Z"
    },
    "papermill": {
     "duration": 2.021995,
     "end_time": "2025-06-25T21:52:51.830682",
     "exception": false,
     "start_time": "2025-06-25T21:52:49.808687",
     "status": "completed"
    },
    "tags": []
   },
   "outputs": [
    {
     "name": "stdout",
     "output_type": "stream",
     "text": [
      "✅ 'submission.csv' (using full features) is ready!\n"
     ]
    }
   ],
   "source": [
    "# Retrain model\n",
    "stacking_model.fit(X_full, y_full)\n",
    "\n",
    "# Predict and submit\n",
    "test_preds = stacking_model.predict(X_test)\n",
    "\n",
    "submission = pd.DataFrame({\n",
    "    'PassengerId': test_data['PassengerId'],\n",
    "    'Survived': test_preds\n",
    "})\n",
    "\n",
    "submission.to_csv('submission.csv', index=False)\n",
    "print(\"✅ 'submission.csv' (using full features) is ready!\")\n"
   ]
  },
  {
   "cell_type": "code",
   "execution_count": 47,
   "id": "ae3affec",
   "metadata": {
    "execution": {
     "iopub.execute_input": "2025-06-25T21:52:51.884620Z",
     "iopub.status.busy": "2025-06-25T21:52:51.883817Z",
     "iopub.status.idle": "2025-06-25T21:52:51.891065Z",
     "shell.execute_reply": "2025-06-25T21:52:51.889630Z"
    },
    "papermill": {
     "duration": 0.03605,
     "end_time": "2025-06-25T21:52:51.892905",
     "exception": false,
     "start_time": "2025-06-25T21:52:51.856855",
     "status": "completed"
    },
    "tags": []
   },
   "outputs": [
    {
     "name": "stdout",
     "output_type": "stream",
     "text": [
      "0\n"
     ]
    }
   ],
   "source": [
    "print(y_full.isnull().sum())  # should be 0\n"
   ]
  },
  {
   "cell_type": "code",
   "execution_count": 48,
   "id": "9380ad26",
   "metadata": {
    "execution": {
     "iopub.execute_input": "2025-06-25T21:52:51.930703Z",
     "iopub.status.busy": "2025-06-25T21:52:51.930034Z",
     "iopub.status.idle": "2025-06-25T21:52:51.934970Z",
     "shell.execute_reply": "2025-06-25T21:52:51.934062Z"
    },
    "papermill": {
     "duration": 0.0228,
     "end_time": "2025-06-25T21:52:51.936395",
     "exception": false,
     "start_time": "2025-06-25T21:52:51.913595",
     "status": "completed"
    },
    "tags": []
   },
   "outputs": [
    {
     "name": "stdout",
     "output_type": "stream",
     "text": [
      "True\n"
     ]
    }
   ],
   "source": [
    "print(X_full.columns.equals(X_test.columns))  # should be True\n"
   ]
  },
  {
   "cell_type": "code",
   "execution_count": 49,
   "id": "57b228c2",
   "metadata": {
    "execution": {
     "iopub.execute_input": "2025-06-25T21:52:51.968936Z",
     "iopub.status.busy": "2025-06-25T21:52:51.968626Z",
     "iopub.status.idle": "2025-06-25T21:52:51.990771Z",
     "shell.execute_reply": "2025-06-25T21:52:51.989932Z"
    },
    "papermill": {
     "duration": 0.039661,
     "end_time": "2025-06-25T21:52:51.992023",
     "exception": false,
     "start_time": "2025-06-25T21:52:51.952362",
     "status": "completed"
    },
    "tags": []
   },
   "outputs": [
    {
     "name": "stdout",
     "output_type": "stream",
     "text": [
      "[0. 1. 1. 1. 0.]\n"
     ]
    }
   ],
   "source": [
    "# Sanity check\n",
    "print(stacking_model.predict(X_full[:5]))  # should output [0, 1, ...]\n"
   ]
  },
  {
   "cell_type": "code",
   "execution_count": 50,
   "id": "ff7ae54a",
   "metadata": {
    "execution": {
     "iopub.execute_input": "2025-06-25T21:52:52.025305Z",
     "iopub.status.busy": "2025-06-25T21:52:52.024505Z",
     "iopub.status.idle": "2025-06-25T21:52:52.031226Z",
     "shell.execute_reply": "2025-06-25T21:52:52.030588Z"
    },
    "papermill": {
     "duration": 0.024652,
     "end_time": "2025-06-25T21:52:52.032453",
     "exception": false,
     "start_time": "2025-06-25T21:52:52.007801",
     "status": "completed"
    },
    "tags": []
   },
   "outputs": [],
   "source": [
    "# Start from full df\n",
    "X_all = df.drop(columns=['Survived', 'PassengerId'], errors='ignore')\n",
    "X_full = X_all.iloc[:train_len]\n",
    "X_test = X_all.iloc[train_len:]\n",
    "\n",
    "# Optional: if you dropped features before, do it here\n",
    "# X_full = X_full.drop(columns=features_to_drop, errors='ignore')\n",
    "# X_test = X_test.drop(columns=features_to_drop, errors='ignore')\n",
    "\n",
    "# Make sure columns match exactly\n",
    "X_test = X_test[X_full.columns]\n"
   ]
  },
  {
   "cell_type": "code",
   "execution_count": 51,
   "id": "35097a7e",
   "metadata": {
    "execution": {
     "iopub.execute_input": "2025-06-25T21:52:52.064859Z",
     "iopub.status.busy": "2025-06-25T21:52:52.064568Z",
     "iopub.status.idle": "2025-06-25T21:52:54.014919Z",
     "shell.execute_reply": "2025-06-25T21:52:54.014193Z"
    },
    "papermill": {
     "duration": 1.968892,
     "end_time": "2025-06-25T21:52:54.016928",
     "exception": false,
     "start_time": "2025-06-25T21:52:52.048036",
     "status": "completed"
    },
    "tags": []
   },
   "outputs": [],
   "source": [
    "stacking_model.fit(X_full, y_full)\n",
    "test_preds = stacking_model.predict(X_test)\n",
    "\n",
    "submission = pd.DataFrame({\n",
    "    'PassengerId': test_data['PassengerId'],\n",
    "    'Survived': test_preds.astype(int)  # just to ensure it's int, not float\n",
    "})\n",
    "\n",
    "submission.to_csv('submission.csv', index=False)\n"
   ]
  },
  {
   "cell_type": "code",
   "execution_count": 52,
   "id": "fcb1d444",
   "metadata": {
    "execution": {
     "iopub.execute_input": "2025-06-25T21:52:54.071184Z",
     "iopub.status.busy": "2025-06-25T21:52:54.070822Z",
     "iopub.status.idle": "2025-06-25T21:52:54.083360Z",
     "shell.execute_reply": "2025-06-25T21:52:54.082651Z"
    },
    "papermill": {
     "duration": 0.041607,
     "end_time": "2025-06-25T21:52:54.085043",
     "exception": false,
     "start_time": "2025-06-25T21:52:54.043436",
     "status": "completed"
    },
    "tags": []
   },
   "outputs": [
    {
     "name": "stdout",
     "output_type": "stream",
     "text": [
      "   PassengerId  Survived\n",
      "0          892         0\n",
      "1          893         0\n",
      "2          894         0\n",
      "3          895         0\n",
      "4          896         1\n",
      "(418, 2)\n",
      "Survived\n",
      "0    266\n",
      "1    152\n",
      "Name: count, dtype: int64\n"
     ]
    }
   ],
   "source": [
    "print(submission.head())\n",
    "print(submission.shape)  # should be (418, 2)\n",
    "print(submission['Survived'].value_counts())  # check 0s and 1s\n"
   ]
  },
  {
   "cell_type": "code",
   "execution_count": 53,
   "id": "66ead436",
   "metadata": {
    "execution": {
     "iopub.execute_input": "2025-06-25T21:52:54.124074Z",
     "iopub.status.busy": "2025-06-25T21:52:54.123170Z",
     "iopub.status.idle": "2025-06-25T21:52:54.174345Z",
     "shell.execute_reply": "2025-06-25T21:52:54.173260Z"
    },
    "papermill": {
     "duration": 0.069354,
     "end_time": "2025-06-25T21:52:54.175685",
     "exception": false,
     "start_time": "2025-06-25T21:52:54.106331",
     "status": "completed"
    },
    "tags": []
   },
   "outputs": [
    {
     "name": "stdout",
     "output_type": "stream",
     "text": [
      "📊 Feature Scores:\n",
      "                Feature       Score\n",
      "26            Title_Mr  317.016763\n",
      "1                  Sex  306.593249\n",
      "9             Fare_log  102.442025\n",
      "22              Deck_U   99.462219\n",
      "6             HasCabin   99.462219\n",
      "0               Pclass   97.835853\n",
      "27           Title_Mrs   97.430906\n",
      "23          Title_Miss   84.265009\n",
      "7           CabinClass   74.689720\n",
      "13   FamilyGroup_Small   67.461461\n",
      "5                 Fare   58.314907\n",
      "14    FamilyGroup_Solo   34.601859\n",
      "11          Embarked_S   23.546389\n",
      "17              Deck_D   21.097573\n",
      "15              Deck_B   19.149438\n",
      "18              Deck_E   18.416236\n",
      "16              Deck_C   16.851283\n",
      "12  FamilyGroup_Medium    8.360211\n",
      "32   AgeBin_YoungAdult    6.553140\n",
      "19              Deck_F    5.615841\n",
      "4                Parch    5.066904\n",
      "24          Title_Mlle    3.230752\n",
      "2                  Age    3.192070\n",
      "34       AgeBin_Senior    2.660201\n",
      "28            Title_Ms    1.609437\n",
      "33        AgeBin_Adult    1.080503\n",
      "10          Embarked_Q    0.705233\n",
      "21              Deck_T    0.621537\n",
      "8           FamilySize    0.516703\n",
      "3                SibSp    0.484537\n",
      "31         AgeBin_Teen    0.242300\n",
      "20              Deck_G    0.230651\n",
      "29          Title_Rare    0.002324\n",
      "25           Title_Mme         NaN\n",
      "30  Title_the_Countess         NaN\n"
     ]
    },
    {
     "name": "stderr",
     "output_type": "stream",
     "text": [
      "/usr/local/lib/python3.11/dist-packages/sklearn/feature_selection/_univariate_selection.py:112: UserWarning: Features [25 30] are constant.\n",
      "  warnings.warn(\"Features %s are constant.\" % constant_features_idx, UserWarning)\n",
      "/usr/local/lib/python3.11/dist-packages/sklearn/feature_selection/_univariate_selection.py:113: RuntimeWarning: invalid value encountered in divide\n",
      "  f = msb / msw\n",
      "/usr/local/lib/python3.11/dist-packages/pandas/io/formats/format.py:1458: RuntimeWarning: invalid value encountered in greater\n",
      "  has_large_values = (abs_vals > 1e6).any()\n",
      "/usr/local/lib/python3.11/dist-packages/pandas/io/formats/format.py:1459: RuntimeWarning: invalid value encountered in less\n",
      "  has_small_values = ((abs_vals < 10 ** (-self.digits)) & (abs_vals > 0)).any()\n",
      "/usr/local/lib/python3.11/dist-packages/pandas/io/formats/format.py:1459: RuntimeWarning: invalid value encountered in greater\n",
      "  has_small_values = ((abs_vals < 10 ** (-self.digits)) & (abs_vals > 0)).any()\n"
     ]
    }
   ],
   "source": [
    "from sklearn.feature_selection import SelectKBest, f_classif, mutual_info_classif\n",
    "\n",
    "# Method 1: ANOVA F-test (good for linear models)\n",
    "selector = SelectKBest(score_func=f_classif, k='all')  # Start with all to inspect scores\n",
    "selector.fit(X_train, y_train)\n",
    "\n",
    "feature_scores = pd.DataFrame({\n",
    "    'Feature': X_train.columns,\n",
    "    'Score': selector.scores_\n",
    "}).sort_values(by='Score', ascending=False)\n",
    "\n",
    "print(\"📊 Feature Scores:\\n\", feature_scores)\n"
   ]
  },
  {
   "cell_type": "code",
   "execution_count": 54,
   "id": "04564547",
   "metadata": {
    "execution": {
     "iopub.execute_input": "2025-06-25T21:52:54.209442Z",
     "iopub.status.busy": "2025-06-25T21:52:54.208852Z",
     "iopub.status.idle": "2025-06-25T21:52:56.051731Z",
     "shell.execute_reply": "2025-06-25T21:52:56.050913Z"
    },
    "papermill": {
     "duration": 1.861957,
     "end_time": "2025-06-25T21:52:56.053770",
     "exception": false,
     "start_time": "2025-06-25T21:52:54.191813",
     "status": "completed"
    },
    "tags": []
   },
   "outputs": [
    {
     "name": "stdout",
     "output_type": "stream",
     "text": [
      "🔍 Accuracy: 0.8492\n",
      "🔍 ROC AUC : 0.8643\n"
     ]
    }
   ],
   "source": [
    "from sklearn.ensemble import StackingClassifier\n",
    "from sklearn.linear_model import LogisticRegression\n",
    "from sklearn.ensemble import RandomForestClassifier\n",
    "from xgboost import XGBClassifier\n",
    "from sklearn.preprocessing import StandardScaler\n",
    "from sklearn.pipeline import Pipeline\n",
    "from sklearn.metrics import accuracy_score, roc_auc_score\n",
    "import pandas as pd\n",
    "\n",
    "# 🔹 Step 1: Drop weak/noisy features\n",
    "features_to_drop = [\n",
    "    'Title_Rare', 'Title_Mme', 'Title_the_Countess',\n",
    "    'Deck_G', 'Deck_T', 'Embarked_Q', 'AgeBin_Teen', 'AgeBin_Adult'\n",
    "]\n",
    "\n",
    "X_train_pruned = X_train.drop(columns=features_to_drop, errors='ignore')\n",
    "X_valid_pruned = X_valid.drop(columns=features_to_drop, errors='ignore')\n",
    "\n",
    "# 🔹 Step 2: Define base models with scaling for Logistic Regression\n",
    "logreg_pipeline = Pipeline([\n",
    "    ('scaler', StandardScaler()),\n",
    "    ('logreg', LogisticRegression(max_iter=2000, random_state=42))\n",
    "])\n",
    "\n",
    "base_models = [\n",
    "    ('lr', logreg_pipeline),\n",
    "    ('rf', RandomForestClassifier(random_state=42)),\n",
    "    ('xgb', XGBClassifier(use_label_encoder=False, eval_metric='logloss', random_state=42))\n",
    "]\n",
    "\n",
    "# 🔹 Step 3: Define final estimator and stack\n",
    "stack_model = StackingClassifier(\n",
    "    estimators=base_models,\n",
    "    final_estimator=LogisticRegression(max_iter=2000, random_state=42),\n",
    "    passthrough=True,\n",
    "    cv=5,\n",
    "    n_jobs=-1\n",
    ")\n",
    "\n",
    "# 🔹 Step 4: Train the stacking model\n",
    "stack_model.fit(X_train_pruned, y_train)\n",
    "\n",
    "# 🔹 Step 5: Predict and evaluate\n",
    "preds = stack_model.predict(X_valid_pruned)\n",
    "probs = stack_model.predict_proba(X_valid_pruned)[:, 1]\n",
    "\n",
    "print(\"🔍 Accuracy:\", round(accuracy_score(y_valid, preds), 4))\n",
    "print(\"🔍 ROC AUC :\", round(roc_auc_score(y_valid, probs), 4))\n"
   ]
  },
  {
   "cell_type": "code",
   "execution_count": 55,
   "id": "d6bed42e",
   "metadata": {
    "execution": {
     "iopub.execute_input": "2025-06-25T21:52:56.108686Z",
     "iopub.status.busy": "2025-06-25T21:52:56.108364Z",
     "iopub.status.idle": "2025-06-25T21:53:13.401843Z",
     "shell.execute_reply": "2025-06-25T21:53:13.400671Z"
    },
    "papermill": {
     "duration": 17.322807,
     "end_time": "2025-06-25T21:53:13.403318",
     "exception": false,
     "start_time": "2025-06-25T21:52:56.080511",
     "status": "completed"
    },
    "tags": []
   },
   "outputs": [
    {
     "name": "stdout",
     "output_type": "stream",
     "text": [
      "Fitting 5 folds for each of 30 candidates, totalling 150 fits\n",
      "✅ Best Random Forest Params: {'n_estimators': 100, 'min_samples_split': 10, 'min_samples_leaf': 4, 'max_depth': 20, 'bootstrap': False}\n"
     ]
    }
   ],
   "source": [
    "from sklearn.model_selection import RandomizedSearchCV\n",
    "from sklearn.ensemble import RandomForestClassifier\n",
    "import numpy as np\n",
    "\n",
    "# Parameter grid\n",
    "rf_param_grid = {\n",
    "    'n_estimators': [100, 200, 300],\n",
    "    'max_depth': [None, 5, 10, 20],\n",
    "    'min_samples_split': [2, 5, 10],\n",
    "    'min_samples_leaf': [1, 2, 4],\n",
    "    'bootstrap': [True, False]\n",
    "}\n",
    "\n",
    "# Randomized search\n",
    "rf_search = RandomizedSearchCV(\n",
    "    estimator=RandomForestClassifier(random_state=42),\n",
    "    param_distributions=rf_param_grid,\n",
    "    n_iter=30,  # number of models to try\n",
    "    scoring='roc_auc',\n",
    "    cv=5,\n",
    "    n_jobs=-1,\n",
    "    random_state=42,\n",
    "    verbose=1\n",
    ")\n",
    "\n",
    "rf_search.fit(X_train_pruned, y_train)\n",
    "best_rf = rf_search.best_estimator_\n",
    "\n",
    "print(\"✅ Best Random Forest Params:\", rf_search.best_params_)\n"
   ]
  },
  {
   "cell_type": "code",
   "execution_count": 56,
   "id": "1851becf",
   "metadata": {
    "execution": {
     "iopub.execute_input": "2025-06-25T21:53:13.436404Z",
     "iopub.status.busy": "2025-06-25T21:53:13.436048Z",
     "iopub.status.idle": "2025-06-25T21:53:20.149584Z",
     "shell.execute_reply": "2025-06-25T21:53:20.148641Z"
    },
    "papermill": {
     "duration": 6.731599,
     "end_time": "2025-06-25T21:53:20.151124",
     "exception": false,
     "start_time": "2025-06-25T21:53:13.419525",
     "status": "completed"
    },
    "tags": []
   },
   "outputs": [
    {
     "name": "stdout",
     "output_type": "stream",
     "text": [
      "Fitting 5 folds for each of 30 candidates, totalling 150 fits\n",
      "✅ Best XGBoost Params: {'subsample': 0.7, 'n_estimators': 100, 'max_depth': 3, 'learning_rate': 0.1, 'colsample_bytree': 0.7}\n"
     ]
    }
   ],
   "source": [
    "from xgboost import XGBClassifier\n",
    "\n",
    "# Parameter grid\n",
    "xgb_param_grid = {\n",
    "    'n_estimators': [100, 200, 300],\n",
    "    'max_depth': [3, 5, 7, 10],\n",
    "    'learning_rate': [0.01, 0.05, 0.1, 0.2],\n",
    "    'subsample': [0.7, 0.8, 1.0],\n",
    "    'colsample_bytree': [0.7, 0.8, 1.0],\n",
    "}\n",
    "\n",
    "xgb_search = RandomizedSearchCV(\n",
    "    estimator=XGBClassifier(use_label_encoder=False, eval_metric='logloss', random_state=42),\n",
    "    param_distributions=xgb_param_grid,\n",
    "    n_iter=30,\n",
    "    scoring='roc_auc',\n",
    "    cv=5,\n",
    "    n_jobs=-1,\n",
    "    random_state=42,\n",
    "    verbose=1\n",
    ")\n",
    "\n",
    "xgb_search.fit(X_train_pruned, y_train)\n",
    "best_xgb = xgb_search.best_estimator_\n",
    "\n",
    "print(\"✅ Best XGBoost Params:\", xgb_search.best_params_)\n"
   ]
  },
  {
   "cell_type": "code",
   "execution_count": 57,
   "id": "1880954e",
   "metadata": {
    "execution": {
     "iopub.execute_input": "2025-06-25T21:53:20.185801Z",
     "iopub.status.busy": "2025-06-25T21:53:20.185490Z",
     "iopub.status.idle": "2025-06-25T21:53:21.648429Z",
     "shell.execute_reply": "2025-06-25T21:53:21.646586Z"
    },
    "papermill": {
     "duration": 1.482558,
     "end_time": "2025-06-25T21:53:21.650432",
     "exception": false,
     "start_time": "2025-06-25T21:53:20.167874",
     "status": "completed"
    },
    "tags": []
   },
   "outputs": [
    {
     "name": "stdout",
     "output_type": "stream",
     "text": [
      "📊 Tuned Stacking Accuracy: 0.8268\n",
      "📊 Tuned Stacking ROC AUC : 0.8552\n"
     ]
    }
   ],
   "source": [
    "from sklearn.pipeline import Pipeline\n",
    "from sklearn.linear_model import LogisticRegression\n",
    "from sklearn.ensemble import StackingClassifier\n",
    "from sklearn.preprocessing import StandardScaler\n",
    "\n",
    "logreg_pipeline = Pipeline([\n",
    "    ('scaler', StandardScaler()),\n",
    "    ('logreg', LogisticRegression(max_iter=2000, random_state=42))\n",
    "])\n",
    "\n",
    "# Stacking\n",
    "stack_model_tuned = StackingClassifier(\n",
    "    estimators=[\n",
    "        ('lr', logreg_pipeline),\n",
    "        ('rf', best_rf),\n",
    "        ('xgb', best_xgb)\n",
    "    ],\n",
    "    final_estimator=LogisticRegression(max_iter=2000, random_state=42),\n",
    "    passthrough=True,\n",
    "    cv=5,\n",
    "    n_jobs=-1\n",
    ")\n",
    "\n",
    "# Train on pruned features\n",
    "stack_model_tuned.fit(X_train_pruned, y_train)\n",
    "\n",
    "# Evaluate\n",
    "preds = stack_model_tuned.predict(X_valid_pruned)\n",
    "probs = stack_model_tuned.predict_proba(X_valid_pruned)[:, 1]\n",
    "\n",
    "from sklearn.metrics import accuracy_score, roc_auc_score\n",
    "print(\"📊 Tuned Stacking Accuracy:\", round(accuracy_score(y_valid, preds), 4))\n",
    "print(\"📊 Tuned Stacking ROC AUC :\", round(roc_auc_score(y_valid, probs), 4))\n"
   ]
  }
 ],
 "metadata": {
  "kaggle": {
   "accelerator": "none",
   "dataSources": [
    {
     "datasetId": 7741954,
     "sourceId": 12284545,
     "sourceType": "datasetVersion"
    },
    {
     "datasetId": 7742507,
     "sourceId": 12285401,
     "sourceType": "datasetVersion"
    }
   ],
   "dockerImageVersionId": 31040,
   "isGpuEnabled": false,
   "isInternetEnabled": true,
   "language": "python",
   "sourceType": "notebook"
  },
  "kernelspec": {
   "display_name": "Python 3",
   "language": "python",
   "name": "python3"
  },
  "language_info": {
   "codemirror_mode": {
    "name": "ipython",
    "version": 3
   },
   "file_extension": ".py",
   "mimetype": "text/x-python",
   "name": "python",
   "nbconvert_exporter": "python",
   "pygments_lexer": "ipython3",
   "version": "3.11.11"
  },
  "papermill": {
   "default_parameters": {},
   "duration": 62.216224,
   "end_time": "2025-06-25T21:53:24.298453",
   "environment_variables": {},
   "exception": null,
   "input_path": "__notebook__.ipynb",
   "output_path": "__notebook__.ipynb",
   "parameters": {},
   "start_time": "2025-06-25T21:52:22.082229",
   "version": "2.6.0"
  }
 },
 "nbformat": 4,
 "nbformat_minor": 5
}
