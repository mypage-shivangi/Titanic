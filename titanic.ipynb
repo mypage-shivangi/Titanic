{
 "cells": [
  {
   "cell_type": "markdown",
   "id": "fffec22c",
   "metadata": {
    "papermill": {
     "duration": 0.010443,
     "end_time": "2025-07-29T20:42:27.370844",
     "exception": false,
     "start_time": "2025-07-29T20:42:27.360401",
     "status": "completed"
    },
    "tags": []
   },
   "source": [
    "# Survival Prediction – Binary Classification (Titanic Dataset)"
   ]
  },
  {
   "cell_type": "code",
   "execution_count": 1,
   "id": "5ca28c0a",
   "metadata": {
    "_cell_guid": "b1076dfc-b9ad-4769-8c92-a6c4dae69d19",
    "_uuid": "8f2839f25d086af736a60e9eeb907d3b93b6e0e5",
    "execution": {
     "iopub.execute_input": "2025-07-29T20:42:27.390681Z",
     "iopub.status.busy": "2025-07-29T20:42:27.390368Z",
     "iopub.status.idle": "2025-07-29T20:42:29.301229Z",
     "shell.execute_reply": "2025-07-29T20:42:29.300477Z"
    },
    "papermill": {
     "duration": 1.922692,
     "end_time": "2025-07-29T20:42:29.302788",
     "exception": false,
     "start_time": "2025-07-29T20:42:27.380096",
     "status": "completed"
    },
    "tags": []
   },
   "outputs": [
    {
     "name": "stdout",
     "output_type": "stream",
     "text": [
      "/kaggle/input/testtc/test.csv\n",
      "/kaggle/input/traintc/train.csv\n"
     ]
    }
   ],
   "source": [
    "# This Python 3 environment comes with many helpful analytics libraries installed\n",
    "# It is defined by the kaggle/python Docker image: https://github.com/kaggle/docker-python\n",
    "# For example, here's several helpful packages to load\n",
    "\n",
    "import numpy as np # linear algebra\n",
    "import pandas as pd # data processing, CSV file I/O (e.g. pd.read_csv)\n",
    "\n",
    "# Input data files are available in the read-only \"../input/\" directory\n",
    "# For example, running this (by clicking run or pressing Shift+Enter) will list all files under the input directory\n",
    "\n",
    "import os\n",
    "for dirname, _, filenames in os.walk('/kaggle/input'):\n",
    "    for filename in filenames:\n",
    "        print(os.path.join(dirname, filename))\n",
    "\n",
    "# You can write up to 20GB to the current directory (/kaggle/working/) that gets preserved as output when you create a version using \"Save & Run All\" \n",
    "# You can also write temporary files to /kaggle/temp/, but they won't be saved outside of the current session"
   ]
  },
  {
   "cell_type": "code",
   "execution_count": 2,
   "id": "83bf914d",
   "metadata": {
    "execution": {
     "iopub.execute_input": "2025-07-29T20:42:29.323719Z",
     "iopub.status.busy": "2025-07-29T20:42:29.322752Z",
     "iopub.status.idle": "2025-07-29T20:42:29.366149Z",
     "shell.execute_reply": "2025-07-29T20:42:29.365420Z"
    },
    "papermill": {
     "duration": 0.05539,
     "end_time": "2025-07-29T20:42:29.367793",
     "exception": false,
     "start_time": "2025-07-29T20:42:29.312403",
     "status": "completed"
    },
    "tags": []
   },
   "outputs": [],
   "source": [
    "# Read training and testing data\n",
    "df = pd.read_csv(\"/kaggle/input/traintc/train.csv\")\n",
    "test_data = pd.read_csv(\"/kaggle/input/testtc/test.csv\")\n",
    "\n",
    "# Combine for preprocessing (if you already have clean df, use that)\n",
    "test_data['Survived'] = np.nan\n",
    "combined = pd.concat([df, test_data], sort=False)"
   ]
  },
  {
   "cell_type": "code",
   "execution_count": 3,
   "id": "8fd30ed7",
   "metadata": {
    "execution": {
     "iopub.execute_input": "2025-07-29T20:42:29.388125Z",
     "iopub.status.busy": "2025-07-29T20:42:29.387813Z",
     "iopub.status.idle": "2025-07-29T20:42:29.400567Z",
     "shell.execute_reply": "2025-07-29T20:42:29.399451Z"
    },
    "papermill": {
     "duration": 0.024807,
     "end_time": "2025-07-29T20:42:29.402216",
     "exception": false,
     "start_time": "2025-07-29T20:42:29.377409",
     "status": "completed"
    },
    "tags": []
   },
   "outputs": [
    {
     "name": "stdout",
     "output_type": "stream",
     "text": [
      "   PassengerId  Survived  Pclass  \\\n",
      "0            1         0       3   \n",
      "1            2         1       1   \n",
      "2            3         1       3   \n",
      "3            4         1       1   \n",
      "4            5         0       3   \n",
      "\n",
      "                                                Name     Sex   Age  SibSp  \\\n",
      "0                            Braund, Mr. Owen Harris    male  22.0      1   \n",
      "1  Cumings, Mrs. John Bradley (Florence Briggs Th...  female  38.0      1   \n",
      "2                             Heikkinen, Miss. Laina  female  26.0      0   \n",
      "3       Futrelle, Mrs. Jacques Heath (Lily May Peel)  female  35.0      1   \n",
      "4                           Allen, Mr. William Henry    male  35.0      0   \n",
      "\n",
      "   Parch            Ticket     Fare Cabin Embarked  \n",
      "0      0         A/5 21171   7.2500   NaN        S  \n",
      "1      0          PC 17599  71.2833   C85        C  \n",
      "2      0  STON/O2. 3101282   7.9250   NaN        S  \n",
      "3      0            113803  53.1000  C123        S  \n",
      "4      0            373450   8.0500   NaN        S  \n"
     ]
    }
   ],
   "source": [
    "print(df.head())"
   ]
  },
  {
   "cell_type": "code",
   "execution_count": 4,
   "id": "3796d1fa",
   "metadata": {
    "execution": {
     "iopub.execute_input": "2025-07-29T20:42:29.424120Z",
     "iopub.status.busy": "2025-07-29T20:42:29.423763Z",
     "iopub.status.idle": "2025-07-29T20:42:29.431107Z",
     "shell.execute_reply": "2025-07-29T20:42:29.430437Z"
    },
    "papermill": {
     "duration": 0.020119,
     "end_time": "2025-07-29T20:42:29.432661",
     "exception": false,
     "start_time": "2025-07-29T20:42:29.412542",
     "status": "completed"
    },
    "tags": []
   },
   "outputs": [],
   "source": [
    "test_df = pd.read_csv(\"/kaggle/input/testtc/test.csv\")"
   ]
  },
  {
   "cell_type": "code",
   "execution_count": 5,
   "id": "1722d4b4",
   "metadata": {
    "execution": {
     "iopub.execute_input": "2025-07-29T20:42:29.453191Z",
     "iopub.status.busy": "2025-07-29T20:42:29.452852Z",
     "iopub.status.idle": "2025-07-29T20:42:29.461508Z",
     "shell.execute_reply": "2025-07-29T20:42:29.460363Z"
    },
    "papermill": {
     "duration": 0.020715,
     "end_time": "2025-07-29T20:42:29.462919",
     "exception": false,
     "start_time": "2025-07-29T20:42:29.442204",
     "status": "completed"
    },
    "tags": []
   },
   "outputs": [
    {
     "name": "stdout",
     "output_type": "stream",
     "text": [
      "   PassengerId  Pclass                                          Name     Sex  \\\n",
      "0          892       3                              Kelly, Mr. James    male   \n",
      "1          893       3              Wilkes, Mrs. James (Ellen Needs)  female   \n",
      "2          894       2                     Myles, Mr. Thomas Francis    male   \n",
      "3          895       3                              Wirz, Mr. Albert    male   \n",
      "4          896       3  Hirvonen, Mrs. Alexander (Helga E Lindqvist)  female   \n",
      "\n",
      "    Age  SibSp  Parch   Ticket     Fare Cabin Embarked  \n",
      "0  34.5      0      0   330911   7.8292   NaN        Q  \n",
      "1  47.0      1      0   363272   7.0000   NaN        S  \n",
      "2  62.0      0      0   240276   9.6875   NaN        Q  \n",
      "3  27.0      0      0   315154   8.6625   NaN        S  \n",
      "4  22.0      1      1  3101298  12.2875   NaN        S  \n"
     ]
    }
   ],
   "source": [
    "print(test_df.head())"
   ]
  },
  {
   "cell_type": "markdown",
   "id": "211d8a30",
   "metadata": {
    "papermill": {
     "duration": 0.009149,
     "end_time": "2025-07-29T20:42:29.481823",
     "exception": false,
     "start_time": "2025-07-29T20:42:29.472674",
     "status": "completed"
    },
    "tags": []
   },
   "source": [
    "## Feature Engineering\n",
    "- Title extraction from Name\n",
    "- Encoding of Sex and Embarked\n",
    "- Family size\n",
    "- Family group\n",
    "- Fare_log\n",
    "- Embarked\n",
    "- Deck\n",
    "- Has Cabin\n",
    "- Cabin by Class\n",
    "- Survival Rate by Family Size"
   ]
  },
  {
   "cell_type": "code",
   "execution_count": 6,
   "id": "3014d8ac",
   "metadata": {
    "execution": {
     "iopub.execute_input": "2025-07-29T20:42:29.501706Z",
     "iopub.status.busy": "2025-07-29T20:42:29.501406Z",
     "iopub.status.idle": "2025-07-29T20:42:29.507027Z",
     "shell.execute_reply": "2025-07-29T20:42:29.506191Z"
    },
    "papermill": {
     "duration": 0.017448,
     "end_time": "2025-07-29T20:42:29.508570",
     "exception": false,
     "start_time": "2025-07-29T20:42:29.491122",
     "status": "completed"
    },
    "tags": []
   },
   "outputs": [],
   "source": [
    "df['HasCabin'] = df['Cabin'].notnull().astype(int)\n"
   ]
  },
  {
   "cell_type": "code",
   "execution_count": 7,
   "id": "8810da32",
   "metadata": {
    "execution": {
     "iopub.execute_input": "2025-07-29T20:42:29.529350Z",
     "iopub.status.busy": "2025-07-29T20:42:29.528711Z",
     "iopub.status.idle": "2025-07-29T20:42:29.534232Z",
     "shell.execute_reply": "2025-07-29T20:42:29.533333Z"
    },
    "papermill": {
     "duration": 0.017,
     "end_time": "2025-07-29T20:42:29.535568",
     "exception": false,
     "start_time": "2025-07-29T20:42:29.518568",
     "status": "completed"
    },
    "tags": []
   },
   "outputs": [],
   "source": [
    "test_df['HasCabin'] = test_df['Cabin'].notnull().astype(int)\n"
   ]
  },
  {
   "cell_type": "code",
   "execution_count": 8,
   "id": "8deaded1",
   "metadata": {
    "execution": {
     "iopub.execute_input": "2025-07-29T20:42:29.556143Z",
     "iopub.status.busy": "2025-07-29T20:42:29.555831Z",
     "iopub.status.idle": "2025-07-29T20:42:29.566333Z",
     "shell.execute_reply": "2025-07-29T20:42:29.565501Z"
    },
    "papermill": {
     "duration": 0.022428,
     "end_time": "2025-07-29T20:42:29.567678",
     "exception": false,
     "start_time": "2025-07-29T20:42:29.545250",
     "status": "completed"
    },
    "tags": []
   },
   "outputs": [
    {
     "name": "stdout",
     "output_type": "stream",
     "text": [
      "Pclass\n",
      "1    0.814815\n",
      "2    0.086957\n",
      "3    0.024440\n",
      "Name: HasCabin, dtype: float64\n"
     ]
    }
   ],
   "source": [
    "cabin_by_class = df.groupby('Pclass')['HasCabin'].mean()\n",
    "print(cabin_by_class)\n"
   ]
  },
  {
   "cell_type": "code",
   "execution_count": 9,
   "id": "9f684625",
   "metadata": {
    "execution": {
     "iopub.execute_input": "2025-07-29T20:42:29.588234Z",
     "iopub.status.busy": "2025-07-29T20:42:29.587394Z",
     "iopub.status.idle": "2025-07-29T20:42:29.594723Z",
     "shell.execute_reply": "2025-07-29T20:42:29.593784Z"
    },
    "papermill": {
     "duration": 0.018982,
     "end_time": "2025-07-29T20:42:29.596114",
     "exception": false,
     "start_time": "2025-07-29T20:42:29.577132",
     "status": "completed"
    },
    "tags": []
   },
   "outputs": [
    {
     "name": "stdout",
     "output_type": "stream",
     "text": [
      "Pclass\n",
      "1    0.747664\n",
      "2    0.075269\n",
      "3    0.018349\n",
      "Name: HasCabin, dtype: float64\n"
     ]
    }
   ],
   "source": [
    "cabin_by_class = test_df.groupby('Pclass')['HasCabin'].mean()\n",
    "print(cabin_by_class)\n"
   ]
  },
  {
   "cell_type": "code",
   "execution_count": 10,
   "id": "0350dfc8",
   "metadata": {
    "execution": {
     "iopub.execute_input": "2025-07-29T20:42:29.616612Z",
     "iopub.status.busy": "2025-07-29T20:42:29.616314Z",
     "iopub.status.idle": "2025-07-29T20:42:31.792974Z",
     "shell.execute_reply": "2025-07-29T20:42:31.791929Z"
    },
    "papermill": {
     "duration": 2.188556,
     "end_time": "2025-07-29T20:42:31.794459",
     "exception": false,
     "start_time": "2025-07-29T20:42:29.605903",
     "status": "completed"
    },
    "tags": []
   },
   "outputs": [
    {
     "data": {
      "image/png": "[encoded data removed]",
      "text/plain": [
       "<Figure size 640x480 with 1 Axes>"
      ]
     },
     "metadata": {},
     "output_type": "display_data"
    }
   ],
   "source": [
    "import seaborn as sns\n",
    "import matplotlib.pyplot as plt\n",
    "\n",
    "sns.barplot(x='Pclass', y='HasCabin', data=df)\n",
    "plt.title(\"Proportion of Passengers with Cabin by Class\")\n",
    "plt.ylabel(\"Has Cabin (1 = Yes, 0 = No)\")\n",
    "plt.show()\n"
   ]
  },
  {
   "cell_type": "code",
   "execution_count": 11,
   "id": "e5a54448",
   "metadata": {
    "execution": {
     "iopub.execute_input": "2025-07-29T20:42:31.816655Z",
     "iopub.status.busy": "2025-07-29T20:42:31.815553Z",
     "iopub.status.idle": "2025-07-29T20:42:31.821133Z",
     "shell.execute_reply": "2025-07-29T20:42:31.820446Z"
    },
    "papermill": {
     "duration": 0.017954,
     "end_time": "2025-07-29T20:42:31.822489",
     "exception": false,
     "start_time": "2025-07-29T20:42:31.804535",
     "status": "completed"
    },
    "tags": []
   },
   "outputs": [],
   "source": [
    "df['FamilySize'] = df['SibSp'] + df['Parch'] + 1  # +1 includes the passenger themself\n"
   ]
  },
  {
   "cell_type": "code",
   "execution_count": 12,
   "id": "33abda2b",
   "metadata": {
    "execution": {
     "iopub.execute_input": "2025-07-29T20:42:31.843717Z",
     "iopub.status.busy": "2025-07-29T20:42:31.843403Z",
     "iopub.status.idle": "2025-07-29T20:42:31.848589Z",
     "shell.execute_reply": "2025-07-29T20:42:31.847829Z"
    },
    "papermill": {
     "duration": 0.017386,
     "end_time": "2025-07-29T20:42:31.849982",
     "exception": false,
     "start_time": "2025-07-29T20:42:31.832596",
     "status": "completed"
    },
    "tags": []
   },
   "outputs": [],
   "source": [
    "test_df['FamilySize'] = test_df['SibSp'] + test_df['Parch'] + 1  # +1 includes the passenger themself\n"
   ]
  },
  {
   "cell_type": "code",
   "execution_count": 13,
   "id": "fbbc554b",
   "metadata": {
    "execution": {
     "iopub.execute_input": "2025-07-29T20:42:31.871783Z",
     "iopub.status.busy": "2025-07-29T20:42:31.871224Z",
     "iopub.status.idle": "2025-07-29T20:42:31.877585Z",
     "shell.execute_reply": "2025-07-29T20:42:31.876742Z"
    },
    "papermill": {
     "duration": 0.018738,
     "end_time": "2025-07-29T20:42:31.878930",
     "exception": false,
     "start_time": "2025-07-29T20:42:31.860192",
     "status": "completed"
    },
    "tags": []
   },
   "outputs": [
    {
     "name": "stdout",
     "output_type": "stream",
     "text": [
      "FamilySize\n",
      "1     0.303538\n",
      "2     0.552795\n",
      "3     0.578431\n",
      "4     0.724138\n",
      "5     0.200000\n",
      "6     0.136364\n",
      "7     0.333333\n",
      "8     0.000000\n",
      "11    0.000000\n",
      "Name: Survived, dtype: float64\n"
     ]
    }
   ],
   "source": [
    "survival_by_family = df.groupby('FamilySize')['Survived'].mean()\n",
    "print(survival_by_family)\n"
   ]
  },
  {
   "cell_type": "code",
   "execution_count": 14,
   "id": "32dbf747",
   "metadata": {
    "execution": {
     "iopub.execute_input": "2025-07-29T20:42:31.901416Z",
     "iopub.status.busy": "2025-07-29T20:42:31.900508Z",
     "iopub.status.idle": "2025-07-29T20:42:32.334334Z",
     "shell.execute_reply": "2025-07-29T20:42:32.333416Z"
    },
    "papermill": {
     "duration": 0.446254,
     "end_time": "2025-07-29T20:42:32.335891",
     "exception": false,
     "start_time": "2025-07-29T20:42:31.889637",
     "status": "completed"
    },
    "tags": []
   },
   "outputs": [
    {
     "data": {
      "image/png": "[encoded data removed]",
      "text/plain": [
       "<Figure size 640x480 with 1 Axes>"
      ]
     },
     "metadata": {},
     "output_type": "display_data"
    }
   ],
   "source": [
    "import seaborn as sns\n",
    "import matplotlib.pyplot as plt\n",
    "\n",
    "sns.barplot(x='FamilySize', y='Survived', data=df)\n",
    "plt.title(\"Survival Rate by Family Size\")\n",
    "plt.ylabel(\"Survival Rate\")\n",
    "plt.xlabel(\"Family Size\")\n",
    "plt.show()\n"
   ]
  },
  {
   "cell_type": "code",
   "execution_count": 15,
   "id": "e7780eab",
   "metadata": {
    "execution": {
     "iopub.execute_input": "2025-07-29T20:42:32.422015Z",
     "iopub.status.busy": "2025-07-29T20:42:32.421370Z",
     "iopub.status.idle": "2025-07-29T20:42:32.428085Z",
     "shell.execute_reply": "2025-07-29T20:42:32.427223Z"
    },
    "papermill": {
     "duration": 0.082968,
     "end_time": "2025-07-29T20:42:32.429715",
     "exception": false,
     "start_time": "2025-07-29T20:42:32.346747",
     "status": "completed"
    },
    "tags": []
   },
   "outputs": [],
   "source": [
    "def family_group(size):\n",
    "    if size == 1:\n",
    "        return 'Solo'\n",
    "    elif size <= 4:\n",
    "        return 'Small'\n",
    "    elif size <= 6:\n",
    "        return 'Medium'\n",
    "    else:\n",
    "        return 'Large'\n",
    "\n",
    "df['FamilyGroup'] = df['FamilySize'].apply(family_group)\n"
   ]
  },
  {
   "cell_type": "code",
   "execution_count": 16,
   "id": "bdfd6a44",
   "metadata": {
    "execution": {
     "iopub.execute_input": "2025-07-29T20:42:32.452520Z",
     "iopub.status.busy": "2025-07-29T20:42:32.452204Z",
     "iopub.status.idle": "2025-07-29T20:42:32.458352Z",
     "shell.execute_reply": "2025-07-29T20:42:32.457431Z"
    },
    "papermill": {
     "duration": 0.019408,
     "end_time": "2025-07-29T20:42:32.459709",
     "exception": false,
     "start_time": "2025-07-29T20:42:32.440301",
     "status": "completed"
    },
    "tags": []
   },
   "outputs": [],
   "source": [
    "def family_group(size):\n",
    "    if size == 1:\n",
    "        return 'Solo'\n",
    "    elif size <= 4:\n",
    "        return 'Small'\n",
    "    elif size <= 6:\n",
    "        return 'Medium'\n",
    "    else:\n",
    "        return 'Large'\n",
    "\n",
    "test_df['FamilyGroup'] = test_df['FamilySize'].apply(family_group)\n"
   ]
  },
  {
   "cell_type": "code",
   "execution_count": 17,
   "id": "a6e42011",
   "metadata": {
    "execution": {
     "iopub.execute_input": "2025-07-29T20:42:32.482315Z",
     "iopub.status.busy": "2025-07-29T20:42:32.481673Z",
     "iopub.status.idle": "2025-07-29T20:42:32.488870Z",
     "shell.execute_reply": "2025-07-29T20:42:32.488228Z"
    },
    "papermill": {
     "duration": 0.019716,
     "end_time": "2025-07-29T20:42:32.490051",
     "exception": false,
     "start_time": "2025-07-29T20:42:32.470335",
     "status": "completed"
    },
    "tags": []
   },
   "outputs": [
    {
     "data": {
      "text/plain": [
       "Pclass\n",
       "1    84.154687\n",
       "2    20.662183\n",
       "3    13.675550\n",
       "Name: Fare, dtype: float64"
      ]
     },
     "execution_count": 17,
     "metadata": {},
     "output_type": "execute_result"
    }
   ],
   "source": [
    "df.groupby('Pclass')['Fare'].mean()\n"
   ]
  },
  {
   "cell_type": "code",
   "execution_count": 18,
   "id": "e530d2ac",
   "metadata": {
    "execution": {
     "iopub.execute_input": "2025-07-29T20:42:32.512661Z",
     "iopub.status.busy": "2025-07-29T20:42:32.512341Z",
     "iopub.status.idle": "2025-07-29T20:42:32.701030Z",
     "shell.execute_reply": "2025-07-29T20:42:32.700057Z"
    },
    "papermill": {
     "duration": 0.202046,
     "end_time": "2025-07-29T20:42:32.702586",
     "exception": false,
     "start_time": "2025-07-29T20:42:32.500540",
     "status": "completed"
    },
    "tags": []
   },
   "outputs": [
    {
     "data": {
      "text/plain": [
       "Text(0.5, 1.0, 'Fare Distribution by Passenger Class')"
      ]
     },
     "execution_count": 18,
     "metadata": {},
     "output_type": "execute_result"
    },
    {
     "data": {
      "image/png": "[encoded data removed]",
      "text/plain": [
       "<Figure size 640x480 with 1 Axes>"
      ]
     },
     "metadata": {},
     "output_type": "display_data"
    }
   ],
   "source": [
    "import seaborn as sns\n",
    "import matplotlib.pyplot as plt\n",
    "\n",
    "sns.boxplot(x='Pclass', y='Fare', data=df)\n",
    "plt.title(\"Fare Distribution by Passenger Class\")\n"
   ]
  },
  {
   "cell_type": "code",
   "execution_count": 19,
   "id": "7d288e04",
   "metadata": {
    "execution": {
     "iopub.execute_input": "2025-07-29T20:42:32.726308Z",
     "iopub.status.busy": "2025-07-29T20:42:32.725605Z",
     "iopub.status.idle": "2025-07-29T20:42:32.732327Z",
     "shell.execute_reply": "2025-07-29T20:42:32.731450Z"
    },
    "papermill": {
     "duration": 0.019977,
     "end_time": "2025-07-29T20:42:32.733744",
     "exception": false,
     "start_time": "2025-07-29T20:42:32.713767",
     "status": "completed"
    },
    "tags": []
   },
   "outputs": [],
   "source": [
    "df['Fare_log'] = df['Fare'].apply(lambda x: np.log1p(x))  # log1p handles 0 safely"
   ]
  },
  {
   "cell_type": "code",
   "execution_count": 20,
   "id": "ebe25a5e",
   "metadata": {
    "execution": {
     "iopub.execute_input": "2025-07-29T20:42:32.757389Z",
     "iopub.status.busy": "2025-07-29T20:42:32.756679Z",
     "iopub.status.idle": "2025-07-29T20:42:32.763220Z",
     "shell.execute_reply": "2025-07-29T20:42:32.762160Z"
    },
    "papermill": {
     "duration": 0.020054,
     "end_time": "2025-07-29T20:42:32.764891",
     "exception": false,
     "start_time": "2025-07-29T20:42:32.744837",
     "status": "completed"
    },
    "tags": []
   },
   "outputs": [],
   "source": [
    "test_df['Fare_log'] = test_df['Fare'].apply(lambda x: np.log1p(x))  # log1p handles 0 safely"
   ]
  },
  {
   "cell_type": "code",
   "execution_count": 21,
   "id": "cbbf544d",
   "metadata": {
    "execution": {
     "iopub.execute_input": "2025-07-29T20:42:32.788666Z",
     "iopub.status.busy": "2025-07-29T20:42:32.787964Z",
     "iopub.status.idle": "2025-07-29T20:42:32.791843Z",
     "shell.execute_reply": "2025-07-29T20:42:32.791241Z"
    },
    "papermill": {
     "duration": 0.016796,
     "end_time": "2025-07-29T20:42:32.793150",
     "exception": false,
     "start_time": "2025-07-29T20:42:32.776354",
     "status": "completed"
    },
    "tags": []
   },
   "outputs": [],
   "source": [
    "import warnings\n",
    "warnings.filterwarnings('ignore')"
   ]
  },
  {
   "cell_type": "code",
   "execution_count": 22,
   "id": "882e847d",
   "metadata": {
    "execution": {
     "iopub.execute_input": "2025-07-29T20:42:32.818214Z",
     "iopub.status.busy": "2025-07-29T20:42:32.817163Z",
     "iopub.status.idle": "2025-07-29T20:42:32.834157Z",
     "shell.execute_reply": "2025-07-29T20:42:32.833227Z"
    },
    "papermill": {
     "duration": 0.031664,
     "end_time": "2025-07-29T20:42:32.835963",
     "exception": false,
     "start_time": "2025-07-29T20:42:32.804299",
     "status": "completed"
    },
    "tags": []
   },
   "outputs": [],
   "source": [
    "# 1. Impute missing Age using median by Sex and Pclass\n",
    "df['Age'] = df.groupby(['Sex', 'Pclass'])['Age'].transform(lambda x: x.fillna(x.median()))\n",
    "\n",
    "# 2. Impute missing Embarked values with mode\n",
    "df['Embarked'].fillna(df['Embarked'].mode()[0], inplace=True)\n",
    "\n",
    "# 3. Extract Deck from Cabin and impute 'U' (Unknown) for missing cabins\n",
    "df['Deck'] = df['Cabin'].str[0]\n",
    "df['Deck'].fillna('U', inplace=True)"
   ]
  },
  {
   "cell_type": "code",
   "execution_count": 23,
   "id": "059d9b3c",
   "metadata": {
    "execution": {
     "iopub.execute_input": "2025-07-29T20:42:32.862237Z",
     "iopub.status.busy": "2025-07-29T20:42:32.861194Z",
     "iopub.status.idle": "2025-07-29T20:42:32.874233Z",
     "shell.execute_reply": "2025-07-29T20:42:32.873266Z"
    },
    "papermill": {
     "duration": 0.028046,
     "end_time": "2025-07-29T20:42:32.875903",
     "exception": false,
     "start_time": "2025-07-29T20:42:32.847857",
     "status": "completed"
    },
    "tags": []
   },
   "outputs": [],
   "source": [
    "# 1. Impute missing Age using median by Sex and Pclass\n",
    "test_df['Age'] = test_df.groupby(['Sex', 'Pclass'])['Age'].transform(lambda x: x.fillna(x.median()))\n",
    "\n",
    "# 2. Impute missing Embarked values with mode\n",
    "test_df['Embarked'].fillna(test_df['Embarked'].mode()[0], inplace=True)\n",
    "\n",
    "# 3. Extract Deck from Cabin and impute 'U' (Unknown) for missing cabins\n",
    "test_df['Deck'] = test_df['Cabin'].str[0]\n",
    "test_df['Deck'].fillna('U', inplace=True)"
   ]
  },
  {
   "cell_type": "code",
   "execution_count": 24,
   "id": "7a11c0ed",
   "metadata": {
    "execution": {
     "iopub.execute_input": "2025-07-29T20:42:32.901340Z",
     "iopub.status.busy": "2025-07-29T20:42:32.900985Z",
     "iopub.status.idle": "2025-07-29T20:42:32.906339Z",
     "shell.execute_reply": "2025-07-29T20:42:32.905266Z"
    },
    "papermill": {
     "duration": 0.019035,
     "end_time": "2025-07-29T20:42:32.907711",
     "exception": false,
     "start_time": "2025-07-29T20:42:32.888676",
     "status": "completed"
    },
    "tags": []
   },
   "outputs": [
    {
     "name": "stdout",
     "output_type": "stream",
     "text": [
      "Index(['PassengerId', 'Survived', 'Pclass', 'Name', 'Sex', 'Age', 'SibSp',\n",
      "       'Parch', 'Ticket', 'Fare', 'Cabin', 'Embarked', 'HasCabin',\n",
      "       'FamilySize', 'FamilyGroup', 'Fare_log', 'Deck'],\n",
      "      dtype='object')\n"
     ]
    }
   ],
   "source": [
    "print(df.columns)"
   ]
  },
  {
   "cell_type": "code",
   "execution_count": 25,
   "id": "2ae78b73",
   "metadata": {
    "execution": {
     "iopub.execute_input": "2025-07-29T20:42:32.932243Z",
     "iopub.status.busy": "2025-07-29T20:42:32.931871Z",
     "iopub.status.idle": "2025-07-29T20:42:32.937661Z",
     "shell.execute_reply": "2025-07-29T20:42:32.936528Z"
    },
    "papermill": {
     "duration": 0.019879,
     "end_time": "2025-07-29T20:42:32.939295",
     "exception": false,
     "start_time": "2025-07-29T20:42:32.919416",
     "status": "completed"
    },
    "tags": []
   },
   "outputs": [
    {
     "name": "stdout",
     "output_type": "stream",
     "text": [
      "Index(['PassengerId', 'Pclass', 'Name', 'Sex', 'Age', 'SibSp', 'Parch',\n",
      "       'Ticket', 'Fare', 'Cabin', 'Embarked', 'HasCabin', 'FamilySize',\n",
      "       'FamilyGroup', 'Fare_log', 'Deck'],\n",
      "      dtype='object')\n"
     ]
    }
   ],
   "source": [
    "print(test_df.columns)"
   ]
  },
  {
   "cell_type": "code",
   "execution_count": 26,
   "id": "753d8b2e",
   "metadata": {
    "execution": {
     "iopub.execute_input": "2025-07-29T20:42:32.965112Z",
     "iopub.status.busy": "2025-07-29T20:42:32.964759Z",
     "iopub.status.idle": "2025-07-29T20:42:32.973707Z",
     "shell.execute_reply": "2025-07-29T20:42:32.972924Z"
    },
    "papermill": {
     "duration": 0.023635,
     "end_time": "2025-07-29T20:42:32.975050",
     "exception": false,
     "start_time": "2025-07-29T20:42:32.951415",
     "status": "completed"
    },
    "tags": []
   },
   "outputs": [
    {
     "data": {
      "text/plain": [
       "Cabin          687\n",
       "PassengerId      0\n",
       "Fare             0\n",
       "Fare_log         0\n",
       "FamilyGroup      0\n",
       "FamilySize       0\n",
       "HasCabin         0\n",
       "Embarked         0\n",
       "Ticket           0\n",
       "Survived         0\n",
       "Parch            0\n",
       "SibSp            0\n",
       "Age              0\n",
       "Sex              0\n",
       "Name             0\n",
       "dtype: int64"
      ]
     },
     "execution_count": 26,
     "metadata": {},
     "output_type": "execute_result"
    }
   ],
   "source": [
    "df.isnull().sum().sort_values(ascending=False).head(15)"
   ]
  },
  {
   "cell_type": "code",
   "execution_count": 27,
   "id": "07bae1f7",
   "metadata": {
    "execution": {
     "iopub.execute_input": "2025-07-29T20:42:32.999945Z",
     "iopub.status.busy": "2025-07-29T20:42:32.999332Z",
     "iopub.status.idle": "2025-07-29T20:42:33.007627Z",
     "shell.execute_reply": "2025-07-29T20:42:33.006603Z"
    },
    "papermill": {
     "duration": 0.022132,
     "end_time": "2025-07-29T20:42:33.008978",
     "exception": false,
     "start_time": "2025-07-29T20:42:32.986846",
     "status": "completed"
    },
    "tags": []
   },
   "outputs": [
    {
     "data": {
      "text/plain": [
       "Cabin          327\n",
       "Fare             1\n",
       "Fare_log         1\n",
       "PassengerId      0\n",
       "Pclass           0\n",
       "Name             0\n",
       "Sex              0\n",
       "Age              0\n",
       "SibSp            0\n",
       "Parch            0\n",
       "Ticket           0\n",
       "Embarked         0\n",
       "HasCabin         0\n",
       "FamilySize       0\n",
       "FamilyGroup      0\n",
       "dtype: int64"
      ]
     },
     "execution_count": 27,
     "metadata": {},
     "output_type": "execute_result"
    }
   ],
   "source": [
    "test_df.isnull().sum().sort_values(ascending=False).head(15)"
   ]
  },
  {
   "cell_type": "code",
   "execution_count": 28,
   "id": "a1aeef23",
   "metadata": {
    "execution": {
     "iopub.execute_input": "2025-07-29T20:42:33.035680Z",
     "iopub.status.busy": "2025-07-29T20:42:33.034903Z",
     "iopub.status.idle": "2025-07-29T20:42:33.042386Z",
     "shell.execute_reply": "2025-07-29T20:42:33.041456Z"
    },
    "papermill": {
     "duration": 0.022475,
     "end_time": "2025-07-29T20:42:33.043970",
     "exception": false,
     "start_time": "2025-07-29T20:42:33.021495",
     "status": "completed"
    },
    "tags": []
   },
   "outputs": [],
   "source": [
    "df.drop('Cabin', axis=1, inplace=True)\n"
   ]
  },
  {
   "cell_type": "code",
   "execution_count": 29,
   "id": "2c6f3d51",
   "metadata": {
    "execution": {
     "iopub.execute_input": "2025-07-29T20:42:33.068462Z",
     "iopub.status.busy": "2025-07-29T20:42:33.068124Z",
     "iopub.status.idle": "2025-07-29T20:42:33.073572Z",
     "shell.execute_reply": "2025-07-29T20:42:33.072841Z"
    },
    "papermill": {
     "duration": 0.019024,
     "end_time": "2025-07-29T20:42:33.074954",
     "exception": false,
     "start_time": "2025-07-29T20:42:33.055930",
     "status": "completed"
    },
    "tags": []
   },
   "outputs": [],
   "source": [
    "test_df.drop('Cabin', axis=1, inplace=True)\n"
   ]
  },
  {
   "cell_type": "code",
   "execution_count": 30,
   "id": "83891d16",
   "metadata": {
    "execution": {
     "iopub.execute_input": "2025-07-29T20:42:33.100199Z",
     "iopub.status.busy": "2025-07-29T20:42:33.099878Z",
     "iopub.status.idle": "2025-07-29T20:42:33.107956Z",
     "shell.execute_reply": "2025-07-29T20:42:33.107304Z"
    },
    "papermill": {
     "duration": 0.022757,
     "end_time": "2025-07-29T20:42:33.109155",
     "exception": false,
     "start_time": "2025-07-29T20:42:33.086398",
     "status": "completed"
    },
    "tags": []
   },
   "outputs": [
    {
     "data": {
      "text/plain": [
       "PassengerId    0\n",
       "Survived       0\n",
       "Pclass         0\n",
       "Name           0\n",
       "Sex            0\n",
       "Age            0\n",
       "SibSp          0\n",
       "Parch          0\n",
       "Ticket         0\n",
       "Fare           0\n",
       "Embarked       0\n",
       "HasCabin       0\n",
       "FamilySize     0\n",
       "FamilyGroup    0\n",
       "Fare_log       0\n",
       "dtype: int64"
      ]
     },
     "execution_count": 30,
     "metadata": {},
     "output_type": "execute_result"
    }
   ],
   "source": [
    "df.isnull().sum().sort_values(ascending=False).head(15)"
   ]
  },
  {
   "cell_type": "code",
   "execution_count": 31,
   "id": "99b6cbcc",
   "metadata": {
    "execution": {
     "iopub.execute_input": "2025-07-29T20:42:33.133595Z",
     "iopub.status.busy": "2025-07-29T20:42:33.133294Z",
     "iopub.status.idle": "2025-07-29T20:42:33.143154Z",
     "shell.execute_reply": "2025-07-29T20:42:33.142541Z"
    },
    "papermill": {
     "duration": 0.023742,
     "end_time": "2025-07-29T20:42:33.144654",
     "exception": false,
     "start_time": "2025-07-29T20:42:33.120912",
     "status": "completed"
    },
    "tags": []
   },
   "outputs": [],
   "source": [
    "# Fill missing Fare based on median Fare within each Pclass\n",
    "df['Fare'] = df.groupby('Pclass')['Fare'].transform(\n",
    "    lambda x: x.fillna(x.median())\n",
    ")\n",
    "df['Fare_log'] = df['Fare'].apply(lambda x: np.log(x + 1))\n"
   ]
  },
  {
   "cell_type": "code",
   "execution_count": 32,
   "id": "81a207e8",
   "metadata": {
    "execution": {
     "iopub.execute_input": "2025-07-29T20:42:33.168746Z",
     "iopub.status.busy": "2025-07-29T20:42:33.168454Z",
     "iopub.status.idle": "2025-07-29T20:42:33.177905Z",
     "shell.execute_reply": "2025-07-29T20:42:33.177215Z"
    },
    "papermill": {
     "duration": 0.023204,
     "end_time": "2025-07-29T20:42:33.179396",
     "exception": false,
     "start_time": "2025-07-29T20:42:33.156192",
     "status": "completed"
    },
    "tags": []
   },
   "outputs": [],
   "source": [
    "# Fill missing Fare based on median Fare within each Pclass\n",
    "test_df['Fare'] = test_df.groupby('Pclass')['Fare'].transform(\n",
    "    lambda x: x.fillna(x.median())\n",
    ")\n",
    "test_df['Fare_log'] = test_df['Fare'].apply(lambda x: np.log(x + 1))\n"
   ]
  },
  {
   "cell_type": "code",
   "execution_count": 33,
   "id": "d2cfc5ff",
   "metadata": {
    "execution": {
     "iopub.execute_input": "2025-07-29T20:42:33.204930Z",
     "iopub.status.busy": "2025-07-29T20:42:33.204045Z",
     "iopub.status.idle": "2025-07-29T20:42:33.212183Z",
     "shell.execute_reply": "2025-07-29T20:42:33.211533Z"
    },
    "papermill": {
     "duration": 0.022052,
     "end_time": "2025-07-29T20:42:33.213485",
     "exception": false,
     "start_time": "2025-07-29T20:42:33.191433",
     "status": "completed"
    },
    "tags": []
   },
   "outputs": [
    {
     "data": {
      "text/plain": [
       "PassengerId    0\n",
       "Pclass         0\n",
       "Name           0\n",
       "Sex            0\n",
       "Age            0\n",
       "SibSp          0\n",
       "Parch          0\n",
       "Ticket         0\n",
       "Fare           0\n",
       "Embarked       0\n",
       "HasCabin       0\n",
       "FamilySize     0\n",
       "FamilyGroup    0\n",
       "Fare_log       0\n",
       "Deck           0\n",
       "dtype: int64"
      ]
     },
     "execution_count": 33,
     "metadata": {},
     "output_type": "execute_result"
    }
   ],
   "source": [
    "test_df.isnull().sum().sort_values(ascending=False).head(15)"
   ]
  },
  {
   "cell_type": "code",
   "execution_count": 34,
   "id": "f4f69b9a",
   "metadata": {
    "execution": {
     "iopub.execute_input": "2025-07-29T20:42:33.238331Z",
     "iopub.status.busy": "2025-07-29T20:42:33.237978Z",
     "iopub.status.idle": "2025-07-29T20:42:33.246240Z",
     "shell.execute_reply": "2025-07-29T20:42:33.245242Z"
    },
    "papermill": {
     "duration": 0.022879,
     "end_time": "2025-07-29T20:42:33.247759",
     "exception": false,
     "start_time": "2025-07-29T20:42:33.224880",
     "status": "completed"
    },
    "tags": []
   },
   "outputs": [
    {
     "name": "stdout",
     "output_type": "stream",
     "text": [
      "Index(['Name', 'Sex', 'Ticket', 'Embarked', 'FamilyGroup', 'Deck'], dtype='object')\n",
      "0\n"
     ]
    }
   ],
   "source": [
    "print(df.select_dtypes(include='object').columns)  # Should be empty\n",
    "print(df.isnull().sum().sum()) "
   ]
  },
  {
   "cell_type": "code",
   "execution_count": 35,
   "id": "eded3359",
   "metadata": {
    "execution": {
     "iopub.execute_input": "2025-07-29T20:42:33.272742Z",
     "iopub.status.busy": "2025-07-29T20:42:33.272466Z",
     "iopub.status.idle": "2025-07-29T20:42:33.281226Z",
     "shell.execute_reply": "2025-07-29T20:42:33.280246Z"
    },
    "papermill": {
     "duration": 0.022874,
     "end_time": "2025-07-29T20:42:33.282659",
     "exception": false,
     "start_time": "2025-07-29T20:42:33.259785",
     "status": "completed"
    },
    "tags": []
   },
   "outputs": [
    {
     "data": {
      "text/plain": [
       "Embarked\n",
       "C    0.553571\n",
       "Q    0.389610\n",
       "S    0.339009\n",
       "Name: Survived, dtype: float64"
      ]
     },
     "execution_count": 35,
     "metadata": {},
     "output_type": "execute_result"
    }
   ],
   "source": [
    "df.groupby('Embarked')['Survived'].mean()\n"
   ]
  },
  {
   "cell_type": "code",
   "execution_count": 36,
   "id": "caf9b469",
   "metadata": {
    "execution": {
     "iopub.execute_input": "2025-07-29T20:42:33.306882Z",
     "iopub.status.busy": "2025-07-29T20:42:33.306605Z",
     "iopub.status.idle": "2025-07-29T20:42:33.314598Z",
     "shell.execute_reply": "2025-07-29T20:42:33.313742Z"
    },
    "papermill": {
     "duration": 0.021617,
     "end_time": "2025-07-29T20:42:33.315877",
     "exception": false,
     "start_time": "2025-07-29T20:42:33.294260",
     "status": "completed"
    },
    "tags": []
   },
   "outputs": [
    {
     "data": {
      "text/plain": [
       "Sex\n",
       "female    0.742038\n",
       "male      0.188908\n",
       "Name: Survived, dtype: float64"
      ]
     },
     "execution_count": 36,
     "metadata": {},
     "output_type": "execute_result"
    }
   ],
   "source": [
    "df.groupby('Sex')['Survived'].mean()\n"
   ]
  },
  {
   "cell_type": "code",
   "execution_count": 37,
   "id": "3aa45536",
   "metadata": {
    "execution": {
     "iopub.execute_input": "2025-07-29T20:42:33.340369Z",
     "iopub.status.busy": "2025-07-29T20:42:33.340006Z",
     "iopub.status.idle": "2025-07-29T20:42:33.364010Z",
     "shell.execute_reply": "2025-07-29T20:42:33.362901Z"
    },
    "papermill": {
     "duration": 0.037927,
     "end_time": "2025-07-29T20:42:33.365482",
     "exception": false,
     "start_time": "2025-07-29T20:42:33.327555",
     "status": "completed"
    },
    "tags": []
   },
   "outputs": [
    {
     "name": "stdout",
     "output_type": "stream",
     "text": [
      "       Sex      AgeBin  Survived  Count\n",
      "0   female       Child         0     13\n",
      "1   female       Child         1     19\n",
      "2   female        Teen         0      9\n",
      "3   female        Teen         1     27\n",
      "4   female  YoungAdult         0     43\n",
      "5   female  YoungAdult         1    130\n",
      "6   female       Adult         0     16\n",
      "7   female       Adult         1     54\n",
      "8   female      Senior         0      0\n",
      "9   female      Senior         1      3\n",
      "10    male       Child         0     16\n",
      "11    male       Child         1     21\n",
      "12    male        Teen         0     31\n",
      "13    male        Teen         1      3\n",
      "14    male  YoungAdult         0    287\n",
      "15    male  YoungAdult         1     54\n",
      "16    male       Adult         0    117\n",
      "17    male       Adult         1     29\n",
      "18    male      Senior         0     17\n",
      "19    male      Senior         1      2\n"
     ]
    }
   ],
   "source": [
    "# Group by Sex, Age (you might want to bin age first), and Survived\n",
    "df['AgeBin'] = pd.cut(df['Age'], bins=[0, 12, 18, 35, 60, 80], labels=['Child', 'Teen', 'YoungAdult', 'Adult', 'Senior'])\n",
    "\n",
    "grouped = df.groupby(['Sex', 'AgeBin', 'Survived'])['PassengerId'].count().reset_index()\n",
    "grouped.rename(columns={'PassengerId': 'Count'}, inplace=True)\n",
    "print(grouped)\n"
   ]
  },
  {
   "cell_type": "code",
   "execution_count": 38,
   "id": "9b351c8f",
   "metadata": {
    "execution": {
     "iopub.execute_input": "2025-07-29T20:42:33.390279Z",
     "iopub.status.busy": "2025-07-29T20:42:33.389934Z",
     "iopub.status.idle": "2025-07-29T20:42:33.397063Z",
     "shell.execute_reply": "2025-07-29T20:42:33.396115Z"
    },
    "papermill": {
     "duration": 0.021298,
     "end_time": "2025-07-29T20:42:33.398585",
     "exception": false,
     "start_time": "2025-07-29T20:42:33.377287",
     "status": "completed"
    },
    "tags": []
   },
   "outputs": [],
   "source": [
    "# Group by Sex, Age (you might want to bin age first), and Survived\n",
    "test_df['AgeBin'] = pd.cut(test_df['Age'], bins=[0, 12, 18, 35, 60, 80], labels=['Child', 'Teen', 'YoungAdult', 'Adult', 'Senior'])\n",
    "\n",
    "#grouped = df.groupby(['Sex', 'AgeBin', 'Survived'])['PassengerId'].count().reset_index()\n",
    "#grouped.rename(columns={'PassengerId': 'Count'}, inplace=True)\n",
    "#print(grouped)\n"
   ]
  },
  {
   "cell_type": "code",
   "execution_count": 39,
   "id": "9584a3bf",
   "metadata": {
    "execution": {
     "iopub.execute_input": "2025-07-29T20:42:33.423687Z",
     "iopub.status.busy": "2025-07-29T20:42:33.423381Z",
     "iopub.status.idle": "2025-07-29T20:42:33.433707Z",
     "shell.execute_reply": "2025-07-29T20:42:33.432942Z"
    },
    "papermill": {
     "duration": 0.024799,
     "end_time": "2025-07-29T20:42:33.435392",
     "exception": false,
     "start_time": "2025-07-29T20:42:33.410593",
     "status": "completed"
    },
    "tags": []
   },
   "outputs": [],
   "source": [
    "df['Title'] = df['Name'].str.extract(' ([A-Za-z]+)\\.', expand=False)\n",
    "df['Title'] = df['Title'].replace({\n",
    "    'Mlle': 'Miss', 'Ms': 'Miss', 'Mme': 'Mrs',\n",
    "    'Lady': 'Rare', 'Countess': 'Rare', 'Capt': 'Rare',\n",
    "    'Col': 'Rare', 'Don': 'Rare', 'Dr': 'Rare', 'Major': 'Rare',\n",
    "    'Rev': 'Rare', 'Sir': 'Rare', 'Jonkheer': 'Rare', 'Dona': 'Rare'\n",
    "})\n"
   ]
  },
  {
   "cell_type": "code",
   "execution_count": 40,
   "id": "0491ef79",
   "metadata": {
    "execution": {
     "iopub.execute_input": "2025-07-29T20:42:33.460950Z",
     "iopub.status.busy": "2025-07-29T20:42:33.460106Z",
     "iopub.status.idle": "2025-07-29T20:42:33.469280Z",
     "shell.execute_reply": "2025-07-29T20:42:33.468355Z"
    },
    "papermill": {
     "duration": 0.023322,
     "end_time": "2025-07-29T20:42:33.470859",
     "exception": false,
     "start_time": "2025-07-29T20:42:33.447537",
     "status": "completed"
    },
    "tags": []
   },
   "outputs": [],
   "source": [
    "test_df['Title'] = test_df['Name'].str.extract(' ([A-Za-z]+)\\.', expand=False)\n",
    "test_df['Title'] = test_df['Title'].replace({\n",
    "    'Mlle': 'Miss', 'Ms': 'Miss', 'Mme': 'Mrs',\n",
    "    'Lady': 'Rare', 'Countess': 'Rare', 'Capt': 'Rare',\n",
    "    'Col': 'Rare', 'Don': 'Rare', 'Dr': 'Rare', 'Major': 'Rare',\n",
    "    'Rev': 'Rare', 'Sir': 'Rare', 'Jonkheer': 'Rare', 'Dona': 'Rare'\n",
    "})\n"
   ]
  },
  {
   "cell_type": "code",
   "execution_count": 41,
   "id": "5cf8980c",
   "metadata": {
    "execution": {
     "iopub.execute_input": "2025-07-29T20:42:33.496732Z",
     "iopub.status.busy": "2025-07-29T20:42:33.496423Z",
     "iopub.status.idle": "2025-07-29T20:42:33.502520Z",
     "shell.execute_reply": "2025-07-29T20:42:33.501658Z"
    },
    "papermill": {
     "duration": 0.020405,
     "end_time": "2025-07-29T20:42:33.503919",
     "exception": false,
     "start_time": "2025-07-29T20:42:33.483514",
     "status": "completed"
    },
    "tags": []
   },
   "outputs": [],
   "source": [
    "df['Sex*Pclass'] = df['Sex'].map({'male': 0, 'female': 1}) * df['Pclass']\n"
   ]
  },
  {
   "cell_type": "code",
   "execution_count": 42,
   "id": "252d3aad",
   "metadata": {
    "execution": {
     "iopub.execute_input": "2025-07-29T20:42:33.529658Z",
     "iopub.status.busy": "2025-07-29T20:42:33.529337Z",
     "iopub.status.idle": "2025-07-29T20:42:33.535637Z",
     "shell.execute_reply": "2025-07-29T20:42:33.534757Z"
    },
    "papermill": {
     "duration": 0.021029,
     "end_time": "2025-07-29T20:42:33.537128",
     "exception": false,
     "start_time": "2025-07-29T20:42:33.516099",
     "status": "completed"
    },
    "tags": []
   },
   "outputs": [],
   "source": [
    "test_df['Sex*Pclass'] = test_df['Sex'].map({'male': 0, 'female': 1}) * test_df['Pclass']\n"
   ]
  },
  {
   "cell_type": "code",
   "execution_count": 43,
   "id": "b18a175d",
   "metadata": {
    "execution": {
     "iopub.execute_input": "2025-07-29T20:42:33.562937Z",
     "iopub.status.busy": "2025-07-29T20:42:33.562340Z",
     "iopub.status.idle": "2025-07-29T20:42:33.567928Z",
     "shell.execute_reply": "2025-07-29T20:42:33.567156Z"
    },
    "papermill": {
     "duration": 0.020178,
     "end_time": "2025-07-29T20:42:33.569424",
     "exception": false,
     "start_time": "2025-07-29T20:42:33.549246",
     "status": "completed"
    },
    "tags": []
   },
   "outputs": [],
   "source": [
    "df['Fare_Per_Person'] = df['Fare'] / df['FamilySize']\n",
    "df['Fare_Per_Person'].fillna(df['Fare_Per_Person'].median(), inplace=True)\n"
   ]
  },
  {
   "cell_type": "code",
   "execution_count": 44,
   "id": "6b79903a",
   "metadata": {
    "execution": {
     "iopub.execute_input": "2025-07-29T20:42:33.595338Z",
     "iopub.status.busy": "2025-07-29T20:42:33.595013Z",
     "iopub.status.idle": "2025-07-29T20:42:33.600902Z",
     "shell.execute_reply": "2025-07-29T20:42:33.600221Z"
    },
    "papermill": {
     "duration": 0.01995,
     "end_time": "2025-07-29T20:42:33.602223",
     "exception": false,
     "start_time": "2025-07-29T20:42:33.582273",
     "status": "completed"
    },
    "tags": []
   },
   "outputs": [],
   "source": [
    "test_df['Fare_Per_Person'] = test_df['Fare'] / test_df['FamilySize']\n",
    "test_df['Fare_Per_Person'].fillna(test_df['Fare_Per_Person'].median(), inplace=True)\n"
   ]
  },
  {
   "cell_type": "code",
   "execution_count": 45,
   "id": "4a32d7cd",
   "metadata": {
    "execution": {
     "iopub.execute_input": "2025-07-29T20:42:33.627195Z",
     "iopub.status.busy": "2025-07-29T20:42:33.626874Z",
     "iopub.status.idle": "2025-07-29T20:42:33.639709Z",
     "shell.execute_reply": "2025-07-29T20:42:33.638840Z"
    },
    "papermill": {
     "duration": 0.026976,
     "end_time": "2025-07-29T20:42:33.641082",
     "exception": false,
     "start_time": "2025-07-29T20:42:33.614106",
     "status": "completed"
    },
    "tags": []
   },
   "outputs": [
    {
     "name": "stdout",
     "output_type": "stream",
     "text": [
      "      Sex      AgeBin  Survived\n",
      "0  female       Child  0.593750\n",
      "1  female        Teen  0.750000\n",
      "2  female  YoungAdult  0.751445\n",
      "3  female       Adult  0.771429\n",
      "4  female      Senior  1.000000\n",
      "5    male       Child  0.567568\n",
      "6    male        Teen  0.088235\n",
      "7    male  YoungAdult  0.158358\n",
      "8    male       Adult  0.198630\n",
      "9    male      Senior  0.105263\n"
     ]
    }
   ],
   "source": [
    "survival_rate = df.groupby(['Sex', 'AgeBin'])['Survived'].mean().reset_index()\n",
    "print(survival_rate)\n"
   ]
  },
  {
   "cell_type": "code",
   "execution_count": 46,
   "id": "174dfd79",
   "metadata": {
    "execution": {
     "iopub.execute_input": "2025-07-29T20:42:33.667307Z",
     "iopub.status.busy": "2025-07-29T20:42:33.666055Z",
     "iopub.status.idle": "2025-07-29T20:42:33.675900Z",
     "shell.execute_reply": "2025-07-29T20:42:33.675211Z"
    },
    "papermill": {
     "duration": 0.024352,
     "end_time": "2025-07-29T20:42:33.677350",
     "exception": false,
     "start_time": "2025-07-29T20:42:33.652998",
     "status": "completed"
    },
    "tags": []
   },
   "outputs": [
    {
     "data": {
      "text/plain": [
       "PassengerId    0\n",
       "Survived       0\n",
       "Sex*Pclass     0\n",
       "Title          0\n",
       "AgeBin         0\n",
       "Deck           0\n",
       "Fare_log       0\n",
       "FamilyGroup    0\n",
       "FamilySize     0\n",
       "HasCabin       0\n",
       "Embarked       0\n",
       "Fare           0\n",
       "Ticket         0\n",
       "Parch          0\n",
       "SibSp          0\n",
       "dtype: int64"
      ]
     },
     "execution_count": 46,
     "metadata": {},
     "output_type": "execute_result"
    }
   ],
   "source": [
    "df.isnull().sum().sort_values(ascending=False).head(15)"
   ]
  },
  {
   "cell_type": "code",
   "execution_count": 47,
   "id": "1b7842a3",
   "metadata": {
    "execution": {
     "iopub.execute_input": "2025-07-29T20:42:33.703019Z",
     "iopub.status.busy": "2025-07-29T20:42:33.702481Z",
     "iopub.status.idle": "2025-07-29T20:42:33.934847Z",
     "shell.execute_reply": "2025-07-29T20:42:33.933970Z"
    },
    "papermill": {
     "duration": 0.246816,
     "end_time": "2025-07-29T20:42:33.936372",
     "exception": false,
     "start_time": "2025-07-29T20:42:33.689556",
     "status": "completed"
    },
    "tags": []
   },
   "outputs": [
    {
     "data": {
      "image/png": "[encoded data removed]",
      "text/plain": [
       "<Figure size 1000x600 with 1 Axes>"
      ]
     },
     "metadata": {},
     "output_type": "display_data"
    }
   ],
   "source": [
    "import seaborn as sns\n",
    "import matplotlib.pyplot as plt\n",
    "\n",
    "# First, bin ages for grouping\n",
    "df['AgeBin'] = pd.cut(df['Age'], bins=[0, 12, 18, 35, 60, 80], labels=['Child', 'Teen', 'YoungAdult', 'Adult', 'Senior'])\n",
    "\n",
    "# Create a countplot of survival by gender and age group\n",
    "plt.figure(figsize=(10, 6))\n",
    "sns.countplot(data=df, x='AgeBin', hue='Survived', palette='Set2', dodge=True)\n",
    "plt.title('Survival Count by Age Group')\n",
    "plt.xlabel('Age Group')\n",
    "plt.ylabel('Count')\n",
    "plt.legend(title='Survived', labels=['No', 'Yes'])\n",
    "plt.grid(axis='y', linestyle='--', alpha=0.7)\n",
    "plt.tight_layout()\n",
    "plt.show()\n"
   ]
  },
  {
   "cell_type": "code",
   "execution_count": 48,
   "id": "68b0c726",
   "metadata": {
    "execution": {
     "iopub.execute_input": "2025-07-29T20:42:33.964624Z",
     "iopub.status.busy": "2025-07-29T20:42:33.963855Z",
     "iopub.status.idle": "2025-07-29T20:42:34.550351Z",
     "shell.execute_reply": "2025-07-29T20:42:34.549290Z"
    },
    "papermill": {
     "duration": 0.602017,
     "end_time": "2025-07-29T20:42:34.551971",
     "exception": false,
     "start_time": "2025-07-29T20:42:33.949954",
     "status": "completed"
    },
    "tags": []
   },
   "outputs": [
    {
     "data": {
      "image/png": "[encoded data removed]",
      "text/plain": [
       "<Figure size 1058.88x500 with 2 Axes>"
      ]
     },
     "metadata": {},
     "output_type": "display_data"
    }
   ],
   "source": [
    "import seaborn as sns\n",
    "import matplotlib.pyplot as plt\n",
    "\n",
    "# Make sure AgeBin exists\n",
    "df['AgeBin'] = pd.cut(df['Age'], bins=[0, 12, 18, 35, 60, 80], \n",
    "                      labels=['Child', 'Teen', 'YoungAdult', 'Adult', 'Senior'])\n",
    "\n",
    "# Set up the grid\n",
    "g = sns.catplot(\n",
    "    data=df, kind=\"count\", \n",
    "    x=\"AgeBin\", hue=\"Pclass\", col=\"Sex\",\n",
    "    palette=\"pastel\", edgecolor=\".6\"\n",
    ")\n",
    "\n",
    "g.set_titles(\"Sex: {col_name}\")\n",
    "g.set_axis_labels(\"Age Group\", \"Passenger Count\")\n",
    "g._legend.set_title(\"Pclass\")\n",
    "plt.subplots_adjust(top=0.85)\n",
    "g.fig.suptitle(\"Survival Distribution by Age Group, Class, and Gender\")\n",
    "plt.show()\n"
   ]
  },
  {
   "cell_type": "code",
   "execution_count": 49,
   "id": "5b78c2bb",
   "metadata": {
    "execution": {
     "iopub.execute_input": "2025-07-29T20:42:34.581216Z",
     "iopub.status.busy": "2025-07-29T20:42:34.580880Z",
     "iopub.status.idle": "2025-07-29T20:42:34.587264Z",
     "shell.execute_reply": "2025-07-29T20:42:34.586423Z"
    },
    "papermill": {
     "duration": 0.023102,
     "end_time": "2025-07-29T20:42:34.588698",
     "exception": false,
     "start_time": "2025-07-29T20:42:34.565596",
     "status": "completed"
    },
    "tags": []
   },
   "outputs": [
    {
     "name": "stdout",
     "output_type": "stream",
     "text": [
      "✅ Object columns now: ['Name', 'Sex', 'Ticket', 'Embarked', 'FamilyGroup', 'Deck', 'Title']\n"
     ]
    }
   ],
   "source": [
    "print(\"✅ Object columns now:\", df.select_dtypes(include='object').columns.tolist())\n"
   ]
  },
  {
   "cell_type": "code",
   "execution_count": 50,
   "id": "67b3f122",
   "metadata": {
    "execution": {
     "iopub.execute_input": "2025-07-29T20:42:34.619352Z",
     "iopub.status.busy": "2025-07-29T20:42:34.618903Z",
     "iopub.status.idle": "2025-07-29T20:42:34.625480Z",
     "shell.execute_reply": "2025-07-29T20:42:34.624659Z"
    },
    "papermill": {
     "duration": 0.023187,
     "end_time": "2025-07-29T20:42:34.626897",
     "exception": false,
     "start_time": "2025-07-29T20:42:34.603710",
     "status": "completed"
    },
    "tags": []
   },
   "outputs": [
    {
     "name": "stdout",
     "output_type": "stream",
     "text": [
      "✅ Object columns now: ['Name', 'Sex', 'Ticket', 'Embarked', 'FamilyGroup', 'Deck', 'Title']\n"
     ]
    }
   ],
   "source": [
    "print(\"✅ Object columns now:\", test_df.select_dtypes(include='object').columns.tolist())\n"
   ]
  },
  {
   "cell_type": "code",
   "execution_count": 51,
   "id": "4ab63a43",
   "metadata": {
    "execution": {
     "iopub.execute_input": "2025-07-29T20:42:34.656844Z",
     "iopub.status.busy": "2025-07-29T20:42:34.656562Z",
     "iopub.status.idle": "2025-07-29T20:42:34.848123Z",
     "shell.execute_reply": "2025-07-29T20:42:34.846960Z"
    },
    "papermill": {
     "duration": 0.208391,
     "end_time": "2025-07-29T20:42:34.849687",
     "exception": false,
     "start_time": "2025-07-29T20:42:34.641296",
     "status": "completed"
    },
    "tags": []
   },
   "outputs": [
    {
     "name": "stdout",
     "output_type": "stream",
     "text": [
      "✅ Object columns now: ['Name']\n"
     ]
    }
   ],
   "source": [
    "from sklearn.preprocessing import LabelEncoder\n",
    "import pandas as pd\n",
    "\n",
    "#  Encode 'Sex' using LabelEncoder\n",
    "df['Sex'] = LabelEncoder().fit_transform(df['Sex'].astype(str))  # male=1, female=0\n",
    "\n",
    "#  Drop 'Ticket'\n",
    "df.drop(columns=['Ticket'], inplace=True)\n",
    "\n",
    "#  One-hot encode remaining object columns\n",
    "categorical_cols = ['Embarked', 'FamilyGroup', 'Deck', 'Title']\n",
    "df = pd.get_dummies(df, columns=categorical_cols, drop_first=True)\n",
    "\n",
    "# ✅ Final check\n",
    "print(\"✅ Object columns now:\", df.select_dtypes(include='object').columns.tolist())\n"
   ]
  },
  {
   "cell_type": "code",
   "execution_count": 52,
   "id": "ce6f38a9",
   "metadata": {
    "execution": {
     "iopub.execute_input": "2025-07-29T20:42:34.879384Z",
     "iopub.status.busy": "2025-07-29T20:42:34.878655Z",
     "iopub.status.idle": "2025-07-29T20:42:34.893432Z",
     "shell.execute_reply": "2025-07-29T20:42:34.892520Z"
    },
    "papermill": {
     "duration": 0.031076,
     "end_time": "2025-07-29T20:42:34.894882",
     "exception": false,
     "start_time": "2025-07-29T20:42:34.863806",
     "status": "completed"
    },
    "tags": []
   },
   "outputs": [
    {
     "name": "stdout",
     "output_type": "stream",
     "text": [
      "✅ Object columns now: ['Name']\n"
     ]
    }
   ],
   "source": [
    "from sklearn.preprocessing import LabelEncoder\n",
    "import pandas as pd\n",
    "\n",
    "#  Encode 'Sex' using LabelEncoder\n",
    "test_df['Sex'] = LabelEncoder().fit_transform(test_df['Sex'].astype(str))  # male=1, female=0\n",
    "\n",
    "#  Drop 'Ticket'\n",
    "test_df.drop(columns=['Ticket'], inplace=True)\n",
    "\n",
    "#  One-hot encode remaining object columns\n",
    "categorical_cols = ['Embarked', 'FamilyGroup', 'Deck', 'Title']\n",
    "test_df = pd.get_dummies(test_df, columns=categorical_cols, drop_first=True)\n",
    "\n",
    "# ✅ Final check\n",
    "print(\"✅ Object columns now:\", test_df.select_dtypes(include='object').columns.tolist())\n"
   ]
  },
  {
   "cell_type": "code",
   "execution_count": 53,
   "id": "a890c792",
   "metadata": {
    "execution": {
     "iopub.execute_input": "2025-07-29T20:42:34.924940Z",
     "iopub.status.busy": "2025-07-29T20:42:34.924327Z",
     "iopub.status.idle": "2025-07-29T20:42:34.931473Z",
     "shell.execute_reply": "2025-07-29T20:42:34.930661Z"
    },
    "papermill": {
     "duration": 0.02348,
     "end_time": "2025-07-29T20:42:34.932813",
     "exception": false,
     "start_time": "2025-07-29T20:42:34.909333",
     "status": "completed"
    },
    "tags": []
   },
   "outputs": [
    {
     "name": "stdout",
     "output_type": "stream",
     "text": [
      "✅ Object columns now: []\n"
     ]
    }
   ],
   "source": [
    "df.drop('Name', axis=1, inplace=True)\n",
    "print(\"✅ Object columns now:\", df.select_dtypes(include='object').columns.tolist())"
   ]
  },
  {
   "cell_type": "code",
   "execution_count": 54,
   "id": "a435dbd1",
   "metadata": {
    "execution": {
     "iopub.execute_input": "2025-07-29T20:42:34.963443Z",
     "iopub.status.busy": "2025-07-29T20:42:34.962642Z",
     "iopub.status.idle": "2025-07-29T20:42:34.969798Z",
     "shell.execute_reply": "2025-07-29T20:42:34.968791Z"
    },
    "papermill": {
     "duration": 0.023773,
     "end_time": "2025-07-29T20:42:34.971206",
     "exception": false,
     "start_time": "2025-07-29T20:42:34.947433",
     "status": "completed"
    },
    "tags": []
   },
   "outputs": [
    {
     "name": "stdout",
     "output_type": "stream",
     "text": [
      "✅ Object columns now: []\n"
     ]
    }
   ],
   "source": [
    "test_df.drop('Name', axis=1, inplace=True)\n",
    "print(\"✅ Object columns now:\", test_df.select_dtypes(include='object').columns.tolist())"
   ]
  },
  {
   "cell_type": "code",
   "execution_count": 55,
   "id": "e248fd01",
   "metadata": {
    "execution": {
     "iopub.execute_input": "2025-07-29T20:42:35.001256Z",
     "iopub.status.busy": "2025-07-29T20:42:35.000875Z",
     "iopub.status.idle": "2025-07-29T20:42:35.007089Z",
     "shell.execute_reply": "2025-07-29T20:42:35.006163Z"
    },
    "papermill": {
     "duration": 0.023026,
     "end_time": "2025-07-29T20:42:35.008431",
     "exception": false,
     "start_time": "2025-07-29T20:42:34.985405",
     "status": "completed"
    },
    "tags": []
   },
   "outputs": [
    {
     "name": "stdout",
     "output_type": "stream",
     "text": [
      "✅ All features are numeric and ready for model training.\n"
     ]
    }
   ],
   "source": [
    "if df.select_dtypes(include='object').shape[1] > 0:\n",
    "    print(\"❌ Still has object columns:\", df.select_dtypes(include='object').columns.tolist())\n",
    "    raise ValueError(\"You must encode or drop all object columns before modeling.\")\n",
    "else:\n",
    "    print(\"✅ All features are numeric and ready for model training.\")\n"
   ]
  },
  {
   "cell_type": "code",
   "execution_count": 56,
   "id": "0d1e7531",
   "metadata": {
    "execution": {
     "iopub.execute_input": "2025-07-29T20:42:35.037632Z",
     "iopub.status.busy": "2025-07-29T20:42:35.037329Z",
     "iopub.status.idle": "2025-07-29T20:42:35.042982Z",
     "shell.execute_reply": "2025-07-29T20:42:35.042080Z"
    },
    "papermill": {
     "duration": 0.021997,
     "end_time": "2025-07-29T20:42:35.044369",
     "exception": false,
     "start_time": "2025-07-29T20:42:35.022372",
     "status": "completed"
    },
    "tags": []
   },
   "outputs": [
    {
     "name": "stdout",
     "output_type": "stream",
     "text": [
      "✅ All features are numeric and ready for model training.\n"
     ]
    }
   ],
   "source": [
    "if test_df.select_dtypes(include='object').shape[1] > 0:\n",
    "    print(\"❌ Still has object columns:\", test_df.select_dtypes(include='object').columns.tolist())\n",
    "    raise ValueError(\"You must encode or drop all object columns before modeling.\")\n",
    "else:\n",
    "    print(\"✅ All features are numeric and ready for model training.\")\n"
   ]
  },
  {
   "cell_type": "markdown",
   "id": "4ba9aaef",
   "metadata": {
    "papermill": {
     "duration": 0.01483,
     "end_time": "2025-07-29T20:42:35.073082",
     "exception": false,
     "start_time": "2025-07-29T20:42:35.058252",
     "status": "completed"
    },
    "tags": []
   },
   "source": [
    "## Model Benchmarking\n",
    "\n",
    "- Random Forest\n",
    "- ElasticNet\n",
    "- XGBoost"
   ]
  },
  {
   "cell_type": "code",
   "execution_count": 57,
   "id": "ade0b5ef",
   "metadata": {
    "execution": {
     "iopub.execute_input": "2025-07-29T20:42:35.104343Z",
     "iopub.status.busy": "2025-07-29T20:42:35.103986Z",
     "iopub.status.idle": "2025-07-29T20:42:50.840400Z",
     "shell.execute_reply": "2025-07-29T20:42:50.839431Z"
    },
    "papermill": {
     "duration": 15.75443,
     "end_time": "2025-07-29T20:42:50.842010",
     "exception": false,
     "start_time": "2025-07-29T20:42:35.087580",
     "status": "completed"
    },
    "tags": []
   },
   "outputs": [
    {
     "name": "stdout",
     "output_type": "stream",
     "text": [
      "Fitting 5 folds for each of 20 candidates, totalling 100 fits\n",
      "Confusion Matrix:\n",
      " [[97 13]\n",
      " [22 47]]\n",
      "Classification Report:\n",
      "               precision    recall  f1-score   support\n",
      "\n",
      "           0       0.82      0.88      0.85       110\n",
      "           1       0.78      0.68      0.73        69\n",
      "\n",
      "    accuracy                           0.80       179\n",
      "   macro avg       0.80      0.78      0.79       179\n",
      "weighted avg       0.80      0.80      0.80       179\n",
      "\n",
      "Accuracy: 0.8044692737430168\n",
      "ROC AUC Score: 0.7814888010540184\n",
      "F1 Score: 0.7286821705426356\n"
     ]
    }
   ],
   "source": [
    "import warnings\n",
    "warnings.filterwarnings('ignore')\n",
    "from sklearn.ensemble import RandomForestClassifier\n",
    "from sklearn.model_selection import train_test_split, RandomizedSearchCV\n",
    "from sklearn.metrics import classification_report, confusion_matrix, accuracy_score, roc_auc_score, f1_score\n",
    "import numpy as np\n",
    "import pandas as pd\n",
    "\n",
    "# Step 1: Define Features and Target\n",
    "#X = df.drop(columns=['PassengerId', 'Survived'])  # Ensure df is cleaned and encoded\n",
    "#y = df['Survived']\n",
    "# Drop PassengerId and target column\n",
    "X = df.drop(columns=['PassengerId', 'Survived'])\n",
    "\n",
    "# Convert all boolean columns to integers\n",
    "bool_cols = X.select_dtypes(include='bool').columns\n",
    "X[bool_cols] = X[bool_cols].astype(int)\n",
    "\n",
    "# Convert categorical column 'AgeBin' to string, then one-hot encode\n",
    "if 'AgeBin' in X.columns:\n",
    "    X['AgeBin'] = X['AgeBin'].astype(str)\n",
    "\n",
    "# One-hot encode any object or category type columns\n",
    "X = pd.get_dummies(X, drop_first=True)\n",
    "\n",
    "# Force everything to float32\n",
    "X = X.apply(pd.to_numeric, errors='coerce').fillna(0).astype('float32')\n",
    "\n",
    "# Target\n",
    "y = df['Survived']\n",
    "\n",
    "\n",
    "# Step 2: Train-Test Split\n",
    "X_train, X_val, y_train, y_val = train_test_split(X, y, stratify=y, test_size=0.2, random_state=42)\n",
    "\n",
    "# Step 3: No scaling needed for Random Forest\n",
    "\n",
    "# Step 4: Define Model and Hyperparameter Grid\n",
    "param_grid = {\n",
    "    'n_estimators': [100, 200, 500],\n",
    "    'max_depth': [None, 5, 10, 20],\n",
    "    'min_samples_split': [2, 5, 10],\n",
    "    'min_samples_leaf': [1, 2, 4],\n",
    "    'max_features': ['sqrt', 'log2']  # Removed 'auto'\n",
    "}\n",
    "\n",
    "base_model = RandomForestClassifier(random_state=42)\n",
    "\n",
    "# Step 5: Randomized Search\n",
    "rf_search = RandomizedSearchCV(\n",
    "    base_model,\n",
    "    param_distributions=param_grid,\n",
    "    n_iter=20,\n",
    "    cv=5,\n",
    "    verbose=1,\n",
    "    n_jobs=-1,\n",
    "    random_state=42\n",
    ")\n",
    "\n",
    "rf_search.fit(X_train, y_train)\n",
    "\n",
    "# Step 6: Evaluation\n",
    "y_pred = rf_search.predict(X_val)\n",
    "\n",
    "print(\"Confusion Matrix:\\n\", confusion_matrix(y_val, y_pred))\n",
    "print(\"Classification Report:\\n\", classification_report(y_val, y_pred))\n",
    "print(\"Accuracy:\", accuracy_score(y_val, y_pred))\n",
    "print(\"ROC AUC Score:\", roc_auc_score(y_val, y_pred))\n",
    "print(\"F1 Score:\", f1_score(y_val, y_pred))\n"
   ]
  },
  {
   "cell_type": "code",
   "execution_count": 58,
   "id": "82a2fbcc",
   "metadata": {
    "execution": {
     "iopub.execute_input": "2025-07-29T20:42:50.873026Z",
     "iopub.status.busy": "2025-07-29T20:42:50.872740Z",
     "iopub.status.idle": "2025-07-29T20:43:04.341877Z",
     "shell.execute_reply": "2025-07-29T20:43:04.340854Z"
    },
    "papermill": {
     "duration": 13.48701,
     "end_time": "2025-07-29T20:43:04.343528",
     "exception": false,
     "start_time": "2025-07-29T20:42:50.856518",
     "status": "completed"
    },
    "tags": []
   },
   "outputs": [
    {
     "name": "stdout",
     "output_type": "stream",
     "text": [
      "Fitting 5 folds for each of 20 candidates, totalling 100 fits\n",
      "Confusion Matrix:\n",
      " [[98 12]\n",
      " [19 50]]\n",
      "Classification Report:\n",
      "               precision    recall  f1-score   support\n",
      "\n",
      "           0       0.84      0.89      0.86       110\n",
      "           1       0.81      0.72      0.76        69\n",
      "\n",
      "    accuracy                           0.83       179\n",
      "   macro avg       0.82      0.81      0.81       179\n",
      "weighted avg       0.83      0.83      0.82       179\n",
      "\n",
      "Accuracy: 0.8268156424581006\n",
      "ROC AUC Score: 0.8077733860342556\n",
      "F1 Score: 0.7633587786259542\n"
     ]
    }
   ],
   "source": [
    "from sklearn.linear_model import LogisticRegression\n",
    "from sklearn.model_selection import RandomizedSearchCV\n",
    "from sklearn.metrics import classification_report, confusion_matrix, accuracy_score, roc_auc_score, f1_score\n",
    "\n",
    "# Step 1: Feature Scaling (needed for ElasticNet)\n",
    "from sklearn.preprocessing import StandardScaler\n",
    "scaler = StandardScaler()\n",
    "X_train_scaled = scaler.fit_transform(X_train)\n",
    "X_val_scaled = scaler.transform(X_val)\n",
    "\n",
    "# Step 2: Define hyperparameter grid\n",
    "param_grid = {\n",
    "    'C': np.logspace(-3, 2, 50),      # Inverse regularization strength\n",
    "    'l1_ratio': np.linspace(0, 1, 10) # 0 = Ridge, 1 = Lasso\n",
    "}\n",
    "\n",
    "# Step 3: Set up Logistic Regression with Elastic Net\n",
    "elastic_net = LogisticRegression(\n",
    "    penalty='elasticnet',\n",
    "    solver='saga',\n",
    "    max_iter=5000,\n",
    "    random_state=42\n",
    ")\n",
    "\n",
    "search_en = RandomizedSearchCV(\n",
    "    elastic_net,\n",
    "    param_distributions=param_grid,\n",
    "    n_iter=20,\n",
    "    cv=5,\n",
    "    random_state=42,\n",
    "    verbose=1,\n",
    "    n_jobs=-1\n",
    ")\n",
    "\n",
    "# Step 4: Fit model\n",
    "search_en.fit(X_train_scaled, y_train)\n",
    "\n",
    "# Step 5: Evaluate\n",
    "y_pred_en = search_en.predict(X_val_scaled)\n",
    "\n",
    "print(\"Confusion Matrix:\\n\", confusion_matrix(y_val, y_pred_en))\n",
    "print(\"Classification Report:\\n\", classification_report(y_val, y_pred_en))\n",
    "print(\"Accuracy:\", accuracy_score(y_val, y_pred_en))\n",
    "print(\"ROC AUC Score:\", roc_auc_score(y_val, y_pred_en))\n",
    "print(\"F1 Score:\", f1_score(y_val, y_pred_en))\n"
   ]
  },
  {
   "cell_type": "code",
   "execution_count": 59,
   "id": "6cc8df38",
   "metadata": {
    "execution": {
     "iopub.execute_input": "2025-07-29T20:43:04.373685Z",
     "iopub.status.busy": "2025-07-29T20:43:04.373353Z",
     "iopub.status.idle": "2025-07-29T20:43:10.744094Z",
     "shell.execute_reply": "2025-07-29T20:43:10.743101Z"
    },
    "papermill": {
     "duration": 6.387765,
     "end_time": "2025-07-29T20:43:10.745716",
     "exception": false,
     "start_time": "2025-07-29T20:43:04.357951",
     "status": "completed"
    },
    "tags": []
   },
   "outputs": [
    {
     "name": "stdout",
     "output_type": "stream",
     "text": [
      "Fitting 5 folds for each of 20 candidates, totalling 100 fits\n",
      "Confusion Matrix:\n",
      " [[96 14]\n",
      " [22 47]]\n",
      "Classification Report:\n",
      "               precision    recall  f1-score   support\n",
      "\n",
      "           0       0.81      0.87      0.84       110\n",
      "           1       0.77      0.68      0.72        69\n",
      "\n",
      "    accuracy                           0.80       179\n",
      "   macro avg       0.79      0.78      0.78       179\n",
      "weighted avg       0.80      0.80      0.80       179\n",
      "\n",
      "Accuracy: 0.7988826815642458\n",
      "ROC AUC Score: 0.7769433465085639\n",
      "F1 Score: 0.7230769230769231\n"
     ]
    }
   ],
   "source": [
    "from xgboost import XGBClassifier\n",
    "from sklearn.model_selection import RandomizedSearchCV\n",
    "from sklearn.metrics import classification_report, confusion_matrix, accuracy_score, roc_auc_score, f1_score\n",
    "\n",
    "# Step 1: Define Model and Param Grid\n",
    "xgb_model = XGBClassifier(use_label_encoder=False, eval_metric='logloss', random_state=42)\n",
    "\n",
    "param_grid = {\n",
    "    'n_estimators': [100, 200, 300],\n",
    "    'max_depth': [3, 5, 7],\n",
    "    'learning_rate': [0.01, 0.05, 0.1],\n",
    "    'subsample': [0.6, 0.8, 1.0],\n",
    "    'colsample_bytree': [0.6, 0.8, 1.0]\n",
    "}\n",
    "\n",
    "xgb_search = RandomizedSearchCV(\n",
    "    estimator=xgb_model,\n",
    "    param_distributions=param_grid,\n",
    "    n_iter=20,\n",
    "    cv=5,\n",
    "    verbose=1,\n",
    "    n_jobs=-1,\n",
    "    random_state=42\n",
    ")\n",
    "\n",
    "# Step 2: Fit model (X_train, y_train are already defined)\n",
    "xgb_search.fit(X_train, y_train)\n",
    "\n",
    "# Step 3: Evaluation\n",
    "y_pred_xgb = xgb_search.predict(X_val)\n",
    "\n",
    "print(\"Confusion Matrix:\\n\", confusion_matrix(y_val, y_pred_xgb))\n",
    "print(\"Classification Report:\\n\", classification_report(y_val, y_pred_xgb))\n",
    "print(\"Accuracy:\", accuracy_score(y_val, y_pred_xgb))\n",
    "print(\"ROC AUC Score:\", roc_auc_score(y_val, y_pred_xgb))\n",
    "print(\"F1 Score:\", f1_score(y_val, y_pred_xgb))\n"
   ]
  },
  {
   "cell_type": "code",
   "execution_count": 60,
   "id": "1be4a177",
   "metadata": {
    "execution": {
     "iopub.execute_input": "2025-07-29T20:43:10.775664Z",
     "iopub.status.busy": "2025-07-29T20:43:10.775353Z",
     "iopub.status.idle": "2025-07-29T20:43:10.799050Z",
     "shell.execute_reply": "2025-07-29T20:43:10.797834Z"
    },
    "papermill": {
     "duration": 0.040806,
     "end_time": "2025-07-29T20:43:10.801075",
     "exception": false,
     "start_time": "2025-07-29T20:43:10.760269",
     "status": "completed"
    },
    "tags": []
   },
   "outputs": [
    {
     "name": "stdout",
     "output_type": "stream",
     "text": [
      "✅ submission.csv generated successfully.\n"
     ]
    }
   ],
   "source": [
    "import pandas as pd\n",
    "from sklearn.linear_model import LogisticRegression\n",
    "from sklearn.preprocessing import StandardScaler\n",
    "import joblib  # optional if you saved the model\n",
    "\n",
    "# Step 1: Prepare test_df the same way as train_df\n",
    "X_test = test_df.copy()\n",
    "\n",
    "# Convert AgeBin to string, then one-hot encode\n",
    "if 'AgeBin' in X_test.columns:\n",
    "    X_test['AgeBin'] = X_test['AgeBin'].astype(str)\n",
    "\n",
    "# Convert bools to int\n",
    "bool_cols = X_test.select_dtypes(include='bool').columns\n",
    "X_test[bool_cols] = X_test[bool_cols].astype(int)\n",
    "\n",
    "# One-hot encode object/category columns\n",
    "X_test = pd.get_dummies(X_test, drop_first=True)\n",
    "\n",
    "# Match test_df columns to training set\n",
    "missing_cols = set(X_train.columns) - set(X_test.columns)\n",
    "for col in missing_cols:\n",
    "    X_test[col] = 0  # Add missing columns with 0\n",
    "X_test = X_test[X_train.columns]  # Reorder columns\n",
    "\n",
    "# Scale using the same scaler used on X_train\n",
    "X_test_scaled = scaler.transform(X_test)\n",
    "\n",
    "# Step 2: Predict using the trained Elastic Net model\n",
    "y_test_preds = search_en.predict(X_test_scaled)  # or rf_search.predict(...) for RF\n",
    "\n",
    "# Step 3: Create submission DataFrame\n",
    "submission = pd.DataFrame({\n",
    "    'PassengerId': test_df['PassengerId'],\n",
    "    'Survived': y_test_preds\n",
    "})\n",
    "\n",
    "# Step 4: Save to CSV\n",
    "submission.to_csv('submission.csv', index=False)\n",
    "print(\"✅ submission.csv generated successfully.\")\n"
   ]
  }
 ],
 "metadata": {
  "kaggle": {
   "accelerator": "none",
   "dataSources": [
    {
     "datasetId": 7741954,
     "sourceId": 12284545,
     "sourceType": "datasetVersion"
    },
    {
     "datasetId": 7742507,
     "sourceId": 12285401,
     "sourceType": "datasetVersion"
    }
   ],
   "dockerImageVersionId": 31040,
   "isGpuEnabled": false,
   "isInternetEnabled": true,
   "language": "python",
   "sourceType": "notebook"
  },
  "kernelspec": {
   "display_name": "Python 3",
   "language": "python",
   "name": "python3"
  },
  "language_info": {
   "codemirror_mode": {
    "name": "ipython",
    "version": 3
   },
   "file_extension": ".py",
   "mimetype": "text/x-python",
   "name": "python",
   "nbconvert_exporter": "python",
   "pygments_lexer": "ipython3",
   "version": "3.11.11"
  },
  "papermill": {
   "default_parameters": {},
   "duration": 51.397606,
   "end_time": "2025-07-29T20:43:13.436753",
   "environment_variables": {},
   "exception": null,
   "input_path": "__notebook__.ipynb",
   "output_path": "__notebook__.ipynb",
   "parameters": {},
   "start_time": "2025-07-29T20:42:22.039147",
   "version": "2.6.0"
  }
 },
 "nbformat": 4,
 "nbformat_minor": 5
}
